{
 "cells": [
  {
   "cell_type": "markdown",
   "metadata": {},
   "source": [
    "## Obtaining and comparing structure databases"
   ]
  },
  {
   "cell_type": "markdown",
   "metadata": {},
   "source": [
    "This notebook was created as companion materil for the [book chapter](). Here we show how to obtain some of the largest General and Marine related public natural products databases."
   ]
  },
  {
   "cell_type": "markdown",
   "metadata": {},
   "source": [
    "### Downloading the databases"
   ]
  },
  {
   "cell_type": "markdown",
   "metadata": {},
   "source": [
    "To download the [Comprehensive Marine Natural Products Database](https://www.cmnpd.org/), navigate to the compound browsing paga, select all, copy the `sdf` download link and paste it below. "
   ]
  },
  {
   "cell_type": "code",
   "execution_count": 21,
   "metadata": {},
   "outputs": [
    {
     "name": "stdout",
     "output_type": "stream",
     "text": [
      "--2021-08-09 16:35:33--  https://www.cmnpd.org/cmnpd/supplement/Downloads/CMNPD_1.0_2d.sdf.gz\n",
      "Resolving www.cmnpd.org (www.cmnpd.org)... 8.210.15.116\n",
      "Connecting to www.cmnpd.org (www.cmnpd.org)|8.210.15.116|:443... connected.\n",
      "HTTP request sent, awaiting response... 200 OK\n",
      "Length: 11338030 (11M) [application/octet-stream]\n",
      "Saving to: ‘CMNPD_1.0_2d.sdf.gz’\n",
      "\n",
      "CMNPD_1.0_2d.sdf.gz 100%[===================>]  10.81M   748KB/s    in 14s     \n",
      "\n",
      "2021-08-09 16:35:50 (771 KB/s) - ‘CMNPD_1.0_2d.sdf.gz’ saved [11338030/11338030]\n",
      "\n"
     ]
    }
   ],
   "source": [
    "!wget https://www.cmnpd.org/cmnpd/CMNPD/public/tmp/b125873b-1a81-4a94-b850-bb87e29aa013_sdf.sdf"
   ]
  },
  {
   "cell_type": "code",
   "execution_count": 39,
   "metadata": {},
   "outputs": [],
   "source": [
    "# Unpack the link\n",
    "!gunzip -d CMNPD_1.0_2d.sdf.gz"
   ]
  },
  {
   "cell_type": "markdown",
   "metadata": {},
   "source": [
    "To download "
   ]
  },
  {
   "cell_type": "code",
   "execution_count": 2,
   "metadata": {},
   "outputs": [
    {
     "name": "stdout",
     "output_type": "stream",
     "text": [
      "--2021-08-09 14:14:27--  https://coconut.naturalproducts.net/download/sdf\n",
      "Resolving coconut.naturalproducts.net (coconut.naturalproducts.net)... 141.35.138.12\n",
      "Connecting to coconut.naturalproducts.net (coconut.naturalproducts.net)|141.35.138.12|:443... connected.\n",
      "HTTP request sent, awaiting response... 200 \n",
      "Length: 3048817341 (2.8G) [chemical/x-mdl-sdfile]\n",
      "Saving to: ‘sdf’\n",
      "\n",
      "sdf                 100%[===================>]   2.84G  14.2MB/s    in 3m 35s  \n",
      "\n",
      "2021-08-09 14:18:04 (13.5 MB/s) - ‘sdf’ saved [3048817341/3048817341]\n",
      "\n"
     ]
    }
   ],
   "source": [
    "!wget https://coconut.naturalproducts.net/download/sdf"
   ]
  },
  {
   "cell_type": "code",
   "execution_count": 3,
   "metadata": {},
   "outputs": [],
   "source": [
    "!mv sdf coconut_09_2021.sdf"
   ]
  },
  {
   "cell_type": "code",
   "execution_count": 4,
   "metadata": {},
   "outputs": [
    {
     "name": "stdout",
     "output_type": "stream",
     "text": [
      "--2021-08-09 14:18:04--  https://lotus.naturalproducts.net/download/sdf\n",
      "Resolving lotus.naturalproducts.net (lotus.naturalproducts.net)... 141.35.138.12\n",
      "Connecting to lotus.naturalproducts.net (lotus.naturalproducts.net)|141.35.138.12|:443... connected.\n",
      "HTTP request sent, awaiting response... 200 \n",
      "Length: 105371084 (100M) [chemical/x-mdl-sdfile]\n",
      "Saving to: ‘sdf’\n",
      "\n",
      "sdf                 100%[===================>] 100.49M  13.5MB/s    in 9.1s    \n",
      "\n",
      "2021-08-09 14:18:14 (11.0 MB/s) - ‘sdf’ saved [105371084/105371084]\n",
      "\n"
     ]
    }
   ],
   "source": [
    "!wget https://lotus.naturalproducts.net/download/sdf"
   ]
  },
  {
   "cell_type": "code",
   "execution_count": 5,
   "metadata": {},
   "outputs": [],
   "source": [
    "!unzip sdf"
   ]
  },
  {
   "cell_type": "markdown",
   "metadata": {},
   "source": [
    "## Loading databases"
   ]
  },
  {
   "cell_type": "code",
   "execution_count": 34,
   "metadata": {},
   "outputs": [],
   "source": [
    "from rdkit import Chem\n",
    "from rdkit.Chem import PandasTools\n",
    "import pandas as pd\n",
    "import numpy as np"
   ]
  },
  {
   "cell_type": "code",
   "execution_count": 30,
   "metadata": {},
   "outputs": [
    {
     "name": "stdout",
     "output_type": "stream",
     "text": [
      "CPU times: user 9min 17s, sys: 2.35 s, total: 9min 19s\n",
      "Wall time: 9min 19s\n"
     ]
    }
   ],
   "source": [
    "%%time\n",
    "\n",
    "suppl = Chem.SDMolSupplier('coconut_09_2021.sdf')\n",
    "\n",
    "coco = []\n",
    "\n",
    "for mol in suppl:\n",
    "    if type(mol) == Chem.rdchem.Mol:\n",
    "        coco.append(mol.GetPropsAsDict())"
   ]
  },
  {
   "cell_type": "code",
   "execution_count": 81,
   "metadata": {},
   "outputs": [
    {
     "name": "stdout",
     "output_type": "stream",
     "text": [
      "CPU times: user 2min 42s, sys: 1.14 s, total: 2min 43s\n",
      "Wall time: 2min 43s\n"
     ]
    }
   ],
   "source": [
    "%%time\n",
    "\n",
    "suppl = Chem.SDMolSupplier('LOTUS_2021_03_simple.sdf')\n",
    "\n",
    "lotus_list = []\n",
    "\n",
    "for mol in suppl:\n",
    "    if type(mol) == Chem.rdchem.Mol:\n",
    "        lotus_list.append(mol.GetPropsAsDict())"
   ]
  },
  {
   "cell_type": "code",
   "execution_count": 80,
   "metadata": {},
   "outputs": [
    {
     "data": {
      "text/plain": [
       "[{'wikidata_id': 'http://www.wikidata.org/entity/Q105262012',\n",
       "  'lotus_id': 'LTS0000001',\n",
       "  'inchi': 'InChI=1S/C28H46N4O6/c1-19(2)12-10-8-6-5-7-9-11-13-25(36)32-26(21(4)33)28(38)31-23-18-22(34)16-17-29-24(35)15-14-20(3)30-27(23)37/h7,9,11,13-15,19-23,26,33-34H,5-6,8,10,12,16-18H2,1-4H3,(H,29,35)(H,30,37)(H,31,38)(H,32,36)/b9-7+,13-11-,15-14-/t20-,21+,22+,23-,26-/m0/s1',\n",
       "  'inchikey': 'SVHNVAFCZJDSIW-FDVUTKBWSA-N',\n",
       "  'SMILES': 'CC(C)CCCCC/C=C/C=C\\\\C(O)=N[C@H](C(O)=N[C@H]1C[C@H](O)CCN=C(O)/C=C\\\\[C@H](C)N=C1O)[C@@H](C)O',\n",
       "  'name': '(2z,4e)-n-[(1s,2r)-2-hydroxy-1-{[(3z,5s,8s,10r)-2,7,10-trihydroxy-5-methyl-1,6-diazacyclododeca-1,3,6-trien-8-yl]-c-hydroxycarbonimidoyl}propyl]-11-methyldodeca-2,4-dienimidic acid'},\n",
       " {'wikidata_id': 'http://www.wikidata.org/entity/Q105033762',\n",
       "  'lotus_id': 'LTS0000002',\n",
       "  'inchi': 'InChI=1S/C18H23NO2/c1-13(2)11-17(20)19-10-8-14-5-6-16-15(12-14)7-9-18(3,4)21-16/h5-7,9,11-12H,8,10H2,1-4H3,(H,19,20)',\n",
       "  'inchikey': 'HUGUEKHNJYELQB-UHFFFAOYSA-N',\n",
       "  'SMILES': 'CC(C)=CC(O)=NCCc1ccc2c(c1)C=CC(C)(C)O2',\n",
       "  'name': 'n-[2-(2,2-dimethylchromen-6-yl)ethyl]-3-methylbut-2-enimidic acid'},\n",
       " {'wikidata_id': 'http://www.wikidata.org/entity/Q105255509',\n",
       "  'lotus_id': 'LTS0000003',\n",
       "  'inchi': 'InChI=1S/C41H66O13/c1-36(2)14-16-41(35(50)54-34-31(48)29(46)28(45)22(18-42)52-34)17-15-39(6)20(26(41)32(36)49)8-9-24-38(5)12-11-25(37(3,4)23(38)10-13-40(24,39)7)53-33-30(47)27(44)21(43)19-51-33/h8,21-34,42-49H,9-19H2,1-7H3/t21-,22-,23+,24-,25+,26-,27+,28-,29+,30-,31-,32+,33+,34+,38+,39-,40-,41+/m1/s1',\n",
       "  'inchikey': 'SLQHZBXUSQZYTB-UFKAPOGOSA-N',\n",
       "  'SMILES': 'CC1(C)CC[C@]2(C(=O)O[C@@H]3O[C@H](CO)[C@@H](O)[C@H](O)[C@H]3O)CC[C@]3(C)C(=CC[C@@H]4[C@@]5(C)CC[C@H](O[C@@H]6OC[C@@H](O)[C@H](O)[C@H]6O)C(C)(C)[C@@H]5CC[C@]43C)[C@@H]2[C@@H]1O',\n",
       "  'name': '(2s,3r,4s,5s,6r)-3,4,5-trihydroxy-6-(hydroxymethyl)oxan-2-yl (1s,4ar,6as,6br,8ar,10s,12ar,12br,14bs)-1-hydroxy-2,2,6a,6b,9,9,12a-heptamethyl-10-{[(2s,3r,4s,5r)-3,4,5-trihydroxyoxan-2-yl]oxy}-1,3,4,5,6,7,8,8a,10,11,12,12b,13,14b-tetradecahydropicene-4a-carboxylate'},\n",
       " {'wikidata_id': 'http://www.wikidata.org/entity/Q104166566',\n",
       "  'lotus_id': 'LTS0000004',\n",
       "  'inchi': 'InChI=1S/C61H104N12O14/c1-33(2)29-40(32-87-39(11)75)64-53(82)46(36(7)8)66-51(80)44-24-21-27-72(44)55(84)59(14,15)67-47(76)37(9)62-50(79)43-23-20-26-71(43)56(85)60(16,17)69-49(78)42(31-35(5)6)65-54(83)58(12,13)70-52(81)45-25-22-28-73(45)57(86)61(18,19)68-48(77)41(30-34(3)4)63-38(10)74/h33-37,40-46H,20-32H2,1-19H3,(H,62,79)(H,63,74)(H,64,82)(H,65,83)(H,66,80)(H,67,76)(H,68,77)(H,69,78)(H,70,81)',\n",
       "  'inchikey': 'FNNLNLFVCDKLRI-UHFFFAOYSA-N',\n",
       "  'SMILES': 'CC(=O)OCC(CC(C)C)N=C(O)C(N=C(O)C1CCCN1C(=O)C(C)(C)N=C(O)C(C)N=C(O)C1CCCN1C(=O)C(C)(C)N=C(O)C(CC(C)C)N=C(O)C(C)(C)N=C(O)C1CCCN1C(=O)C(C)(C)N=C(O)C(CC(C)C)N=C(C)O)C(C)C',\n",
       "  'name': 'n-(1-{2-[(1-{[1-({1-[2-({1-[(1-{2-[(1-{[1-(acetyloxy)-4-methylpentan-2-yl]-c-hydroxycarbonimidoyl}-2-methylpropyl)-c-hydroxycarbonimidoyl]pyrrolidin-1-yl}-2-methyl-1-oxopropan-2-yl)-c-hydroxycarbonimidoyl]ethyl}-c-hydroxycarbonimidoyl)pyrrolidin-1-yl]-2-methyl-1-oxopropan-2-yl}-c-hydroxycarbonimidoyl)-3-methylbutyl]-c-hydroxycarbonimidoyl}-1-methylethyl)-c-hydroxycarbonimidoyl]pyrrolidin-1-yl}-2-methyl-1-oxopropan-2-yl)-2-[(1-hydroxyethylidene)amino]-4-methylpentanimidic acid'},\n",
       " {'wikidata_id': 'http://www.wikidata.org/entity/Q27106339',\n",
       "  'lotus_id': 'LTS0000005',\n",
       "  'inchi': 'InChI=1S/C18H16O4/c1-10-15(20)14-12(19)9-13(11-7-5-4-6-8-11)22-17(14)18(2,3)16(10)21/h4-9,20H,1-3H3',\n",
       "  'inchikey': 'VOEVEGYLKQKGLZ-UHFFFAOYSA-N',\n",
       "  'SMILES': 'CC1=C(O)c2c(oc(-c3ccccc3)cc2=O)C(C)(C)C1=O',\n",
       "  'name': 'dasytrichone'}]"
      ]
     },
     "execution_count": 80,
     "metadata": {},
     "output_type": "execute_result"
    }
   ],
   "source": [
    "lotus_list[:5]"
   ]
  },
  {
   "cell_type": "code",
   "execution_count": 82,
   "metadata": {},
   "outputs": [
    {
     "data": {
      "text/plain": [
       "276518"
      ]
     },
     "execution_count": 82,
     "metadata": {},
     "output_type": "execute_result"
    }
   ],
   "source": [
    "len(lotus_list)"
   ]
  },
  {
   "cell_type": "code",
   "execution_count": 32,
   "metadata": {},
   "outputs": [
    {
     "data": {
      "text/plain": [
       "[{'coconut_id': 'CNP0000002',\n",
       "  'inchi': 'InChI=1S/C27H36N2O15S/c1-5-12(29-9-45)26(37)44-21-15(8-40-11(3)30)42-24(27(38)7-13(31)18(28)17(23(27)34)25(35)36)20(33)22(21)43-16-6-14(39-4)19(32)10(2)41-16/h5,9-10,14-16,19-22,24,32-33,38H,6-8,28H2,1-4H3,(H,29,45)(H,35,36)',\n",
       "  'inchikey': 'FJEMIESGEMWDOB-UHFFFAOYSA-N',\n",
       "  'SMILES': 'O=C(O)C=1C(=O)C(O)(CC(=O)C1N)C2OC(COC(=O)C)C(OC(=O)C(N=CS)=CC)C(OC3OC(C)C(O)C(OC)C3)C2O',\n",
       "  'sugar_free_smiles': 'O=C(O)C=1C(=O)C(O)CC(=O)C1N',\n",
       "  'molecular_formula': 'C27H36N2O15S',\n",
       "  'molecular_weight': 660.6463016716547,\n",
       "  'citationDOI': '[]',\n",
       "  'textTaxa': '[notax]',\n",
       "  'name': '5-{6-[(acetyloxy)methyl]-3-hydroxy-4-[(5-hydroxy-4-methoxy-6-methyloxan-2-yl)oxy]-5-({2-[(sulfanylmethylidene)amino]but-2-enoyl}oxy)oxan-2-yl}-2-amino-5-hydroxy-3,6-dioxocyclohex-1-ene-1-carboxylic acid',\n",
       "  'synonyms': '[]',\n",
       "  'NPL_score': 1.0338503398784429,\n",
       "  'number_of_carbons': 27,\n",
       "  'number_of_nitrogens': 2,\n",
       "  'number_of_oxygens': 15,\n",
       "  'number_of_rings': '',\n",
       "  'total_atom_number': 81,\n",
       "  'bond_count': 47,\n",
       "  'found_in_databases': '[chemspidernp]',\n",
       "  'murko_framework': 'C1=CCCCC1',\n",
       "  'alogp': -2.4338000000000015,\n",
       "  'apol': 88.65454799999999,\n",
       "  'topoPSA': 298.8299999999999},\n",
       " {'coconut_id': 'CNP0000003',\n",
       "  'inchi': 'InChI=1S/C34H30O10/c1-14-10-16-24(21(11-14)42-4)33(39)44-32-18(35)7-6-17-23-15(13-34(17,32)31(16)38)12-22(43-5)27-28(23)30(37)26-20(41-3)9-8-19(40-2)25(26)29(27)36/h6-12,17-18,31-32,35,38H,13H2,1-5H3',\n",
       "  'inchikey': 'KLWKJVYCDFWQMK-UHFFFAOYSA-N',\n",
       "  'SMILES': 'O=C1OC2C(O)C=CC3C4=C5C(=O)C=6C(OC)=CC=C(OC)C6C(=O)C5=C(OC)C=C4CC32C(O)C7=CC(=CC(OC)=C17)C',\n",
       "  'sugar_free_smiles': 'O=C1OC2C(O)C=CC3C4=C5C(=O)C=6C(OC)=CC=C(OC)C6C(=O)C5=C(OC)C=C4CC32C(O)C7=CC(=CC(OC)=C17)C',\n",
       "  'molecular_formula': 'C34H30O10',\n",
       "  'molecular_weight': 598.5972923812592,\n",
       "  'citationDOI': '[]',\n",
       "  'textTaxa': '[notax]',\n",
       "  'name': '20,30-dihydroxy-5,9,12,25-tetramethoxy-27-methyl-22-oxaheptacyclo[15.13.0.0¹,²¹.0³,¹⁶.0⁶,¹⁵.0⁸,¹³.0²⁴,²⁹]triaconta-3,5,8,10,12,15,18,24(29),25,27-decaene-7,14,23-trione',\n",
       "  'synonyms': '[]',\n",
       "  'NPL_score': 1.4078280177732947,\n",
       "  'number_of_carbons': 34,\n",
       "  'number_of_nitrogens': 0,\n",
       "  'number_of_oxygens': 10,\n",
       "  'number_of_rings': '',\n",
       "  'total_atom_number': 74,\n",
       "  'bond_count': 50,\n",
       "  'found_in_databases': '[chemspidernp]',\n",
       "  'murko_framework': 'O1Cc2ccccc2CC34Cc5ccc6c(c5C4C=CCC13)Cc7ccccc7C6',\n",
       "  'alogp': 0.027099999999997695,\n",
       "  'apol': 87.86379,\n",
       "  'topoPSA': 137.82},\n",
       " {'coconut_id': 'CNP0000004',\n",
       "  'inchi': 'InChI=1S/C32H26O9/c1-13-9-16-24(20(10-13)39-2)31(38)41-30-19(34)8-7-17-22-14(12-32(17,30)29(16)37)11-21(40-3)25-26(22)27(35)15-5-4-6-18(33)23(15)28(25)36/h4-11,17,19,29-30,33-34,37H,12H2,1-3H3',\n",
       "  'inchikey': 'PTEKHLCNKCAXPH-UHFFFAOYSA-N',\n",
       "  'SMILES': 'O=C1OC2C(O)C=CC3C4=C5C(=O)C=6C=CC=C(O)C6C(=O)C5=C(OC)C=C4CC32C(O)C7=CC(=CC(OC)=C17)C',\n",
       "  'sugar_free_smiles': 'O=C1OC2C(O)C=CC3C4=C5C(=O)C=6C=CC=C(O)C6C(=O)C5=C(OC)C=C4CC32C(O)C7=CC(=CC(OC)=C17)C',\n",
       "  'molecular_formula': 'C32H26O9',\n",
       "  'molecular_weight': 554.5446526448108,\n",
       "  'citationDOI': '[]',\n",
       "  'textTaxa': '[notax]',\n",
       "  'name': '9,20,30-trihydroxy-5,25-dimethoxy-27-methyl-22-oxaheptacyclo[15.13.0.0¹,²¹.0³,¹⁶.0⁶,¹⁵.0⁸,¹³.0²⁴,²⁹]triaconta-3,5,8(13),9,11,15,18,24(29),25,27-decaene-7,14,23-trione',\n",
       "  'synonyms': '[]',\n",
       "  'NPL_score': 1.5288455134956374,\n",
       "  'number_of_carbons': 32,\n",
       "  'number_of_nitrogens': 0,\n",
       "  'number_of_oxygens': 9,\n",
       "  'number_of_rings': '',\n",
       "  'total_atom_number': 67,\n",
       "  'bond_count': 47,\n",
       "  'found_in_databases': '[chemspidernp]',\n",
       "  'murko_framework': 'O1Cc2ccccc2CC34Cc5ccc6c(c5C4C=CCC13)Cc7ccccc7C6',\n",
       "  'alogp': 0.4611999999999999,\n",
       "  'apol': 80.87461799999998,\n",
       "  'topoPSA': 139.59},\n",
       " {'coconut_id': 'CNP0000005',\n",
       "  'inchi': 'InChI=1S/C33H42O6/c1-31(2,3)30(36)37-18-17-33(6)21-26(38-28(34)22-13-9-7-10-14-22)27(24-19-32(4,5)20-25(24)33)39-29(35)23-15-11-8-12-16-23/h7-16,24-27H,17-21H2,1-6H3',\n",
       "  'inchikey': 'ZVAVQCZAGOKAMX-UHFFFAOYSA-N',\n",
       "  'SMILES': 'O=C(OC1CC(C)(CCOC(=O)C(C)(C)C)C2CC(C)(C)CC2C1OC(=O)C=3C=CC=CC3)C=4C=CC=CC4',\n",
       "  'sugar_free_smiles': 'O=C(OC1CC(C)(CCOC(=O)C(C)(C)C)C2CC(C)(C)CC2C1OC(=O)C=3C=CC=CC3)C=4C=CC=CC4',\n",
       "  'molecular_formula': 'C33H42O6',\n",
       "  'molecular_weight': 534.6842258201029,\n",
       "  'citationDOI': '[]',\n",
       "  'textTaxa': '[notax]',\n",
       "  'name': '5-(benzoyloxy)-7-{2-[(2,2-dimethylpropanoyl)oxy]ethyl}-2,2,7-trimethyl-octahydro-1H-inden-4-yl benzoate',\n",
       "  'synonyms': '[]',\n",
       "  'NPL_score': 1.3502964970313893,\n",
       "  'number_of_carbons': 33,\n",
       "  'number_of_nitrogens': 0,\n",
       "  'number_of_oxygens': 6,\n",
       "  'number_of_rings': '',\n",
       "  'total_atom_number': 81,\n",
       "  'bond_count': 42,\n",
       "  'found_in_databases': '[chemspidernp]',\n",
       "  'murko_framework': 'O(Cc1ccccc1)C2CCC3CCCC3C2OCc4ccccc4',\n",
       "  'alogp': 6.415000000000001,\n",
       "  'apol': 90.89730599999997,\n",
       "  'topoPSA': 78.9},\n",
       " {'coconut_id': 'CNP0000006',\n",
       "  'inchi': 'InChI=1S/C31H24O9/c1-12-8-15-23(20(9-12)39-2)30(38)40-29-18(33)7-6-16-21-13(11-31(16,29)28(15)37)10-19(34)24-25(21)26(35)14-4-3-5-17(32)22(14)27(24)36/h3-10,16,18,28-29,32-34,37H,11H2,1-2H3',\n",
       "  'inchikey': 'UYIPOCQHTAYRMA-UHFFFAOYSA-N',\n",
       "  'SMILES': 'O=C1OC2C(O)C=CC3C4=C5C(=O)C=6C=CC=C(O)C6C(=O)C5=C(O)C=C4CC32C(O)C7=CC(=CC(OC)=C17)C',\n",
       "  'sugar_free_smiles': 'O=C1OC2C(O)C=CC3C4=C5C(=O)C=6C=CC=C(O)C6C(=O)C5=C(O)C=C4CC32C(O)C7=CC(=CC(OC)=C17)C',\n",
       "  'molecular_formula': 'C31H24O9',\n",
       "  'molecular_weight': 540.5180352403712,\n",
       "  'citationDOI': '[]',\n",
       "  'textTaxa': '[notax]',\n",
       "  'name': '5,9,20,30-tetrahydroxy-25-methoxy-27-methyl-22-oxaheptacyclo[15.13.0.0¹,²¹.0³,¹⁶.0⁶,¹⁵.0⁸,¹³.0²⁴,²⁹]triaconta-3,5,8(13),9,11,15,18,24(29),25,27-decaene-7,14,23-trione',\n",
       "  'synonyms': '[]',\n",
       "  'NPL_score': 1.6566594527080416,\n",
       "  'number_of_carbons': 31,\n",
       "  'number_of_nitrogens': 0,\n",
       "  'number_of_oxygens': 9,\n",
       "  'number_of_rings': '',\n",
       "  'total_atom_number': 64,\n",
       "  'bond_count': 46,\n",
       "  'found_in_databases': '[chemspidernp]',\n",
       "  'murko_framework': 'O1Cc2ccccc2CC34Cc5ccc6c(c5C4C=CCC13)Cc7ccccc7C6',\n",
       "  'alogp': 0.39670000000000016,\n",
       "  'apol': 77.78103199999998,\n",
       "  'topoPSA': 150.59}]"
      ]
     },
     "execution_count": 32,
     "metadata": {},
     "output_type": "execute_result"
    }
   ],
   "source": [
    "coco[:5]"
   ]
  },
  {
   "cell_type": "code",
   "execution_count": 23,
   "metadata": {},
   "outputs": [
    {
     "data": {
      "text/plain": [
       "{'coconut_id': 'CNP0436855',\n",
       " 'inchi': 'InChI=1S/C69H112N14O20/c1-13-15-16-17-21-24-41-31-49(89)77-50(35(5)6)63(97)80-53(56(90)36(7)8)65(99)73-43(27-28-84)59(93)75-45(29-34(3)4)60(94)74-44(25-26-48(70)88)68(102)82(12)55(37(9)14-2)67(101)81-54(57(91)58(71)92)66(100)79-52(39(11)86)69(103)83-33-42(87)32-47(83)62(96)76-46(30-40-22-19-18-20-23-40)61(95)78-51(38(10)85)64(98)72-41/h18-20,22-23,34-39,41-42,44-47,50-57,84-87,90-91H,13-17,21,24-33H2,1-12H3,(H2,70,88)(H2,71,92)(H,72,98)(H,74,94)(H,75,93)(H,76,96)(H,77,89)(H,78,95)(H,79,100)(H,80,97)(H,81,101)',\n",
       " 'inchikey': 'ZQEJMIHHZHRPMS-UHFFFAOYSA-N',\n",
       " 'SMILES': 'O=C1NC(C(=O)NC(C(=O)N(C)C(C(=O)NC(C(=O)NC(C(=O)N2CC(O)CC2C(=O)NC(C(=O)NC(C(=O)NC(CC(=O)NC(C(=O)NC(C(=O)N=C1CCO)C(O)C(C)C)C(C)C)CCCCCCC)C(O)C)CC=3C=CC=CC3)C(O)C)C(O)C(=O)N)C(C)CC)CCC(=O)N)CC(C)C',\n",
       " 'sugar_free_smiles': 'O=C1NC(C(=O)NC(C(=O)N(C)C(C(=O)NC(C(=O)NC(C(=O)N2CC(O)CC2C(=O)NC(C(=O)NC(C(=O)NC(CC(=O)NC(C(=O)NC(C(=O)N=C1CCO)C(O)C(C)C)C(C)C)CCCCCCC)C(O)C)CC=3C=CC=CC3)C(O)C)C(O)C(=O)N)C(C)CC)CCC(=O)N)CC(C)C',\n",
       " 'molecular_formula': 'C69H112N14O20',\n",
       " 'molecular_weight': 1457.7120847567508,\n",
       " 'citationDOI': '[94)(H, 98)(H]',\n",
       " 'textTaxa': '[77, 89)(H]',\n",
       " 'name': '34-39',\n",
       " 'synonyms': '[]',\n",
       " 'NPL_score': 1.465802110685118,\n",
       " 'number_of_carbons': 69,\n",
       " 'number_of_nitrogens': 14,\n",
       " 'number_of_oxygens': 20,\n",
       " 'number_of_rings': '',\n",
       " 'total_atom_number': 215,\n",
       " 'bond_count': 105,\n",
       " 'found_in_databases': '[cyanometdb_wr_feb2021]',\n",
       " 'murko_framework': 'N1=CCNCCNCCNCCNCCNCCN2CCCC2CNC(CNCCNCCCNCCNCC1)Cc3ccccc3',\n",
       " 'alogp': -1.1558999999999964,\n",
       " 'apol': 227.5608160000005,\n",
       " 'topoPSA': 539.5099999999999}"
      ]
     },
     "execution_count": 23,
     "metadata": {},
     "output_type": "execute_result"
    }
   ],
   "source": [
    "mol.GetPropsAsDict()"
   ]
  },
  {
   "cell_type": "code",
   "execution_count": 300,
   "metadata": {},
   "outputs": [
    {
     "data": {
      "text/html": [
       "<div>\n",
       "<style scoped>\n",
       "    .dataframe tbody tr th:only-of-type {\n",
       "        vertical-align: middle;\n",
       "    }\n",
       "\n",
       "    .dataframe tbody tr th {\n",
       "        vertical-align: top;\n",
       "    }\n",
       "\n",
       "    .dataframe thead th {\n",
       "        text-align: right;\n",
       "    }\n",
       "</style>\n",
       "<table border=\"1\" class=\"dataframe\">\n",
       "  <thead>\n",
       "    <tr style=\"text-align: right;\">\n",
       "      <th></th>\n",
       "      <th>coconut_id</th>\n",
       "      <th>inchi</th>\n",
       "      <th>inchikey</th>\n",
       "      <th>SMILES</th>\n",
       "      <th>sugar_free_smiles</th>\n",
       "      <th>molecular_formula</th>\n",
       "      <th>molecular_weight</th>\n",
       "      <th>citationDOI</th>\n",
       "      <th>textTaxa</th>\n",
       "      <th>name</th>\n",
       "      <th>...</th>\n",
       "      <th>number_of_nitrogens</th>\n",
       "      <th>number_of_oxygens</th>\n",
       "      <th>number_of_rings</th>\n",
       "      <th>total_atom_number</th>\n",
       "      <th>bond_count</th>\n",
       "      <th>found_in_databases</th>\n",
       "      <th>murko_framework</th>\n",
       "      <th>alogp</th>\n",
       "      <th>apol</th>\n",
       "      <th>topoPSA</th>\n",
       "    </tr>\n",
       "  </thead>\n",
       "  <tbody>\n",
       "    <tr>\n",
       "      <th>0</th>\n",
       "      <td>CNP0000002</td>\n",
       "      <td>InChI=1S/C27H36N2O15S/c1-5-12(29-9-45)26(37)44...</td>\n",
       "      <td>FJEMIESGEMWDOB-UHFFFAOYSA-N</td>\n",
       "      <td>O=C(O)C=1C(=O)C(O)(CC(=O)C1N)C2OC(COC(=O)C)C(O...</td>\n",
       "      <td>O=C(O)C=1C(=O)C(O)CC(=O)C1N</td>\n",
       "      <td>C27H36N2O15S</td>\n",
       "      <td>660.646302</td>\n",
       "      <td>[]</td>\n",
       "      <td>[notax]</td>\n",
       "      <td>5-{6-[(acetyloxy)methyl]-3-hydroxy-4-[(5-hydro...</td>\n",
       "      <td>...</td>\n",
       "      <td>2</td>\n",
       "      <td>15</td>\n",
       "      <td></td>\n",
       "      <td>81</td>\n",
       "      <td>47</td>\n",
       "      <td>[chemspidernp]</td>\n",
       "      <td>C1=CCCCC1</td>\n",
       "      <td>-2.4338</td>\n",
       "      <td>88.654548</td>\n",
       "      <td>298.83</td>\n",
       "    </tr>\n",
       "    <tr>\n",
       "      <th>1</th>\n",
       "      <td>CNP0000003</td>\n",
       "      <td>InChI=1S/C34H30O10/c1-14-10-16-24(21(11-14)42-...</td>\n",
       "      <td>KLWKJVYCDFWQMK-UHFFFAOYSA-N</td>\n",
       "      <td>O=C1OC2C(O)C=CC3C4=C5C(=O)C=6C(OC)=CC=C(OC)C6C...</td>\n",
       "      <td>O=C1OC2C(O)C=CC3C4=C5C(=O)C=6C(OC)=CC=C(OC)C6C...</td>\n",
       "      <td>C34H30O10</td>\n",
       "      <td>598.597292</td>\n",
       "      <td>[]</td>\n",
       "      <td>[notax]</td>\n",
       "      <td>20,30-dihydroxy-5,9,12,25-tetramethoxy-27-meth...</td>\n",
       "      <td>...</td>\n",
       "      <td>0</td>\n",
       "      <td>10</td>\n",
       "      <td></td>\n",
       "      <td>74</td>\n",
       "      <td>50</td>\n",
       "      <td>[chemspidernp]</td>\n",
       "      <td>O1Cc2ccccc2CC34Cc5ccc6c(c5C4C=CCC13)Cc7ccccc7C6</td>\n",
       "      <td>0.0271</td>\n",
       "      <td>87.863790</td>\n",
       "      <td>137.82</td>\n",
       "    </tr>\n",
       "    <tr>\n",
       "      <th>2</th>\n",
       "      <td>CNP0000004</td>\n",
       "      <td>InChI=1S/C32H26O9/c1-13-9-16-24(20(10-13)39-2)...</td>\n",
       "      <td>PTEKHLCNKCAXPH-UHFFFAOYSA-N</td>\n",
       "      <td>O=C1OC2C(O)C=CC3C4=C5C(=O)C=6C=CC=C(O)C6C(=O)C...</td>\n",
       "      <td>O=C1OC2C(O)C=CC3C4=C5C(=O)C=6C=CC=C(O)C6C(=O)C...</td>\n",
       "      <td>C32H26O9</td>\n",
       "      <td>554.544653</td>\n",
       "      <td>[]</td>\n",
       "      <td>[notax]</td>\n",
       "      <td>9,20,30-trihydroxy-5,25-dimethoxy-27-methyl-22...</td>\n",
       "      <td>...</td>\n",
       "      <td>0</td>\n",
       "      <td>9</td>\n",
       "      <td></td>\n",
       "      <td>67</td>\n",
       "      <td>47</td>\n",
       "      <td>[chemspidernp]</td>\n",
       "      <td>O1Cc2ccccc2CC34Cc5ccc6c(c5C4C=CCC13)Cc7ccccc7C6</td>\n",
       "      <td>0.4612</td>\n",
       "      <td>80.874618</td>\n",
       "      <td>139.59</td>\n",
       "    </tr>\n",
       "    <tr>\n",
       "      <th>3</th>\n",
       "      <td>CNP0000005</td>\n",
       "      <td>InChI=1S/C33H42O6/c1-31(2,3)30(36)37-18-17-33(...</td>\n",
       "      <td>ZVAVQCZAGOKAMX-UHFFFAOYSA-N</td>\n",
       "      <td>O=C(OC1CC(C)(CCOC(=O)C(C)(C)C)C2CC(C)(C)CC2C1O...</td>\n",
       "      <td>O=C(OC1CC(C)(CCOC(=O)C(C)(C)C)C2CC(C)(C)CC2C1O...</td>\n",
       "      <td>C33H42O6</td>\n",
       "      <td>534.684226</td>\n",
       "      <td>[]</td>\n",
       "      <td>[notax]</td>\n",
       "      <td>5-(benzoyloxy)-7-{2-[(2,2-dimethylpropanoyl)ox...</td>\n",
       "      <td>...</td>\n",
       "      <td>0</td>\n",
       "      <td>6</td>\n",
       "      <td></td>\n",
       "      <td>81</td>\n",
       "      <td>42</td>\n",
       "      <td>[chemspidernp]</td>\n",
       "      <td>O(Cc1ccccc1)C2CCC3CCCC3C2OCc4ccccc4</td>\n",
       "      <td>6.4150</td>\n",
       "      <td>90.897306</td>\n",
       "      <td>78.90</td>\n",
       "    </tr>\n",
       "    <tr>\n",
       "      <th>4</th>\n",
       "      <td>CNP0000006</td>\n",
       "      <td>InChI=1S/C31H24O9/c1-12-8-15-23(20(9-12)39-2)3...</td>\n",
       "      <td>UYIPOCQHTAYRMA-UHFFFAOYSA-N</td>\n",
       "      <td>O=C1OC2C(O)C=CC3C4=C5C(=O)C=6C=CC=C(O)C6C(=O)C...</td>\n",
       "      <td>O=C1OC2C(O)C=CC3C4=C5C(=O)C=6C=CC=C(O)C6C(=O)C...</td>\n",
       "      <td>C31H24O9</td>\n",
       "      <td>540.518035</td>\n",
       "      <td>[]</td>\n",
       "      <td>[notax]</td>\n",
       "      <td>5,9,20,30-tetrahydroxy-25-methoxy-27-methyl-22...</td>\n",
       "      <td>...</td>\n",
       "      <td>0</td>\n",
       "      <td>9</td>\n",
       "      <td></td>\n",
       "      <td>64</td>\n",
       "      <td>46</td>\n",
       "      <td>[chemspidernp]</td>\n",
       "      <td>O1Cc2ccccc2CC34Cc5ccc6c(c5C4C=CCC13)Cc7ccccc7C6</td>\n",
       "      <td>0.3967</td>\n",
       "      <td>77.781032</td>\n",
       "      <td>150.59</td>\n",
       "    </tr>\n",
       "  </tbody>\n",
       "</table>\n",
       "<p>5 rows × 23 columns</p>\n",
       "</div>"
      ],
      "text/plain": [
       "   coconut_id                                              inchi  \\\n",
       "0  CNP0000002  InChI=1S/C27H36N2O15S/c1-5-12(29-9-45)26(37)44...   \n",
       "1  CNP0000003  InChI=1S/C34H30O10/c1-14-10-16-24(21(11-14)42-...   \n",
       "2  CNP0000004  InChI=1S/C32H26O9/c1-13-9-16-24(20(10-13)39-2)...   \n",
       "3  CNP0000005  InChI=1S/C33H42O6/c1-31(2,3)30(36)37-18-17-33(...   \n",
       "4  CNP0000006  InChI=1S/C31H24O9/c1-12-8-15-23(20(9-12)39-2)3...   \n",
       "\n",
       "                      inchikey  \\\n",
       "0  FJEMIESGEMWDOB-UHFFFAOYSA-N   \n",
       "1  KLWKJVYCDFWQMK-UHFFFAOYSA-N   \n",
       "2  PTEKHLCNKCAXPH-UHFFFAOYSA-N   \n",
       "3  ZVAVQCZAGOKAMX-UHFFFAOYSA-N   \n",
       "4  UYIPOCQHTAYRMA-UHFFFAOYSA-N   \n",
       "\n",
       "                                              SMILES  \\\n",
       "0  O=C(O)C=1C(=O)C(O)(CC(=O)C1N)C2OC(COC(=O)C)C(O...   \n",
       "1  O=C1OC2C(O)C=CC3C4=C5C(=O)C=6C(OC)=CC=C(OC)C6C...   \n",
       "2  O=C1OC2C(O)C=CC3C4=C5C(=O)C=6C=CC=C(O)C6C(=O)C...   \n",
       "3  O=C(OC1CC(C)(CCOC(=O)C(C)(C)C)C2CC(C)(C)CC2C1O...   \n",
       "4  O=C1OC2C(O)C=CC3C4=C5C(=O)C=6C=CC=C(O)C6C(=O)C...   \n",
       "\n",
       "                                   sugar_free_smiles molecular_formula  \\\n",
       "0                        O=C(O)C=1C(=O)C(O)CC(=O)C1N      C27H36N2O15S   \n",
       "1  O=C1OC2C(O)C=CC3C4=C5C(=O)C=6C(OC)=CC=C(OC)C6C...         C34H30O10   \n",
       "2  O=C1OC2C(O)C=CC3C4=C5C(=O)C=6C=CC=C(O)C6C(=O)C...          C32H26O9   \n",
       "3  O=C(OC1CC(C)(CCOC(=O)C(C)(C)C)C2CC(C)(C)CC2C1O...          C33H42O6   \n",
       "4  O=C1OC2C(O)C=CC3C4=C5C(=O)C=6C=CC=C(O)C6C(=O)C...          C31H24O9   \n",
       "\n",
       "   molecular_weight citationDOI textTaxa  \\\n",
       "0        660.646302          []  [notax]   \n",
       "1        598.597292          []  [notax]   \n",
       "2        554.544653          []  [notax]   \n",
       "3        534.684226          []  [notax]   \n",
       "4        540.518035          []  [notax]   \n",
       "\n",
       "                                                name  ... number_of_nitrogens  \\\n",
       "0  5-{6-[(acetyloxy)methyl]-3-hydroxy-4-[(5-hydro...  ...                   2   \n",
       "1  20,30-dihydroxy-5,9,12,25-tetramethoxy-27-meth...  ...                   0   \n",
       "2  9,20,30-trihydroxy-5,25-dimethoxy-27-methyl-22...  ...                   0   \n",
       "3  5-(benzoyloxy)-7-{2-[(2,2-dimethylpropanoyl)ox...  ...                   0   \n",
       "4  5,9,20,30-tetrahydroxy-25-methoxy-27-methyl-22...  ...                   0   \n",
       "\n",
       "   number_of_oxygens  number_of_rings  total_atom_number  bond_count  \\\n",
       "0                 15                                  81          47   \n",
       "1                 10                                  74          50   \n",
       "2                  9                                  67          47   \n",
       "3                  6                                  81          42   \n",
       "4                  9                                  64          46   \n",
       "\n",
       "  found_in_databases                                  murko_framework   alogp  \\\n",
       "0     [chemspidernp]                                        C1=CCCCC1 -2.4338   \n",
       "1     [chemspidernp]  O1Cc2ccccc2CC34Cc5ccc6c(c5C4C=CCC13)Cc7ccccc7C6  0.0271   \n",
       "2     [chemspidernp]  O1Cc2ccccc2CC34Cc5ccc6c(c5C4C=CCC13)Cc7ccccc7C6  0.4612   \n",
       "3     [chemspidernp]              O(Cc1ccccc1)C2CCC3CCCC3C2OCc4ccccc4  6.4150   \n",
       "4     [chemspidernp]  O1Cc2ccccc2CC34Cc5ccc6c(c5C4C=CCC13)Cc7ccccc7C6  0.3967   \n",
       "\n",
       "        apol topoPSA  \n",
       "0  88.654548  298.83  \n",
       "1  87.863790  137.82  \n",
       "2  80.874618  139.59  \n",
       "3  90.897306   78.90  \n",
       "4  77.781032  150.59  \n",
       "\n",
       "[5 rows x 23 columns]"
      ]
     },
     "execution_count": 300,
     "metadata": {},
     "output_type": "execute_result"
    }
   ],
   "source": [
    "coconut = pd.DataFrame(coco)\n",
    "\n",
    "coconut.head()"
   ]
  },
  {
   "cell_type": "code",
   "execution_count": 94,
   "metadata": {},
   "outputs": [
    {
     "data": {
      "text/plain": [
       "Index(['coconut_id', 'inchi', 'inchikey', 'SMILES', 'sugar_free_smiles',\n",
       "       'molecular_formula', 'molecular_weight', 'citationDOI', 'textTaxa',\n",
       "       'name', 'synonyms', 'NPL_score', 'number_of_carbons',\n",
       "       'number_of_nitrogens', 'number_of_oxygens', 'number_of_rings',\n",
       "       'total_atom_number', 'bond_count', 'found_in_databases',\n",
       "       'murko_framework', 'alogp', 'apol', 'topoPSA'],\n",
       "      dtype='object')"
      ]
     },
     "execution_count": 94,
     "metadata": {},
     "output_type": "execute_result"
    }
   ],
   "source": [
    "coconut.columns"
   ]
  },
  {
   "cell_type": "code",
   "execution_count": 37,
   "metadata": {},
   "outputs": [
    {
     "data": {
      "text/plain": [
       "(405960, 23)"
      ]
     },
     "execution_count": 37,
     "metadata": {},
     "output_type": "execute_result"
    }
   ],
   "source": [
    "coconut.shape"
   ]
  },
  {
   "cell_type": "code",
   "execution_count": 38,
   "metadata": {},
   "outputs": [
    {
     "data": {
      "text/plain": [
       "405960"
      ]
     },
     "execution_count": 38,
     "metadata": {},
     "output_type": "execute_result"
    }
   ],
   "source": [
    "len(coconut['inchikey'].unique())"
   ]
  },
  {
   "cell_type": "code",
   "execution_count": 302,
   "metadata": {},
   "outputs": [
    {
     "data": {
      "text/html": [
       "<div>\n",
       "<style scoped>\n",
       "    .dataframe tbody tr th:only-of-type {\n",
       "        vertical-align: middle;\n",
       "    }\n",
       "\n",
       "    .dataframe tbody tr th {\n",
       "        vertical-align: top;\n",
       "    }\n",
       "\n",
       "    .dataframe thead th {\n",
       "        text-align: right;\n",
       "    }\n",
       "</style>\n",
       "<table border=\"1\" class=\"dataframe\">\n",
       "  <thead>\n",
       "    <tr style=\"text-align: right;\">\n",
       "      <th></th>\n",
       "      <th>SMILES</th>\n",
       "      <th>coconut_id</th>\n",
       "    </tr>\n",
       "  </thead>\n",
       "  <tbody>\n",
       "    <tr>\n",
       "      <th>0</th>\n",
       "      <td>O=C(O)C=1C(=O)C(O)(CC(=O)C1N)C2OC(COC(=O)C)C(O...</td>\n",
       "      <td>CNP0000002</td>\n",
       "    </tr>\n",
       "    <tr>\n",
       "      <th>1</th>\n",
       "      <td>O=C1OC2C(O)C=CC3C4=C5C(=O)C=6C(OC)=CC=C(OC)C6C...</td>\n",
       "      <td>CNP0000003</td>\n",
       "    </tr>\n",
       "    <tr>\n",
       "      <th>2</th>\n",
       "      <td>O=C1OC2C(O)C=CC3C4=C5C(=O)C=6C=CC=C(O)C6C(=O)C...</td>\n",
       "      <td>CNP0000004</td>\n",
       "    </tr>\n",
       "    <tr>\n",
       "      <th>3</th>\n",
       "      <td>O=C(OC1CC(C)(CCOC(=O)C(C)(C)C)C2CC(C)(C)CC2C1O...</td>\n",
       "      <td>CNP0000005</td>\n",
       "    </tr>\n",
       "    <tr>\n",
       "      <th>4</th>\n",
       "      <td>O=C1OC2C(O)C=CC3C4=C5C(=O)C=6C=CC=C(O)C6C(=O)C...</td>\n",
       "      <td>CNP0000006</td>\n",
       "    </tr>\n",
       "  </tbody>\n",
       "</table>\n",
       "</div>"
      ],
      "text/plain": [
       "                                              SMILES  coconut_id\n",
       "0  O=C(O)C=1C(=O)C(O)(CC(=O)C1N)C2OC(COC(=O)C)C(O...  CNP0000002\n",
       "1  O=C1OC2C(O)C=CC3C4=C5C(=O)C=6C(OC)=CC=C(OC)C6C...  CNP0000003\n",
       "2  O=C1OC2C(O)C=CC3C4=C5C(=O)C=6C=CC=C(O)C6C(=O)C...  CNP0000004\n",
       "3  O=C(OC1CC(C)(CCOC(=O)C(C)(C)C)C2CC(C)(C)CC2C1O...  CNP0000005\n",
       "4  O=C1OC2C(O)C=CC3C4=C5C(=O)C=6C=CC=C(O)C6C(=O)C...  CNP0000006"
      ]
     },
     "execution_count": 302,
     "metadata": {},
     "output_type": "execute_result"
    }
   ],
   "source": [
    "coconut[['SMILES',  'coconut_id']].head()"
   ]
  },
  {
   "cell_type": "code",
   "execution_count": 303,
   "metadata": {},
   "outputs": [],
   "source": [
    "coconut[['SMILES',  'coconut_id']].to_csv('coconut.tsv', sep='\\t', index=None, header=None)"
   ]
  },
  {
   "cell_type": "code",
   "execution_count": 52,
   "metadata": {},
   "outputs": [
    {
     "name": "stdout",
     "output_type": "stream",
     "text": [
      "CPU times: user 600 ms, sys: 252 ms, total: 852 ms\n",
      "Wall time: 851 ms\n"
     ]
    }
   ],
   "source": [
    "%%time\n",
    "\n",
    "suppl = Chem.SDMolSupplier('b125873b-1a81-4a94-b850-bb87e29aa013_sdf.sdf')\n",
    "\n",
    "tmp = []\n",
    "\n",
    "for mol in suppl:\n",
    "    if mol is not None:\n",
    "        tmp.append(mol.GetPropsAsDict())"
   ]
  },
  {
   "cell_type": "code",
   "execution_count": 53,
   "metadata": {},
   "outputs": [
    {
     "data": {
      "text/plain": [
       "[{'COMPOUND_ID': 'CMNPD11538',\n",
       "  'MOLECULAR_FORMULA': 'C17H28O2',\n",
       "  'MOLECULAR_WEIGHT': 264.40899999999993,\n",
       "  'MOLECULAR_MASS': 264.208930136,\n",
       "  'ALOGP': 4.348300000000004,\n",
       "  'ROTATABLE_BONDS': 2,\n",
       "  'HBA': 2,\n",
       "  'HBD': 0,\n",
       "  'POLAR_SURFACE_AREA': 26.3,\n",
       "  'AROMATIC_RINGS': 0,\n",
       "  'HEAVY_ATOMS': 19,\n",
       "  'QED_WEIGHTED': 0.5473082479884026,\n",
       "  'BLOOD_BRAIN_BARRIER_PENETRATION': 0.659,\n",
       "  'BLOOD_BRAIN_BARRIER_PENETRATION_LEVEL': 1,\n",
       "  'HUMAN_INTESTINAL_ABSORPTION_LEVEL': 0,\n",
       "  'AQUEOUS_SOLUBILITY': -5.069,\n",
       "  'AQUEOUS_SOLUBILITY_LEVEL': 2,\n",
       "  'CYP2D6_BINDING_MODEL': 'false',\n",
       "  'HEPATOTOXICITY_MODEL': 'false',\n",
       "  'PLASMA_PROTEIN_BINDING_MODEL': 'true',\n",
       "  'SMILES': 'C1CC[C@]2(C(CCC(=C)[C@@H]2COC(=O)C)C1(C)C)C',\n",
       "  'STANDARD_INCHI': 'InChI=1S/C17H28O2/c1-12-7-8-15-16(3,4)9-6-10-17(15,5)14(12)11-19-13(2)18/h14-15H,1,6-11H2,2-5H3/t14-,15?,17+/m0/s1',\n",
       "  'STANDARD_INCHI_KEY': 'GQKPZEYFVCLAHT-XJIUDMAQSA-N'},\n",
       " {'COMPOUND_ID': 'CMNPD8008',\n",
       "  'MOLECULAR_FORMULA': 'C22H34O3',\n",
       "  'MOLECULAR_WEIGHT': 346.51100000000025,\n",
       "  'MOLECULAR_MASS': 346.25079494799996,\n",
       "  'ALOGP': 4.304800000000005,\n",
       "  'ROTATABLE_BONDS': 7,\n",
       "  'HBA': 3,\n",
       "  'HBD': 2,\n",
       "  'POLAR_SURFACE_AREA': 49.69,\n",
       "  'AROMATIC_RINGS': 0,\n",
       "  'HEAVY_ATOMS': 25,\n",
       "  'QED_WEIGHTED': 0.5334973987575559,\n",
       "  'BLOOD_BRAIN_BARRIER_PENETRATION': 0.426,\n",
       "  'BLOOD_BRAIN_BARRIER_PENETRATION_LEVEL': 1,\n",
       "  'HUMAN_INTESTINAL_ABSORPTION_LEVEL': 0,\n",
       "  'AQUEOUS_SOLUBILITY': -4.106,\n",
       "  'AQUEOUS_SOLUBILITY_LEVEL': 2,\n",
       "  'CYP2D6_BINDING_MODEL': 'false',\n",
       "  'HEPATOTOXICITY_MODEL': 'false',\n",
       "  'PLASMA_PROTEIN_BINDING_MODEL': 'true',\n",
       "  'SMILES': '[C@]12([H])[C@@]([H])(O[C@@H](\\\\C=C\\\\CCCCCCC)C(C)=C1)[C@H](O)C=C(C[C@](O)([H])C3)[C@]23[H]',\n",
       "  'STANDARD_INCHI': 'InChI=1S/C22H34O3/c1-3-4-5-6-7-8-9-10-21-15(2)11-19-18-14-17(23)12-16(18)13-20(24)22(19)25-21/h9-11,13,17-24H,3-8,12,14H2,1-2H3/b10-9+/t17-,18-,19+,20-,21+,22-/m1/s1',\n",
       "  'STANDARD_INCHI_KEY': 'SCHUFNFKKZAGMU-AOWXDDHASA-N'}]"
      ]
     },
     "execution_count": 53,
     "metadata": {},
     "output_type": "execute_result"
    }
   ],
   "source": [
    "tmp"
   ]
  },
  {
   "cell_type": "code",
   "execution_count": 42,
   "metadata": {},
   "outputs": [
    {
     "data": {
      "text/html": [
       "<div>\n",
       "<style scoped>\n",
       "    .dataframe tbody tr th:only-of-type {\n",
       "        vertical-align: middle;\n",
       "    }\n",
       "\n",
       "    .dataframe tbody tr th {\n",
       "        vertical-align: top;\n",
       "    }\n",
       "\n",
       "    .dataframe thead th {\n",
       "        text-align: right;\n",
       "    }\n",
       "</style>\n",
       "<table border=\"1\" class=\"dataframe\">\n",
       "  <thead>\n",
       "    <tr style=\"text-align: right;\">\n",
       "      <th></th>\n",
       "      <th>COMPOUND_ID</th>\n",
       "      <th>MOLECULAR_FORMULA</th>\n",
       "      <th>MOLECULAR_WEIGHT</th>\n",
       "      <th>MOLECULAR_MASS</th>\n",
       "      <th>ALOGP</th>\n",
       "      <th>ROTATABLE_BONDS</th>\n",
       "      <th>HBA</th>\n",
       "      <th>HBD</th>\n",
       "      <th>POLAR_SURFACE_AREA</th>\n",
       "      <th>AROMATIC_RINGS</th>\n",
       "      <th>...</th>\n",
       "      <th>BLOOD_BRAIN_BARRIER_PENETRATION_LEVEL</th>\n",
       "      <th>HUMAN_INTESTINAL_ABSORPTION_LEVEL</th>\n",
       "      <th>AQUEOUS_SOLUBILITY</th>\n",
       "      <th>AQUEOUS_SOLUBILITY_LEVEL</th>\n",
       "      <th>CYP2D6_BINDING_MODEL</th>\n",
       "      <th>HEPATOTOXICITY_MODEL</th>\n",
       "      <th>PLASMA_PROTEIN_BINDING_MODEL</th>\n",
       "      <th>SMILES</th>\n",
       "      <th>STANDARD_INCHI</th>\n",
       "      <th>STANDARD_INCHI_KEY</th>\n",
       "    </tr>\n",
       "  </thead>\n",
       "  <tbody>\n",
       "    <tr>\n",
       "      <th>0</th>\n",
       "      <td>CMNPD11538</td>\n",
       "      <td>C17H28O2</td>\n",
       "      <td>264.409</td>\n",
       "      <td>264.208930</td>\n",
       "      <td>4.3483</td>\n",
       "      <td>2</td>\n",
       "      <td>2</td>\n",
       "      <td>0</td>\n",
       "      <td>26.30</td>\n",
       "      <td>0</td>\n",
       "      <td>...</td>\n",
       "      <td>1</td>\n",
       "      <td>0</td>\n",
       "      <td>-5.069</td>\n",
       "      <td>2</td>\n",
       "      <td>false</td>\n",
       "      <td>false</td>\n",
       "      <td>true</td>\n",
       "      <td>C1CC[C@]2(C(CCC(=C)[C@@H]2COC(=O)C)C1(C)C)C</td>\n",
       "      <td>InChI=1S/C17H28O2/c1-12-7-8-15-16(3,4)9-6-10-1...</td>\n",
       "      <td>GQKPZEYFVCLAHT-XJIUDMAQSA-N</td>\n",
       "    </tr>\n",
       "    <tr>\n",
       "      <th>1</th>\n",
       "      <td>CMNPD8008</td>\n",
       "      <td>C22H34O3</td>\n",
       "      <td>346.511</td>\n",
       "      <td>346.250795</td>\n",
       "      <td>4.3048</td>\n",
       "      <td>7</td>\n",
       "      <td>3</td>\n",
       "      <td>2</td>\n",
       "      <td>49.69</td>\n",
       "      <td>0</td>\n",
       "      <td>...</td>\n",
       "      <td>1</td>\n",
       "      <td>0</td>\n",
       "      <td>-4.106</td>\n",
       "      <td>2</td>\n",
       "      <td>false</td>\n",
       "      <td>false</td>\n",
       "      <td>true</td>\n",
       "      <td>[C@]12([H])[C@@]([H])(O[C@@H](\\C=C\\CCCCCCC)C(C...</td>\n",
       "      <td>InChI=1S/C22H34O3/c1-3-4-5-6-7-8-9-10-21-15(2)...</td>\n",
       "      <td>SCHUFNFKKZAGMU-AOWXDDHASA-N</td>\n",
       "    </tr>\n",
       "  </tbody>\n",
       "</table>\n",
       "<p>2 rows × 23 columns</p>\n",
       "</div>"
      ],
      "text/plain": [
       "  COMPOUND_ID MOLECULAR_FORMULA  MOLECULAR_WEIGHT  MOLECULAR_MASS   ALOGP  \\\n",
       "0  CMNPD11538          C17H28O2           264.409      264.208930  4.3483   \n",
       "1   CMNPD8008          C22H34O3           346.511      346.250795  4.3048   \n",
       "\n",
       "   ROTATABLE_BONDS  HBA  HBD  POLAR_SURFACE_AREA  AROMATIC_RINGS  ...  \\\n",
       "0                2    2    0               26.30               0  ...   \n",
       "1                7    3    2               49.69               0  ...   \n",
       "\n",
       "   BLOOD_BRAIN_BARRIER_PENETRATION_LEVEL  HUMAN_INTESTINAL_ABSORPTION_LEVEL  \\\n",
       "0                                      1                                  0   \n",
       "1                                      1                                  0   \n",
       "\n",
       "   AQUEOUS_SOLUBILITY  AQUEOUS_SOLUBILITY_LEVEL  CYP2D6_BINDING_MODEL  \\\n",
       "0              -5.069                         2                 false   \n",
       "1              -4.106                         2                 false   \n",
       "\n",
       "   HEPATOTOXICITY_MODEL  PLASMA_PROTEIN_BINDING_MODEL  \\\n",
       "0                 false                          true   \n",
       "1                 false                          true   \n",
       "\n",
       "                                              SMILES  \\\n",
       "0        C1CC[C@]2(C(CCC(=C)[C@@H]2COC(=O)C)C1(C)C)C   \n",
       "1  [C@]12([H])[C@@]([H])(O[C@@H](\\C=C\\CCCCCCC)C(C...   \n",
       "\n",
       "                                      STANDARD_INCHI  \\\n",
       "0  InChI=1S/C17H28O2/c1-12-7-8-15-16(3,4)9-6-10-1...   \n",
       "1  InChI=1S/C22H34O3/c1-3-4-5-6-7-8-9-10-21-15(2)...   \n",
       "\n",
       "            STANDARD_INCHI_KEY  \n",
       "0  GQKPZEYFVCLAHT-XJIUDMAQSA-N  \n",
       "1  SCHUFNFKKZAGMU-AOWXDDHASA-N  \n",
       "\n",
       "[2 rows x 23 columns]"
      ]
     },
     "execution_count": 42,
     "metadata": {},
     "output_type": "execute_result"
    }
   ],
   "source": [
    "cmnpd = pd.DataFrame(tmp)\n",
    "\n",
    "cmnpd.head()"
   ]
  },
  {
   "cell_type": "code",
   "execution_count": 68,
   "metadata": {},
   "outputs": [
    {
     "name": "stdout",
     "output_type": "stream",
     "text": [
      "CPU times: user 1.06 s, sys: 40 ms, total: 1.1 s\n",
      "Wall time: 1.09 s\n"
     ]
    }
   ],
   "source": [
    "%%time\n",
    "\n",
    "with open(\"b125873b-1a81-4a94-b850-bb87e29aa013_sdf.sdf\") as sdf:\n",
    "    cmnpd_list = []\n",
    "    s = 0\n",
    "    for line in sdf:\n",
    "        if s:\n",
    "            cmnpd_list.append((k, line.strip()))\n",
    "            s = 0\n",
    "\n",
    "        if '>' in line:\n",
    "            s = 1\n",
    "            k = line.strip()\n",
    "        else:\n",
    "            continue            "
   ]
  },
  {
   "cell_type": "code",
   "execution_count": 72,
   "metadata": {},
   "outputs": [
    {
     "data": {
      "text/plain": [
       "725903"
      ]
     },
     "execution_count": 72,
     "metadata": {},
     "output_type": "execute_result"
    }
   ],
   "source": [
    "len(cmnpd_list)"
   ]
  },
  {
   "cell_type": "code",
   "execution_count": 73,
   "metadata": {},
   "outputs": [
    {
     "data": {
      "text/plain": [
       "[('> <COMPOUND_ID>', 'CMNPD11538'),\n",
       " ('> <MOLECULAR_FORMULA>', 'C17H28O2'),\n",
       " ('> <MOLECULAR_WEIGHT>', '264.40899999999993'),\n",
       " ('> <MOLECULAR_MASS>', '264.208930136'),\n",
       " ('> <ALOGP>', '4.348300000000004'),\n",
       " ('> <ROTATABLE_BONDS>', '2'),\n",
       " ('> <HBA>', '2'),\n",
       " ('> <HBD>', '0'),\n",
       " ('> <POLAR_SURFACE_AREA>', '26.3'),\n",
       " ('> <AROMATIC_RINGS>', '0'),\n",
       " ('> <HEAVY_ATOMS>', '19'),\n",
       " ('> <QED_WEIGHTED>', '0.5473082479884026'),\n",
       " ('> <BLOOD_BRAIN_BARRIER_PENETRATION>', '0.659'),\n",
       " ('> <BLOOD_BRAIN_BARRIER_PENETRATION_LEVEL>', '1'),\n",
       " ('> <HUMAN_INTESTINAL_ABSORPTION_LEVEL>', '0'),\n",
       " ('> <AQUEOUS_SOLUBILITY>', '-5.069'),\n",
       " ('> <AQUEOUS_SOLUBILITY_LEVEL>', '2'),\n",
       " ('> <CYP2D6_BINDING_MODEL>', 'false'),\n",
       " ('> <HEPATOTOXICITY_MODEL>', 'false'),\n",
       " ('> <PLASMA_PROTEIN_BINDING_MODEL>', 'true'),\n",
       " ('> <SMILES>', 'C1CC[C@]2(C(CCC(=C)[C@@H]2COC(=O)C)C1(C)C)C'),\n",
       " ('> <STANDARD_INCHI>',\n",
       "  'InChI=1S/C17H28O2/c1-12-7-8-15-16(3,4)9-6-10-17(15,5)14(12)11-19-13(2)18/h14-15H,1,6-11H2,2-5H3/t14-,15?,17+/m0/s1'),\n",
       " ('> <STANDARD_INCHI_KEY>', 'GQKPZEYFVCLAHT-XJIUDMAQSA-N'),\n",
       " ('> <COMPOUND_ID>', 'CMNPD30243'),\n",
       " ('> <MOLECULAR_FORMULA>', 'C16H13NO5S')]"
      ]
     },
     "execution_count": 73,
     "metadata": {},
     "output_type": "execute_result"
    }
   ],
   "source": [
    "cmnpd_list[:25]"
   ]
  },
  {
   "cell_type": "code",
   "execution_count": 76,
   "metadata": {},
   "outputs": [
    {
     "data": {
      "text/plain": [
       "31561"
      ]
     },
     "execution_count": 76,
     "metadata": {},
     "output_type": "execute_result"
    }
   ],
   "source": [
    "cmnpd = [x[1] for x in cmnpd_list if 'STANDARD_INCHI_KEY' in x[0]]\n",
    "\n",
    "len(cmnpd)"
   ]
  },
  {
   "cell_type": "code",
   "execution_count": 77,
   "metadata": {},
   "outputs": [
    {
     "data": {
      "text/plain": [
       "['GQKPZEYFVCLAHT-XJIUDMAQSA-N',\n",
       " 'OBZPFFVEZUWXOQ-UHFFFAOYSA-N',\n",
       " 'KACVLZXOHRKDBS-QUIUOXTQSA-N',\n",
       " 'NAFRNAIZQXKTNS-RUZDIDTESA-N',\n",
       " 'ZZKGGGBICHNKBI-UHFFFAOYSA-N']"
      ]
     },
     "execution_count": 77,
     "metadata": {},
     "output_type": "execute_result"
    }
   ],
   "source": [
    "cmnpd[:5]"
   ]
  },
  {
   "cell_type": "code",
   "execution_count": 78,
   "metadata": {},
   "outputs": [
    {
     "data": {
      "text/plain": [
       "31526"
      ]
     },
     "execution_count": 78,
     "metadata": {},
     "output_type": "execute_result"
    }
   ],
   "source": [
    "len(set(cmnpd))"
   ]
  },
  {
   "cell_type": "code",
   "execution_count": 86,
   "metadata": {},
   "outputs": [
    {
     "data": {
      "text/html": [
       "<div>\n",
       "<style scoped>\n",
       "    .dataframe tbody tr th:only-of-type {\n",
       "        vertical-align: middle;\n",
       "    }\n",
       "\n",
       "    .dataframe tbody tr th {\n",
       "        vertical-align: top;\n",
       "    }\n",
       "\n",
       "    .dataframe thead th {\n",
       "        text-align: right;\n",
       "    }\n",
       "</style>\n",
       "<table border=\"1\" class=\"dataframe\">\n",
       "  <thead>\n",
       "    <tr style=\"text-align: right;\">\n",
       "      <th></th>\n",
       "      <th>MonoisotopicMass</th>\n",
       "      <th>InChI</th>\n",
       "      <th>SMILES</th>\n",
       "      <th>Identifier</th>\n",
       "      <th>InChIKey2</th>\n",
       "      <th>InChIKey1</th>\n",
       "      <th>MolecularFormula</th>\n",
       "      <th>kingdom_name</th>\n",
       "      <th>superclass_name</th>\n",
       "      <th>class_name</th>\n",
       "      <th>subclass_name</th>\n",
       "    </tr>\n",
       "  </thead>\n",
       "  <tbody>\n",
       "    <tr>\n",
       "      <th>0</th>\n",
       "      <td>475.771120</td>\n",
       "      <td>InChI=1S/C10H14Br3Cl3/c1-6(8(16)9(11)12)3-4-7(...</td>\n",
       "      <td>CC(=CCC(Cl)C(C)(Br)CCl)C(Cl)C(Br)Br</td>\n",
       "      <td>cs000000019489</td>\n",
       "      <td>NVHPAYQLSA</td>\n",
       "      <td>XELJFHNIOKSRIG</td>\n",
       "      <td>C10H14Br3Cl3</td>\n",
       "      <td>Organic compounds</td>\n",
       "      <td>Organohalogen compounds</td>\n",
       "      <td>Organochlorides</td>\n",
       "      <td>NaN</td>\n",
       "    </tr>\n",
       "    <tr>\n",
       "      <th>1</th>\n",
       "      <td>194.026520</td>\n",
       "      <td>InChI=1S/C8H12Cl2O/c1-6(5-9)8(11)4-3-7(2)10/h3...</td>\n",
       "      <td>CC(Cl)=CCC(O)C(C)=CCl</td>\n",
       "      <td>cs000000019490</td>\n",
       "      <td>UDQYSLBASA</td>\n",
       "      <td>AAGSVSIRUBZUSD</td>\n",
       "      <td>C8H12Cl2O</td>\n",
       "      <td>Organic compounds</td>\n",
       "      <td>Organic oxygen compounds</td>\n",
       "      <td>Organooxygen compounds</td>\n",
       "      <td>Alcohols and polyols</td>\n",
       "    </tr>\n",
       "    <tr>\n",
       "      <th>2</th>\n",
       "      <td>194.026520</td>\n",
       "      <td>InChI=1S/C8H12Cl2O/c1-6(5-9)8(11)4-3-7(2)10/h3...</td>\n",
       "      <td>CC(Cl)=CCC(O)C(C)=CCl</td>\n",
       "      <td>cs000000019490</td>\n",
       "      <td>UDQYSLBASA</td>\n",
       "      <td>AAGSVSIRUBZUSD</td>\n",
       "      <td>C8H12Cl2O</td>\n",
       "      <td>Organic compounds</td>\n",
       "      <td>Organic oxygen compounds</td>\n",
       "      <td>Organooxygen compounds</td>\n",
       "      <td>Alcohols and polyols</td>\n",
       "    </tr>\n",
       "    <tr>\n",
       "      <th>3</th>\n",
       "      <td>192.010870</td>\n",
       "      <td>InChI=1S/C8H10Cl2O/c1-6(5-9)8(11)4-3-7(2)10/h3...</td>\n",
       "      <td>CC(Cl)=CCC(=O)C(C)=CCl</td>\n",
       "      <td>cs000000019491</td>\n",
       "      <td>UDQYSLBASA</td>\n",
       "      <td>KZMBQKHKLLQSFJ</td>\n",
       "      <td>C8H10Cl2O</td>\n",
       "      <td>Organic compounds</td>\n",
       "      <td>Organic oxygen compounds</td>\n",
       "      <td>Organooxygen compounds</td>\n",
       "      <td>Carbonyl compounds</td>\n",
       "    </tr>\n",
       "    <tr>\n",
       "      <th>4</th>\n",
       "      <td>465.404276</td>\n",
       "      <td>InChI=1S/C26H51N5O2/c1-4-5-6-7-8-9-10-11-13-17...</td>\n",
       "      <td>CCCCCCCCCCCC(=O)N(CCCCCNC(=N)N)CCCN=C(O)C=C(C)C</td>\n",
       "      <td>cs000000019492</td>\n",
       "      <td>UHFFFAOYSA</td>\n",
       "      <td>MBPMCCICMQJUCL</td>\n",
       "      <td>C26H51N5O2</td>\n",
       "      <td>Organic compounds</td>\n",
       "      <td>Lipids and lipid-like molecules</td>\n",
       "      <td>Fatty Acyls</td>\n",
       "      <td>Fatty amides</td>\n",
       "    </tr>\n",
       "  </tbody>\n",
       "</table>\n",
       "</div>"
      ],
      "text/plain": [
       "   MonoisotopicMass                                              InChI  \\\n",
       "0        475.771120  InChI=1S/C10H14Br3Cl3/c1-6(8(16)9(11)12)3-4-7(...   \n",
       "1        194.026520  InChI=1S/C8H12Cl2O/c1-6(5-9)8(11)4-3-7(2)10/h3...   \n",
       "2        194.026520  InChI=1S/C8H12Cl2O/c1-6(5-9)8(11)4-3-7(2)10/h3...   \n",
       "3        192.010870  InChI=1S/C8H10Cl2O/c1-6(5-9)8(11)4-3-7(2)10/h3...   \n",
       "4        465.404276  InChI=1S/C26H51N5O2/c1-4-5-6-7-8-9-10-11-13-17...   \n",
       "\n",
       "                                            SMILES      Identifier  \\\n",
       "0              CC(=CCC(Cl)C(C)(Br)CCl)C(Cl)C(Br)Br  cs000000019489   \n",
       "1                            CC(Cl)=CCC(O)C(C)=CCl  cs000000019490   \n",
       "2                            CC(Cl)=CCC(O)C(C)=CCl  cs000000019490   \n",
       "3                           CC(Cl)=CCC(=O)C(C)=CCl  cs000000019491   \n",
       "4  CCCCCCCCCCCC(=O)N(CCCCCNC(=N)N)CCCN=C(O)C=C(C)C  cs000000019492   \n",
       "\n",
       "    InChIKey2       InChIKey1 MolecularFormula       kingdom_name  \\\n",
       "0  NVHPAYQLSA  XELJFHNIOKSRIG     C10H14Br3Cl3  Organic compounds   \n",
       "1  UDQYSLBASA  AAGSVSIRUBZUSD        C8H12Cl2O  Organic compounds   \n",
       "2  UDQYSLBASA  AAGSVSIRUBZUSD        C8H12Cl2O  Organic compounds   \n",
       "3  UDQYSLBASA  KZMBQKHKLLQSFJ        C8H10Cl2O  Organic compounds   \n",
       "4  UHFFFAOYSA  MBPMCCICMQJUCL       C26H51N5O2  Organic compounds   \n",
       "\n",
       "                   superclass_name              class_name  \\\n",
       "0          Organohalogen compounds         Organochlorides   \n",
       "1         Organic oxygen compounds  Organooxygen compounds   \n",
       "2         Organic oxygen compounds  Organooxygen compounds   \n",
       "3         Organic oxygen compounds  Organooxygen compounds   \n",
       "4  Lipids and lipid-like molecules             Fatty Acyls   \n",
       "\n",
       "          subclass_name  \n",
       "0                   NaN  \n",
       "1  Alcohols and polyols  \n",
       "2  Alcohols and polyols  \n",
       "3    Carbonyl compounds  \n",
       "4          Fatty amides  "
      ]
     },
     "execution_count": 86,
     "metadata": {},
     "output_type": "execute_result"
    }
   ],
   "source": [
    "marinlit = pd.read_csv('MarinLit_04_03_2018.txt', sep='\\t')\n",
    "\n",
    "marinlit.head()"
   ]
  },
  {
   "cell_type": "code",
   "execution_count": 89,
   "metadata": {},
   "outputs": [
    {
     "data": {
      "text/plain": [
       "(32355, 12)"
      ]
     },
     "execution_count": 89,
     "metadata": {},
     "output_type": "execute_result"
    }
   ],
   "source": [
    "tmp = []\n",
    "\n",
    "for x in marinlit['InChI']:\n",
    "    try:\n",
    "        tmp.append(Chem.InchiToInchiKey(x))\n",
    "    except:\n",
    "        tmp.append('')\n",
    "\n",
    "\n",
    "marinlit['InChIKey'] = tmp\n",
    "marinlit = marinlit[marinlit['InChIKey']!='']\n",
    "\n",
    "marinlit.shape"
   ]
  },
  {
   "cell_type": "code",
   "execution_count": 90,
   "metadata": {},
   "outputs": [
    {
     "data": {
      "text/plain": [
       "29667"
      ]
     },
     "execution_count": 90,
     "metadata": {},
     "output_type": "execute_result"
    }
   ],
   "source": [
    "len(marinlit['InChIKey'].unique())"
   ]
  },
  {
   "cell_type": "markdown",
   "metadata": {},
   "source": [
    "## Comparing databases"
   ]
  },
  {
   "cell_type": "code",
   "execution_count": 91,
   "metadata": {},
   "outputs": [],
   "source": [
    "from matplotlib_venn import venn3, venn3_circles\n",
    "from matplotlib import pyplot as plt"
   ]
  },
  {
   "cell_type": "code",
   "execution_count": 92,
   "metadata": {},
   "outputs": [],
   "source": [
    "?venn3"
   ]
  },
  {
   "cell_type": "code",
   "execution_count": 93,
   "metadata": {},
   "outputs": [
    {
     "data": {
      "image/png": "[encoded data removed]",
      "text/plain": [
       "<Figure size 432x288 with 1 Axes>"
      ]
     },
     "metadata": {},
     "output_type": "display_data"
    }
   ],
   "source": [
    "venn3(subsets = (20, 10, 12, 10, 9, 4, 3), set_labels = ('Group A', 'Group B', 'Group C'), alpha = 0.5);"
   ]
  },
  {
   "cell_type": "code",
   "execution_count": 104,
   "metadata": {},
   "outputs": [
    {
     "data": {
      "image/png": "[encoded data removed]",
      "text/plain": [
       "<Figure size 432x288 with 1 Axes>"
      ]
     },
     "metadata": {},
     "output_type": "display_data"
    }
   ],
   "source": [
    "venn3(subsets = (401618, 9998, 740, 8102, 777, 17963, 2825), set_labels = ('COCONUT', 'CMNPD', 'MarinLit'), alpha = 0.5);"
   ]
  },
  {
   "cell_type": "code",
   "execution_count": 96,
   "metadata": {},
   "outputs": [
    {
     "data": {
      "text/plain": [
       "401618"
      ]
     },
     "execution_count": 96,
     "metadata": {},
     "output_type": "execute_result"
    }
   ],
   "source": [
    "# coconut\n",
    "len(set(coconut['inchikey'])- set(cmnpd)- set(marinlit['InChIKey']))"
   ]
  },
  {
   "cell_type": "code",
   "execution_count": 97,
   "metadata": {},
   "outputs": [
    {
     "data": {
      "text/plain": [
       "9998"
      ]
     },
     "execution_count": 97,
     "metadata": {},
     "output_type": "execute_result"
    }
   ],
   "source": [
    "# cmnpd\n",
    "len(set(cmnpd)-set(coconut['inchikey'])-  set(marinlit['InChIKey']))"
   ]
  },
  {
   "cell_type": "code",
   "execution_count": 98,
   "metadata": {},
   "outputs": [
    {
     "data": {
      "text/plain": [
       "740"
      ]
     },
     "execution_count": 98,
     "metadata": {},
     "output_type": "execute_result"
    }
   ],
   "source": [
    "# cmnpd x coconut\n",
    "len(set(cmnpd).intersection(set(coconut['inchikey']))-  set(marinlit['InChIKey']))"
   ]
  },
  {
   "cell_type": "code",
   "execution_count": 99,
   "metadata": {},
   "outputs": [
    {
     "data": {
      "text/plain": [
       "8102"
      ]
     },
     "execution_count": 99,
     "metadata": {},
     "output_type": "execute_result"
    }
   ],
   "source": [
    "# marinlit\n",
    "len(set(marinlit['InChIKey'])-set(cmnpd)-set(coconut['inchikey']))"
   ]
  },
  {
   "cell_type": "code",
   "execution_count": 100,
   "metadata": {},
   "outputs": [
    {
     "data": {
      "text/plain": [
       "777"
      ]
     },
     "execution_count": 100,
     "metadata": {},
     "output_type": "execute_result"
    }
   ],
   "source": [
    "# marinlit x coconut\n",
    "len(set(marinlit['InChIKey']).intersection(set(coconut['inchikey']))-set(cmnpd))"
   ]
  },
  {
   "cell_type": "code",
   "execution_count": 101,
   "metadata": {},
   "outputs": [
    {
     "data": {
      "text/plain": [
       "17963"
      ]
     },
     "execution_count": 101,
     "metadata": {},
     "output_type": "execute_result"
    }
   ],
   "source": [
    "# marinlit x cmnpd\n",
    "len(set(marinlit['InChIKey']).intersection(set(cmnpd))-set(coconut['inchikey']))"
   ]
  },
  {
   "cell_type": "code",
   "execution_count": 102,
   "metadata": {},
   "outputs": [
    {
     "data": {
      "text/plain": [
       "2825"
      ]
     },
     "execution_count": 102,
     "metadata": {},
     "output_type": "execute_result"
    }
   ],
   "source": [
    "# marinlit x cmnpd x coconut\n",
    "len(set(marinlit['InChIKey']).intersection(set(cmnpd)).intersection(set(coconut['inchikey'])))"
   ]
  },
  {
   "cell_type": "code",
   "execution_count": 105,
   "metadata": {},
   "outputs": [
    {
     "name": "stdout",
     "output_type": "stream",
     "text": [
      "Cloning into 'pyvenn'...\n",
      "remote: Enumerating objects: 39, done.\u001b[K\n",
      "remote: Total 39 (delta 0), reused 0 (delta 0), pack-reused 39\u001b[K\n",
      "Unpacking objects: 100% (39/39), done.\n"
     ]
    }
   ],
   "source": [
    "!git clone https://github.com/tctianchi/pyvenn.git"
   ]
  },
  {
   "cell_type": "code",
   "execution_count": 106,
   "metadata": {},
   "outputs": [],
   "source": [
    "from pyvenn import venn"
   ]
  },
  {
   "cell_type": "code",
   "execution_count": 108,
   "metadata": {},
   "outputs": [
    {
     "data": {
      "image/png": "[encoded data removed]",
      "text/plain": [
       "<Figure size 864x864 with 1 Axes>"
      ]
     },
     "metadata": {
      "needs_background": "light"
     },
     "output_type": "display_data"
    }
   ],
   "source": [
    "labels = venn.get_labels([coconut['inchikey'], cmnpd, marinlit['InChIKey']], \n",
    "                         fill=['number', 'logic'])\n",
    "fig, ax = venn.venn3(labels, names=['COCONUT', 'CMNPD', 'MarinLit'])"
   ]
  },
  {
   "cell_type": "code",
   "execution_count": 139,
   "metadata": {},
   "outputs": [
    {
     "data": {
      "text/html": [
       "<div>\n",
       "<style scoped>\n",
       "    .dataframe tbody tr th:only-of-type {\n",
       "        vertical-align: middle;\n",
       "    }\n",
       "\n",
       "    .dataframe tbody tr th {\n",
       "        vertical-align: top;\n",
       "    }\n",
       "\n",
       "    .dataframe thead th {\n",
       "        text-align: right;\n",
       "    }\n",
       "</style>\n",
       "<table border=\"1\" class=\"dataframe\">\n",
       "  <thead>\n",
       "    <tr style=\"text-align: right;\">\n",
       "      <th></th>\n",
       "      <th>doi</th>\n",
       "      <th>smiles</th>\n",
       "      <th>standardInChIKey</th>\n",
       "      <th>ExactMolWt</th>\n",
       "      <th>pubchem</th>\n",
       "      <th>standardInChI</th>\n",
       "      <th>source</th>\n",
       "    </tr>\n",
       "  </thead>\n",
       "  <tbody>\n",
       "    <tr>\n",
       "      <th>0</th>\n",
       "      <td>Vol32No6_1523_30-AR08438</td>\n",
       "      <td>NaN</td>\n",
       "      <td>LFQSCWFLJHTTHZ-UHFFFAOYSA-N</td>\n",
       "      <td>46.041865</td>\n",
       "      <td>702</td>\n",
       "      <td>InChI=1S/C2H6O/c1-2-3/h3H,2H2,1H3</td>\n",
       "      <td>oscar</td>\n",
       "    </tr>\n",
       "    <tr>\n",
       "      <th>1</th>\n",
       "      <td>Vol32No6_1523_30-AR08438</td>\n",
       "      <td>NaN</td>\n",
       "      <td>FAPWRFPIFSIZLT-UHFFFAOYSA-M</td>\n",
       "      <td>57.958622</td>\n",
       "      <td>5234</td>\n",
       "      <td>InChI=1S/ClH.Na/h1H;/q;+1/p-1</td>\n",
       "      <td>oscar</td>\n",
       "    </tr>\n",
       "    <tr>\n",
       "      <th>2</th>\n",
       "      <td>Vol32No6_1523_30-AR08438</td>\n",
       "      <td>NaN</td>\n",
       "      <td>HEDRZPFGACZZDS-UHFFFAOYSA-N</td>\n",
       "      <td>117.914383</td>\n",
       "      <td>6212</td>\n",
       "      <td>InChI=1S/CHCl3/c2-1(3)4/h1H</td>\n",
       "      <td>oscar</td>\n",
       "    </tr>\n",
       "    <tr>\n",
       "      <th>3</th>\n",
       "      <td>Vol32No6_1523_30-AR08438</td>\n",
       "      <td>NaN</td>\n",
       "      <td>VLKZOEOYAKHREP-UHFFFAOYSA-N</td>\n",
       "      <td>86.109550</td>\n",
       "      <td>8058</td>\n",
       "      <td>InChI=1S/C6H14/c1-3-5-6-4-2/h3-6H2,1-2H3</td>\n",
       "      <td>oscar</td>\n",
       "    </tr>\n",
       "    <tr>\n",
       "      <th>4</th>\n",
       "      <td>NT20170010</td>\n",
       "      <td>NaN</td>\n",
       "      <td>PXHVJJICTQNCMI-UHFFFAOYSA-N</td>\n",
       "      <td>57.935343</td>\n",
       "      <td>935</td>\n",
       "      <td>InChI=1S/Ni</td>\n",
       "      <td>oscar</td>\n",
       "    </tr>\n",
       "  </tbody>\n",
       "</table>\n",
       "</div>"
      ],
      "text/plain": [
       "                        doi smiles             standardInChIKey  ExactMolWt  \\\n",
       "0  Vol32No6_1523_30-AR08438    NaN  LFQSCWFLJHTTHZ-UHFFFAOYSA-N   46.041865   \n",
       "1  Vol32No6_1523_30-AR08438    NaN  FAPWRFPIFSIZLT-UHFFFAOYSA-M   57.958622   \n",
       "2  Vol32No6_1523_30-AR08438    NaN  HEDRZPFGACZZDS-UHFFFAOYSA-N  117.914383   \n",
       "3  Vol32No6_1523_30-AR08438    NaN  VLKZOEOYAKHREP-UHFFFAOYSA-N   86.109550   \n",
       "4                NT20170010    NaN  PXHVJJICTQNCMI-UHFFFAOYSA-N   57.935343   \n",
       "\n",
       "  pubchem                             standardInChI source  \n",
       "0     702         InChI=1S/C2H6O/c1-2-3/h3H,2H2,1H3  oscar  \n",
       "1    5234             InChI=1S/ClH.Na/h1H;/q;+1/p-1  oscar  \n",
       "2    6212               InChI=1S/CHCl3/c2-1(3)4/h1H  oscar  \n",
       "3    8058  InChI=1S/C6H14/c1-3-5-6-4-2/h3-6H2,1-2H3  oscar  \n",
       "4     935                               InChI=1S/Ni  oscar  "
      ]
     },
     "execution_count": 139,
     "metadata": {},
     "output_type": "execute_result"
    }
   ],
   "source": [
    "qn = pd.read_csv('entities_img_dataframe_qn.tsv', sep='\\t')\n",
    "qn.head()"
   ]
  },
  {
   "cell_type": "code",
   "execution_count": 140,
   "metadata": {},
   "outputs": [
    {
     "data": {
      "text/plain": [
       "17946"
      ]
     },
     "execution_count": 140,
     "metadata": {},
     "output_type": "execute_result"
    }
   ],
   "source": [
    "len(qn['standardInChIKey'].unique())"
   ]
  },
  {
   "cell_type": "code",
   "execution_count": 141,
   "metadata": {},
   "outputs": [
    {
     "data": {
      "text/plain": [
       "442023"
      ]
     },
     "execution_count": 141,
     "metadata": {},
     "output_type": "execute_result"
    }
   ],
   "source": [
    "len(set(coconut['inchikey'].tolist()+cmnpd+marinlit['InChIKey'].tolist()))"
   ]
  },
  {
   "cell_type": "code",
   "execution_count": 142,
   "metadata": {},
   "outputs": [
    {
     "data": {
      "text/plain": [
       "157"
      ]
     },
     "execution_count": 142,
     "metadata": {},
     "output_type": "execute_result"
    }
   ],
   "source": [
    "len(set(cmnpd+marinlit['InChIKey'].tolist()).intersection(qn['standardInChIKey']))"
   ]
  },
  {
   "cell_type": "code",
   "execution_count": 150,
   "metadata": {},
   "outputs": [],
   "source": [
    "from matplotlib.backends.backend_pdf import PdfPages\n",
    "\n",
    "with PdfPages('marine_natural_product_comparison_nologic.pdf') as pdf:\n",
    "    labels = venn.get_labels([coconut['inchikey'], cmnpd, marinlit['InChIKey']], \n",
    "                         fill=['number'])\n",
    "    fig, ax = venn.venn3(labels, names=['COCONUT', 'CMNPD', 'MarinLit'])\n",
    "    pdf.savefig()  # saves the current figure into a pdf page\n",
    "    plt.close()"
   ]
  },
  {
   "cell_type": "code",
   "execution_count": 143,
   "metadata": {},
   "outputs": [
    {
     "data": {
      "text/html": [
       "<div>\n",
       "<style scoped>\n",
       "    .dataframe tbody tr th:only-of-type {\n",
       "        vertical-align: middle;\n",
       "    }\n",
       "\n",
       "    .dataframe tbody tr th {\n",
       "        vertical-align: top;\n",
       "    }\n",
       "\n",
       "    .dataframe thead th {\n",
       "        text-align: right;\n",
       "    }\n",
       "</style>\n",
       "<table border=\"1\" class=\"dataframe\">\n",
       "  <thead>\n",
       "    <tr style=\"text-align: right;\">\n",
       "      <th></th>\n",
       "      <th>doi</th>\n",
       "      <th>pubchem</th>\n",
       "      <th>ExactMolWt</th>\n",
       "      <th>smiles</th>\n",
       "    </tr>\n",
       "  </thead>\n",
       "  <tbody>\n",
       "    <tr>\n",
       "      <th>0</th>\n",
       "      <td>Vol35No11_2186_15-AR12464</td>\n",
       "      <td>126</td>\n",
       "      <td>122.036779</td>\n",
       "      <td>O=Cc1ccc(O)cc1</td>\n",
       "    </tr>\n",
       "    <tr>\n",
       "      <th>1</th>\n",
       "      <td>Vol32No1_198_34-RV08098</td>\n",
       "      <td>5280435</td>\n",
       "      <td>296.307916</td>\n",
       "      <td>CC(=CCO)CCCC(C)CCCC(C)CCCC(C)C</td>\n",
       "    </tr>\n",
       "    <tr>\n",
       "      <th>2</th>\n",
       "      <td>Vol32No1_198_34-RV08098</td>\n",
       "      <td>5280961</td>\n",
       "      <td>270.052823</td>\n",
       "      <td>O=c1c(-c2ccc(O)cc2)coc2cc(O)cc(O)c12</td>\n",
       "    </tr>\n",
       "    <tr>\n",
       "      <th>3</th>\n",
       "      <td>Vol33No5_1163_29-RV09590</td>\n",
       "      <td>81184</td>\n",
       "      <td>152.131349</td>\n",
       "      <td>C1CCC2=NCCCN2CC1</td>\n",
       "    </tr>\n",
       "    <tr>\n",
       "      <th>4</th>\n",
       "      <td>Vol29No3_452_08-AR05036</td>\n",
       "      <td>173183</td>\n",
       "      <td>400.370516</td>\n",
       "      <td>CC(C)C(C)CCC(C)C1CCC2C3CC=C4CC(O)CCC4(C)C3CCC12C</td>\n",
       "    </tr>\n",
       "  </tbody>\n",
       "</table>\n",
       "</div>"
      ],
      "text/plain": [
       "                         doi  pubchem  ExactMolWt  \\\n",
       "0  Vol35No11_2186_15-AR12464      126  122.036779   \n",
       "1    Vol32No1_198_34-RV08098  5280435  296.307916   \n",
       "2    Vol32No1_198_34-RV08098  5280961  270.052823   \n",
       "3   Vol33No5_1163_29-RV09590    81184  152.131349   \n",
       "4    Vol29No3_452_08-AR05036   173183  400.370516   \n",
       "\n",
       "                                             smiles  \n",
       "0                                    O=Cc1ccc(O)cc1  \n",
       "1                    CC(=CCO)CCCC(C)CCCC(C)CCCC(C)C  \n",
       "2              O=c1c(-c2ccc(O)cc2)coc2cc(O)cc(O)c12  \n",
       "3                                  C1CCC2=NCCCN2CC1  \n",
       "4  CC(C)C(C)CCC(C)C1CCC2C3CC=C4CC(O)CCC4(C)C3CCC12C  "
      ]
     },
     "execution_count": 143,
     "metadata": {},
     "output_type": "execute_result"
    }
   ],
   "source": [
    "qn_print = qn.loc[qn['standardInChIKey'].isin(cmnpd+marinlit['InChIKey'].tolist()), \n",
    "                  ['doi', 'pubchem', 'ExactMolWt', 'standardInChI', 'smiles']]\n",
    "\n",
    "smiles = []\n",
    "for x in qn_print['standardInChI']:\n",
    "    try:\n",
    "        smiles.append(Chem.MolToSmiles(Chem.MolFromInchi(x)))\n",
    "    except:\n",
    "        smiles.append('')\n",
    "    \n",
    "qn_print['smiles'] = smiles\n",
    "\n",
    "qn_print = qn_print[qn_print['smiles']!='']\n",
    "\n",
    "qn_print.drop(['standardInChI'], axis=1, inplace=True)\n",
    "qn_print.reset_index(drop=True, inplace=True)\n",
    "qn_print.head()"
   ]
  },
  {
   "cell_type": "markdown",
   "metadata": {},
   "source": [
    "## Study case example _NPMINE_"
   ]
  },
  {
   "cell_type": "code",
   "execution_count": 304,
   "metadata": {},
   "outputs": [
    {
     "data": {
      "text/plain": [
       "50"
      ]
     },
     "execution_count": 304,
     "metadata": {},
     "output_type": "execute_result"
    }
   ],
   "source": [
    "qn_print = pd.read_csv('review_newman.tsv', sep='\\t')\n",
    "\n",
    "len(set(cmnpd+marinlit['InChIKey'].tolist()).intersection(qn_print['standardInChIKey']))"
   ]
  },
  {
   "cell_type": "code",
   "execution_count": 191,
   "metadata": {},
   "outputs": [
    {
     "data": {
      "text/plain": [
       "323"
      ]
     },
     "execution_count": 191,
     "metadata": {},
     "output_type": "execute_result"
    }
   ],
   "source": [
    "len(qn_print['smiles'].unique())"
   ]
  },
  {
   "cell_type": "code",
   "execution_count": 192,
   "metadata": {},
   "outputs": [
    {
     "data": {
      "text/html": [
       "<div>\n",
       "<style scoped>\n",
       "    .dataframe tbody tr th:only-of-type {\n",
       "        vertical-align: middle;\n",
       "    }\n",
       "\n",
       "    .dataframe tbody tr th {\n",
       "        vertical-align: top;\n",
       "    }\n",
       "\n",
       "    .dataframe thead th {\n",
       "        text-align: right;\n",
       "    }\n",
       "</style>\n",
       "<table border=\"1\" class=\"dataframe\">\n",
       "  <thead>\n",
       "    <tr style=\"text-align: right;\">\n",
       "      <th></th>\n",
       "      <th>doi</th>\n",
       "      <th>pubchem</th>\n",
       "      <th>ExactMolWt</th>\n",
       "      <th>smiles</th>\n",
       "      <th>Structure</th>\n",
       "    </tr>\n",
       "  </thead>\n",
       "  <tbody>\n",
       "    <tr>\n",
       "      <th>0</th>\n",
       "      <td>pdfs/10.21577_0103-5053.20180016</td>\n",
       "      <td>7074739</td>\n",
       "      <td>210.136828</td>\n",
       "      <td>CC(C[C@@H]1NC(=O)[C@H]2N(C1=O)CCC2)C</td>\n",
       "      <td></td>\n",
       "    </tr>\n",
       "    <tr>\n",
       "      <th>1</th>\n",
       "      <td>pdfs/10.21577_0103-5053.20180016</td>\n",
       "      <td>0</td>\n",
       "      <td>243.113353</td>\n",
       "      <td>*[C@@H]1C[C@@H]2N(C1)C(=O)[C@@H](NC2=O)Cc1ccccc1</td>\n",
       "      <td></td>\n",
       "    </tr>\n",
       "    <tr>\n",
       "      <th>2</th>\n",
       "      <td>pdfs/10.21577_0103-5053.20180016</td>\n",
       "      <td>181567</td>\n",
       "      <td>283.132077</td>\n",
       "      <td>O=C1N[C@@H](Cc2c[nH]c3c2cccc3)C(=O)N2[C@H]1CCC2</td>\n",
       "      <td></td>\n",
       "    </tr>\n",
       "    <tr>\n",
       "      <th>3</th>\n",
       "      <td>pdfs/10.21577_0103-5053.20180016</td>\n",
       "      <td>153274519</td>\n",
       "      <td>323.199762</td>\n",
       "      <td>CCCCCC1=C/C(=C/c2[nH]c(cc2OC)c2ccc[nH]2)/N=C1C</td>\n",
       "      <td></td>\n",
       "    </tr>\n",
       "    <tr>\n",
       "      <th>4</th>\n",
       "      <td>pdfs/10.21577_0103-5053.20180016</td>\n",
       "      <td>0</td>\n",
       "      <td>393.300485</td>\n",
       "      <td>O[C@H]1CCC[C@@H](*)[C@@H]2[C@@H]([C@H](CC1)C)C...</td>\n",
       "      <td></td>\n",
       "    </tr>\n",
       "  </tbody>\n",
       "</table>\n",
       "</div>"
      ],
      "text/plain": [
       "                                doi    pubchem  ExactMolWt  \\\n",
       "0  pdfs/10.21577_0103-5053.20180016    7074739  210.136828   \n",
       "1  pdfs/10.21577_0103-5053.20180016          0  243.113353   \n",
       "2  pdfs/10.21577_0103-5053.20180016     181567  283.132077   \n",
       "3  pdfs/10.21577_0103-5053.20180016  153274519  323.199762   \n",
       "4  pdfs/10.21577_0103-5053.20180016          0  393.300485   \n",
       "\n",
       "                                              smiles Structure  \n",
       "0               CC(C[C@@H]1NC(=O)[C@H]2N(C1=O)CCC2)C            \n",
       "1   *[C@@H]1C[C@@H]2N(C1)C(=O)[C@@H](NC2=O)Cc1ccccc1            \n",
       "2    O=C1N[C@@H](Cc2c[nH]c3c2cccc3)C(=O)N2[C@H]1CCC2            \n",
       "3     CCCCCC1=C/C(=C/c2[nH]c(cc2OC)c2ccc[nH]2)/N=C1C            \n",
       "4  O[C@H]1CCC[C@@H](*)[C@@H]2[C@@H]([C@H](CC1)C)C...            "
      ]
     },
     "execution_count": 192,
     "metadata": {},
     "output_type": "execute_result"
    }
   ],
   "source": [
    "qn_print = qn_print[['doi', 'pubchem', 'ExactMolWt', 'smiles']]\n",
    "qn_print['Structure'] = ''\n",
    "\n",
    "qn_print.head()"
   ]
  },
  {
   "cell_type": "code",
   "execution_count": 193,
   "metadata": {},
   "outputs": [
    {
     "data": {
      "text/plain": [
       "(330, 5)"
      ]
     },
     "execution_count": 193,
     "metadata": {},
     "output_type": "execute_result"
    }
   ],
   "source": [
    "qn_print.shape"
   ]
  },
  {
   "cell_type": "code",
   "execution_count": 194,
   "metadata": {},
   "outputs": [
    {
     "data": {
      "text/plain": [
       "323"
      ]
     },
     "execution_count": 194,
     "metadata": {},
     "output_type": "execute_result"
    }
   ],
   "source": [
    "len(qn_print['smiles'].unique())"
   ]
  },
  {
   "cell_type": "code",
   "execution_count": 173,
   "metadata": {},
   "outputs": [],
   "source": [
    "import json\n",
    "\n",
    "with open('doi_quim.json') as f:\n",
    "    dois = json.load(f)"
   ]
  },
  {
   "cell_type": "code",
   "execution_count": 128,
   "metadata": {},
   "outputs": [
    {
     "data": {
      "text/plain": [
       "8124"
      ]
     },
     "execution_count": 128,
     "metadata": {},
     "output_type": "execute_result"
    }
   ],
   "source": [
    "len(dois)"
   ]
  },
  {
   "cell_type": "code",
   "execution_count": 130,
   "metadata": {},
   "outputs": [
    {
     "data": {
      "text/plain": [
       "['http://www.quimicanova.sbq.org.br/audiencia_pdf.asp?aid2=1&nomeArquivo=sumario-37-2.pdf',\n",
       " 'http://www.quimicanova.sbq.org.br/audiencia_pdf.asp?aid2=1&nomeArquivo=v37n2a01.pdf',\n",
       " 'http://www.quimicanova.sbq.org.br/audiencia_pdf.asp?aid2=2&nomeArquivo=v37n2a02.pdf',\n",
       " 'http://www.quimicanova.sbq.org.br/audiencia_pdf.asp?aid2=3&nomeArquivo=v37n2a03.pdf',\n",
       " 'http://www.quimicanova.sbq.org.br/audiencia_pdf.asp?aid2=4&nomeArquivo=v37n2a04.pdf',\n",
       " 'http://www.quimicanova.sbq.org.br/audiencia_pdf.asp?aid2=5&nomeArquivo=v37n2a05.pdf',\n",
       " 'http://www.quimicanova.sbq.org.br/audiencia_pdf.asp?aid2=6&nomeArquivo=v37n2a06.pdf',\n",
       " 'http://www.quimicanova.sbq.org.br/audiencia_pdf.asp?aid2=7&nomeArquivo=v37n2a07.pdf',\n",
       " 'http://www.quimicanova.sbq.org.br/audiencia_pdf.asp?aid2=8&nomeArquivo=v37n2a08.pdf',\n",
       " 'http://www.quimicanova.sbq.org.br/audiencia_pdf.asp?aid2=9&nomeArquivo=v37n2a09.pdf',\n",
       " 'http://www.quimicanova.sbq.org.br/audiencia_pdf.asp?aid2=10&nomeArquivo=v37n2a10.pdf',\n",
       " 'http://www.quimicanova.sbq.org.br/audiencia_pdf.asp?aid2=11&nomeArquivo=v37n2a11.pdf',\n",
       " 'http://www.quimicanova.sbq.org.br/audiencia_pdf.asp?aid2=12&nomeArquivo=v37n2a12.pdf',\n",
       " 'http://www.quimicanova.sbq.org.br/audiencia_pdf.asp?aid2=12&nomeArquivo=v37n2a12-Supl01.pdf',\n",
       " 'http://www.quimicanova.sbq.org.br/audiencia_pdf.asp?aid2=13&nomeArquivo=v37n2a13.pdf',\n",
       " 'http://www.quimicanova.sbq.org.br/audiencia_pdf.asp?aid2=13&nomeArquivo=v37n2a13-Supl01.pdf',\n",
       " 'http://www.quimicanova.sbq.org.br/audiencia_pdf.asp?aid2=14&nomeArquivo=v37n2a14.pdf',\n",
       " 'http://www.quimicanova.sbq.org.br/audiencia_pdf.asp?aid2=15&nomeArquivo=v37n2a15.pdf',\n",
       " 'http://www.quimicanova.sbq.org.br/audiencia_pdf.asp?aid2=15&nomeArquivo=v37n2a15-Supl01.pdf',\n",
       " 'http://www.quimicanova.sbq.org.br/audiencia_pdf.asp?aid2=16&nomeArquivo=v37n2a16.pdf',\n",
       " 'http://www.quimicanova.sbq.org.br/audiencia_pdf.asp?aid2=16&nomeArquivo=v37n2a16-Supl01.pdf',\n",
       " 'http://www.quimicanova.sbq.org.br/audiencia_pdf.asp?aid2=17&nomeArquivo=v37n2a17.pdf',\n",
       " 'http://www.quimicanova.sbq.org.br/audiencia_pdf.asp?aid2=18&nomeArquivo=v37n2a18.pdf',\n",
       " 'http://www.quimicanova.sbq.org.br/audiencia_pdf.asp?aid2=19&nomeArquivo=v37n2a19.pdf',\n",
       " 'http://www.quimicanova.sbq.org.br/audiencia_pdf.asp?aid2=20&nomeArquivo=v37n2a20.pdf',\n",
       " 'http://www.quimicanova.sbq.org.br/audiencia_pdf.asp?aid2=21&nomeArquivo=v37n2a21.pdf',\n",
       " 'http://www.quimicanova.sbq.org.br/audiencia_pdf.asp?aid2=22&nomeArquivo=v37n2a22.pdf',\n",
       " 'http://www.quimicanova.sbq.org.br/audiencia_pdf.asp?aid2=23&nomeArquivo=v37n2a23.pdf',\n",
       " 'http://www.quimicanova.sbq.org.br/audiencia_pdf.asp?aid2=24&nomeArquivo=v37n2a24.pdf',\n",
       " 'http://www.quimicanova.sbq.org.br/audiencia_pdf.asp?aid2=24&nomeArquivo=v37n2a24-Supl01.pdf',\n",
       " 'http://www.quimicanova.sbq.org.br/audiencia_pdf.asp?aid2=25&nomeArquivo=v37n2a25.pdf',\n",
       " 'http://www.quimicanova.sbq.org.br/audiencia_pdf.asp?aid2=26&nomeArquivo=v37n2a26.pdf',\n",
       " 'http://www.quimicanova.sbq.org.br/audiencia_pdf.asp?aid2=27&nomeArquivo=v37n2a27.pdf',\n",
       " 'http://www.quimicanova.sbq.org.br/audiencia_pdf.asp?aid2=28&nomeArquivo=v37n2a28.pdf',\n",
       " 'http://www.quimicanova.sbq.org.br/audiencia_pdf.asp?aid2=29&nomeArquivo=v37n2a29.pdf',\n",
       " 'http://www.quimicanova.sbq.org.br/audiencia_pdf.asp?aid2=30&nomeArquivo=v37n2a30.pdf',\n",
       " 'http://www.quimicanova.sbq.org.br/audiencia_pdf.asp?aid2=10&nomeArquivo=00a-sumario32-7.pdf',\n",
       " 'http://www.quimicanova.sbq.org.br/audiencia_pdf.asp?aid2=287&nomeArquivo=Vol32No7_1691_00b-editorial32-7.pdf',\n",
       " 'http://www.quimicanova.sbq.org.br/audiencia_pdf.asp?aid2=293&nomeArquivo=Vol32No7_1693_01-AR08071.pdf',\n",
       " 'http://www.quimicanova.sbq.org.br/audiencia_pdf.asp?aid2=295&nomeArquivo=Vol32No7_1698_02-AR08188.pdf',\n",
       " 'http://www.quimicanova.sbq.org.br/audiencia_pdf.asp?aid2=299&nomeArquivo=Vol32No7_1704_03-AR08208.pdf',\n",
       " 'http://www.quimicanova.sbq.org.br/audiencia_pdf.asp?aid2=299&nomeArquivo=Vol32No7_1704_99-AR08208MS.pdf',\n",
       " 'http://www.quimicanova.sbq.org.br/audiencia_pdf.asp?aid2=304&nomeArquivo=Vol32No7_1710_04-AR08231.pdf',\n",
       " 'http://www.quimicanova.sbq.org.br/audiencia_pdf.asp?aid2=306&nomeArquivo=Vol32No7_1713_05-AR08288.pdf',\n",
       " 'http://www.quimicanova.sbq.org.br/audiencia_pdf.asp?aid2=307&nomeArquivo=Vol32No7_1717_06-AR08305.pdf',\n",
       " 'http://www.quimicanova.sbq.org.br/audiencia_pdf.asp?aid2=307&nomeArquivo=Vol32No7_1717_99-AR08305MS.pdf',\n",
       " 'http://www.quimicanova.sbq.org.br/audiencia_pdf.asp?aid2=311&nomeArquivo=Vol32No7_1723_07-AR08322.pdf',\n",
       " 'http://www.quimicanova.sbq.org.br/audiencia_pdf.asp?aid2=311&nomeArquivo=Vol32No7_1723_99-AR08322MS.pdf',\n",
       " 'http://www.quimicanova.sbq.org.br/audiencia_pdf.asp?aid2=315&nomeArquivo=Vol32No7_1727_08-AR08326.pdf',\n",
       " 'http://www.quimicanova.sbq.org.br/audiencia_pdf.asp?aid2=315&nomeArquivo=Vol32No7_1727_99-AR08326MS.pdf',\n",
       " 'http://www.quimicanova.sbq.org.br/audiencia_pdf.asp?aid2=321&nomeArquivo=Vol32No7_1734_09-AR08352.pdf',\n",
       " 'http://www.quimicanova.sbq.org.br/audiencia_pdf.asp?aid2=321&nomeArquivo=Vol32No7_1734_99-AR08352MS.pdf',\n",
       " 'http://www.quimicanova.sbq.org.br/audiencia_pdf.asp?aid2=327&nomeArquivo=Vol32No7_1739_10-AR08355.pdf',\n",
       " 'http://www.quimicanova.sbq.org.br/audiencia_pdf.asp?aid2=331&nomeArquivo=Vol32No7_1744_11-AR08362.pdf',\n",
       " 'http://www.quimicanova.sbq.org.br/audiencia_pdf.asp?aid2=331&nomeArquivo=Vol32No7_1744_99-AR08362MS.pdf',\n",
       " 'http://www.quimicanova.sbq.org.br/audiencia_pdf.asp?aid2=336&nomeArquivo=Vol32No7_1750_12-AR08369.pdf',\n",
       " 'http://www.quimicanova.sbq.org.br/audiencia_pdf.asp?aid2=341&nomeArquivo=Vol32No7_1755_13-AR08414.pdf',\n",
       " 'http://www.quimicanova.sbq.org.br/audiencia_pdf.asp?aid2=345&nomeArquivo=Vol32No7_1760_14-AR08415.pdf',\n",
       " 'http://www.quimicanova.sbq.org.br/audiencia_pdf.asp?aid2=349&nomeArquivo=Vol32No7_1764_15-AR08420.pdf',\n",
       " 'http://www.quimicanova.sbq.org.br/audiencia_pdf.asp?aid2=349&nomeArquivo=Vol32No7_1764_99-AR08420MS.pdf',\n",
       " 'http://www.quimicanova.sbq.org.br/audiencia_pdf.asp?aid2=353&nomeArquivo=Vol32No7_1770_16-AR08427.pdf',\n",
       " 'http://www.quimicanova.sbq.org.br/audiencia_pdf.asp?aid2=353&nomeArquivo=Vol32No7_1770_99-AR08427MS.pdf',\n",
       " 'http://www.quimicanova.sbq.org.br/audiencia_pdf.asp?aid2=356&nomeArquivo=Vol32No7_1777_17-AR08434.pdf',\n",
       " 'http://www.quimicanova.sbq.org.br/audiencia_pdf.asp?aid2=356&nomeArquivo=Vol32No7_1777_99-AR08434MS.pdf',\n",
       " 'http://www.quimicanova.sbq.org.br/audiencia_pdf.asp?aid2=361&nomeArquivo=Vol32No7_1782_18-AR08437.pdf',\n",
       " 'http://www.quimicanova.sbq.org.br/audiencia_pdf.asp?aid2=361&nomeArquivo=Vol32No7_1782_99-AR08437MS.pdf',\n",
       " 'http://www.quimicanova.sbq.org.br/audiencia_pdf.asp?aid2=365&nomeArquivo=Vol32No7_1787_19-AR08439.pdf',\n",
       " 'http://www.quimicanova.sbq.org.br/audiencia_pdf.asp?aid2=367&nomeArquivo=Vol32No7_1792_20-AR08447.pdf',\n",
       " 'http://www.quimicanova.sbq.org.br/audiencia_pdf.asp?aid2=375&nomeArquivo=Vol32No7_1799_21-AR08450.pdf',\n",
       " 'http://www.quimicanova.sbq.org.br/audiencia_pdf.asp?aid2=377&nomeArquivo=Vol32No7_1805_22-AR08496.pdf',\n",
       " 'http://www.quimicanova.sbq.org.br/audiencia_pdf.asp?aid2=377&nomeArquivo=Vol32No7_1805_99-AR08496MS.pdf',\n",
       " 'http://www.quimicanova.sbq.org.br/audiencia_pdf.asp?aid2=380&nomeArquivo=Vol32No7_1812_23-AR08499.pdf',\n",
       " 'http://www.quimicanova.sbq.org.br/audiencia_pdf.asp?aid2=380&nomeArquivo=Vol32No7_1812_99-AR08499MS.pdf',\n",
       " 'http://www.quimicanova.sbq.org.br/audiencia_pdf.asp?aid2=384&nomeArquivo=Vol32No7_1818_24-AR08514.pdf',\n",
       " 'http://www.quimicanova.sbq.org.br/audiencia_pdf.asp?aid2=384&nomeArquivo=Vol32No7_1818_99-AR08514MS.pdf',\n",
       " 'http://www.quimicanova.sbq.org.br/audiencia_pdf.asp?aid2=389&nomeArquivo=Vol32No7_1822_25-AR08523.pdf',\n",
       " 'http://www.quimicanova.sbq.org.br/audiencia_pdf.asp?aid2=393&nomeArquivo=Vol32No7_1829_26-AR08531.pdf',\n",
       " 'http://www.quimicanova.sbq.org.br/audiencia_pdf.asp?aid2=400&nomeArquivo=Vol32No7_1834_27-AR08569.pdf',\n",
       " 'http://www.quimicanova.sbq.org.br/audiencia_pdf.asp?aid2=405&nomeArquivo=Vol32No7_1839_28-AR08583.pdf',\n",
       " 'http://www.quimicanova.sbq.org.br/audiencia_pdf.asp?aid2=405&nomeArquivo=Vol32No7_1839_99-AR08583MS.pdf',\n",
       " 'http://www.quimicanova.sbq.org.br/audiencia_pdf.asp?aid2=410&nomeArquivo=Vol32No7_1845_29-AR08613.pdf',\n",
       " 'http://www.quimicanova.sbq.org.br/audiencia_pdf.asp?aid2=410&nomeArquivo=Vol32No7_1845_99-AR08613MS.pdf',\n",
       " 'http://www.quimicanova.sbq.org.br/audiencia_pdf.asp?aid2=425&nomeArquivo=Vol32No7_1850_30-AR08621.pdf',\n",
       " 'http://www.quimicanova.sbq.org.br/audiencia_pdf.asp?aid2=428&nomeArquivo=Vol32No7_1856_31-AR09006.pdf',\n",
       " 'http://www.quimicanova.sbq.org.br/audiencia_pdf.asp?aid2=432&nomeArquivo=Vol32No7_1860_32-RV08203.pdf',\n",
       " 'http://www.quimicanova.sbq.org.br/audiencia_pdf.asp?aid2=435&nomeArquivo=Vol32No7_1871_33-RV08416.pdf',\n",
       " 'http://www.quimicanova.sbq.org.br/audiencia_pdf.asp?aid2=435&nomeArquivo=Vol32No7_1871_99-RV08416MS.pdf',\n",
       " 'http://www.quimicanova.sbq.org.br/audiencia_pdf.asp?aid2=437&nomeArquivo=Vol32No7_1885_34-RV08451.pdf',\n",
       " 'http://www.quimicanova.sbq.org.br/audiencia_pdf.asp?aid2=440&nomeArquivo=Vol32No7_1898_35-RV08500.pdf',\n",
       " 'http://www.quimicanova.sbq.org.br/audiencia_pdf.asp?aid2=443&nomeArquivo=Vol32No7_1910_36-RV08611.pdf',\n",
       " 'http://www.quimicanova.sbq.org.br/audiencia_pdf.asp?aid2=445&nomeArquivo=Vol32No7_1917_37-RV08634.pdf',\n",
       " 'http://www.quimicanova.sbq.org.br/audiencia_pdf.asp?aid2=450&nomeArquivo=Vol32No7_1926_38-RV08690.pdf',\n",
       " 'http://www.quimicanova.sbq.org.br/audiencia_pdf.asp?aid2=453&nomeArquivo=Vol32No7_1934_39-NT08301.pdf',\n",
       " 'http://www.quimicanova.sbq.org.br/audiencia_pdf.asp?aid2=456&nomeArquivo=Vol32No7_1939_40-NT08429.pdf',\n",
       " 'http://www.quimicanova.sbq.org.br/audiencia_pdf.asp?aid2=457&nomeArquivo=Vol32No7_1943_41-NT08519.pdf',\n",
       " 'http://www.quimicanova.sbq.org.br/audiencia_pdf.asp?aid2=461&nomeArquivo=Vol32No7_1947_42-NT08520.pdf',\n",
       " 'http://www.quimicanova.sbq.org.br/audiencia_pdf.asp?aid2=465&nomeArquivo=Vol32No7_1951_43-NT08530.pdf',\n",
       " 'http://www.quimicanova.sbq.org.br/audiencia_pdf.asp?aid2=466&nomeArquivo=Vol32No7_1956_44-NT08568.pdf',\n",
       " 'http://www.quimicanova.sbq.org.br/audiencia_pdf.asp?aid2=469&nomeArquivo=Vol32No7_1961_45-ED08431.pdf',\n",
       " 'http://www.quimicanova.sbq.org.br/audiencia_pdf.asp?aid2=470&nomeArquivo=Vol32No7_1965_46-ED08515.pdf',\n",
       " 'http://www.quimicanova.sbq.org.br/audiencia_pdf.asp?aid2=471&nomeArquivo=Vol32No7_1971_47-AG08646.pdf',\n",
       " 'http://www.quimicanova.sbq.org.br/audiencia_pdf.asp?aid2=473&nomeArquivo=Vol32No7_1975_48-AG08674.pdf',\n",
       " 'http://www.quimicanova.sbq.org.br/audiencia_pdf.asp?aid2=476&nomeArquivo=Vol32No7_1981_49-CE09394.pdf',\n",
       " 'http://www.quimicanova.sbq.org.br/audiencia_pdf.asp?aid2=100&nomeArquivo=v05_n2_ 00-sumario.pdf',\n",
       " 'http://www.quimicanova.sbq.org.br/audiencia_pdf.asp?aid2=2779&nomeArquivo=Vol5No2_34_v05_n2_(1).pdf',\n",
       " 'http://www.quimicanova.sbq.org.br/audiencia_pdf.asp?aid2=2782&nomeArquivo=Vol5No2_36_v05_n2_(2).pdf',\n",
       " 'http://www.quimicanova.sbq.org.br/audiencia_pdf.asp?aid2=2784&nomeArquivo=Vol5No2_37_v05_n2_(3).pdf',\n",
       " 'http://www.quimicanova.sbq.org.br/audiencia_pdf.asp?aid2=2788&nomeArquivo=Vol5No2_38_v05_n2_(4).pdf',\n",
       " 'http://www.quimicanova.sbq.org.br/audiencia_pdf.asp?aid2=2790&nomeArquivo=Vol5No2_43_v05_n2_(5).pdf',\n",
       " 'http://www.quimicanova.sbq.org.br/audiencia_pdf.asp?aid2=2793&nomeArquivo=Vol5No2_51_v05_n2_(6).pdf',\n",
       " 'http://www.quimicanova.sbq.org.br/audiencia_pdf.asp?aid2=2796&nomeArquivo=Vol5No2_53_v05_n2_(7).pdf',\n",
       " 'http://www.quimicanova.sbq.org.br/audiencia_pdf.asp?aid2=2798&nomeArquivo=Vol5No2_54_v05_n2_(8).pdf',\n",
       " 'http://www.quimicanova.sbq.org.br/audiencia_pdf.asp?aid2=2800&nomeArquivo=Vol5No2_54_v05_n2_(8).pdf',\n",
       " 'http://www.quimicanova.sbq.org.br/audiencia_pdf.asp?aid2=2803&nomeArquivo=Vol5No2_54_v05_n2_(8).pdf',\n",
       " 'http://www.quimicanova.sbq.org.br/audiencia_pdf.asp?aid2=2807&nomeArquivo=Vol5No2_55_v05_n2_(9)-editorial.pdf',\n",
       " 'http://www.quimicanova.sbq.org.br/audiencia_pdf.asp?aid2=101&nomeArquivo=00a-sumario36-5.pdf',\n",
       " 'http://www.quimicanova.sbq.org.br/audiencia_pdf.asp?aid2=2816&nomeArquivo=Vol36No5_621_00b-editorial36-5.pdf',\n",
       " 'http://www.quimicanova.sbq.org.br/audiencia_pdf.asp?aid2=2820&nomeArquivo=Vol36No5_623_01-AR12521.pdf',\n",
       " 'http://www.quimicanova.sbq.org.br/audiencia_pdf.asp?aid2=2824&nomeArquivo=Vol36No5_628_02-AR12547.pdf',\n",
       " 'http://www.quimicanova.sbq.org.br/audiencia_pdf.asp?aid2=2826&nomeArquivo=Vol36No5_634_03-AR12550.pdf',\n",
       " 'http://www.quimicanova.sbq.org.br/audiencia_pdf.asp?aid2=2826&nomeArquivo=Vol36No5_634_99-03-AR12550MS.pdf',\n",
       " 'http://www.quimicanova.sbq.org.br/audiencia_pdf.asp?aid2=2831&nomeArquivo=Vol36No5_640_04-AR12554.pdf',\n",
       " 'http://www.quimicanova.sbq.org.br/audiencia_pdf.asp?aid2=2834&nomeArquivo=Vol36No5_646_05-AR12556.pdf',\n",
       " 'http://www.quimicanova.sbq.org.br/audiencia_pdf.asp?aid2=2836&nomeArquivo=Vol36No5_651_06-AR12612.pdf',\n",
       " 'http://www.quimicanova.sbq.org.br/audiencia_pdf.asp?aid2=2839&nomeArquivo=Vol36No5_657_07-AR12684.pdf',\n",
       " 'http://www.quimicanova.sbq.org.br/audiencia_pdf.asp?aid2=2839&nomeArquivo=Vol36No5_657_99-07-AR12684MS.pdf',\n",
       " 'http://www.quimicanova.sbq.org.br/audiencia_pdf.asp?aid2=2847&nomeArquivo=Vol36No5_663_08-AR12691.pdf',\n",
       " 'http://www.quimicanova.sbq.org.br/audiencia_pdf.asp?aid2=2851&nomeArquivo=Vol36No5_669_09-AR12694.pdf',\n",
       " 'http://www.quimicanova.sbq.org.br/audiencia_pdf.asp?aid2=2851&nomeArquivo=Vol36No5_669_99-09-AR12694MS.pdf',\n",
       " 'http://www.quimicanova.sbq.org.br/audiencia_pdf.asp?aid2=2857&nomeArquivo=Vol36No5_675_10-AR12703.pdf',\n",
       " 'http://www.quimicanova.sbq.org.br/audiencia_pdf.asp?aid2=2857&nomeArquivo=Vol36No5_675_99-10-AR12703MS.pdf',\n",
       " 'http://www.quimicanova.sbq.org.br/audiencia_pdf.asp?aid2=2861&nomeArquivo=Vol36No5_680_11-AR12714.pdf',\n",
       " 'http://www.quimicanova.sbq.org.br/audiencia_pdf.asp?aid2=2861&nomeArquivo=Vol36No5_680_99-11-AR12714MS.pdf',\n",
       " 'http://www.quimicanova.sbq.org.br/audiencia_pdf.asp?aid2=2867&nomeArquivo=Vol36No5_686_12-AR12773.pdf',\n",
       " 'http://www.quimicanova.sbq.org.br/audiencia_pdf.asp?aid2=2870&nomeArquivo=Vol36No5_691_13-AR12139_cor.pdf',\n",
       " 'http://www.quimicanova.sbq.org.br/audiencia_pdf.asp?aid2=2870&nomeArquivo=Vol36No5_691_99-13-AR12139MS.pdf',\n",
       " 'http://www.quimicanova.sbq.org.br/audiencia_pdf.asp?aid2=2875&nomeArquivo=Vol36No5_697_14-RV12681_cor.pdf',\n",
       " 'http://www.quimicanova.sbq.org.br/audiencia_pdf.asp?aid2=2878&nomeArquivo=Vol36No5_711_15-NT12437.pdf',\n",
       " 'http://www.quimicanova.sbq.org.br/audiencia_pdf.asp?aid2=2879&nomeArquivo=Vol36No5_716_16-NT12639.pdf',\n",
       " 'http://www.quimicanova.sbq.org.br/audiencia_pdf.asp?aid2=2881&nomeArquivo=Vol36No5_720_17-NT12644.pdf',\n",
       " 'http://www.quimicanova.sbq.org.br/audiencia_pdf.asp?aid2=2883&nomeArquivo=Vol36No5_725_18-NT12768.pdf',\n",
       " 'http://www.quimicanova.sbq.org.br/audiencia_pdf.asp?aid2=2886&nomeArquivo=Vol36No5_729_19-ED12525.pdf',\n",
       " 'http://www.quimicanova.sbq.org.br/audiencia_pdf.asp?aid2=2886&nomeArquivo=Vol36No5_729_99-19-ED12525MS.pdf',\n",
       " 'http://www.quimicanova.sbq.org.br/audiencia_pdf.asp?aid2=2890&nomeArquivo=Vol36No5_734_20-ED12764.pdf',\n",
       " 'http://www.quimicanova.sbq.org.br/audiencia_pdf.asp?aid2=2890&nomeArquivo=Vol36No5_734_99-20-ED12764MS.pdf',\n",
       " 'http://www.quimicanova.sbq.org.br/audiencia_pdf.asp?aid2=5683&nomeArquivo=21-AG12371.pdf',\n",
       " 'http://www.quimicanova.sbq.org.br/audiencia_pdf.asp?aid2=5684&nomeArquivo=22-AG12482.pdf',\n",
       " 'http://www.quimicanova.sbq.org.br/audiencia_pdf.asp?aid2=6066&nomeArquivo=46-secretarias_SBQ-v36n5.pdf',\n",
       " 'http://www.quimicanova.sbq.org.br/audiencia_pdf.asp?aid2=102&nomeArquivo=00a-sumario36-3.pdf',\n",
       " 'http://www.quimicanova.sbq.org.br/audiencia_pdf.asp?aid2=2817&nomeArquivo=Vol36No3_357_00b-editorial36-3.pdf',\n",
       " 'http://www.quimicanova.sbq.org.br/audiencia_pdf.asp?aid2=2822&nomeArquivo=Vol36No3_359_01-AR12175.pdf',\n",
       " 'http://www.quimicanova.sbq.org.br/audiencia_pdf.asp?aid2=2825&nomeArquivo=Vol36No3_364_02-AR12285.pdf',\n",
       " 'http://www.quimicanova.sbq.org.br/audiencia_pdf.asp?aid2=2827&nomeArquivo=Vol36No3_368_03-AR12303.pdf',\n",
       " 'http://www.quimicanova.sbq.org.br/audiencia_pdf.asp?aid2=2830&nomeArquivo=Vol36No3_375_04-AR12352.pdf',\n",
       " 'http://www.quimicanova.sbq.org.br/audiencia_pdf.asp?aid2=2830&nomeArquivo=Vol36No3_375_99-04-AR12352MS.pdf',\n",
       " 'http://www.quimicanova.sbq.org.br/audiencia_pdf.asp?aid2=2835&nomeArquivo=Vol36No3_382_05-AR12362.pdf',\n",
       " 'http://www.quimicanova.sbq.org.br/audiencia_pdf.asp?aid2=2835&nomeArquivo=Vol36No3_382_99-05-AR12362MS.pdf',\n",
       " 'http://www.quimicanova.sbq.org.br/audiencia_pdf.asp?aid2=2841&nomeArquivo=Vol36No3_387_06-AR12395.pdf',\n",
       " 'http://www.quimicanova.sbq.org.br/audiencia_pdf.asp?aid2=2846&nomeArquivo=Vol36No3_393_07-AR12427.pdf',\n",
       " 'http://www.quimicanova.sbq.org.br/audiencia_pdf.asp?aid2=2848&nomeArquivo=Vol36No3_400_08-AR12429.pdf',\n",
       " 'http://www.quimicanova.sbq.org.br/audiencia_pdf.asp?aid2=2852&nomeArquivo=Vol36No3_407_09-AR12448.pdf',\n",
       " 'http://www.quimicanova.sbq.org.br/audiencia_pdf.asp?aid2=2855&nomeArquivo=Vol36No3_413_10-AR12452.pdf',\n",
       " 'http://www.quimicanova.sbq.org.br/audiencia_pdf.asp?aid2=2855&nomeArquivo=Vol36No3_413_99-10-AR12452MS.pdf',\n",
       " 'http://www.quimicanova.sbq.org.br/audiencia_pdf.asp?aid2=2859&nomeArquivo=Vol36No3_419_11-AR12485.pdf',\n",
       " 'http://www.quimicanova.sbq.org.br/audiencia_pdf.asp?aid2=2859&nomeArquivo=Vol36No3_419_99-11-AR12485MS.pdf',\n",
       " 'http://www.quimicanova.sbq.org.br/audiencia_pdf.asp?aid2=2865&nomeArquivo=Vol36No3_426_12-AR12281.pdf',\n",
       " 'http://www.quimicanova.sbq.org.br/audiencia_pdf.asp?aid2=2869&nomeArquivo=Vol36No3_431_13-AR12795.pdf',\n",
       " 'http://www.quimicanova.sbq.org.br/audiencia_pdf.asp?aid2=2872&nomeArquivo=Vol36No3_437_14-RV12439.pdf',\n",
       " 'http://www.quimicanova.sbq.org.br/audiencia_pdf.asp?aid2=2874&nomeArquivo=Vol36No3_449_15-RV12649.pdf',\n",
       " 'http://www.quimicanova.sbq.org.br/audiencia_pdf.asp?aid2=2876&nomeArquivo=Vol36No3_462_16-NT12321.pdf',\n",
       " 'http://www.quimicanova.sbq.org.br/audiencia_pdf.asp?aid2=2876&nomeArquivo=Vol36No3_462_99-16-NT12321MS.pdf',\n",
       " 'http://www.quimicanova.sbq.org.br/audiencia_pdf.asp?aid2=2880&nomeArquivo=Vol36No3_468_17-NT12504.pdf',\n",
       " 'http://www.quimicanova.sbq.org.br/audiencia_pdf.asp?aid2=2880&nomeArquivo=Vol36No3_468_99-17-NT12504MS.pdf',\n",
       " 'http://www.quimicanova.sbq.org.br/audiencia_pdf.asp?aid2=2884&nomeArquivo=Vol36No3_474_18-ED12420.pdf',\n",
       " 'http://www.quimicanova.sbq.org.br/audiencia_pdf.asp?aid2=2888&nomeArquivo=Vol36No3_480_19-ED12486.pdf',\n",
       " 'http://www.quimicanova.sbq.org.br/audiencia_pdf.asp?aid2=2888&nomeArquivo=Vol36No3_480_99-19-ED12486MS.pdf',\n",
       " 'http://www.quimicanova.sbq.org.br/audiencia_pdf.asp?aid2=5681&nomeArquivo=20-AG12713.pdf',\n",
       " 'http://www.quimicanova.sbq.org.br/audiencia_pdf.asp?aid2=6064&nomeArquivo=46-secretarias_SBQ-v36n3.pdf',\n",
       " 'http://www.quimicanova.sbq.org.br/audiencia_pdf.asp?aid2=103&nomeArquivo=00a-sumario36-1.pdf',\n",
       " 'http://www.quimicanova.sbq.org.br/audiencia_pdf.asp?aid2=2818&nomeArquivo=Vol36No1_3_00b-editorial36-1.pdf',\n",
       " 'http://www.quimicanova.sbq.org.br/audiencia_pdf.asp?aid2=2821&nomeArquivo=Vol36No1_5_01-AR11964.pdf',\n",
       " 'http://www.quimicanova.sbq.org.br/audiencia_pdf.asp?aid2=2821&nomeArquivo=Vol36No1_5_99-01-AR11964MS.pdf',\n",
       " 'http://www.quimicanova.sbq.org.br/audiencia_pdf.asp?aid2=2829&nomeArquivo=Vol36No1_10_02-AR11976.pdf',\n",
       " 'http://www.quimicanova.sbq.org.br/audiencia_pdf.asp?aid2=2832&nomeArquivo=Vol36No1_16_03-AR12090.pdf',\n",
       " 'http://www.quimicanova.sbq.org.br/audiencia_pdf.asp?aid2=2832&nomeArquivo=Vol36No1_16_99-03-AR12090MS.pdf',\n",
       " 'http://www.quimicanova.sbq.org.br/audiencia_pdf.asp?aid2=2838&nomeArquivo=Vol36No1_21_04-AR12102.pdf',\n",
       " 'http://www.quimicanova.sbq.org.br/audiencia_pdf.asp?aid2=2838&nomeArquivo=Vol36No1_21_99-04-AR12102MS.pdf',\n",
       " 'http://www.quimicanova.sbq.org.br/audiencia_pdf.asp?aid2=2843&nomeArquivo=Vol36No1_27_05-AR12191.pdf',\n",
       " 'http://www.quimicanova.sbq.org.br/audiencia_pdf.asp?aid2=2845&nomeArquivo=Vol36No1_34_06-AR12192.pdf',\n",
       " 'http://www.quimicanova.sbq.org.br/audiencia_pdf.asp?aid2=2849&nomeArquivo=Vol36No1_40_07-AR12199.pdf',\n",
       " 'http://www.quimicanova.sbq.org.br/audiencia_pdf.asp?aid2=2853&nomeArquivo=Vol36No1_46_08-AR12224.pdf',\n",
       " 'http://www.quimicanova.sbq.org.br/audiencia_pdf.asp?aid2=2856&nomeArquivo=Vol36No1_52_09-AR12238.pdf',\n",
       " 'http://www.quimicanova.sbq.org.br/audiencia_pdf.asp?aid2=2860&nomeArquivo=Vol36No1_59_10-AR12254.pdf',\n",
       " 'http://www.quimicanova.sbq.org.br/audiencia_pdf.asp?aid2=2863&nomeArquivo=Vol36No1_63_11-AR12258.pdf',\n",
       " 'http://www.quimicanova.sbq.org.br/audiencia_pdf.asp?aid2=2866&nomeArquivo=Vol36No1_69_12-AR12284.pdf',\n",
       " 'http://www.quimicanova.sbq.org.br/audiencia_pdf.asp?aid2=2866&nomeArquivo=Vol36No1_69_99-12-AR12284MS.pdf',\n",
       " 'http://www.quimicanova.sbq.org.br/audiencia_pdf.asp?aid2=2871&nomeArquivo=Vol36No1_74_13-AR12302.pdf',\n",
       " 'http://www.quimicanova.sbq.org.br/audiencia_pdf.asp?aid2=2871&nomeArquivo=Vol36No1_74_99-13-AR12302MS.pdf',\n",
       " 'http://www.quimicanova.sbq.org.br/audiencia_pdf.asp?aid2=2877&nomeArquivo=Vol36No1_79_14-AR12344.pdf',\n",
       " 'http://www.quimicanova.sbq.org.br/audiencia_pdf.asp?aid2=2877&nomeArquivo=Vol36No1_79_99-14-AR12344MS.pdf',\n",
       " 'http://www.quimicanova.sbq.org.br/audiencia_pdf.asp?aid2=2887&nomeArquivo=Vol36No1_85_15-AR12372.pdf',\n",
       " 'http://www.quimicanova.sbq.org.br/audiencia_pdf.asp?aid2=2887&nomeArquivo=Vol36No1_85_99-15-AR12372MS.pdf',\n",
       " 'http://www.quimicanova.sbq.org.br/audiencia_pdf.asp?aid2=2891&nomeArquivo=Vol36No1_91_16-AR12379.pdf',\n",
       " 'http://www.quimicanova.sbq.org.br/audiencia_pdf.asp?aid2=2893&nomeArquivo=Vol36No1_97_17-AR12392.pdf',\n",
       " 'http://www.quimicanova.sbq.org.br/audiencia_pdf.asp?aid2=2898&nomeArquivo=Vol36No1_102_18-AR12401.pdf',\n",
       " 'http://www.quimicanova.sbq.org.br/audiencia_pdf.asp?aid2=2905&nomeArquivo=Vol36No1_107_19-AR12563.pdf',\n",
       " 'http://www.quimicanova.sbq.org.br/audiencia_pdf.asp?aid2=2908&nomeArquivo=Vol36No1_114_20-RV12008.pdf',\n",
       " 'http://www.quimicanova.sbq.org.br/audiencia_pdf.asp?aid2=2911&nomeArquivo=Vol36No1_123_21-RV12151.pdf',\n",
       " 'http://www.quimicanova.sbq.org.br/audiencia_pdf.asp?aid2=2916&nomeArquivo=Vol36No1_131_22-RV12232.pdf',\n",
       " 'http://www.quimicanova.sbq.org.br/audiencia_pdf.asp?aid2=2916&nomeArquivo=Vol36No1_131_99-22-RV12232MS.pdf',\n",
       " 'http://www.quimicanova.sbq.org.br/audiencia_pdf.asp?aid2=2918&nomeArquivo=Vol36No1_143_23-RV12332.pdf',\n",
       " 'http://www.quimicanova.sbq.org.br/audiencia_pdf.asp?aid2=2921&nomeArquivo=Vol36No1_153_24-NT12087.pdf',\n",
       " 'http://www.quimicanova.sbq.org.br/audiencia_pdf.asp?aid2=2924&nomeArquivo=Vol36No1_159_25-NT12165.pdf',\n",
       " 'http://www.quimicanova.sbq.org.br/audiencia_pdf.asp?aid2=2928&nomeArquivo=Vol36No1_165_26-NT12263.pdf',\n",
       " 'http://www.quimicanova.sbq.org.br/audiencia_pdf.asp?aid2=2928&nomeArquivo=Vol36No1_165_99-26-NT12263MS.pdf',\n",
       " 'http://www.quimicanova.sbq.org.br/audiencia_pdf.asp?aid2=2932&nomeArquivo=Vol36No1_171_27-NT12299.pdf',\n",
       " 'http://www.quimicanova.sbq.org.br/audiencia_pdf.asp?aid2=2932&nomeArquivo=Vol36No1_171_99-27-NT12299MS.pdf',\n",
       " 'http://www.quimicanova.sbq.org.br/audiencia_pdf.asp?aid2=2937&nomeArquivo=Vol36No1_177_28-ED12346.pdf',\n",
       " 'http://www.quimicanova.sbq.org.br/audiencia_pdf.asp?aid2=2939&nomeArquivo=Vol36No1_181_29-ED12435.pdf',\n",
       " 'http://www.quimicanova.sbq.org.br/audiencia_pdf.asp?aid2=2939&nomeArquivo=Vol36No1_181_99-29-ED12435MS.pdf',\n",
       " 'http://www.quimicanova.sbq.org.br/audiencia_pdf.asp?aid2=2945&nomeArquivo=Vol36No1_187_30-ED12438.pdf',\n",
       " 'http://www.quimicanova.sbq.org.br/audiencia_pdf.asp?aid2=2949&nomeArquivo=Vol36No1_190_31-ED12561.pdf',\n",
       " 'http://www.quimicanova.sbq.org.br/audiencia_pdf.asp?aid2=2949&nomeArquivo=Vol36No1_190_99-31-ED12561MS.pdf',\n",
       " 'http://www.quimicanova.sbq.org.br/audiencia_pdf.asp?aid2=5678&nomeArquivo=32-AG12071.pdf',\n",
       " 'http://www.quimicanova.sbq.org.br/audiencia_pdf.asp?aid2=6061&nomeArquivo=90-assessores2012.pdf',\n",
       " 'http://www.quimicanova.sbq.org.br/audiencia_pdf.asp?aid2=6062&nomeArquivo=46-secretarias_SBQ.pdf',\n",
       " 'http://www.quimicanova.sbq.org.br/audiencia_pdf.asp?aid2=104&nomeArquivo=00a-sumario36-7.pdf',\n",
       " 'http://www.quimicanova.sbq.org.br/audiencia_pdf.asp?aid2=2819&nomeArquivo=Vol36No7_931_00b-editorial36-7.pdf',\n",
       " 'http://www.quimicanova.sbq.org.br/audiencia_pdf.asp?aid2=2823&nomeArquivo=Vol36No7_933_01-AR12610.pdf',\n",
       " 'http://www.quimicanova.sbq.org.br/audiencia_pdf.asp?aid2=2828&nomeArquivo=Vol36No7_937_02-AR12620.pdf',\n",
       " 'http://www.quimicanova.sbq.org.br/audiencia_pdf.asp?aid2=2828&nomeArquivo=Vol36No7_937_02-AR12620MS.pdf',\n",
       " 'http://www.quimicanova.sbq.org.br/audiencia_pdf.asp?aid2=2833&nomeArquivo=Vol36No7_942_03-AR12623.pdf',\n",
       " 'http://www.quimicanova.sbq.org.br/audiencia_pdf.asp?aid2=2837&nomeArquivo=Vol36No7_947_04-AR12739.pdf',\n",
       " 'http://www.quimicanova.sbq.org.br/audiencia_pdf.asp?aid2=2840&nomeArquivo=Vol36No7_955_05-AR12759.pdf',\n",
       " 'http://www.quimicanova.sbq.org.br/audiencia_pdf.asp?aid2=2842&nomeArquivo=Vol36No7_960_06-AR12769.pdf',\n",
       " 'http://www.quimicanova.sbq.org.br/audiencia_pdf.asp?aid2=2844&nomeArquivo=Vol36No7_967_07-AR12810.pdf',\n",
       " 'http://www.quimicanova.sbq.org.br/audiencia_pdf.asp?aid2=2844&nomeArquivo=Vol36No7_967_07-AR12810MS.pdf',\n",
       " 'http://www.quimicanova.sbq.org.br/audiencia_pdf.asp?aid2=2850&nomeArquivo=Vol36No7_972_08-AR12837.pdf',\n",
       " 'http://www.quimicanova.sbq.org.br/audiencia_pdf.asp?aid2=2854&nomeArquivo=Vol36No7_978_09-AR12838.pdf',\n",
       " 'http://www.quimicanova.sbq.org.br/audiencia_pdf.asp?aid2=2858&nomeArquivo=Vol36No7_984_10-AR12855.pdf',\n",
       " 'http://www.quimicanova.sbq.org.br/audiencia_pdf.asp?aid2=2862&nomeArquivo=Vol36No7_989_11-AR12883.pdf',\n",
       " 'http://www.quimicanova.sbq.org.br/audiencia_pdf.asp?aid2=2864&nomeArquivo=Vol36No7_998_12-AR12894.pdf',\n",
       " 'http://www.quimicanova.sbq.org.br/audiencia_pdf.asp?aid2=2868&nomeArquivo=Vol36No7_1004_13-AR12949.pdf',\n",
       " 'http://www.quimicanova.sbq.org.br/audiencia_pdf.asp?aid2=2868&nomeArquivo=Vol36No7_1004_13-AR12949MS.pdf',\n",
       " 'http://www.quimicanova.sbq.org.br/audiencia_pdf.asp?aid2=2873&nomeArquivo=Vol36No7_1008_14-AR12950.pdf',\n",
       " 'http://www.quimicanova.sbq.org.br/audiencia_pdf.asp?aid2=2873&nomeArquivo=Vol36No7_1008_14-AR12950MS.pdf',\n",
       " 'http://www.quimicanova.sbq.org.br/audiencia_pdf.asp?aid2=2882&nomeArquivo=Vol36No7_1014_15-AR12893.pdf',\n",
       " 'http://www.quimicanova.sbq.org.br/audiencia_pdf.asp?aid2=2885&nomeArquivo=Vol36No7_1021_16-RV12992.pdf',\n",
       " 'http://www.quimicanova.sbq.org.br/audiencia_pdf.asp?aid2=2889&nomeArquivo=Vol36No7_1030_17-NT12766.pdf',\n",
       " 'http://www.quimicanova.sbq.org.br/audiencia_pdf.asp?aid2=2889&nomeArquivo=Vol36No7_1030_17-NT12766MS.pdf',\n",
       " 'http://www.quimicanova.sbq.org.br/audiencia_pdf.asp?aid2=2892&nomeArquivo=Vol36No7_1038_18-NT12808.pdf',\n",
       " 'http://www.quimicanova.sbq.org.br/audiencia_pdf.asp?aid2=2895&nomeArquivo=Vol36No7_1044_19-NT12874.pdf',\n",
       " 'http://www.quimicanova.sbq.org.br/audiencia_pdf.asp?aid2=2904&nomeArquivo=Vol36No7_1052_20-NT13105.pdf',\n",
       " 'http://www.quimicanova.sbq.org.br/audiencia_pdf.asp?aid2=2906&nomeArquivo=Vol36No7_1057_21-ED12862.pdf',\n",
       " 'http://www.quimicanova.sbq.org.br/audiencia_pdf.asp?aid2=2906&nomeArquivo=Vol36No7_1057_21-ED12862MS.pdf',\n",
       " 'http://www.quimicanova.sbq.org.br/audiencia_pdf.asp?aid2=2913&nomeArquivo=Vol36No7_1066_22-ED12895.pdf',\n",
       " 'http://www.quimicanova.sbq.org.br/audiencia_pdf.asp?aid2=5688&nomeArquivo=23-AG13440.pdf',\n",
       " 'http://www.quimicanova.sbq.org.br/audiencia_pdf.asp?aid2=5689&nomeArquivo=24-AG13441.pdf',\n",
       " 'http://www.quimicanova.sbq.org.br/audiencia_pdf.asp?aid2=6068&nomeArquivo=46-secretarias_SBQ-v36n7.pdf',\n",
       " 'http://www.quimicanova.sbq.org.br/audiencia_pdf.asp?aid2=105&nomeArquivo=00a-sumario36-4.pdf',\n",
       " 'http://www.quimicanova.sbq.org.br/audiencia_pdf.asp?aid2=2894&nomeArquivo=Vol36No4_493_00b-editorial36-4.pdf',\n",
       " 'http://www.quimicanova.sbq.org.br/audiencia_pdf.asp?aid2=2896&nomeArquivo=Vol36No4_495_01-AR12210.pdf',\n",
       " 'http://www.quimicanova.sbq.org.br/audiencia_pdf.asp?aid2=2899&nomeArquivo=Vol36No4_502_02-AR12467.pdf',\n",
       " 'http://www.quimicanova.sbq.org.br/audiencia_pdf.asp?aid2=2901&nomeArquivo=Vol36No4_507_03-AR12740.pdf',\n",
       " 'http://www.quimicanova.sbq.org.br/audiencia_pdf.asp?aid2=2903&nomeArquivo=Vol36No4_513_04-AR12410.pdf',\n",
       " 'http://www.quimicanova.sbq.org.br/audiencia_pdf.asp?aid2=2907&nomeArquivo=Vol36No4_519_05-AR12603.pdf',\n",
       " 'http://www.quimicanova.sbq.org.br/audiencia_pdf.asp?aid2=2907&nomeArquivo=Vol36No4_519_99-05-AR12603MS.pdf',\n",
       " 'http://www.quimicanova.sbq.org.br/audiencia_pdf.asp?aid2=2912&nomeArquivo=Vol36No4_524_06-AR12615.pdf',\n",
       " 'http://www.quimicanova.sbq.org.br/audiencia_pdf.asp?aid2=2915&nomeArquivo=Vol36No4_528_07-AR12628.pdf',\n",
       " 'http://www.quimicanova.sbq.org.br/audiencia_pdf.asp?aid2=2915&nomeArquivo=Vol36No4_528_99-07-AR12628MS.pdf',\n",
       " 'http://www.quimicanova.sbq.org.br/audiencia_pdf.asp?aid2=2920&nomeArquivo=Vol36No4_533_08-AR12614.pdf',\n",
       " 'http://www.quimicanova.sbq.org.br/audiencia_pdf.asp?aid2=2920&nomeArquivo=Vol36No4_533_99-08-AR12614MS.pdf',\n",
       " 'http://www.quimicanova.sbq.org.br/audiencia_pdf.asp?aid2=2927&nomeArquivo=Vol36No4_540_09-AR12559.pdf',\n",
       " 'http://www.quimicanova.sbq.org.br/audiencia_pdf.asp?aid2=2927&nomeArquivo=Vol36No4_540_99-09-AR12559MS.pdf',\n",
       " 'http://www.quimicanova.sbq.org.br/audiencia_pdf.asp?aid2=2931&nomeArquivo=Vol36No4_544_10-AR12509.pdf',\n",
       " 'http://www.quimicanova.sbq.org.br/audiencia_pdf.asp?aid2=2935&nomeArquivo=Vol36No4_549_11-AR12594.pdf',\n",
       " 'http://www.quimicanova.sbq.org.br/audiencia_pdf.asp?aid2=2935&nomeArquivo=Vol36No4_549_99-11-AR12594MS.pdf',\n",
       " 'http://www.quimicanova.sbq.org.br/audiencia_pdf.asp?aid2=2940&nomeArquivo=Vol36No4_554_12-AR12510.pdf',\n",
       " 'http://www.quimicanova.sbq.org.br/audiencia_pdf.asp?aid2=2940&nomeArquivo=Vol36No4_554_99-12-AR12510MS.pdf',\n",
       " 'http://www.quimicanova.sbq.org.br/audiencia_pdf.asp?aid2=2943&nomeArquivo=Vol36No4_561_13-RV12343.pdf',\n",
       " 'http://www.quimicanova.sbq.org.br/audiencia_pdf.asp?aid2=2943&nomeArquivo=Vol36No4_561_99-13-RV12343MS.pdf',\n",
       " 'http://www.quimicanova.sbq.org.br/audiencia_pdf.asp?aid2=2946&nomeArquivo=Vol36No4_570_14-NT12494.pdf',\n",
       " 'http://www.quimicanova.sbq.org.br/audiencia_pdf.asp?aid2=2946&nomeArquivo=Vol36No4_570_99-14-NT12494MS.pdf',\n",
       " 'http://www.quimicanova.sbq.org.br/audiencia_pdf.asp?aid2=2951&nomeArquivo=Vol36No4_577_15-NT12400.pdf',\n",
       " 'http://www.quimicanova.sbq.org.br/audiencia_pdf.asp?aid2=2951&nomeArquivo=Vol36No4_577_99-15-NT12400MS.pdf',\n",
       " 'http://www.quimicanova.sbq.org.br/audiencia_pdf.asp?aid2=2955&nomeArquivo=Vol36No4_582_16-NT12606.pdf',\n",
       " 'http://www.quimicanova.sbq.org.br/audiencia_pdf.asp?aid2=2957&nomeArquivo=Vol36No4_587_17-NT12514.pdf',\n",
       " 'http://www.quimicanova.sbq.org.br/audiencia_pdf.asp?aid2=2962&nomeArquivo=Vol36No4_593_18-ED12564.pdf',\n",
       " 'http://www.quimicanova.sbq.org.br/audiencia_pdf.asp?aid2=2966&nomeArquivo=Vol36No4_600_19-ED12656.pdf',\n",
       " 'http://www.quimicanova.sbq.org.br/audiencia_pdf.asp?aid2=5682&nomeArquivo=20-AG12433.pdf',\n",
       " 'http://www.quimicanova.sbq.org.br/audiencia_pdf.asp?aid2=6065&nomeArquivo=46-secretarias_SBQ-v36n4.pdf',\n",
       " 'http://www.quimicanova.sbq.org.br/audiencia_pdf.asp?aid2=106&nomeArquivo=00a-sumario36-6.pdf',\n",
       " 'http://www.quimicanova.sbq.org.br/audiencia_pdf.asp?aid2=2897&nomeArquivo=Vol36No6_755_00b-editorial36-6.pdf',\n",
       " 'http://www.quimicanova.sbq.org.br/audiencia_pdf.asp?aid2=2900&nomeArquivo=Vol36No6_757_01-AR12297.pdf',\n",
       " 'http://www.quimicanova.sbq.org.br/audiencia_pdf.asp?aid2=2902&nomeArquivo=Vol36No6_762_02-AR12377.pdf',\n",
       " 'http://www.quimicanova.sbq.org.br/audiencia_pdf.asp?aid2=2902&nomeArquivo=Vol36No6_762_02-AR12377MS.pdf',\n",
       " 'http://www.quimicanova.sbq.org.br/audiencia_pdf.asp?aid2=2909&nomeArquivo=Vol36No6_768_03-AR12569.pdf',\n",
       " 'http://www.quimicanova.sbq.org.br/audiencia_pdf.asp?aid2=2910&nomeArquivo=Vol36No6_773_04-AR12578.pdf',\n",
       " 'http://www.quimicanova.sbq.org.br/audiencia_pdf.asp?aid2=2914&nomeArquivo=Vol36No6_778_05-AR12637.pdf',\n",
       " 'http://www.quimicanova.sbq.org.br/audiencia_pdf.asp?aid2=2914&nomeArquivo=Vol36No6_778_05-AR12637MS.pdf',\n",
       " 'http://www.quimicanova.sbq.org.br/audiencia_pdf.asp?aid2=2917&nomeArquivo=Vol36No6_783_06-AR12666.pdf',\n",
       " 'http://www.quimicanova.sbq.org.br/audiencia_pdf.asp?aid2=2922&nomeArquivo=Vol36No6_790_07-AR12668.pdf',\n",
       " 'http://www.quimicanova.sbq.org.br/audiencia_pdf.asp?aid2=2925&nomeArquivo=Vol36No6_793_08-AR12679.pdf',\n",
       " 'http://www.quimicanova.sbq.org.br/audiencia_pdf.asp?aid2=2929&nomeArquivo=Vol36No6_800_09-AR12685.pdf',\n",
       " 'http://www.quimicanova.sbq.org.br/audiencia_pdf.asp?aid2=2929&nomeArquivo=Vol36No6_800_09-AR12685MS.pdf',\n",
       " 'http://www.quimicanova.sbq.org.br/audiencia_pdf.asp?aid2=2934&nomeArquivo=Vol36No6_803_10-AR12732.pdf',\n",
       " 'http://www.quimicanova.sbq.org.br/audiencia_pdf.asp?aid2=2934&nomeArquivo=Vol36No6_803_10-AR12732MS.pdf',\n",
       " 'http://www.quimicanova.sbq.org.br/audiencia_pdf.asp?aid2=2938&nomeArquivo=Vol36No6_808_11-AR12755.pdf',\n",
       " 'http://www.quimicanova.sbq.org.br/audiencia_pdf.asp?aid2=2938&nomeArquivo=Vol36No6_808_11-AR12755MS.pdf',\n",
       " 'http://www.quimicanova.sbq.org.br/audiencia_pdf.asp?aid2=2942&nomeArquivo=Vol36No6_815_12-AR12815.pdf',\n",
       " 'http://www.quimicanova.sbq.org.br/audiencia_pdf.asp?aid2=2942&nomeArquivo=Vol36No6_815_12-AR12815MS.pdf',\n",
       " 'http://www.quimicanova.sbq.org.br/audiencia_pdf.asp?aid2=2944&nomeArquivo=Vol36No6_822_13-AR12818.pdf',\n",
       " 'http://www.quimicanova.sbq.org.br/audiencia_pdf.asp?aid2=2947&nomeArquivo=Vol36No6_826_14-AR12840.pdf',\n",
       " 'http://www.quimicanova.sbq.org.br/audiencia_pdf.asp?aid2=2950&nomeArquivo=Vol36No6_831_15-AR12880.pdf',\n",
       " 'http://www.quimicanova.sbq.org.br/audiencia_pdf.asp?aid2=2952&nomeArquivo=Vol36No6_836_16-AR12889.pdf',\n",
       " 'http://www.quimicanova.sbq.org.br/audiencia_pdf.asp?aid2=2954&nomeArquivo=Vol36No6_840_17-AR12898.pdf',\n",
       " 'http://www.quimicanova.sbq.org.br/audiencia_pdf.asp?aid2=2954&nomeArquivo=Vol36No6_840_17-AR12898MS.pdf',\n",
       " 'http://www.quimicanova.sbq.org.br/audiencia_pdf.asp?aid2=2960&nomeArquivo=Vol36No6_848_18-RV12928.pdf',\n",
       " 'http://www.quimicanova.sbq.org.br/audiencia_pdf.asp?aid2=2964&nomeArquivo=Vol36No6_859_19-NT12109.pdf',\n",
       " 'http://www.quimicanova.sbq.org.br/audiencia_pdf.asp?aid2=2964&nomeArquivo=Vol36No6_859_19-NT12109MS.pdf',\n",
       " 'http://www.quimicanova.sbq.org.br/audiencia_pdf.asp?aid2=2969&nomeArquivo=Vol36No6_865_20-NT12470.pdf',\n",
       " 'http://www.quimicanova.sbq.org.br/audiencia_pdf.asp?aid2=2970&nomeArquivo=Vol36No6_870_21-NT12596.pdf',\n",
       " 'http://www.quimicanova.sbq.org.br/audiencia_pdf.asp?aid2=2972&nomeArquivo=Vol36No6_874_22-NT12600.pdf',\n",
       " 'http://www.quimicanova.sbq.org.br/audiencia_pdf.asp?aid2=2972&nomeArquivo=Vol36No6_874_22-NT12600MS.pdf',\n",
       " 'http://www.quimicanova.sbq.org.br/audiencia_pdf.asp?aid2=2982&nomeArquivo=Vol36No6_880_23-NT12716.pdf',\n",
       " 'http://www.quimicanova.sbq.org.br/audiencia_pdf.asp?aid2=2989&nomeArquivo=Vol36No6_885_24-NT12748.pdf',\n",
       " 'http://www.quimicanova.sbq.org.br/audiencia_pdf.asp?aid2=2993&nomeArquivo=Vol36No6_890_25-ED12552.pdf',\n",
       " 'http://www.quimicanova.sbq.org.br/audiencia_pdf.asp?aid2=2996&nomeArquivo=Vol36No6_894_26-ED12817.pdf',\n",
       " 'http://www.quimicanova.sbq.org.br/audiencia_pdf.asp?aid2=2998&nomeArquivo=Vol36No6_897_27-ED12857.pdf',\n",
       " 'http://www.quimicanova.sbq.org.br/audiencia_pdf.asp?aid2=2998&nomeArquivo=Vol36No6_897_27-ED12857MS.pdf',\n",
       " 'http://www.quimicanova.sbq.org.br/audiencia_pdf.asp?aid2=3002&nomeArquivo=Vol36No6_905_28-ED12940.pdf',\n",
       " 'http://www.quimicanova.sbq.org.br/audiencia_pdf.asp?aid2=3002&nomeArquivo=Vol36No6_905_28-ED12940MS.pdf',\n",
       " 'http://www.quimicanova.sbq.org.br/audiencia_pdf.asp?aid2=5685&nomeArquivo=29-AG12896.pdf',\n",
       " 'http://www.quimicanova.sbq.org.br/audiencia_pdf.asp?aid2=5686&nomeArquivo=30-AG12939.pdf',\n",
       " 'http://www.quimicanova.sbq.org.br/audiencia_pdf.asp?aid2=5686&nomeArquivo=30-AG12939MS.pdf',\n",
       " 'http://www.quimicanova.sbq.org.br/audiencia_pdf.asp?aid2=5687&nomeArquivo=31-AG12665.pdf',\n",
       " 'http://www.quimicanova.sbq.org.br/audiencia_pdf.asp?aid2=6067&nomeArquivo=46-secretarias_SBQ-v36n6.pdf',\n",
       " 'http://www.quimicanova.sbq.org.br/audiencia_pdf.asp?aid2=107&nomeArquivo=00a-sumario36-8.pdf',\n",
       " 'http://www.quimicanova.sbq.org.br/audiencia_pdf.asp?aid2=2919&nomeArquivo=Vol36No8_1807_00b-editorial36-8.pdf',\n",
       " 'http://www.quimicanova.sbq.org.br/audiencia_pdf.asp?aid2=2923&nomeArquivo=Vol36No8_1089_01-AR12879.pdf',\n",
       " 'http://www.quimicanova.sbq.org.br/audiencia_pdf.asp?aid2=2926&nomeArquivo=Vol36No8_1096_02-AR12888.pdf',\n",
       " 'http://www.quimicanova.sbq.org.br/audiencia_pdf.asp?aid2=2926&nomeArquivo=Vol36No8_1096_02-AR12888MS.pdf',\n",
       " 'http://www.quimicanova.sbq.org.br/audiencia_pdf.asp?aid2=2930&nomeArquivo=v36n8a04.pdf',\n",
       " 'http://www.quimicanova.sbq.org.br/audiencia_pdf.asp?aid2=2933&nomeArquivo=v36n8a05.pdf',\n",
       " 'http://www.quimicanova.sbq.org.br/audiencia_pdf.asp?aid2=2936&nomeArquivo=Vol36No8_1111_05-AR12947.pdf',\n",
       " 'http://www.quimicanova.sbq.org.br/audiencia_pdf.asp?aid2=2936&nomeArquivo=Vol36No8_1111_05-AR12947MS.pdf',\n",
       " 'http://www.quimicanova.sbq.org.br/audiencia_pdf.asp?aid2=2941&nomeArquivo=Vol36No8_1116_06-AR12948.pdf',\n",
       " 'http://www.quimicanova.sbq.org.br/audiencia_pdf.asp?aid2=2941&nomeArquivo=Vol36No8_1116_06-AR12948MS.pdf',\n",
       " 'http://www.quimicanova.sbq.org.br/audiencia_pdf.asp?aid2=2948&nomeArquivo=Vol36No8_1121_07-AR12958.pdf',\n",
       " 'http://www.quimicanova.sbq.org.br/audiencia_pdf.asp?aid2=2948&nomeArquivo=Vol36No8_1121_07-AR12958MS.pdf',\n",
       " 'http://www.quimicanova.sbq.org.br/audiencia_pdf.asp?aid2=2953&nomeArquivo=Vol36No8_1126_08-AR12974.pdf',\n",
       " 'http://www.quimicanova.sbq.org.br/audiencia_pdf.asp?aid2=2956&nomeArquivo=Vol36No8_1131_09-AR13003.pdf',\n",
       " 'http://www.quimicanova.sbq.org.br/audiencia_pdf.asp?aid2=2958&nomeArquivo=Vol36No8_1139_10-AR13005.pdf',\n",
       " 'http://www.quimicanova.sbq.org.br/audiencia_pdf.asp?aid2=2961&nomeArquivo=Vol36No8_1146_11-AR13006.pdf',\n",
       " 'http://www.quimicanova.sbq.org.br/audiencia_pdf.asp?aid2=2965&nomeArquivo=Vol36No8_1155_12-AR13017.pdf',\n",
       " 'http://www.quimicanova.sbq.org.br/audiencia_pdf.asp?aid2=2965&nomeArquivo=Vol36No8_1155_12-AR13017MS.pdf',\n",
       " 'http://www.quimicanova.sbq.org.br/audiencia_pdf.asp?aid2=2973&nomeArquivo=Vol36No8_1160_13-AR13018.pdf',\n",
       " 'http://www.quimicanova.sbq.org.br/audiencia_pdf.asp?aid2=2973&nomeArquivo=Vol36No8_1160_13-AR13018MS.pdf',\n",
       " 'http://www.quimicanova.sbq.org.br/audiencia_pdf.asp?aid2=2976&nomeArquivo=Vol36No8_1164_14-AR13023.pdf',\n",
       " 'http://www.quimicanova.sbq.org.br/audiencia_pdf.asp?aid2=2978&nomeArquivo=retraction_15-AR13094.pdf',\n",
       " 'http://www.quimicanova.sbq.org.br/audiencia_pdf.asp?aid2=2980&nomeArquivo=Vol36No8_1176_16-RV12991.pdf',\n",
       " 'http://www.quimicanova.sbq.org.br/audiencia_pdf.asp?aid2=2983&nomeArquivo=Vol36No8_1194_17-RV13072.pdf',\n",
       " 'http://www.quimicanova.sbq.org.br/audiencia_pdf.asp?aid2=2985&nomeArquivo=Vol36No8_1208_18-NT12912.pdf',\n",
       " 'http://www.quimicanova.sbq.org.br/audiencia_pdf.asp?aid2=2987&nomeArquivo=Vol36No8_1208_18-NT12912.pdf',\n",
       " 'http://www.quimicanova.sbq.org.br/audiencia_pdf.asp?aid2=2991&nomeArquivo=Vol36No8_1222_20-NT12964.pdf',\n",
       " 'http://www.quimicanova.sbq.org.br/audiencia_pdf.asp?aid2=2995&nomeArquivo=Vol36No8_1227_21-NT12989.pdf',\n",
       " 'http://www.quimicanova.sbq.org.br/audiencia_pdf.asp?aid2=3000&nomeArquivo=Vol36No8_1232_22-NT121000.pdf',\n",
       " 'http://www.quimicanova.sbq.org.br/audiencia_pdf.asp?aid2=3003&nomeArquivo=Vol36No8_1236_23-ED12821.pdf',\n",
       " 'http://www.quimicanova.sbq.org.br/audiencia_pdf.asp?aid2=3006&nomeArquivo=Vol36No8_1242_24-ED12968.pdf',\n",
       " 'http://www.quimicanova.sbq.org.br/audiencia_pdf.asp?aid2=3006&nomeArquivo=Vol36No8_1242_24-ED12968MS.pdf',\n",
       " 'http://www.quimicanova.sbq.org.br/audiencia_pdf.asp?aid2=3012&nomeArquivo=Vol36No8_1248_25-ED12977_cor.pdf',\n",
       " 'http://www.quimicanova.sbq.org.br/audiencia_pdf.asp?aid2=5676&nomeArquivo=26-AG12647.pdf',\n",
       " 'http://www.quimicanova.sbq.org.br/audiencia_pdf.asp?aid2=5677&nomeArquivo=27-AG12976.pdf',\n",
       " 'http://www.quimicanova.sbq.org.br/audiencia_pdf.asp?aid2=5677&nomeArquivo=27-AG12976MS.pdf',\n",
       " 'http://www.quimicanova.sbq.org.br/audiencia_pdf.asp?aid2=6069&nomeArquivo=46-secretarias_SBQ-v36n8.pdf',\n",
       " 'http://www.quimicanova.sbq.org.br/audiencia_pdf.asp?aid2=108&nomeArquivo=00a-sumario36-2.pdf',\n",
       " 'http://www.quimicanova.sbq.org.br/audiencia_pdf.asp?aid2=2959&nomeArquivo=Vol36No2_205_00b-editorial36-2.pdf',\n",
       " 'http://www.quimicanova.sbq.org.br/audiencia_pdf.asp?aid2=2963&nomeArquivo=Vol36No2_207_01-AR12180.pdf',\n",
       " 'http://www.quimicanova.sbq.org.br/audiencia_pdf.asp?aid2=2967&nomeArquivo=Vol36No2_215_02-AR12260.pdf',\n",
       " 'http://www.quimicanova.sbq.org.br/audiencia_pdf.asp?aid2=2968&nomeArquivo=Vol36No2_220_03-AR12314.pdf',\n",
       " 'http://www.quimicanova.sbq.org.br/audiencia_pdf.asp?aid2=2975&nomeArquivo=Vol36No2_230_04-AR12319.pdf',\n",
       " 'http://www.quimicanova.sbq.org.br/audiencia_pdf.asp?aid2=2975&nomeArquivo=Vol36No2_230_04-AR12319MS.pdf',\n",
       " 'http://www.quimicanova.sbq.org.br/audiencia_pdf.asp?aid2=2977&nomeArquivo=Vol36No2_237_05-AR12335.pdf',\n",
       " 'http://www.quimicanova.sbq.org.br/audiencia_pdf.asp?aid2=2979&nomeArquivo=Vol36No2_241_06-AR12350.pdf',\n",
       " 'http://www.quimicanova.sbq.org.br/audiencia_pdf.asp?aid2=2981&nomeArquivo=Vol36No2_245_07-AR12387.pdf',\n",
       " 'http://www.quimicanova.sbq.org.br/audiencia_pdf.asp?aid2=2984&nomeArquivo=Vol36No2_252_08-AR12459.pdf',\n",
       " 'http://www.quimicanova.sbq.org.br/audiencia_pdf.asp?aid2=2986&nomeArquivo=Vol36No2_257_09-AR12460.pdf',\n",
       " 'http://www.quimicanova.sbq.org.br/audiencia_pdf.asp?aid2=2990&nomeArquivo=Vol36No2_262_10-AR12507.pdf',\n",
       " 'http://www.quimicanova.sbq.org.br/audiencia_pdf.asp?aid2=2994&nomeArquivo=Vol36No2_267_11-AR12537.pdf',\n",
       " 'http://www.quimicanova.sbq.org.br/audiencia_pdf.asp?aid2=2999&nomeArquivo=Vol36No2_272_12-AR12562.pdf',\n",
       " 'http://www.quimicanova.sbq.org.br/audiencia_pdf.asp?aid2=2999&nomeArquivo=Vol36No2_272_12-AR12562MS.pdf',\n",
       " 'http://www.quimicanova.sbq.org.br/audiencia_pdf.asp?aid2=3005&nomeArquivo=Vol36No2_279_13-AR12605.pdf',\n",
       " 'http://www.quimicanova.sbq.org.br/audiencia_pdf.asp?aid2=3005&nomeArquivo=Vol36No2_279_13-AR12605MS.pdf',\n",
       " 'http://www.quimicanova.sbq.org.br/audiencia_pdf.asp?aid2=3009&nomeArquivo=Vol36No2_284_14-AR12625.pdf',\n",
       " 'http://www.quimicanova.sbq.org.br/audiencia_pdf.asp?aid2=3009&nomeArquivo=Vol36No2_284_14-AR12625MS.pdf',\n",
       " 'http://www.quimicanova.sbq.org.br/audiencia_pdf.asp?aid2=3014&nomeArquivo=Vol36No2_291_15-RV12511.pdf',\n",
       " 'http://www.quimicanova.sbq.org.br/audiencia_pdf.asp?aid2=3017&nomeArquivo=Vol36No2_306_16-RV12403.pdf',\n",
       " 'http://www.quimicanova.sbq.org.br/audiencia_pdf.asp?aid2=3017&nomeArquivo=Vol36No2_306_16-RV12403MS.pdf',\n",
       " 'http://www.quimicanova.sbq.org.br/audiencia_pdf.asp?aid2=3020&nomeArquivo=Vol36No2_314_17-RV12419.pdf',\n",
       " 'http://www.quimicanova.sbq.org.br/audiencia_pdf.asp?aid2=3020&nomeArquivo=Vol36No2_314_17-RV12419MS.pdf',\n",
       " 'http://www.quimicanova.sbq.org.br/audiencia_pdf.asp?aid2=3026&nomeArquivo=Vol36No2_320_18-NT12311.pdf',\n",
       " 'http://www.quimicanova.sbq.org.br/audiencia_pdf.asp?aid2=3026&nomeArquivo=Vol36No2_320_18-NT12311MS.pdf',\n",
       " 'http://www.quimicanova.sbq.org.br/audiencia_pdf.asp?aid2=3028&nomeArquivo=Vol36No2_324_19-NT12484.pdf',\n",
       " 'http://www.quimicanova.sbq.org.br/audiencia_pdf.asp?aid2=3030&nomeArquivo=Vol36No2_331_20-ED12436.pdf',\n",
       " 'http://www.quimicanova.sbq.org.br/audiencia_pdf.asp?aid2=3030&nomeArquivo=Vol36No2_331_20-ED12436MS.pdf',\n",
       " 'http://www.quimicanova.sbq.org.br/audiencia_pdf.asp?aid2=3032&nomeArquivo=Vol36No2_335_21-ED12242.pdf',\n",
       " 'http://www.quimicanova.sbq.org.br/audiencia_pdf.asp?aid2=3032&nomeArquivo=Vol36No2_335_21-ED12242MS.pdf',\n",
       " 'http://www.quimicanova.sbq.org.br/audiencia_pdf.asp?aid2=5679&nomeArquivo=22-AG12325.pdf',\n",
       " 'http://www.quimicanova.sbq.org.br/audiencia_pdf.asp?aid2=5679&nomeArquivo=22-AG12325MS.pdf',\n",
       " 'http://www.quimicanova.sbq.org.br/audiencia_pdf.asp?aid2=5680&nomeArquivo=23-AG12468.pdf',\n",
       " 'http://www.quimicanova.sbq.org.br/audiencia_pdf.asp?aid2=6063&nomeArquivo=46-secretarias_SBQ-1.pdf',\n",
       " 'http://www.quimicanova.sbq.org.br/audiencia_pdf.asp?aid2=109&nomeArquivo=00a-sumario36-9.pdf',\n",
       " 'http://www.quimicanova.sbq.org.br/audiencia_pdf.asp?aid2=2971&nomeArquivo=Vol36No7_984_10-AR12855.pdf',\n",
       " 'http://www.quimicanova.sbq.org.br/audiencia_pdf.asp?aid2=2974&nomeArquivo=Vol36No9_1281_01-AR13001.pdf',\n",
       " 'http://www.quimicanova.sbq.org.br/audiencia_pdf.asp?aid2=2974&nomeArquivo=Vol36No9_1281_01-AR13001MS.pdf',\n",
       " 'http://www.quimicanova.sbq.org.br/audiencia_pdf.asp?aid2=2988&nomeArquivo=Vol36No9_1288_02-AR13002.pdf',\n",
       " 'http://www.quimicanova.sbq.org.br/audiencia_pdf.asp?aid2=2992&nomeArquivo=Vol36No9_1296_03-AR13053.pdf',\n",
       " 'http://www.quimicanova.sbq.org.br/audiencia_pdf.asp?aid2=2992&nomeArquivo=Vol36No9_1296_03-AR13053MS.pdf',\n",
       " 'http://www.quimicanova.sbq.org.br/audiencia_pdf.asp?aid2=2997&nomeArquivo=Vol36No9_1303_04-AR13064.pdf',\n",
       " 'http://www.quimicanova.sbq.org.br/audiencia_pdf.asp?aid2=2997&nomeArquivo=Vol36No9_1303_04-AR13064MS.pdf',\n",
       " 'http://www.quimicanova.sbq.org.br/audiencia_pdf.asp?aid2=3001&nomeArquivo=Vol36No9_1308_05-AR13070.pdf',\n",
       " 'http://www.quimicanova.sbq.org.br/audiencia_pdf.asp?aid2=3001&nomeArquivo=Vol36No9_1308_05-AR13070MS.pdf',\n",
       " 'http://www.quimicanova.sbq.org.br/audiencia_pdf.asp?aid2=3004&nomeArquivo=Vol36No9_1318_06-AR13077.pdf',\n",
       " 'http://www.quimicanova.sbq.org.br/audiencia_pdf.asp?aid2=3004&nomeArquivo=Vol36No9_1318_06-AR13077MS.pdf',\n",
       " 'http://www.quimicanova.sbq.org.br/audiencia_pdf.asp?aid2=3007&nomeArquivo=Vol36No9_1323_07-AR13098.pdf',\n",
       " 'http://www.quimicanova.sbq.org.br/audiencia_pdf.asp?aid2=3008&nomeArquivo=Vol36No9_1332_08-AR13122.pdf',\n",
       " 'http://www.quimicanova.sbq.org.br/audiencia_pdf.asp?aid2=3010&nomeArquivo=Vol36No9_1338_09-AR13143.pdf',\n",
       " 'http://www.quimicanova.sbq.org.br/audiencia_pdf.asp?aid2=3011&nomeArquivo=Vol36No9_1343_10-AR13165.pdf',\n",
       " 'http://www.quimicanova.sbq.org.br/audiencia_pdf.asp?aid2=3013&nomeArquivo=Vol36No9_1348_11-AR13183.pdf',\n",
       " 'http://www.quimicanova.sbq.org.br/audiencia_pdf.asp?aid2=3015&nomeArquivo=Vol36No9_1354_12-AR13196.pdf',\n",
       " 'http://www.quimicanova.sbq.org.br/audiencia_pdf.asp?aid2=3016&nomeArquivo=Vol36No9_1360_13-AR13218.pdf',\n",
       " 'http://www.quimicanova.sbq.org.br/audiencia_pdf.asp?aid2=3018&nomeArquivo=Vol36No9_1366_14-AR13224.pdf',\n",
       " 'http://www.quimicanova.sbq.org.br/audiencia_pdf.asp?aid2=3018&nomeArquivo=Vol36No9_1366_14-AR13224.pdf',\n",
       " 'http://www.quimicanova.sbq.org.br/audiencia_pdf.asp?aid2=3019&nomeArquivo=Vol36No9_1370_15-AR13260.pdf',\n",
       " 'http://www.quimicanova.sbq.org.br/audiencia_pdf.asp?aid2=3019&nomeArquivo=Vol36No9_1370_15-AR13260MS.pdf',\n",
       " 'http://www.quimicanova.sbq.org.br/audiencia_pdf.asp?aid2=3021&nomeArquivo=Vol36No9_1375_16-AR13271.pdf',\n",
       " 'http://www.quimicanova.sbq.org.br/audiencia_pdf.asp?aid2=3022&nomeArquivo=Vol36No9_1380_17-AR13287.pdf',\n",
       " 'http://www.quimicanova.sbq.org.br/audiencia_pdf.asp?aid2=3023&nomeArquivo=Vol36No9_1388_18-AR13354.pdf',\n",
       " 'http://www.quimicanova.sbq.org.br/audiencia_pdf.asp?aid2=3024&nomeArquivo=Vol36No9_1391_19-AR13401.pdf',\n",
       " 'http://www.quimicanova.sbq.org.br/audiencia_pdf.asp?aid2=3025&nomeArquivo=Vol36No9_1395_20-RV13067.pdf',\n",
       " 'http://www.quimicanova.sbq.org.br/audiencia_pdf.asp?aid2=3027&nomeArquivo=Vol36No9_1406_21-RV13229.pdf',\n",
       " 'http://www.quimicanova.sbq.org.br/audiencia_pdf.asp?aid2=3029&nomeArquivo=Vol36No9_1416_22-NT13081.pdf',\n",
       " 'http://www.quimicanova.sbq.org.br/audiencia_pdf.asp?aid2=3031&nomeArquivo=Vol36No9_1423_23-NT13176.pdf',\n",
       " 'http://www.quimicanova.sbq.org.br/audiencia_pdf.asp?aid2=3033&nomeArquivo=Vol36No9_1430_24-NT13207.pdf',\n",
       " 'http://www.quimicanova.sbq.org.br/audiencia_pdf.asp?aid2=3034&nomeArquivo=Vol36No9_1434_25-NT13231.pdf',\n",
       " 'http://www.quimicanova.sbq.org.br/audiencia_pdf.asp?aid2=3035&nomeArquivo=Vol36No9_1441_26-NT13239.pdf',\n",
       " 'http://www.quimicanova.sbq.org.br/audiencia_pdf.asp?aid2=3036&nomeArquivo=Vol36No9_1447_27-ED13032_color.pdf',\n",
       " 'http://www.quimicanova.sbq.org.br/audiencia_pdf.asp?aid2=3036&nomeArquivo=Vol36No9_1447_27-ED13032MS.pdf',\n",
       " 'http://www.quimicanova.sbq.org.br/audiencia_pdf.asp?aid2=3037&nomeArquivo=Vol36No9_1453_28-ED13056.pdf',\n",
       " 'http://www.quimicanova.sbq.org.br/audiencia_pdf.asp?aid2=3037&nomeArquivo=Vol36No9_1453_28-ED13056MS.pdf',\n",
       " 'http://www.quimicanova.sbq.org.br/audiencia_pdf.asp?aid2=3038&nomeArquivo=Vol36No9_1458_29-ED13220.pdf',\n",
       " 'http://www.quimicanova.sbq.org.br/audiencia_pdf.asp?aid2=3039&nomeArquivo=Vol36No9_1464_30-ED13399.pdf',\n",
       " 'http://www.quimicanova.sbq.org.br/audiencia_pdf.asp?aid2=5675&nomeArquivo=31-AG13057.pdf',\n",
       " 'http://www.quimicanova.sbq.org.br/audiencia_pdf.asp?aid2=11&nomeArquivo=00a-sumario32-5.pdf',\n",
       " 'http://www.quimicanova.sbq.org.br/audiencia_pdf.asp?aid2=288&nomeArquivo=Vol32No5_1093_00b-editorial32-5.pdf',\n",
       " 'http://www.quimicanova.sbq.org.br/audiencia_pdf.asp?aid2=292&nomeArquivo=Vol32No5_1095_01-AR07447.pdf',\n",
       " 'http://www.quimicanova.sbq.org.br/audiencia_pdf.asp?aid2=294&nomeArquivo=Vol32No5_1099_02-AR07472.pdf',\n",
       " 'http://www.quimicanova.sbq.org.br/audiencia_pdf.asp?aid2=296&nomeArquivo=Vol32No5_1103_03-AR07495.pdf',\n",
       " 'http://www.quimicanova.sbq.org.br/audiencia_pdf.asp?aid2=301&nomeArquivo=Vol32No5_1107_04-AR08022.pdf',\n",
       " 'http://www.quimicanova.sbq.org.br/audiencia_pdf.asp?aid2=301&nomeArquivo=Vol32No5_1107_99-AR08022MS.pdf',\n",
       " 'http://www.quimicanova.sbq.org.br/audiencia_pdf.asp?aid2=305&nomeArquivo=Vol32No5_1110_05-AR08046.pdf',\n",
       " 'http://www.quimicanova.sbq.org.br/audiencia_pdf.asp?aid2=305&nomeArquivo=Vol32No5_1110_99-AR08046MS.pdf',\n",
       " 'http://www.quimicanova.sbq.org.br/audiencia_pdf.asp?aid2=308&nomeArquivo=Vol32No5_1115_06-AR08127.pdf',\n",
       " 'http://www.quimicanova.sbq.org.br/audiencia_pdf.asp?aid2=308&nomeArquivo=Vol32No5_1115_99-AR08127MS.pdf',\n",
       " 'http://www.quimicanova.sbq.org.br/audiencia_pdf.asp?aid2=312&nomeArquivo=Vol32No5_1119_07-AR08128.pdf',\n",
       " 'http://www.quimicanova.sbq.org.br/audiencia_pdf.asp?aid2=314&nomeArquivo=Vol32No5_1129_08-AR08182.pdf',\n",
       " 'http://www.quimicanova.sbq.org.br/audiencia_pdf.asp?aid2=316&nomeArquivo=Vol32No5_1134_09-AR08183.pdf',\n",
       " 'http://www.quimicanova.sbq.org.br/audiencia_pdf.asp?aid2=320&nomeArquivo=Vol32No5_1139_10-AR08196.pdf',\n",
       " 'http://www.quimicanova.sbq.org.br/audiencia_pdf.asp?aid2=320&nomeArquivo=Vol32No5_1139_99-AR08196MS.pdf',\n",
       " 'http://www.quimicanova.sbq.org.br/audiencia_pdf.asp?aid2=326&nomeArquivo=Vol32No5_1144_11-AR08206.pdf',\n",
       " 'http://www.quimicanova.sbq.org.br/audiencia_pdf.asp?aid2=328&nomeArquivo=Vol32No5_1151_12-AR08228.pdf',\n",
       " 'http://www.quimicanova.sbq.org.br/audiencia_pdf.asp?aid2=332&nomeArquivo=Vol32No5_1157_13-AR08246.pdf',\n",
       " 'http://www.quimicanova.sbq.org.br/audiencia_pdf.asp?aid2=335&nomeArquivo=Vol32No5_1164_14-AR08261.pdf',\n",
       " 'http://www.quimicanova.sbq.org.br/audiencia_pdf.asp?aid2=338&nomeArquivo=Vol32No5_1170_15-AR08267.pdf',\n",
       " 'http://www.quimicanova.sbq.org.br/audiencia_pdf.asp?aid2=344&nomeArquivo=Vol32No5_1175_16-AR08269.pdf',\n",
       " 'http://www.quimicanova.sbq.org.br/audiencia_pdf.asp?aid2=346&nomeArquivo=Vol32No5_1180_17-AR08271.pdf',\n",
       " 'http://www.quimicanova.sbq.org.br/audiencia_pdf.asp?aid2=350&nomeArquivo=Vol32No5_1184_18-AR08274.pdf',\n",
       " 'http://www.quimicanova.sbq.org.br/audiencia_pdf.asp?aid2=350&nomeArquivo=Vol32No5_1184_99-AR08274MS.pdf',\n",
       " 'http://www.quimicanova.sbq.org.br/audiencia_pdf.asp?aid2=354&nomeArquivo=Vol32No5_1189_19-AR08276.pdf',\n",
       " 'http://www.quimicanova.sbq.org.br/audiencia_pdf.asp?aid2=355&nomeArquivo=Vol32No5_1195_20-AR08291.pdf',\n",
       " 'http://www.quimicanova.sbq.org.br/audiencia_pdf.asp?aid2=359&nomeArquivo=Vol32No5_1202_21-AR08318.pdf',\n",
       " 'http://www.quimicanova.sbq.org.br/audiencia_pdf.asp?aid2=360&nomeArquivo=Vol32No5_1206_22-AR08321.pdf',\n",
       " 'http://www.quimicanova.sbq.org.br/audiencia_pdf.asp?aid2=360&nomeArquivo=Vol32No5_1206_99-AR08321MS.pdf',\n",
       " 'http://www.quimicanova.sbq.org.br/audiencia_pdf.asp?aid2=363&nomeArquivo=Vol32No5_1212_23-AR08342.pdf',\n",
       " 'http://www.quimicanova.sbq.org.br/audiencia_pdf.asp?aid2=366&nomeArquivo=Vol32No5_1216_24-AR08344.pdf',\n",
       " 'http://www.quimicanova.sbq.org.br/audiencia_pdf.asp?aid2=373&nomeArquivo=Vol32No5_1222_25-AR08347.pdf',\n",
       " 'http://www.quimicanova.sbq.org.br/audiencia_pdf.asp?aid2=376&nomeArquivo=Vol32No5_1227_26-AR08375.pdf',\n",
       " 'http://www.quimicanova.sbq.org.br/audiencia_pdf.asp?aid2=378&nomeArquivo=Vol32No5_1231_27-AR08384.pdf',\n",
       " 'http://www.quimicanova.sbq.org.br/audiencia_pdf.asp?aid2=379&nomeArquivo=Vol32No5_1235_28-AR08455.pdf',\n",
       " 'http://www.quimicanova.sbq.org.br/audiencia_pdf.asp?aid2=381&nomeArquivo=Vol32No5_1239_29-AR08474.pdf',\n",
       " 'http://www.quimicanova.sbq.org.br/audiencia_pdf.asp?aid2=381&nomeArquivo=Vol32No5_1239_99-AR08474MS.pdf',\n",
       " 'http://www.quimicanova.sbq.org.br/audiencia_pdf.asp?aid2=385&nomeArquivo=Vol32No5_1245_30-RV08068.pdf',\n",
       " 'http://www.quimicanova.sbq.org.br/audiencia_pdf.asp?aid2=387&nomeArquivo=Vol32No5_1253_31-RV08075.pdf',\n",
       " 'http://www.quimicanova.sbq.org.br/audiencia_pdf.asp?aid2=390&nomeArquivo=Vol32No5_1262_32-RV08186.pdf',\n",
       " 'http://www.quimicanova.sbq.org.br/audiencia_pdf.asp?aid2=398&nomeArquivo=Vol32No5_1278_33-RV08340.pdf',\n",
       " 'http://www.quimicanova.sbq.org.br/audiencia_pdf.asp?aid2=403&nomeArquivo=Vol32No5_1288_34-RV08378.pdf',\n",
       " 'http://www.quimicanova.sbq.org.br/audiencia_pdf.asp?aid2=407&nomeArquivo=Vol32No5_1297_35-RV08425.pdf',\n",
       " 'http://www.quimicanova.sbq.org.br/audiencia_pdf.asp?aid2=409&nomeArquivo=Vol32No5_1306_36-RV08567.pdf',\n",
       " 'http://www.quimicanova.sbq.org.br/audiencia_pdf.asp?aid2=414&nomeArquivo=Vol32No5_1315_37-NT08078.pdf',\n",
       " 'http://www.quimicanova.sbq.org.br/audiencia_pdf.asp?aid2=422&nomeArquivo=Vol32No5_1321_38-NT08295.pdf',\n",
       " 'http://www.quimicanova.sbq.org.br/audiencia_pdf.asp?aid2=426&nomeArquivo=Vol32No5_1324_39-NT08332.pdf',\n",
       " 'http://www.quimicanova.sbq.org.br/audiencia_pdf.asp?aid2=431&nomeArquivo=Vol32No5_1329_40-NT08336.pdf',\n",
       " 'http://www.quimicanova.sbq.org.br/audiencia_pdf.asp?aid2=433&nomeArquivo=Vol32No5_1334_41-NT08407.pdf',\n",
       " 'http://www.quimicanova.sbq.org.br/audiencia_pdf.asp?aid2=433&nomeArquivo=Vol32No5_1334_99-NT08407MS.pdf',\n",
       " 'http://www.quimicanova.sbq.org.br/audiencia_pdf.asp?aid2=436&nomeArquivo=Vol32No5_1338_42-ED08214.pdf',\n",
       " 'http://www.quimicanova.sbq.org.br/audiencia_pdf.asp?aid2=438&nomeArquivo=Vol32No5_1342_43-ED08391.pdf',\n",
       " 'http://www.quimicanova.sbq.org.br/audiencia_pdf.asp?aid2=441&nomeArquivo=Vol32No5_1346_44-ED08454.pdf',\n",
       " 'http://www.quimicanova.sbq.org.br/audiencia_pdf.asp?aid2=444&nomeArquivo=Vol32No5_1350_45-AG08299.pdf',\n",
       " 'http://www.quimicanova.sbq.org.br/audiencia_pdf.asp?aid2=447&nomeArquivo=Vol32No5_1356_46-AG08697.pdf',\n",
       " 'http://www.quimicanova.sbq.org.br/audiencia_pdf.asp?aid2=5740&nomeArquivo=47-carta_ao_editor.pdf',\n",
       " 'http://www.quimicanova.sbq.org.br/audiencia_pdf.asp?aid2=110&nomeArquivo=00a-sumario36-10.pdf',\n",
       " 'http://www.quimicanova.sbq.org.br/audiencia_pdf.asp?aid2=3040&nomeArquivo=Vol36No10_1481_00b-editorial36-10.pdf',\n",
       " 'http://www.quimicanova.sbq.org.br/audiencia_pdf.asp?aid2=3041&nomeArquivo=Vol36No10_1483_01-NE13487.pdf',\n",
       " 'http://www.quimicanova.sbq.org.br/audiencia_pdf.asp?aid2=3042&nomeArquivo=Vol36No10_1491_02-NE13489.pdf',\n",
       " 'http://www.quimicanova.sbq.org.br/audiencia_pdf.asp?aid2=3043&nomeArquivo=Vol36No10_1497_03-NE13524.pdf',\n",
       " 'http://www.quimicanova.sbq.org.br/audiencia_pdf.asp?aid2=3044&nomeArquivo=Vol36No10_1509_04-NE13535.pdf',\n",
       " 'http://www.quimicanova.sbq.org.br/audiencia_pdf.asp?aid2=3045&nomeArquivo=Vol36No10_1514_05-NE13483.pdf',\n",
       " 'http://www.quimicanova.sbq.org.br/audiencia_pdf.asp?aid2=3046&nomeArquivo=Vol36No10_1520_06-NE13484.pdf',\n",
       " 'http://www.quimicanova.sbq.org.br/audiencia_pdf.asp?aid2=3047&nomeArquivo=Vol36No10_1527_07-NE13485.pdf',\n",
       " 'http://www.quimicanova.sbq.org.br/audiencia_pdf.asp?aid2=3048&nomeArquivo=Vol36No10_1533_08-NE13510.pdf',\n",
       " 'http://www.quimicanova.sbq.org.br/audiencia_pdf.asp?aid2=3049&nomeArquivo=Vol36No10_1540_09-NE13552.pdf',\n",
       " 'http://www.quimicanova.sbq.org.br/audiencia_pdf.asp?aid2=3050&nomeArquivo=Vol36No10_1552_10-NE13705.pdf',\n",
       " 'http://www.quimicanova.sbq.org.br/audiencia_pdf.asp?aid2=3051&nomeArquivo=Vol36No10_1557_11-NE13768.pdf',\n",
       " 'http://www.quimicanova.sbq.org.br/audiencia_pdf.asp?aid2=3052&nomeArquivo=Vol36No10_1561_12-NE13491.pdf',\n",
       " 'http://www.quimicanova.sbq.org.br/audiencia_pdf.asp?aid2=3052&nomeArquivo=v36n10a13-Supl01.pdf',\n",
       " 'http://www.quimicanova.sbq.org.br/audiencia_pdf.asp?aid2=3053&nomeArquivo=Vol36No10_1570_13-NE13511.pdf',\n",
       " 'http://www.quimicanova.sbq.org.br/audiencia_pdf.asp?aid2=3054&nomeArquivo=Vol36No10_1577_14-NE13632.pdf',\n",
       " 'http://www.quimicanova.sbq.org.br/audiencia_pdf.asp?aid2=3055&nomeArquivo=Vol36No10_1587_15-NE13640.pdf',\n",
       " 'http://www.quimicanova.sbq.org.br/audiencia_pdf.asp?aid2=3056&nomeArquivo=Vol36No10_1591_16-NE13490.pdf',\n",
       " 'http://www.quimicanova.sbq.org.br/audiencia_pdf.asp?aid2=3057&nomeArquivo=Vol36No10_1600_17-NE13571.pdf',\n",
       " 'http://www.quimicanova.sbq.org.br/audiencia_pdf.asp?aid2=3058&nomeArquivo=Vol36No10_1605_18-NE13655.pdf',\n",
       " 'http://www.quimicanova.sbq.org.br/audiencia_pdf.asp?aid2=6070&nomeArquivo=46-secretarias_SBQ-v36n10.pdf',\n",
       " 'http://www.quimicanova.sbq.org.br/audiencia_pdf.asp?aid2=111&nomeArquivo=000-sumario28-1.pdf',\n",
       " 'http://www.quimicanova.sbq.org.br/audiencia_pdf.asp?aid2=3059&nomeArquivo=Vol28No1_3_001-editoria28-1.pdf',\n",
       " 'http://www.quimicanova.sbq.org.br/audiencia_pdf.asp?aid2=3061&nomeArquivo=Vol28No1_5_01-AR03260.pdf',\n",
       " 'http://www.quimicanova.sbq.org.br/audiencia_pdf.asp?aid2=3067&nomeArquivo=Vol28No1_10_02-AR03276.pdf',\n",
       " 'http://www.quimicanova.sbq.org.br/audiencia_pdf.asp?aid2=3073&nomeArquivo=Vol28No1_19_03-AR03277.pdf',\n",
       " 'http://www.quimicanova.sbq.org.br/audiencia_pdf.asp?aid2=3075&nomeArquivo=Vol28No1_24_04-AR03284.pdf',\n",
       " 'http://www.quimicanova.sbq.org.br/audiencia_pdf.asp?aid2=3078&nomeArquivo=Vol28No1_30_05-AR03320.pdf',\n",
       " 'http://www.quimicanova.sbq.org.br/audiencia_pdf.asp?aid2=3081&nomeArquivo=Vol28No1_37_06-AR04004.pdf',\n",
       " 'http://www.quimicanova.sbq.org.br/audiencia_pdf.asp?aid2=3084&nomeArquivo=Vol28No1_42_07-AR04020.pdf',\n",
       " 'http://www.quimicanova.sbq.org.br/audiencia_pdf.asp?aid2=3101&nomeArquivo=Vol28No1_46_08-AR04030.pdf',\n",
       " 'http://www.quimicanova.sbq.org.br/audiencia_pdf.asp?aid2=3104&nomeArquivo=Vol28No1_50_09-AR04032.pdf',\n",
       " 'http://www.quimicanova.sbq.org.br/audiencia_pdf.asp?aid2=3106&nomeArquivo=Vol28No1_54_10-AR04033.pdf',\n",
       " 'http://www.quimicanova.sbq.org.br/audiencia_pdf.asp?aid2=3109&nomeArquivo=Vol28No1_57_11-AR04041.pdf',\n",
       " 'http://www.quimicanova.sbq.org.br/audiencia_pdf.asp?aid2=3112&nomeArquivo=Vol28No1_61_12-AR04063.pdf',\n",
       " 'http://www.quimicanova.sbq.org.br/audiencia_pdf.asp?aid2=3115&nomeArquivo=Vol28No1_65_13-RV03270.pdf',\n",
       " 'http://www.quimicanova.sbq.org.br/audiencia_pdf.asp?aid2=3120&nomeArquivo=Vol28No1_73_14-RV03279.pdf',\n",
       " 'http://www.quimicanova.sbq.org.br/audiencia_pdf.asp?aid2=3123&nomeArquivo=Vol28No1_77_15-RV03293.pdf',\n",
       " 'http://www.quimicanova.sbq.org.br/audiencia_pdf.asp?aid2=3127&nomeArquivo=Vol28No1_85_16-RV03298.pdf',\n",
       " 'http://www.quimicanova.sbq.org.br/audiencia_pdf.asp?aid2=3130&nomeArquivo=Vol28No1_95_17-DV03291.pdf',\n",
       " 'http://www.quimicanova.sbq.org.br/audiencia_pdf.asp?aid2=3133&nomeArquivo=Vol28No1_103_18-DV03326.pdf',\n",
       " 'http://www.quimicanova.sbq.org.br/audiencia_pdf.asp?aid2=3137&nomeArquivo=Vol28No1_111_19-DV04036.pdf',\n",
       " 'http://www.quimicanova.sbq.org.br/audiencia_pdf.asp?aid2=3140&nomeArquivo=Vol28No1_118_20-DV04043.pdf',\n",
       " 'http://www.quimicanova.sbq.org.br/audiencia_pdf.asp?aid2=3142&nomeArquivo=Vol28No1_130_21-DV04091.pdf',\n",
       " 'http://www.quimicanova.sbq.org.br/audiencia_pdf.asp?aid2=3145&nomeArquivo=Vol28No1_137_22-NT03292.pdf',\n",
       " 'http://www.quimicanova.sbq.org.br/audiencia_pdf.asp?aid2=3147&nomeArquivo=Vol28No1_141_23-NT03316.pdf',\n",
       " 'http://www.quimicanova.sbq.org.br/audiencia_pdf.asp?aid2=3152&nomeArquivo=Vol28No1_145_24-NT04010.pdf',\n",
       " 'http://www.quimicanova.sbq.org.br/audiencia_pdf.asp?aid2=3156&nomeArquivo=Vol28No1_149_25-ED03259.pdf',\n",
       " 'http://www.quimicanova.sbq.org.br/audiencia_pdf.asp?aid2=3158&nomeArquivo=Vol28No1_153_26-ED03311.pdf',\n",
       " 'http://www.quimicanova.sbq.org.br/audiencia_pdf.asp?aid2=3161&nomeArquivo=Vol28No1_157_27-AG03220.pdf',\n",
       " 'http://www.quimicanova.sbq.org.br/audiencia_pdf.asp?aid2=3167&nomeArquivo=Vol28No1_166_28-AG03314.pdf',\n",
       " 'http://www.quimicanova.sbq.org.br/audiencia_pdf.asp?aid2=5870&nomeArquivo=29-assessores2004.pdf',\n",
       " 'http://www.quimicanova.sbq.org.br/audiencia_pdf.asp?aid2=6096&nomeArquivo=30-Normas2005.pdf',\n",
       " 'http://www.quimicanova.sbq.org.br/audiencia_pdf.asp?aid2=112&nomeArquivo=00-sumario28-2.pdf',\n",
       " 'http://www.quimicanova.sbq.org.br/audiencia_pdf.asp?aid2=3060&nomeArquivo=Vol28No2_177_00-editorial28-2.pdf',\n",
       " 'http://www.quimicanova.sbq.org.br/audiencia_pdf.asp?aid2=3062&nomeArquivo=Vol28No2_179_01-AR03156.pdf',\n",
       " 'http://www.quimicanova.sbq.org.br/audiencia_pdf.asp?aid2=3069&nomeArquivo=Vol28No2_183_02-AR03248.pdf',\n",
       " 'http://www.quimicanova.sbq.org.br/audiencia_pdf.asp?aid2=3074&nomeArquivo=Vol28No2_188_03-AR03313.pdf',\n",
       " 'http://www.quimicanova.sbq.org.br/audiencia_pdf.asp?aid2=3076&nomeArquivo=Vol28No2_192_04-AR03319.pdf',\n",
       " 'http://www.quimicanova.sbq.org.br/audiencia_pdf.asp?aid2=3079&nomeArquivo=Vol28No2_199_05-AR03327.pdf',\n",
       " 'http://www.quimicanova.sbq.org.br/audiencia_pdf.asp?aid2=3083&nomeArquivo=Vol28No2_204_06-AR04009.pdf',\n",
       " 'http://www.quimicanova.sbq.org.br/audiencia_pdf.asp?aid2=3087&nomeArquivo=Vol28No2_211_07-AR04042.pdf',\n",
       " 'http://www.quimicanova.sbq.org.br/audiencia_pdf.asp?aid2=3103&nomeArquivo=Vol28No2_217_08-AR04052.pdf',\n",
       " 'http://www.quimicanova.sbq.org.br/audiencia_pdf.asp?aid2=3105&nomeArquivo=Vol28No2_224_09-AR04059.pdf',\n",
       " 'http://www.quimicanova.sbq.org.br/audiencia_pdf.asp?aid2=3108&nomeArquivo=Vol28No2_226_10-AR04065.pdf',\n",
       " 'http://www.quimicanova.sbq.org.br/audiencia_pdf.asp?aid2=3110&nomeArquivo=Vol28No2_229_11-AR04071.pdf',\n",
       " 'http://www.quimicanova.sbq.org.br/audiencia_pdf.asp?aid2=3114&nomeArquivo=Vol28No2_233_12-AR04074.pdf',\n",
       " 'http://www.quimicanova.sbq.org.br/audiencia_pdf.asp?aid2=3119&nomeArquivo=Vol28No2_238_13-AR04078.pdf',\n",
       " 'http://www.quimicanova.sbq.org.br/audiencia_pdf.asp?aid2=3121&nomeArquivo=Vol28No2_244_14-AR04117.pdf',\n",
       " 'http://www.quimicanova.sbq.org.br/audiencia_pdf.asp?aid2=3125&nomeArquivo=Vol28No2_250_15-AR04198.pdf',\n",
       " 'http://www.quimicanova.sbq.org.br/audiencia_pdf.asp?aid2=3129&nomeArquivo=Vol28No2_255_16-RV03290.pdf',\n",
       " 'http://www.quimicanova.sbq.org.br/audiencia_pdf.asp?aid2=3131&nomeArquivo=Vol28No2_264_17-RV04021.pdf',\n",
       " 'http://www.quimicanova.sbq.org.br/audiencia_pdf.asp?aid2=3135&nomeArquivo=Vol28No2_274_18-RV04028.pdf',\n",
       " 'http://www.quimicanova.sbq.org.br/audiencia_pdf.asp?aid2=3139&nomeArquivo=Vol28No2_281_19-RV04035.pdf',\n",
       " 'http://www.quimicanova.sbq.org.br/audiencia_pdf.asp?aid2=3141&nomeArquivo=Vol28No2_289_20-RV04102.pdf',\n",
       " 'http://www.quimicanova.sbq.org.br/audiencia_pdf.asp?aid2=3144&nomeArquivo=Vol28No2_296_21-DV03325.pdf',\n",
       " 'http://www.quimicanova.sbq.org.br/audiencia_pdf.asp?aid2=3146&nomeArquivo=Vol28No2_306_22-DV04045.pdf',\n",
       " 'http://www.quimicanova.sbq.org.br/audiencia_pdf.asp?aid2=3150&nomeArquivo=Vol28No2_317_23-DV04125.pdf',\n",
       " 'http://www.quimicanova.sbq.org.br/audiencia_pdf.asp?aid2=3155&nomeArquivo=Vol28No2_326_24-DV04187.pdf',\n",
       " 'http://www.quimicanova.sbq.org.br/audiencia_pdf.asp?aid2=3157&nomeArquivo=Vol28No2_329_25-DV04211.pdf',\n",
       " 'http://www.quimicanova.sbq.org.br/audiencia_pdf.asp?aid2=3160&nomeArquivo=Vol28No2_335_26-DV04308.pdf',\n",
       " 'http://www.quimicanova.sbq.org.br/audiencia_pdf.asp?aid2=3162&nomeArquivo=Vol28No2_337_27-NT04015.pdf',\n",
       " 'http://www.quimicanova.sbq.org.br/audiencia_pdf.asp?aid2=3169&nomeArquivo=Vol28No2_340_28-NT04190.pdf',\n",
       " 'http://www.quimicanova.sbq.org.br/audiencia_pdf.asp?aid2=3172&nomeArquivo=Vol28No2_345_29-ED04001.pdf',\n",
       " 'http://www.quimicanova.sbq.org.br/audiencia_pdf.asp?aid2=3178&nomeArquivo=Vol28No2_350_30-ED04011.pdf',\n",
       " 'http://www.quimicanova.sbq.org.br/audiencia_pdf.asp?aid2=3181&nomeArquivo=Vol28No2_360_31-ED04025.pdf',\n",
       " 'http://www.quimicanova.sbq.org.br/audiencia_pdf.asp?aid2=3184&nomeArquivo=Vol28No2_364_32-ED04166.pdf',\n",
       " 'http://www.quimicanova.sbq.org.br/audiencia_pdf.asp?aid2=113&nomeArquivo=00-sumario28-3.pdf',\n",
       " 'http://www.quimicanova.sbq.org.br/audiencia_pdf.asp?aid2=3063&nomeArquivo=Vol28No3_369_00-editoria28-3.pdf',\n",
       " 'http://www.quimicanova.sbq.org.br/audiencia_pdf.asp?aid2=3065&nomeArquivo=Vol28No3_371_01-AR03330.pdf',\n",
       " 'http://www.quimicanova.sbq.org.br/audiencia_pdf.asp?aid2=3068&nomeArquivo=Vol28No3_380_02-AR03332.pdf',\n",
       " 'http://www.quimicanova.sbq.org.br/audiencia_pdf.asp?aid2=3071&nomeArquivo=Vol28No3_383_03-AR04018.pdf',\n",
       " 'http://www.quimicanova.sbq.org.br/audiencia_pdf.asp?aid2=3077&nomeArquivo=Vol28No3_393_04-AR04019.pdf',\n",
       " 'http://www.quimicanova.sbq.org.br/audiencia_pdf.asp?aid2=3082&nomeArquivo=Vol28No3_397_05-AR04023.pdf',\n",
       " 'http://www.quimicanova.sbq.org.br/audiencia_pdf.asp?aid2=3086&nomeArquivo=Vol28No3_402_06-AR04056.pdf',\n",
       " 'http://www.quimicanova.sbq.org.br/audiencia_pdf.asp?aid2=3089&nomeArquivo=Vol28No3_405_07-AR04066.pdf',\n",
       " 'http://www.quimicanova.sbq.org.br/audiencia_pdf.asp?aid2=3091&nomeArquivo=Vol28No3_409_08-AR04080.pdf',\n",
       " 'http://www.quimicanova.sbq.org.br/audiencia_pdf.asp?aid2=3093&nomeArquivo=Vol28No3_414_09-AR04088.pdf',\n",
       " 'http://www.quimicanova.sbq.org.br/audiencia_pdf.asp?aid2=3095&nomeArquivo=Vol28No3_421_10-AR04090.pdf',\n",
       " 'http://www.quimicanova.sbq.org.br/audiencia_pdf.asp?aid2=3097&nomeArquivo=Vol28No3_426_11-AR04092.pdf',\n",
       " 'http://www.quimicanova.sbq.org.br/audiencia_pdf.asp?aid2=3099&nomeArquivo=Vol28No3_433_12-AR04099.pdf',\n",
       " 'http://www.quimicanova.sbq.org.br/audiencia_pdf.asp?aid2=3102&nomeArquivo=Vol28No3_438_13-AR04103.pdf',\n",
       " 'http://www.quimicanova.sbq.org.br/audiencia_pdf.asp?aid2=3111&nomeArquivo=Vol28No3_444_14-AR04126.pdf',\n",
       " 'http://www.quimicanova.sbq.org.br/audiencia_pdf.asp?aid2=3116&nomeArquivo=Vol28No3_451_15-AR04128.pdf',\n",
       " 'http://www.quimicanova.sbq.org.br/audiencia_pdf.asp?aid2=3118&nomeArquivo=Vol28No3_456_16-AR04131.pdf',\n",
       " 'http://www.quimicanova.sbq.org.br/audiencia_pdf.asp?aid2=3122&nomeArquivo=Vol28No3_462_17-RV04048.pdf',\n",
       " 'http://www.quimicanova.sbq.org.br/audiencia_pdf.asp?aid2=3124&nomeArquivo=Vol28No3_472_18-RV04108.pdf',\n",
       " 'http://www.quimicanova.sbq.org.br/audiencia_pdf.asp?aid2=3126&nomeArquivo=Vol28No3_478_19-RV04174.pdf',\n",
       " 'http://www.quimicanova.sbq.org.br/audiencia_pdf.asp?aid2=3128&nomeArquivo=Vol28No3_483_20-RV04213.pdf',\n",
       " 'http://www.quimicanova.sbq.org.br/audiencia_pdf.asp?aid2=3132&nomeArquivo=Vol28No3_492_21-DV03333.pdf',\n",
       " 'http://www.quimicanova.sbq.org.br/audiencia_pdf.asp?aid2=3134&nomeArquivo=Vol28No3_497_22-DV04145.pdf',\n",
       " 'http://www.quimicanova.sbq.org.br/audiencia_pdf.asp?aid2=3136&nomeArquivo=Vol28No3_502_23-DV04146.pdf',\n",
       " 'http://www.quimicanova.sbq.org.br/audiencia_pdf.asp?aid2=3138&nomeArquivo=Vol28No3_511_24-DV04158.pdf',\n",
       " 'http://www.quimicanova.sbq.org.br/audiencia_pdf.asp?aid2=3143&nomeArquivo=Vol28No3_519_25-DV04176.pdf',\n",
       " 'http://www.quimicanova.sbq.org.br/audiencia_pdf.asp?aid2=3148&nomeArquivo=Vol28No3_529_26-NT04060.pdf',\n",
       " 'http://www.quimicanova.sbq.org.br/audiencia_pdf.asp?aid2=3149&nomeArquivo=Vol28No3_535_27-NT04149.pdf',\n",
       " 'http://www.quimicanova.sbq.org.br/audiencia_pdf.asp?aid2=3151&nomeArquivo=Vol28No3_539_28-NT04184.pdf',\n",
       " 'http://www.quimicanova.sbq.org.br/audiencia_pdf.asp?aid2=3153&nomeArquivo=Vol28No3_544_29-ED03324.pdf',\n",
       " 'http://www.quimicanova.sbq.org.br/audiencia_pdf.asp?aid2=3154&nomeArquivo=Vol28No3_548_30-ED04008.pdf',\n",
       " 'http://www.quimicanova.sbq.org.br/audiencia_pdf.asp?aid2=3159&nomeArquivo=Vol28No3_555_31-programa-2005.pdf',\n",
       " 'http://www.quimicanova.sbq.org.br/audiencia_pdf.asp?aid2=114&nomeArquivo=00-sumario28-4.pdf',\n",
       " 'http://www.quimicanova.sbq.org.br/audiencia_pdf.asp?aid2=3064&nomeArquivo=Vol28No4_563_00-editoria28-4.pdf',\n",
       " 'http://www.quimicanova.sbq.org.br/audiencia_pdf.asp?aid2=3066&nomeArquivo=Vol28No4_565_01-AR03271.pdf',\n",
       " 'http://www.quimicanova.sbq.org.br/audiencia_pdf.asp?aid2=3070&nomeArquivo=Vol28No4_575_02-AR04005.pdf',\n",
       " 'http://www.quimicanova.sbq.org.br/audiencia_pdf.asp?aid2=3072&nomeArquivo=Vol28No4_579_03-AR04067.pdf',\n",
       " 'http://www.quimicanova.sbq.org.br/audiencia_pdf.asp?aid2=3080&nomeArquivo=Vol28No4_583_04-AR04076.pdf',\n",
       " 'http://www.quimicanova.sbq.org.br/audiencia_pdf.asp?aid2=3085&nomeArquivo=Vol28No4_587_05-AR04084.pdf',\n",
       " 'http://www.quimicanova.sbq.org.br/audiencia_pdf.asp?aid2=3088&nomeArquivo=Vol28No4_591_06-AR04094.pdf',\n",
       " 'http://www.quimicanova.sbq.org.br/audiencia_pdf.asp?aid2=3090&nomeArquivo=Vol28No4_596_07-AR04107.pdf',\n",
       " 'http://www.quimicanova.sbq.org.br/audiencia_pdf.asp?aid2=3092&nomeArquivo=Vol28No4_601_08-AR04114.pdf',\n",
       " 'http://www.quimicanova.sbq.org.br/audiencia_pdf.asp?aid2=3094&nomeArquivo=Vol28No4_605_09-AR04127.pdf',\n",
       " 'http://www.quimicanova.sbq.org.br/audiencia_pdf.asp?aid2=3096&nomeArquivo=Vol28No4_610_10-AR04130.pdf',\n",
       " 'http://www.quimicanova.sbq.org.br/audiencia_pdf.asp?aid2=3098&nomeArquivo=Vol28No4_614_11-AR04147.pdf',\n",
       " 'http://www.quimicanova.sbq.org.br/audiencia_pdf.asp?aid2=3100&nomeArquivo=Vol28No4_622_12-AR04148.pdf',\n",
       " 'http://www.quimicanova.sbq.org.br/audiencia_pdf.asp?aid2=3107&nomeArquivo=Vol28No4_629_13-AR04162.pdf',\n",
       " 'http://www.quimicanova.sbq.org.br/audiencia_pdf.asp?aid2=3113&nomeArquivo=Vol28No4_633_14-AR04164.pdf',\n",
       " 'http://www.quimicanova.sbq.org.br/audiencia_pdf.asp?aid2=3117&nomeArquivo=Vol28No4_637_15-AR04165.pdf',\n",
       " 'http://www.quimicanova.sbq.org.br/audiencia_pdf.asp?aid2=5872&nomeArquivo=Vol28No4_637_16-RV04068.pdf',\n",
       " 'http://www.quimicanova.sbq.org.br/audiencia_pdf.asp?aid2=5873&nomeArquivo=Vol28No4_637_17-RV04134.pdf',\n",
       " 'http://www.quimicanova.sbq.org.br/audiencia_pdf.asp?aid2=5874&nomeArquivo=Vol28No4_637_18-RV04201.pdf',\n",
       " 'http://www.quimicanova.sbq.org.br/audiencia_pdf.asp?aid2=5875&nomeArquivo=Vol28No4_637_19-RV04225.pdf',\n",
       " 'http://www.quimicanova.sbq.org.br/audiencia_pdf.asp?aid2=5876&nomeArquivo=Vol28No4_637_20-DV04185.pdf',\n",
       " 'http://www.quimicanova.sbq.org.br/audiencia_pdf.asp?aid2=5877&nomeArquivo=Vol28No4_637_21-DV04209.pdf',\n",
       " 'http://www.quimicanova.sbq.org.br/audiencia_pdf.asp?aid2=5878&nomeArquivo=Vol28No4_637_22-DV04223.pdf',\n",
       " 'http://www.quimicanova.sbq.org.br/audiencia_pdf.asp?aid2=5879&nomeArquivo=Vol28No4_637_23-DV04227.pdf',\n",
       " 'http://www.quimicanova.sbq.org.br/audiencia_pdf.asp?aid2=5880&nomeArquivo=Vol28No4_637_24-DV04266.pdf',\n",
       " 'http://www.quimicanova.sbq.org.br/audiencia_pdf.asp?aid2=5881&nomeArquivo=Vol28No4_637_25-NT04118.pdf',\n",
       " 'http://www.quimicanova.sbq.org.br/audiencia_pdf.asp?aid2=5882&nomeArquivo=Vol28No4_637_26-NT04224.pdf',\n",
       " 'http://www.quimicanova.sbq.org.br/audiencia_pdf.asp?aid2=5883&nomeArquivo=Vol28No4_637_27-NT04286.pdf',\n",
       " 'http://www.quimicanova.sbq.org.br/audiencia_pdf.asp?aid2=5884&nomeArquivo=Vol28No4_637_28-ED04119.pdf',\n",
       " 'http://www.quimicanova.sbq.org.br/audiencia_pdf.asp?aid2=5885&nomeArquivo=Vol28No4_637_29-ED04246.pdf',\n",
       " 'http://www.quimicanova.sbq.org.br/audiencia_pdf.asp?aid2=5886&nomeArquivo=Vol28No4_637_30-AG04251.pdf',\n",
       " 'http://www.quimicanova.sbq.org.br/audiencia_pdf.asp?aid2=5887&nomeArquivo=Vol28No4_637_31-AG04380.pdf',\n",
       " 'http://www.quimicanova.sbq.org.br/audiencia_pdf.asp?aid2=115&nomeArquivo=00-sumario28-5.pdf',\n",
       " 'http://www.quimicanova.sbq.org.br/audiencia_pdf.asp?aid2=3163&nomeArquivo=Vol28No5_745_00-editoria28-5.pdf',\n",
       " 'http://www.quimicanova.sbq.org.br/audiencia_pdf.asp?aid2=3164&nomeArquivo=Vol28No5_747_01-AR04093.pdf',\n",
       " 'http://www.quimicanova.sbq.org.br/audiencia_pdf.asp?aid2=3166&nomeArquivo=Vol28No5_751_02-AR04100.pdf',\n",
       " 'http://www.quimicanova.sbq.org.br/audiencia_pdf.asp?aid2=3168&nomeArquivo=Vol28No5_756_03-AR04106.pdf',\n",
       " 'http://www.quimicanova.sbq.org.br/audiencia_pdf.asp?aid2=3170&nomeArquivo=Vol28No5_761_04-AR04109.pdf',\n",
       " 'http://www.quimicanova.sbq.org.br/audiencia_pdf.asp?aid2=3177&nomeArquivo=Vol28No5_766_05-AR04111.pdf',\n",
       " 'http://www.quimicanova.sbq.org.br/audiencia_pdf.asp?aid2=3180&nomeArquivo=Vol28No5_773_06-AR04113.pdf',\n",
       " 'http://www.quimicanova.sbq.org.br/audiencia_pdf.asp?aid2=3182&nomeArquivo=Vol28No5_777_07-AR04136.pdf',\n",
       " 'http://www.quimicanova.sbq.org.br/audiencia_pdf.asp?aid2=3186&nomeArquivo=Vol28No5_783_08-AR04139.pdf',\n",
       " 'http://www.quimicanova.sbq.org.br/audiencia_pdf.asp?aid2=3187&nomeArquivo=Vol28No5_788_09-AR04194.pdf',\n",
       " 'http://www.quimicanova.sbq.org.br/audiencia_pdf.asp?aid2=3188&nomeArquivo=Vol28No5_792_10-AR04197.pdf',\n",
       " 'http://www.quimicanova.sbq.org.br/audiencia_pdf.asp?aid2=3189&nomeArquivo=Vol28No5_797_11-AR04208.pdf',\n",
       " 'http://www.quimicanova.sbq.org.br/audiencia_pdf.asp?aid2=3190&nomeArquivo=Vol28No5_801_12-AR04220.pdf',\n",
       " 'http://www.quimicanova.sbq.org.br/audiencia_pdf.asp?aid2=3193&nomeArquivo=Vol28No5_805_13-AR04231.pdf',\n",
       " 'http://www.quimicanova.sbq.org.br/audiencia_pdf.asp?aid2=3194&nomeArquivo=Vol28No5_809_14-AR04234.pdf',\n",
       " 'http://www.quimicanova.sbq.org.br/audiencia_pdf.asp?aid2=3197&nomeArquivo=Vol28No5_813_15-AR04244.pdf',\n",
       " 'http://www.quimicanova.sbq.org.br/audiencia_pdf.asp?aid2=3199&nomeArquivo=Vol28No5_817_16-AR04250.pdf',\n",
       " 'http://www.quimicanova.sbq.org.br/audiencia_pdf.asp?aid2=3201&nomeArquivo=Vol28No5_822_17-AR04256.pdf',\n",
       " 'http://www.quimicanova.sbq.org.br/audiencia_pdf.asp?aid2=3202&nomeArquivo=Vol28No5_829_18-AR04276.pdf',\n",
       " 'http://www.quimicanova.sbq.org.br/audiencia_pdf.asp?aid2=3203&nomeArquivo=Vol28No5_834_19-AR04277.pdf',\n",
       " 'http://www.quimicanova.sbq.org.br/audiencia_pdf.asp?aid2=3204&nomeArquivo=Vol28No5_838_20-AR04289.pdf',\n",
       " 'http://www.quimicanova.sbq.org.br/audiencia_pdf.asp?aid2=3206&nomeArquivo=Vol28No5_842_21-AR04297.pdf',\n",
       " 'http://www.quimicanova.sbq.org.br/audiencia_pdf.asp?aid2=3208&nomeArquivo=Vol28No5_847_22-AR04323.pdf',\n",
       " 'http://www.quimicanova.sbq.org.br/audiencia_pdf.asp?aid2=3209&nomeArquivo=Vol28No5_852_23-RV04110.pdf',\n",
       " 'http://www.quimicanova.sbq.org.br/audiencia_pdf.asp?aid2=3211&nomeArquivo=Vol28No5_859_24-RV04160.pdf',\n",
       " 'http://www.quimicanova.sbq.org.br/audiencia_pdf.asp?aid2=3215&nomeArquivo=Vol28No5_871_25-RV04178.pdf',\n",
       " 'http://www.quimicanova.sbq.org.br/audiencia_pdf.asp?aid2=3216&nomeArquivo=Vol28No5_880_26-RV04233.pdf',\n",
       " 'http://www.quimicanova.sbq.org.br/audiencia_pdf.asp?aid2=3218&nomeArquivo=Vol28No5_887_27-RV04269.pdf',\n",
       " 'http://www.quimicanova.sbq.org.br/audiencia_pdf.asp?aid2=3220&nomeArquivo=Vol28No5_892_28-DV04096.pdf',\n",
       " 'http://www.quimicanova.sbq.org.br/audiencia_pdf.asp?aid2=3221&nomeArquivo=Vol28No5_897_29-DV04195.pdf',\n",
       " 'http://www.quimicanova.sbq.org.br/audiencia_pdf.asp?aid2=3222&nomeArquivo=Vol28No5_901_30-DV04214.pdf',\n",
       " 'http://www.quimicanova.sbq.org.br/audiencia_pdf.asp?aid2=3224&nomeArquivo=Vol28No5_910_31-DV04309.pdf',\n",
       " 'http://www.quimicanova.sbq.org.br/audiencia_pdf.asp?aid2=3225&nomeArquivo=Vol28No5_921_32-NT04017.pdf',\n",
       " 'http://www.quimicanova.sbq.org.br/audiencia_pdf.asp?aid2=3227&nomeArquivo=Vol28No5_927_33-NT04261.pdf',\n",
       " 'http://www.quimicanova.sbq.org.br/audiencia_pdf.asp?aid2=3228&nomeArquivo=Vol28No5_929_34-ED04133.pdf',\n",
       " 'http://www.quimicanova.sbq.org.br/audiencia_pdf.asp?aid2=3229&nomeArquivo=Vol28No5_932_35-ED04204.pdf',\n",
       " 'http://www.quimicanova.sbq.org.br/audiencia_pdf.asp?aid2=116&nomeArquivo=00-sumario28-supl.pdf',\n",
       " 'http://www.quimicanova.sbq.org.br/audiencia_pdf.asp?aid2=3165&nomeArquivo=Vol28NoSuplemento_S5_00-editoria28-supl.pdf',\n",
       " 'http://www.quimicanova.sbq.org.br/audiencia_pdf.asp?aid2=5893&nomeArquivo=Vol28NoSuplemento_S7_01-CGEE21.pdf',\n",
       " 'http://www.quimicanova.sbq.org.br/audiencia_pdf.asp?aid2=5894&nomeArquivo=Vol28NoSuplemento_S11_02-CGEE13.pdf',\n",
       " 'http://www.quimicanova.sbq.org.br/audiencia_pdf.asp?aid2=5895&nomeArquivo=Vol28NoSuplemento_S14_03-CGEE14.pdf',\n",
       " 'http://www.quimicanova.sbq.org.br/audiencia_pdf.asp?aid2=5896&nomeArquivo=Vol28NoSuplemento_S18_04-CGEE01.pdf',\n",
       " 'http://www.quimicanova.sbq.org.br/audiencia_pdf.asp?aid2=5897&nomeArquivo=Vol28NoSuplemento_S26_05-CGEE18.pdf',\n",
       " 'http://www.quimicanova.sbq.org.br/audiencia_pdf.asp?aid2=5898&nomeArquivo=Vol28NoSuplemento_S36_06-CGEE08.pdf',\n",
       " 'http://www.quimicanova.sbq.org.br/audiencia_pdf.asp?aid2=5899&nomeArquivo=Vol28NoSuplemento_S41_07-CGEE20.pdf',\n",
       " 'http://www.quimicanova.sbq.org.br/audiencia_pdf.asp?aid2=5900&nomeArquivo=Vol28NoSuplemento_S44_08-CGEE23.pdf',\n",
       " 'http://www.quimicanova.sbq.org.br/audiencia_pdf.asp?aid2=5901&nomeArquivo=Vol28NoSuplemento_S48_09-CGEE15.pdf',\n",
       " 'http://www.quimicanova.sbq.org.br/audiencia_pdf.asp?aid2=5902&nomeArquivo=Vol28NoSuplemento_S52_10-CGEE11.pdf',\n",
       " 'http://www.quimicanova.sbq.org.br/audiencia_pdf.asp?aid2=5903&nomeArquivo=Vol28NoSuplemento_S56_11-CGEE19.pdf',\n",
       " 'http://www.quimicanova.sbq.org.br/audiencia_pdf.asp?aid2=5904&nomeArquivo=Vol28NoSuplemento_S64_12-CGEE22.pdf',\n",
       " 'http://www.quimicanova.sbq.org.br/audiencia_pdf.asp?aid2=5905&nomeArquivo=Vol28NoSuplemento_S76_13-CGEE09.pdf',\n",
       " 'http://www.quimicanova.sbq.org.br/audiencia_pdf.asp?aid2=5906&nomeArquivo=Vol28NoSuplemento_S79_14-CGEE02.pdf',\n",
       " 'http://www.quimicanova.sbq.org.br/audiencia_pdf.asp?aid2=5907&nomeArquivo=Vol28NoSuplemento_S86_15-CGEE06.pdf',\n",
       " 'http://www.quimicanova.sbq.org.br/audiencia_pdf.asp?aid2=5908&nomeArquivo=Vol28NoSuplemento_S91_16-CGEE12.pdf',\n",
       " 'http://www.quimicanova.sbq.org.br/audiencia_pdf.asp?aid2=5909&nomeArquivo=Vol28NoSuplemento_S95_17-CGEE10.pdf',\n",
       " 'http://www.quimicanova.sbq.org.br/audiencia_pdf.asp?aid2=5910&nomeArquivo=Vol28NoSuplemento_S100_18-CGEE03.pdf',\n",
       " 'http://www.quimicanova.sbq.org.br/audiencia_pdf.asp?aid2=5911&nomeArquivo=Vol28NoSuplemento_S104_19-CGEE04.pdf',\n",
       " 'http://www.quimicanova.sbq.org.br/audiencia_pdf.asp?aid2=5912&nomeArquivo=Vol28NoSuplemento_S107_20-CGEE05.pdf',\n",
       " 'http://www.quimicanova.sbq.org.br/audiencia_pdf.asp?aid2=5913&nomeArquivo=Vol28NoSuplemento_S112_21-CGEE07.pdf',\n",
       " 'http://www.quimicanova.sbq.org.br/audiencia_pdf.asp?aid2=117&nomeArquivo=00-sumario28-6.pdf',\n",
       " 'http://www.quimicanova.sbq.org.br/audiencia_pdf.asp?aid2=3171&nomeArquivo=Vol28No6_939_00-editoria28-6.pdf',\n",
       " 'http://www.quimicanova.sbq.org.br/audiencia_pdf.asp?aid2=3173&nomeArquivo=Vol28No6_941_01-AR04079.pdf',\n",
       " 'http://www.quimicanova.sbq.org.br/audiencia_pdf.asp?aid2=3174&nomeArquivo=Vol28No6_947_02-AR04124.pdf',\n",
       " 'http://www.quimicanova.sbq.org.br/audiencia_pdf.asp?aid2=3175&nomeArquivo=Vol28No6_952_03-AR04135.pdf',\n",
       " 'http://www.quimicanova.sbq.org.br/audiencia_pdf.asp?aid2=3176&nomeArquivo=Vol28No6_957_04-AR04171.pdf',\n",
       " 'http://www.quimicanova.sbq.org.br/audiencia_pdf.asp?aid2=3179&nomeArquivo=Vol28No6_964_05-AR04212.pdf',\n",
       " 'http://www.quimicanova.sbq.org.br/audiencia_pdf.asp?aid2=3183&nomeArquivo=Vol28No6_968_06-AR04216.pdf',\n",
       " 'http://www.quimicanova.sbq.org.br/audiencia_pdf.asp?aid2=3185&nomeArquivo=Vol28No6_975_07-AR04236.pdf',\n",
       " 'http://www.quimicanova.sbq.org.br/audiencia_pdf.asp?aid2=3191&nomeArquivo=Vol28No6_983_08-AR04259.pdf',\n",
       " 'http://www.quimicanova.sbq.org.br/audiencia_pdf.asp?aid2=3192&nomeArquivo=Vol28No6_986_09-AR04283.pdf',\n",
       " 'http://www.quimicanova.sbq.org.br/audiencia_pdf.asp?aid2=3195&nomeArquivo=Vol28No6_991_10-AR04290.pdf',\n",
       " 'http://www.quimicanova.sbq.org.br/audiencia_pdf.asp?aid2=3196&nomeArquivo=Vol28No6_996_11-AR04301.pdf',\n",
       " 'http://www.quimicanova.sbq.org.br/audiencia_pdf.asp?aid2=3198&nomeArquivo=Vol28No6_1000_12-AR04312.pdf',\n",
       " 'http://www.quimicanova.sbq.org.br/audiencia_pdf.asp?aid2=3200&nomeArquivo=Vol28No6_1006_13-AR04325.pdf',\n",
       " 'http://www.quimicanova.sbq.org.br/audiencia_pdf.asp?aid2=3205&nomeArquivo=Vol28No6_1010_14-AR04326.pdf',\n",
       " 'http://www.quimicanova.sbq.org.br/audiencia_pdf.asp?aid2=3207&nomeArquivo=Vol28No6_1014_15-AR04330.pdf',\n",
       " 'http://www.quimicanova.sbq.org.br/audiencia_pdf.asp?aid2=3210&nomeArquivo=Vol28No6_1023_16-AR04350.pdf',\n",
       " 'http://www.quimicanova.sbq.org.br/audiencia_pdf.asp?aid2=3212&nomeArquivo=Vol28No6_1030_17-RV04252.pdf',\n",
       " 'http://www.quimicanova.sbq.org.br/audiencia_pdf.asp?aid2=3213&nomeArquivo=Vol28No6_1038_18-RV04313.pdf',\n",
       " 'http://www.quimicanova.sbq.org.br/audiencia_pdf.asp?aid2=3214&nomeArquivo=Vol28No6_1046_19-RV04321.pdf',\n",
       " 'http://www.quimicanova.sbq.org.br/audiencia_pdf.asp?aid2=3217&nomeArquivo=Vol28No6_1055_20-RV04338.pdf',\n",
       " 'http://www.quimicanova.sbq.org.br/audiencia_pdf.asp?aid2=3219&nomeArquivo=Vol28No6_1061_21-DV04230.pdf',\n",
       " 'http://www.quimicanova.sbq.org.br/audiencia_pdf.asp?aid2=3223&nomeArquivo=Vol28No6_1066_22-DV04346.pdf',\n",
       " 'http://www.quimicanova.sbq.org.br/audiencia_pdf.asp?aid2=3226&nomeArquivo=Vol28No6_1076_23-DV04355.pdf',\n",
       " 'http://www.quimicanova.sbq.org.br/audiencia_pdf.asp?aid2=3231&nomeArquivo=Vol28No6_1087_24-DV04377.pdf',\n",
       " 'http://www.quimicanova.sbq.org.br/audiencia_pdf.asp?aid2=3232&nomeArquivo=Vol28No6_1102_25-NT04240.pdf',\n",
       " 'http://www.quimicanova.sbq.org.br/audiencia_pdf.asp?aid2=3233&nomeArquivo=Vol28No6_1106_26-NT04262.pdf',\n",
       " 'http://www.quimicanova.sbq.org.br/audiencia_pdf.asp?aid2=3234&nomeArquivo=Vol28No6_1111_27-ED04292.pdf',\n",
       " 'http://www.quimicanova.sbq.org.br/audiencia_pdf.asp?aid2=5888&nomeArquivo=Vol28No6_1111_28-ED04299.pdf',\n",
       " 'http://www.quimicanova.sbq.org.br/audiencia_pdf.asp?aid2=5889&nomeArquivo=Vol28No6_1111_29-ED04347.pdf',\n",
       " 'http://www.quimicanova.sbq.org.br/audiencia_pdf.asp?aid2=5890&nomeArquivo=Vol28No6_1111_30-CartaaoEditor.pdf',\n",
       " 'http://www.quimicanova.sbq.org.br/audiencia_pdf.asp?aid2=5891&nomeArquivo=Vol28No6_1111_31-indice-autores28-6.pdf',\n",
       " 'http://www.quimicanova.sbq.org.br/audiencia_pdf.asp?aid2=5892&nomeArquivo=Vol28No6_1111_32-indice-palavras28-6.pdf',\n",
       " 'http://www.quimicanova.sbq.org.br/audiencia_pdf.asp?aid2=118&nomeArquivo=v20_n2_00-sumario.pdf',\n",
       " 'http://www.quimicanova.sbq.org.br/audiencia_pdf.asp?aid2=3235&nomeArquivo=Vol20No2_123_v20_n2_00-editorial.pdf',\n",
       " 'http://www.quimicanova.sbq.org.br/audiencia_pdf.asp?aid2=3240&nomeArquivo=Vol20No2_125_v20_n2_01.pdf',\n",
       " 'http://www.quimicanova.sbq.org.br/audiencia_pdf.asp?aid2=3244&nomeArquivo=Vol20No2_132_v20_n2_02.pdf',\n",
       " 'http://www.quimicanova.sbq.org.br/audiencia_pdf.asp?aid2=3249&nomeArquivo=Vol20No2_137_v20_n2_03.pdf',\n",
       " 'http://www.quimicanova.sbq.org.br/audiencia_pdf.asp?aid2=3253&nomeArquivo=Vol20No2_146_v20_n2_04.pdf',\n",
       " 'http://www.quimicanova.sbq.org.br/audiencia_pdf.asp?aid2=3256&nomeArquivo=Vol20No2_150_v20_n2_05.pdf',\n",
       " 'http://www.quimicanova.sbq.org.br/audiencia_pdf.asp?aid2=3262&nomeArquivo=Vol20No2_154_v20_n2_06.pdf',\n",
       " 'http://www.quimicanova.sbq.org.br/audiencia_pdf.asp?aid2=3266&nomeArquivo=Vol20No2_158_v20_n2_07.pdf',\n",
       " 'http://www.quimicanova.sbq.org.br/audiencia_pdf.asp?aid2=3270&nomeArquivo=Vol20No2_170_v20_n2_08.pdf',\n",
       " 'http://www.quimicanova.sbq.org.br/audiencia_pdf.asp?aid2=3274&nomeArquivo=Vol20No2_186_v20_n2_09.pdf',\n",
       " 'http://www.quimicanova.sbq.org.br/audiencia_pdf.asp?aid2=3277&nomeArquivo=Vol20No2_191_v20_n2_10.pdf',\n",
       " 'http://www.quimicanova.sbq.org.br/audiencia_pdf.asp?aid2=3281&nomeArquivo=Vol20No2_196_v20_n2_11.pdf',\n",
       " 'http://www.quimicanova.sbq.org.br/audiencia_pdf.asp?aid2=3284&nomeArquivo=Vol20No2_200_v20_n2_12.pdf',\n",
       " 'http://www.quimicanova.sbq.org.br/audiencia_pdf.asp?aid2=3290&nomeArquivo=Vol20No2_208_v20_n2_13.pdf',\n",
       " 'http://www.quimicanova.sbq.org.br/audiencia_pdf.asp?aid2=3293&nomeArquivo=Vol20No2_213_v20_n2_14.pdf',\n",
       " 'http://www.quimicanova.sbq.org.br/audiencia_pdf.asp?aid2=3296&nomeArquivo=Vol20No2_219_v20_n2_15.pdf',\n",
       " 'http://www.quimicanova.sbq.org.br/audiencia_pdf.asp?aid2=3299&nomeArquivo=Vol20No2_226_v20_n2_16.pdf',\n",
       " 'http://www.quimicanova.sbq.org.br/audiencia_pdf.asp?aid2=119&nomeArquivo=v20_n3_00-sumario.pdf',\n",
       " 'http://www.quimicanova.sbq.org.br/audiencia_pdf.asp?aid2=3236&nomeArquivo=Vol20No3_231_v20_n3_00-editorial.pdf',\n",
       " 'http://www.quimicanova.sbq.org.br/audiencia_pdf.asp?aid2=3239&nomeArquivo=Vol20No3_233_v20_n3_01.pdf',\n",
       " 'http://www.quimicanova.sbq.org.br/audiencia_pdf.asp?aid2=3243&nomeArquivo=Vol20No3_238_v20_n3_02.pdf',\n",
       " 'http://www.quimicanova.sbq.org.br/audiencia_pdf.asp?aid2=3246&nomeArquivo=Vol20No3_245_v20_n3_03.pdf',\n",
       " 'http://www.quimicanova.sbq.org.br/audiencia_pdf.asp?aid2=3250&nomeArquivo=Vol20No3_252_v20_n3_04.pdf',\n",
       " 'http://www.quimicanova.sbq.org.br/audiencia_pdf.asp?aid2=3255&nomeArquivo=Vol20No3_261_v20_n3_05.pdf',\n",
       " 'http://www.quimicanova.sbq.org.br/audiencia_pdf.asp?aid2=3258&nomeArquivo=Vol20No3_267_v20_n3_06.pdf',\n",
       " 'http://www.quimicanova.sbq.org.br/audiencia_pdf.asp?aid2=3261&nomeArquivo=Vol20No3_270_v20_n3_07.pdf',\n",
       " 'http://www.quimicanova.sbq.org.br/audiencia_pdf.asp?aid2=3265&nomeArquivo=Vol20No3_279_v20_n3_08.pdf',\n",
       " 'http://www.quimicanova.sbq.org.br/audiencia_pdf.asp?aid2=3269&nomeArquivo=Vol20No3_293_v20_n3_09.pdf',\n",
       " 'http://www.quimicanova.sbq.org.br/audiencia_pdf.asp?aid2=3273&nomeArquivo=Vol20No3_300_v20_n3_10.pdf',\n",
       " 'http://www.quimicanova.sbq.org.br/audiencia_pdf.asp?aid2=3278&nomeArquivo=Vol20No3_311_v20_n3_10.pdf',\n",
       " 'http://www.quimicanova.sbq.org.br/audiencia_pdf.asp?aid2=3282&nomeArquivo=Vol20No3_313_v20_n3_12.pdf',\n",
       " 'http://www.quimicanova.sbq.org.br/audiencia_pdf.asp?aid2=3286&nomeArquivo=Vol20No3_319_v20_n3_13.pdf',\n",
       " 'http://www.quimicanova.sbq.org.br/audiencia_pdf.asp?aid2=3289&nomeArquivo=Vol20No3_324_v20_n3_14.pdf',\n",
       " 'http://www.quimicanova.sbq.org.br/audiencia_pdf.asp?aid2=3294&nomeArquivo=Vol20No3_335_v20_n3_15.pdf',\n",
       " 'http://www.quimicanova.sbq.org.br/audiencia_pdf.asp?aid2=3297&nomeArquivo=Vol20No3_339_v20_n3_16.pdf',\n",
       " 'http://www.quimicanova.sbq.org.br/audiencia_pdf.asp?aid2=12&nomeArquivo=00a-sumario32-3.pdf',\n",
       " 'http://www.quimicanova.sbq.org.br/audiencia_pdf.asp?aid2=286&nomeArquivo=Vol32No3_565_00b-editorial32-3.pdf',\n",
       " 'http://www.quimicanova.sbq.org.br/audiencia_pdf.asp?aid2=291&nomeArquivo=Vol32No3_567_01-QN09110.pdf',\n",
       " 'http://www.quimicanova.sbq.org.br/audiencia_pdf.asp?aid2=298&nomeArquivo=Vol32No3_571_02-QN09149.pdf',\n",
       " 'http://www.quimicanova.sbq.org.br/audiencia_pdf.asp?aid2=302&nomeArquivo=Vol32No3_582_03-QN08645.pdf',\n",
       " 'http://www.quimicanova.sbq.org.br/audiencia_pdf.asp?aid2=309&nomeArquivo=Vol32No3_588_04-QN09038.pdf',\n",
       " 'http://www.quimicanova.sbq.org.br/audiencia_pdf.asp?aid2=313&nomeArquivo=Vol32No3_595_05-QN09053.pdf',\n",
       " 'http://www.quimicanova.sbq.org.br/audiencia_pdf.asp?aid2=317&nomeArquivo=Vol32No3_623_06-QN09042.pdf',\n",
       " 'http://www.quimicanova.sbq.org.br/audiencia_pdf.asp?aid2=319&nomeArquivo=Vol32No3_639_07-QN09048.pdf',\n",
       " 'http://www.quimicanova.sbq.org.br/audiencia_pdf.asp?aid2=322&nomeArquivo=Vol32No3_649_08-QN09054.pdf',\n",
       " 'http://www.quimicanova.sbq.org.br/audiencia_pdf.asp?aid2=324&nomeArquivo=Vol32No3_661_09-QN09050.pdf',\n",
       " 'http://www.quimicanova.sbq.org.br/audiencia_pdf.asp?aid2=329&nomeArquivo=Vol32No3_672_10-QN09069.pdf',\n",
       " 'http://www.quimicanova.sbq.org.br/audiencia_pdf.asp?aid2=333&nomeArquivo=Vol32No3_679_11-QN09045.pdf',\n",
       " 'http://www.quimicanova.sbq.org.br/audiencia_pdf.asp?aid2=337&nomeArquivo=Vol32No3_689_12-QN09049.pdf',\n",
       " 'http://www.quimicanova.sbq.org.br/audiencia_pdf.asp?aid2=339&nomeArquivo=Vol32No3_703_13-QN09039.pdf',\n",
       " 'http://www.quimicanova.sbq.org.br/audiencia_pdf.asp?aid2=342&nomeArquivo=Vol32No3_717_14-QN08639.pdf',\n",
       " 'http://www.quimicanova.sbq.org.br/audiencia_pdf.asp?aid2=347&nomeArquivo=Vol32No3_722_15-QN09046.pdf',\n",
       " 'http://www.quimicanova.sbq.org.br/audiencia_pdf.asp?aid2=351&nomeArquivo=Vol32No3_732_16-QN09041.pdf',\n",
       " 'http://www.quimicanova.sbq.org.br/audiencia_pdf.asp?aid2=357&nomeArquivo=Vol32No3_742_17-QN09076.pdf',\n",
       " 'http://www.quimicanova.sbq.org.br/audiencia_pdf.asp?aid2=362&nomeArquivo=Vol32No3_757_18-QN09061.pdf',\n",
       " 'http://www.quimicanova.sbq.org.br/audiencia_pdf.asp?aid2=368&nomeArquivo=Vol32No3_768_19-QN09071.pdf',\n",
       " 'http://www.quimicanova.sbq.org.br/audiencia_pdf.asp?aid2=370&nomeArquivo=Vol32No3_776_20-QN09125.pdf',\n",
       " 'http://www.quimicanova.sbq.org.br/audiencia_pdf.asp?aid2=372&nomeArquivo=Vol32No3_793_21-QN09027.pdf',\n",
       " 'http://www.quimicanova.sbq.org.br/audiencia_pdf.asp?aid2=382&nomeArquivo=Vol32No3_809_22-QN09036.pdf',\n",
       " 'http://www.quimicanova.sbq.org.br/audiencia_pdf.asp?aid2=386&nomeArquivo=Vol32No3_818_23-QN09043.pdf',\n",
       " 'http://www.quimicanova.sbq.org.br/audiencia_pdf.asp?aid2=120&nomeArquivo=v20_n4_00-sumario.pdf',\n",
       " 'http://www.quimicanova.sbq.org.br/audiencia_pdf.asp?aid2=3237&nomeArquivo=Vol20No4_347_v20_n4_00-editorial.pdf',\n",
       " 'http://www.quimicanova.sbq.org.br/audiencia_pdf.asp?aid2=3241&nomeArquivo=Vol20No4_349_v20_n4_01.pdf',\n",
       " 'http://www.quimicanova.sbq.org.br/audiencia_pdf.asp?aid2=3245&nomeArquivo=Vol20No4_356_v20_n4_02.pdf',\n",
       " 'http://www.quimicanova.sbq.org.br/audiencia_pdf.asp?aid2=3247&nomeArquivo=Vol20No4_361_v20_n4_03.pdf',\n",
       " 'http://www.quimicanova.sbq.org.br/audiencia_pdf.asp?aid2=3252&nomeArquivo=Vol20No4_365_v20_n4_04.pdf',\n",
       " 'http://www.quimicanova.sbq.org.br/audiencia_pdf.asp?aid2=3257&nomeArquivo=Vol20No4_372_v20_n4_05.pdf',\n",
       " 'http://www.quimicanova.sbq.org.br/audiencia_pdf.asp?aid2=3260&nomeArquivo=Vol20No4_377_v20_n4_06.pdf',\n",
       " 'http://www.quimicanova.sbq.org.br/audiencia_pdf.asp?aid2=3263&nomeArquivo=Vol20No4_382_v20_n4_07.pdf',\n",
       " 'http://www.quimicanova.sbq.org.br/audiencia_pdf.asp?aid2=3267&nomeArquivo=Vol20No4_388_v20_n4_08.pdf',\n",
       " 'http://www.quimicanova.sbq.org.br/audiencia_pdf.asp?aid2=3272&nomeArquivo=Vol20No4_398_v20_n4_09.pdf',\n",
       " 'http://www.quimicanova.sbq.org.br/audiencia_pdf.asp?aid2=3275&nomeArquivo=Vol20No4_407_v20_n4_10.pdf',\n",
       " 'http://www.quimicanova.sbq.org.br/audiencia_pdf.asp?aid2=3279&nomeArquivo=Vol20No4_412_v20_n4_11.pdf',\n",
       " 'http://www.quimicanova.sbq.org.br/audiencia_pdf.asp?aid2=3285&nomeArquivo=Vol20No4_420_v20_n4_12.pdf',\n",
       " 'http://www.quimicanova.sbq.org.br/audiencia_pdf.asp?aid2=3288&nomeArquivo=Vol20No4_423_v20_n4_13.pdf',\n",
       " 'http://www.quimicanova.sbq.org.br/audiencia_pdf.asp?aid2=3292&nomeArquivo=Vol20No4_433_v20_n4_14.pdf',\n",
       " 'http://www.quimicanova.sbq.org.br/audiencia_pdf.asp?aid2=3295&nomeArquivo=Vol20No4_435_v20_n4_15.pdf',\n",
       " 'http://www.quimicanova.sbq.org.br/audiencia_pdf.asp?aid2=3298&nomeArquivo=Vol20No4_438_v20_n4_16.pdf',\n",
       " 'http://www.quimicanova.sbq.org.br/audiencia_pdf.asp?aid2=3300&nomeArquivo=Vol20No4_445_v20_n4_17.pdf',\n",
       " 'http://www.quimicanova.sbq.org.br/audiencia_pdf.asp?aid2=121&nomeArquivo=v20_n1_00-sumario.pdf',\n",
       " 'http://www.quimicanova.sbq.org.br/audiencia_pdf.asp?aid2=3238&nomeArquivo=Vol20No1_3_v20_n1_00-editorial.pdf',\n",
       " 'http://www.quimicanova.sbq.org.br/audiencia_pdf.asp?aid2=3242&nomeArquivo=Vol20No1_5_v20_n1_01.pdf',\n",
       " 'http://www.quimicanova.sbq.org.br/audiencia_pdf.asp?aid2=3248&nomeArquivo=Vol20No1_9_v20_n1_02.pdf',\n",
       " 'http://www.quimicanova.sbq.org.br/audiencia_pdf.asp?aid2=3251&nomeArquivo=Vol20No1_14_v20_n1_03.pdf',\n",
       " 'http://www.quimicanova.sbq.org.br/audiencia_pdf.asp?aid2=3254&nomeArquivo=Vol20No1_18_v20_n1_04.pdf',\n",
       " 'http://www.quimicanova.sbq.org.br/audiencia_pdf.asp?aid2=3259&nomeArquivo=Vol20No1_30_v20_n1_05.pdf',\n",
       " 'http://www.quimicanova.sbq.org.br/audiencia_pdf.asp?aid2=3264&nomeArquivo=Vol20No1_49_v20_n1_06.pdf',\n",
       " 'http://www.quimicanova.sbq.org.br/audiencia_pdf.asp?aid2=3268&nomeArquivo=Vol20No1_58_v20_n1_07.pdf',\n",
       " 'http://www.quimicanova.sbq.org.br/audiencia_pdf.asp?aid2=3271&nomeArquivo=Vol20No1_72_v20_n1_08.pdf',\n",
       " 'http://www.quimicanova.sbq.org.br/audiencia_pdf.asp?aid2=3276&nomeArquivo=Vol20No1_83_v20_n1_09.pdf',\n",
       " 'http://www.quimicanova.sbq.org.br/audiencia_pdf.asp?aid2=3280&nomeArquivo=Vol20No1_89_v20_n1_10.pdf',\n",
       " 'http://www.quimicanova.sbq.org.br/audiencia_pdf.asp?aid2=3283&nomeArquivo=Vol20No1_93_v20_n1_11.pdf',\n",
       " 'http://www.quimicanova.sbq.org.br/audiencia_pdf.asp?aid2=3287&nomeArquivo=Vol20No1_99_v20_n1_12.pdf',\n",
       " 'http://www.quimicanova.sbq.org.br/audiencia_pdf.asp?aid2=3291&nomeArquivo=Vol20No1_103_v20_n1_13.pdf',\n",
       " 'http://www.quimicanova.sbq.org.br/audiencia_pdf.asp?aid2=122&nomeArquivo=v20_n5_00-sumario.pdf',\n",
       " 'http://www.quimicanova.sbq.org.br/audiencia_pdf.asp?aid2=3301&nomeArquivo=Vol20No5_455_v20_n5_00-editorial.pdf',\n",
       " 'http://www.quimicanova.sbq.org.br/audiencia_pdf.asp?aid2=3302&nomeArquivo=Vol20No5_457_v20_n5_01.pdf',\n",
       " 'http://www.quimicanova.sbq.org.br/audiencia_pdf.asp?aid2=3303&nomeArquivo=Vol20No5_460_v20_n5_02.pdf',\n",
       " 'http://www.quimicanova.sbq.org.br/audiencia_pdf.asp?aid2=3304&nomeArquivo=Vol20No5_463_v20_n5_03.pdf',\n",
       " 'http://www.quimicanova.sbq.org.br/audiencia_pdf.asp?aid2=3305&nomeArquivo=Vol20No5_469_v20_n5_04.pdf',\n",
       " 'http://www.quimicanova.sbq.org.br/audiencia_pdf.asp?aid2=3306&nomeArquivo=Vol20No5_475_v20_n5_05.pdf',\n",
       " 'http://www.quimicanova.sbq.org.br/audiencia_pdf.asp?aid2=3308&nomeArquivo=Vol20No5_478_v20_n5_06.pdf',\n",
       " 'http://www.quimicanova.sbq.org.br/audiencia_pdf.asp?aid2=3310&nomeArquivo=Vol20No5_481_v20_n5_07.pdf',\n",
       " 'http://www.quimicanova.sbq.org.br/audiencia_pdf.asp?aid2=3312&nomeArquivo=Vol20No5_486_v20_n5_08.pdf',\n",
       " 'http://www.quimicanova.sbq.org.br/audiencia_pdf.asp?aid2=3314&nomeArquivo=Vol20No5_493_v20_n5_09.pdf',\n",
       " 'http://www.quimicanova.sbq.org.br/audiencia_pdf.asp?aid2=3320&nomeArquivo=Vol20No5_512_v20_n5_10.pdf',\n",
       " 'http://www.quimicanova.sbq.org.br/audiencia_pdf.asp?aid2=3324&nomeArquivo=Vol20No5_519_v20_n5_11.pdf',\n",
       " 'http://www.quimicanova.sbq.org.br/audiencia_pdf.asp?aid2=3328&nomeArquivo=Vol20No5_528_v20_n5_12.pdf',\n",
       " 'http://www.quimicanova.sbq.org.br/audiencia_pdf.asp?aid2=3331&nomeArquivo=Vol20No5_535_v20_n5_13.pdf',\n",
       " 'http://www.quimicanova.sbq.org.br/audiencia_pdf.asp?aid2=3336&nomeArquivo=Vol20No5_541_v20_n5_14.pdf',\n",
       " 'http://www.quimicanova.sbq.org.br/audiencia_pdf.asp?aid2=3341&nomeArquivo=Vol20No5_546_v20_n5_15.pdf',\n",
       " 'http://www.quimicanova.sbq.org.br/audiencia_pdf.asp?aid2=3343&nomeArquivo=Vol20No5_551_v20_n5_16.pdf',\n",
       " 'http://www.quimicanova.sbq.org.br/audiencia_pdf.asp?aid2=3344&nomeArquivo=Vol20No5_555_v20_n5_17.pdf',\n",
       " 'http://www.quimicanova.sbq.org.br/audiencia_pdf.asp?aid2=3346&nomeArquivo=Vol20No5_560_v20_n5_18.pdf',\n",
       " 'http://www.quimicanova.sbq.org.br/audiencia_pdf.asp?aid2=3347&nomeArquivo=Vol20No5_563_v20_n5_19.pdf',\n",
       " 'http://www.quimicanova.sbq.org.br/audiencia_pdf.asp?aid2=3350&nomeArquivo=Vol20No5_569_v20_n5_20.pdf',\n",
       " 'http://www.quimicanova.sbq.org.br/audiencia_pdf.asp?aid2=3351&nomeArquivo=Vol20No5_573_v20_n5_21.pdf',\n",
       " 'http://www.quimicanova.sbq.org.br/audiencia_pdf.asp?aid2=123&nomeArquivo=v20_n6_00-sumario.pdf',\n",
       " 'http://www.quimicanova.sbq.org.br/audiencia_pdf.asp?aid2=3307&nomeArquivo=Vol20No6_579_v20_n6_00-editorial.pdf',\n",
       " 'http://www.quimicanova.sbq.org.br/audiencia_pdf.asp?aid2=3309&nomeArquivo=Vol20No6_581_v20_n6_01.pdf',\n",
       " 'http://www.quimicanova.sbq.org.br/audiencia_pdf.asp?aid2=3311&nomeArquivo=Vol20No6_583_v20_n6_02.pdf',\n",
       " 'http://www.quimicanova.sbq.org.br/audiencia_pdf.asp?aid2=3313&nomeArquivo=Vol20No6_587_v20_n6_03.pdf',\n",
       " 'http://www.quimicanova.sbq.org.br/audiencia_pdf.asp?aid2=3317&nomeArquivo=Vol20No6_592_v20_n6_04.pdf',\n",
       " 'http://www.quimicanova.sbq.org.br/audiencia_pdf.asp?aid2=3322&nomeArquivo=Vol20No6_599_v20_n6_05.pdf',\n",
       " 'http://www.quimicanova.sbq.org.br/audiencia_pdf.asp?aid2=3325&nomeArquivo=Vol20No6_612_v20_n6_06.pdf',\n",
       " 'http://www.quimicanova.sbq.org.br/audiencia_pdf.asp?aid2=3329&nomeArquivo=Vol20No6_616_v20_n6_07.pdf',\n",
       " 'http://www.quimicanova.sbq.org.br/audiencia_pdf.asp?aid2=3333&nomeArquivo=Vol20No6_621_v20_n6_08.pdf',\n",
       " 'http://www.quimicanova.sbq.org.br/audiencia_pdf.asp?aid2=3338&nomeArquivo=Vol20No6_627_v20_n6_09.pdf',\n",
       " 'http://www.quimicanova.sbq.org.br/audiencia_pdf.asp?aid2=3342&nomeArquivo=Vol20No6_631_v20_n6_10.pdf',\n",
       " 'http://www.quimicanova.sbq.org.br/audiencia_pdf.asp?aid2=3345&nomeArquivo=Vol20No6_638_v20_n6_11.pdf',\n",
       " 'http://www.quimicanova.sbq.org.br/audiencia_pdf.asp?aid2=3348&nomeArquivo=Vol20No6_644_v20_n6_12.pdf',\n",
       " 'http://www.quimicanova.sbq.org.br/audiencia_pdf.asp?aid2=3349&nomeArquivo=Vol20No6_647_v20_n6_13.pdf',\n",
       " 'http://www.quimicanova.sbq.org.br/audiencia_pdf.asp?aid2=3352&nomeArquivo=Vol20No6_657_v20_n6_14.pdf',\n",
       " 'http://www.quimicanova.sbq.org.br/audiencia_pdf.asp?aid2=3353&nomeArquivo=Vol20No6_664_v20_n6_15.pdf',\n",
       " 'http://www.quimicanova.sbq.org.br/audiencia_pdf.asp?aid2=3354&nomeArquivo=Vol20No6_673_v20_n6_16.pdf',\n",
       " 'http://www.quimicanova.sbq.org.br/audiencia_pdf.asp?aid2=3355&nomeArquivo=Vol20No6_675_v20_n6_17.pdf',\n",
       " 'http://www.quimicanova.sbq.org.br/audiencia_pdf.asp?aid2=3356&nomeArquivo=Vol20No6_683_v20_n6_18.pdf',\n",
       " 'http://www.quimicanova.sbq.org.br/audiencia_pdf.asp?aid2=124&nomeArquivo=v20_especial_ 00-sumario.pdf',\n",
       " 'http://www.quimicanova.sbq.org.br/audiencia_pdf.asp?aid2=3315&nomeArquivo=Vol20Especial_3_v20_especial_00-editorial.pdf',\n",
       " 'http://www.quimicanova.sbq.org.br/audiencia_pdf.asp?aid2=3316&nomeArquivo=Vol20Especial_5_v20_especial_20(01).pdf',\n",
       " 'http://www.quimicanova.sbq.org.br/audiencia_pdf.asp?aid2=3318&nomeArquivo=Vol20Especial_7_v20_especial_20(02).pdf',\n",
       " 'http://www.quimicanova.sbq.org.br/audiencia_pdf.asp?aid2=3319&nomeArquivo=Vol20Especial_15_v20_especial_20(03).pdf',\n",
       " 'http://www.quimicanova.sbq.org.br/audiencia_pdf.asp?aid2=3321&nomeArquivo=Vol20Especial_23_v20_especial_20(04).pdf',\n",
       " 'http://www.quimicanova.sbq.org.br/audiencia_pdf.asp?aid2=3323&nomeArquivo=Vol20Especial_29_v20_especial_20(06).pdf',\n",
       " 'http://www.quimicanova.sbq.org.br/audiencia_pdf.asp?aid2=3326&nomeArquivo=Vol20Especial_44_v20_especial_20(07).pdf',\n",
       " 'http://www.quimicanova.sbq.org.br/audiencia_pdf.asp?aid2=3327&nomeArquivo=Vol20Especial_40_v20_especial_20(05).pdf',\n",
       " 'http://www.quimicanova.sbq.org.br/audiencia_pdf.asp?aid2=3330&nomeArquivo=Vol20Especial_49_v20_especial_20(08).pdf',\n",
       " 'http://www.quimicanova.sbq.org.br/audiencia_pdf.asp?aid2=3332&nomeArquivo=Vol20Especial_55_v20_especial_20(09).pdf',\n",
       " 'http://www.quimicanova.sbq.org.br/audiencia_pdf.asp?aid2=3334&nomeArquivo=Vol20Especial_58_v20_especial_20(10).pdf',\n",
       " 'http://www.quimicanova.sbq.org.br/audiencia_pdf.asp?aid2=3335&nomeArquivo=Vol20Especial_63_v20_especial_20(11).pdf',\n",
       " 'http://www.quimicanova.sbq.org.br/audiencia_pdf.asp?aid2=3337&nomeArquivo=Vol20Especial_66_v20_especial_20(12).pdf',\n",
       " 'http://www.quimicanova.sbq.org.br/audiencia_pdf.asp?aid2=3339&nomeArquivo=Vol20Especial_75_v20_especial_20(13).pdf',\n",
       " 'http://www.quimicanova.sbq.org.br/audiencia_pdf.asp?aid2=3340&nomeArquivo=Vol20Especial_81_v20_especial_20(14).pdf',\n",
       " 'http://www.quimicanova.sbq.org.br/audiencia_pdf.asp?aid2=125&nomeArquivo=v12_n4_00-sumario.pdf',\n",
       " 'http://www.quimicanova.sbq.org.br/audiencia_pdf.asp?aid2=3357&nomeArquivo=Vol12No4_303_v12_n4_(1).pdf',\n",
       " 'http://www.quimicanova.sbq.org.br/audiencia_pdf.asp?aid2=3359&nomeArquivo=Vol12No4_307_v12_n4_(2).pdf',\n",
       " 'http://www.quimicanova.sbq.org.br/audiencia_pdf.asp?aid2=3364&nomeArquivo=Vol12No4_309_v12_n4_(3).pdf',\n",
       " 'http://www.quimicanova.sbq.org.br/audiencia_pdf.asp?aid2=3367&nomeArquivo=Vol12No4_313_v12_n4_(4).pdf',\n",
       " 'http://www.quimicanova.sbq.org.br/audiencia_pdf.asp?aid2=3371&nomeArquivo=Vol12No4_318_v12_n4_(5).pdf',\n",
       " 'http://www.quimicanova.sbq.org.br/audiencia_pdf.asp?aid2=3378&nomeArquivo=Vol12No4_325_v12_n4_(6).pdf',\n",
       " 'http://www.quimicanova.sbq.org.br/audiencia_pdf.asp?aid2=3382&nomeArquivo=Vol12No4_336_v12_n4_(7).pdf',\n",
       " 'http://www.quimicanova.sbq.org.br/audiencia_pdf.asp?aid2=3385&nomeArquivo=Vol12No4_342_v12_n4_(8).pdf',\n",
       " 'http://www.quimicanova.sbq.org.br/audiencia_pdf.asp?aid2=3390&nomeArquivo=Vol12No4_356_v12_n4_(9).pdf',\n",
       " 'http://www.quimicanova.sbq.org.br/audiencia_pdf.asp?aid2=3392&nomeArquivo=Vol12No4_374_v12_n4_(10).pdf',\n",
       " 'http://www.quimicanova.sbq.org.br/audiencia_pdf.asp?aid2=3395&nomeArquivo=Vol12No4_376_v12_n4_(11).pdf',\n",
       " 'http://www.quimicanova.sbq.org.br/audiencia_pdf.asp?aid2=3399&nomeArquivo=Vol12No4_379_v12_n4_(12).pdf',\n",
       " 'http://www.quimicanova.sbq.org.br/audiencia_pdf.asp?aid2=3402&nomeArquivo=Vol12No4_383_v12_n4_(13).pdf',\n",
       " 'http://www.quimicanova.sbq.org.br/audiencia_pdf.asp?aid2=3405&nomeArquivo=Vol12No4_384_v12_n4_(14).pdf',\n",
       " 'http://www.quimicanova.sbq.org.br/audiencia_pdf.asp?aid2=3407&nomeArquivo=Vol12No4_386_v12_n4_(15).pdf',\n",
       " 'http://www.quimicanova.sbq.org.br/audiencia_pdf.asp?aid2=3411&nomeArquivo=Vol12No4_388_v12_n4_(16).pdf',\n",
       " 'http://www.quimicanova.sbq.org.br/audiencia_pdf.asp?aid2=3414&nomeArquivo=Vol12No4_390_v12_n4_(17)-indiceautores.pdf',\n",
       " 'http://www.quimicanova.sbq.org.br/audiencia_pdf.asp?aid2=126&nomeArquivo=v12_n1_00-sumario.pdf',\n",
       " 'http://www.quimicanova.sbq.org.br/audiencia_pdf.asp?aid2=3358&nomeArquivo=Vol12No1_3_v12_n1_00-editorial.pdf',\n",
       " 'http://www.quimicanova.sbq.org.br/audiencia_pdf.asp?aid2=3361&nomeArquivo=Vol12No1_5_v12_n1_(1).pdf',\n",
       " 'http://www.quimicanova.sbq.org.br/audiencia_pdf.asp?aid2=3366&nomeArquivo=Vol12No1_9_v12_n1_(2).pdf',\n",
       " 'http://www.quimicanova.sbq.org.br/audiencia_pdf.asp?aid2=3370&nomeArquivo=Vol12No1_13_v12_n1_(3).pdf',\n",
       " 'http://www.quimicanova.sbq.org.br/audiencia_pdf.asp?aid2=3373&nomeArquivo=Vol12No1_19_v12_n1_(4).pdf',\n",
       " 'http://www.quimicanova.sbq.org.br/audiencia_pdf.asp?aid2=3375&nomeArquivo=Vol12No1_22_v12_n1_(5).pdf',\n",
       " 'http://www.quimicanova.sbq.org.br/audiencia_pdf.asp?aid2=3379&nomeArquivo=Vol12No1_25_v12_n1_(6).pdf',\n",
       " 'http://www.quimicanova.sbq.org.br/audiencia_pdf.asp?aid2=3383&nomeArquivo=Vol12No1_31_v12_n1_(7).pdf',\n",
       " 'http://www.quimicanova.sbq.org.br/audiencia_pdf.asp?aid2=3387&nomeArquivo=Vol12No1_33_v12_n1_(8).pdf',\n",
       " 'http://www.quimicanova.sbq.org.br/audiencia_pdf.asp?aid2=3393&nomeArquivo=Vol12No1_57_v12_n1_(9).pdf',\n",
       " 'http://www.quimicanova.sbq.org.br/audiencia_pdf.asp?aid2=3398&nomeArquivo=Vol12No1_59_v12_n1_(10).pdf',\n",
       " 'http://www.quimicanova.sbq.org.br/audiencia_pdf.asp?aid2=3404&nomeArquivo=Vol12No1_66_v12_n1_(11).pdf',\n",
       " 'http://www.quimicanova.sbq.org.br/audiencia_pdf.asp?aid2=3410&nomeArquivo=Vol12No1_76_v12_n1_(12).pdf',\n",
       " 'http://www.quimicanova.sbq.org.br/audiencia_pdf.asp?aid2=3415&nomeArquivo=Vol12No1_82_v12_n1_(13).pdf',\n",
       " 'http://www.quimicanova.sbq.org.br/audiencia_pdf.asp?aid2=3420&nomeArquivo=Vol12No1_92_v12_n1_(14).pdf',\n",
       " 'http://www.quimicanova.sbq.org.br/audiencia_pdf.asp?aid2=3422&nomeArquivo=Vol12No1_94_v12_n1_(15).pdf',\n",
       " 'http://www.quimicanova.sbq.org.br/audiencia_pdf.asp?aid2=3428&nomeArquivo=Vol12No1_97_v12_n1_(16).pdf',\n",
       " 'http://www.quimicanova.sbq.org.br/audiencia_pdf.asp?aid2=3430&nomeArquivo=Vol12No1_102_v12_n1_(17).pdf',\n",
       " 'http://www.quimicanova.sbq.org.br/audiencia_pdf.asp?aid2=3431&nomeArquivo=Vol12No1_106_v12_n1_(18).pdf',\n",
       " 'http://www.quimicanova.sbq.org.br/audiencia_pdf.asp?aid2=3432&nomeArquivo=Vol12No1_106_v12_n1_(19).pdf',\n",
       " 'http://www.quimicanova.sbq.org.br/audiencia_pdf.asp?aid2=3433&nomeArquivo=Vol12No1_108_v12_n1_(20).pdf',\n",
       " 'http://www.quimicanova.sbq.org.br/audiencia_pdf.asp?aid2=3434&nomeArquivo=Vol12No1_110_v12_n1_(21).pdf',\n",
       " 'http://www.quimicanova.sbq.org.br/audiencia_pdf.asp?aid2=127&nomeArquivo=v12_n3_00-sumario.pdf',\n",
       " 'http://www.quimicanova.sbq.org.br/audiencia_pdf.asp?aid2=3360&nomeArquivo=Vol12No3_215_v12_n3_(1).pdf',\n",
       " 'http://www.quimicanova.sbq.org.br/audiencia_pdf.asp?aid2=3363&nomeArquivo=Vol12No3_217_v12_n3_(2).pdf',\n",
       " 'http://www.quimicanova.sbq.org.br/audiencia_pdf.asp?aid2=3368&nomeArquivo=Vol12No3_221_v12_n3_(3).pdf',\n",
       " 'http://www.quimicanova.sbq.org.br/audiencia_pdf.asp?aid2=3372&nomeArquivo=Vol12No3_224_v12_n3_(4).pdf',\n",
       " 'http://www.quimicanova.sbq.org.br/audiencia_pdf.asp?aid2=3374&nomeArquivo=Vol12No3_225_v12_n3_(5).pdf',\n",
       " 'http://www.quimicanova.sbq.org.br/audiencia_pdf.asp?aid2=3377&nomeArquivo=Vol12No3_230_v12_n3_(6).pdf',\n",
       " 'http://www.quimicanova.sbq.org.br/audiencia_pdf.asp?aid2=3381&nomeArquivo=Vol12No3_239_v12_n3_(7).pdf',\n",
       " 'http://www.quimicanova.sbq.org.br/audiencia_pdf.asp?aid2=3386&nomeArquivo=Vol12No3_248_v12_n3_(8).pdf',\n",
       " 'http://www.quimicanova.sbq.org.br/audiencia_pdf.asp?aid2=3389&nomeArquivo=Vol12No3_261_v12_n3_(9).pdf',\n",
       " 'http://www.quimicanova.sbq.org.br/audiencia_pdf.asp?aid2=3396&nomeArquivo=Vol12No3_268_v12_n3_(10).pdf',\n",
       " 'http://www.quimicanova.sbq.org.br/audiencia_pdf.asp?aid2=3401&nomeArquivo=Vol12No3_272_v12_n3_(11).pdf',\n",
       " 'http://www.quimicanova.sbq.org.br/audiencia_pdf.asp?aid2=3408&nomeArquivo=Vol12No3_281_v12_n3_(12).pdf',\n",
       " 'http://www.quimicanova.sbq.org.br/audiencia_pdf.asp?aid2=3412&nomeArquivo=Vol12No3_282_v12_n3_(13).pdf',\n",
       " 'http://www.quimicanova.sbq.org.br/audiencia_pdf.asp?aid2=3416&nomeArquivo=Vol12No3_285_v12_n3_(14).pdf',\n",
       " 'http://www.quimicanova.sbq.org.br/audiencia_pdf.asp?aid2=3423&nomeArquivo=Vol12No3_291_v12_n3_(15).pdf',\n",
       " 'http://www.quimicanova.sbq.org.br/audiencia_pdf.asp?aid2=3424&nomeArquivo=Vol12No3_295_v12_n3_(16).pdf',\n",
       " 'http://www.quimicanova.sbq.org.br/audiencia_pdf.asp?aid2=3425&nomeArquivo=Vol12No3_297_v12_n3_(17).pdf',\n",
       " 'http://www.quimicanova.sbq.org.br/audiencia_pdf.asp?aid2=3427&nomeArquivo=Vol12No3_298_v12_n3_(18).pdf',\n",
       " 'http://www.quimicanova.sbq.org.br/audiencia_pdf.asp?aid2=128&nomeArquivo=v12_n2_00-sumario.pdf',\n",
       " 'http://www.quimicanova.sbq.org.br/audiencia_pdf.asp?aid2=3362&nomeArquivo=Vol12No2_115_v12_n2_00-editorial.pdf',\n",
       " 'http://www.quimicanova.sbq.org.br/audiencia_pdf.asp?aid2=3365&nomeArquivo=Vol12No2_117_v12_n2_(1).pdf',\n",
       " 'http://www.quimicanova.sbq.org.br/audiencia_pdf.asp?aid2=3369&nomeArquivo=Vol12No2_122_v12_n2_(2).pdf',\n",
       " 'http://www.quimicanova.sbq.org.br/audiencia_pdf.asp?aid2=3376&nomeArquivo=Vol12No2_130_v12_n2_(3).pdf',\n",
       " 'http://www.quimicanova.sbq.org.br/audiencia_pdf.asp?aid2=3380&nomeArquivo=Vol12No2_136_v12_n2_(4).pdf',\n",
       " 'http://www.quimicanova.sbq.org.br/audiencia_pdf.asp?aid2=3384&nomeArquivo=Vol12No2_142_v12_n2_(5).pdf',\n",
       " 'http://www.quimicanova.sbq.org.br/audiencia_pdf.asp?aid2=3388&nomeArquivo=Vol12No2_148_v12_n2_(6).pdf',\n",
       " 'http://www.quimicanova.sbq.org.br/audiencia_pdf.asp?aid2=3391&nomeArquivo=Vol12No2_155_v12_n2_(7).pdf',\n",
       " 'http://www.quimicanova.sbq.org.br/audiencia_pdf.asp?aid2=3394&nomeArquivo=Vol12No2_166_v12_n2_(8).pdf',\n",
       " 'http://www.quimicanova.sbq.org.br/audiencia_pdf.asp?aid2=3397&nomeArquivo=Vol12No2_174_v12_n2_(9).pdf',\n",
       " 'http://www.quimicanova.sbq.org.br/audiencia_pdf.asp?aid2=3400&nomeArquivo=Vol12No2_177_v12_n2_(10).pdf',\n",
       " 'http://www.quimicanova.sbq.org.br/audiencia_pdf.asp?aid2=3403&nomeArquivo=Vol12No2_179_v12_n2_(11).pdf',\n",
       " 'http://www.quimicanova.sbq.org.br/audiencia_pdf.asp?aid2=3406&nomeArquivo=Vol12No2_182_v12_n2_(12).pdf',\n",
       " 'http://www.quimicanova.sbq.org.br/audiencia_pdf.asp?aid2=3409&nomeArquivo=Vol12No2_187_v12_n2_(13).pdf',\n",
       " 'http://www.quimicanova.sbq.org.br/audiencia_pdf.asp?aid2=3413&nomeArquivo=Vol12No2_192_v12_n2_(14).pdf',\n",
       " 'http://www.quimicanova.sbq.org.br/audiencia_pdf.asp?aid2=3417&nomeArquivo=Vol12No2_196_v12_n2_(15).pdf',\n",
       " 'http://www.quimicanova.sbq.org.br/audiencia_pdf.asp?aid2=3419&nomeArquivo=Vol12No2_199_v12_n2_(16).pdf',\n",
       " 'http://www.quimicanova.sbq.org.br/audiencia_pdf.asp?aid2=3421&nomeArquivo=Vol12No2_202_v12_n2_(17).pdf',\n",
       " 'http://www.quimicanova.sbq.org.br/audiencia_pdf.asp?aid2=3426&nomeArquivo=Vol12No2_208_v12_n2_(18).pdf',\n",
       " 'http://www.quimicanova.sbq.org.br/audiencia_pdf.asp?aid2=3429&nomeArquivo=Vol12No2_211_v12_n2_(19).pdf',\n",
       " 'http://www.quimicanova.sbq.org.br/audiencia_pdf.asp?aid2=129&nomeArquivo=v04_n1_00-sumario.pdf',\n",
       " 'http://www.quimicanova.sbq.org.br/audiencia_pdf.asp?aid2=3435&nomeArquivo=Vol4No1_2_v04_n1_(1).pdf',\n",
       " 'http://www.quimicanova.sbq.org.br/audiencia_pdf.asp?aid2=3439&nomeArquivo=Vol4No1_3_v04_n1_(2).pdf',\n",
       " 'http://www.quimicanova.sbq.org.br/audiencia_pdf.asp?aid2=3441&nomeArquivo=Vol4No1_5_v04_n1_(3).pdf',\n",
       " 'http://www.quimicanova.sbq.org.br/audiencia_pdf.asp?aid2=3443&nomeArquivo=Vol4No1_6_v04_n1_(4).pdf',\n",
       " 'http://www.quimicanova.sbq.org.br/audiencia_pdf.asp?aid2=3464&nomeArquivo=Vol4No1_16_v04_n1_(5).pdf',\n",
       " 'http://www.quimicanova.sbq.org.br/audiencia_pdf.asp?aid2=3466&nomeArquivo=Vol4No1_16_v04_n1_(6).pdf',\n",
       " ...]"
      ]
     },
     "execution_count": 130,
     "metadata": {},
     "output_type": "execute_result"
    }
   ],
   "source": [
    "dois"
   ]
  },
  {
   "cell_type": "code",
   "execution_count": 195,
   "metadata": {},
   "outputs": [],
   "source": [
    "import os\n",
    "from rdkit.Chem import Draw\n",
    "\n",
    "if not os.path.exists('figs'):\n",
    "    os.mkdir('figs')\n",
    "\n",
    "for i in qn_print.index:\n",
    "    try:\n",
    "        ms = Chem.MolFromSmiles(qn_print.loc[i, 'smiles'])\n",
    "        Draw.MolToFile(ms,'figs/%s.png' % qn_print.loc[i, 'pubchem'])\n",
    "    except:\n",
    "        pass"
   ]
  },
  {
   "cell_type": "code",
   "execution_count": 196,
   "metadata": {},
   "outputs": [],
   "source": [
    "for i in qn_print.index:\n",
    "    doi = qn_print.loc[i, 'doi'].replace('_', '/')\n",
    "    doi = doi.replace('pdfs/', '')\n",
    "    link = 'https://doi.org/%s' % doi\n",
    "    qn_print.loc[i, 'doi'] = f'<a href=\"{link}\" target=\"_blank\">{doi}</a>'    \n",
    "    qn_print.loc[i, 'Structure'] = '<img src=\"./figs/%s.png\" width=\"100\" height=\"120\">' % qn_print.loc[i, 'pubchem']\n",
    "    qn_print.loc[i, 'pubchem'] = '<a href=\"https://pubchem.ncbi.nlm.nih.gov/compound/{}\" target=\"_blank\">{}</a>'.format(*[int(qn_print.loc[i, 'pubchem']), int(qn_print.loc[i, 'pubchem'])])\n",
    "    qn_print.loc[i, 'smiles'] = '<a href=\"https://pubchem.ncbi.nlm.nih.gov/edit3/index.html?smiles={}\" target=\"_blank\">{}</a>'.format(*[qn_print.loc[i, 'smiles'], 'PubChem Sketcher'])"
   ]
  },
  {
   "cell_type": "code",
   "execution_count": 197,
   "metadata": {},
   "outputs": [],
   "source": [
    "html = '''<!DOCTYPE html>\n",
    "<html>\n",
    "  <head>\n",
    "    <meta http-equiv=\"content-type\" content=\"text/html; charset=UTF-8\">\n",
    "    <title>NPMINE</title>\n",
    "    <script src=\"https://cdn.jsdelivr.net/npm/vue/dist/vue.js\"></script>\n",
    "    <script src=\"https://code.jquery.com/jquery-3.3.1.js\" integrity=\"sha256-2Kok7MbOyxpgUVvAk/HJ2jigOSYS2auK4Pfzbm7uH60=\" crossorigin=\"anonymous\"></script>\n",
    "    <link rel=\"stylesheet\" href=\"https://maxcdn.bootstrapcdn.com/bootstrap/4.0.0/css/bootstrap.min.css\" integrity=\"sha384-Gn5384xqQ1aoWXA+058RXPxPg6fy4IWvTNh0E263XmFcJlSAwiGgFAW/dAiS6JXm\" crossorigin=\"anonymous\">\n",
    "    <script src=\"https://maxcdn.bootstrapcdn.com/bootstrap/4.0.0/js/bootstrap.min.js\" integrity=\"sha384-JZR6Spejh4U02d8jOt6vLEHfe/JQGiRRSQQxSfFWpi1MquVdAyjUar5+76PVCmYl\" crossorigin=\"anonymous\"></script>\n",
    "    <link rel=\"stylesheet\" href=\"https://use.fontawesome.com/releases/v5.6.1/css/all.css\" integrity=\"sha384-gfdkjb5BdAXd+lj+gudLWI+BXq4IuLW5IT+brZEZsLFm++aCMlF1V92rMkPaX4PP\" crossorigin=\"anonymous\">\n",
    "</head>\n",
    "\n",
    "  <body>\n",
    "    <!-- A grey horizontal navbar that becomes vertical on small screens -->\n",
    "    <nav class=\"navbar navbar-expand-sm bg-light navbar-light\">\n",
    "        <a class=\"navbar-brand\" href=\"\">\n",
    "        </a>\n",
    "\n",
    "      <!-- Links-->\n",
    "      <ul class=\"navbar-nav\">\n",
    "        <li class=\"nav-item\">\n",
    "          <a class=\"nav-link\" href=\"http://ccbl.fcfrp.usp.br\">CCBL</a>\n",
    "        </li>\n",
    "      </ul>\n",
    "\n",
    "    </nav>\n",
    "    <div id=\"content\">\n",
    "\n",
    "    <link rel=\"stylesheet\" href=\"https://maxcdn.bootstrapcdn.com/bootstrap/4.0.0/css/bootstrap.min.css\" integrity=\"sha384-Gn5384xqQ1aoWXA+058RXPxPg6fy4IWvTNh0E263XmFcJlSAwiGgFAW/dAiS6JXm\" crossorigin=\"anonymous\">\n",
    "    <script src=\"https://maxcdn.bootstrapcdn.com/bootstrap/4.0.0/js/bootstrap.min.js\" integrity=\"sha384-JZR6Spejh4U02d8jOt6vLEHfe/JQGiRRSQQxSfFWpi1MquVdAyjUar5+76PVCmYl\" crossorigin=\"anonymous\"></script>\n",
    "    <link rel=\"stylesheet\" href=\"https://use.fontawesome.com/releases/v5.6.1/css/all.css\" integrity=\"sha384-gfdkjb5BdAXd+lj+gudLWI+BXq4IuLW5IT+brZEZsLFm++aCMlF1V92rMkPaX4PP\" crossorigin=\"anonymous\">\n",
    "\n",
    "    <script src=\"https://cdnjs.cloudflare.com/ajax/libs/jquery/3.3.1/jquery.min.js\"></script>\n",
    "\n",
    "    <script src=\"https://cdn.datatables.net/1.10.4/js/jquery.dataTables.min.js\"></script>\n",
    "    <link rel=\"stylesheet\" href=\"https://cdn.datatables.net/1.10.4/css/jquery.dataTables.min.css\">\n",
    "    <script>\n",
    "    \tvar dataSet = REPLACE;\n",
    "        console.log(dataSet);\n",
    "        $(document).ready(function() {\n",
    "    \t$('#resTable').DataTable( {\n",
    "            data : dataSet,\n",
    "    \t    // add column definitions to map your json to the table\n",
    "    \t    \"columns\": [\n",
    "    \t\t{title: \"doi\"},\n",
    "    \t\t{title: \"pubchem\"},\n",
    "    \t\t{title: \"ExactMolWt\"},\n",
    "    \t\t{title: \"smiles\"},\n",
    "            {title: \"Structure\"}\n",
    "    \t    ]\n",
    "    \t} );\n",
    "        });\n",
    "    </script>\n",
    "    <div class=\"m-5\">\n",
    "        <table id=\"resTable\" class=\"table table-striped\" style=\"width:100%\" >\n",
    "\t\t<thead>\n",
    "\t    <tr>\n",
    "\t\t<th>DOI</th>\n",
    "\t\t<th>PubChem</th>\n",
    "\t\t<th>ExactMolWt</th>\n",
    "\t\t<th>SMILES</th>\n",
    "\t\t<th>Structure</th>\n",
    "\t    </tr>\n",
    "\t    </thead>\n",
    "\t    </table>\n",
    "    </div>\n",
    "\n",
    "    </div>\n",
    "  </body>\n",
    "</html>'''"
   ]
  },
  {
   "cell_type": "code",
   "execution_count": 198,
   "metadata": {},
   "outputs": [],
   "source": [
    "import re\n",
    "\n",
    "html = re.sub('REPLACE', json.dumps(qn_print.apply(lambda a: a.tolist(), axis=1).tolist()), html)"
   ]
  },
  {
   "cell_type": "code",
   "execution_count": 199,
   "metadata": {},
   "outputs": [],
   "source": [
    "with open('study_case_example.html', 'w+') as f:\n",
    "    f.write(html)"
   ]
  },
  {
   "cell_type": "code",
   "execution_count": 151,
   "metadata": {},
   "outputs": [
    {
     "data": {
      "text/plain": [
       "0.6054875787912495"
      ]
     },
     "execution_count": 151,
     "metadata": {},
     "output_type": "execute_result"
    }
   ],
   "source": [
    "17963/29667"
   ]
  },
  {
   "cell_type": "markdown",
   "metadata": {},
   "source": [
    "## Downloading spectral databases"
   ]
  },
  {
   "cell_type": "code",
   "execution_count": 200,
   "metadata": {},
   "outputs": [],
   "source": [
    "import requests\n",
    "import json"
   ]
  },
  {
   "cell_type": "code",
   "execution_count": 201,
   "metadata": {},
   "outputs": [],
   "source": [
    "txt = requests.get('https://gnps-external.ucsd.edu/gnpslibraryjson').text"
   ]
  },
  {
   "cell_type": "code",
   "execution_count": 202,
   "metadata": {},
   "outputs": [
    {
     "data": {
      "text/plain": [
       "480495"
      ]
     },
     "execution_count": 202,
     "metadata": {},
     "output_type": "execute_result"
    }
   ],
   "source": [
    "gnps = json.loads(txt)\n",
    "len(gnps)"
   ]
  },
  {
   "cell_type": "code",
   "execution_count": 204,
   "metadata": {},
   "outputs": [
    {
     "data": {
      "text/plain": [
       "{'spectrum_id': 'CCMSLIB00000001547',\n",
       " 'source_file': '130618_Ger_Jenia_WT-3-Des-MCLR_MH981.4-qb.1.1..mgf',\n",
       " 'task': '47daa4396adb426eaa5fa54b6ce7dd5f',\n",
       " 'scan': '1',\n",
       " 'ms_level': '2',\n",
       " 'library_membership': 'GNPS-LIBRARY',\n",
       " 'spectrum_status': '1',\n",
       " 'peaks_json': 'null',\n",
       " 'splash': 'splash10-0w2a-0001282259-0001282259',\n",
       " 'submit_user': 'mwang87',\n",
       " 'Compound_Name': '3-Des-Microcystein_LR',\n",
       " 'Ion_Source': 'LC-ESI',\n",
       " 'Compound_Source': 'Isolated',\n",
       " 'Instrument': 'qTof',\n",
       " 'PI': 'Gerwick',\n",
       " 'Data_Collector': 'Jenia',\n",
       " 'Adduct': 'M+H',\n",
       " 'Scan': '-1',\n",
       " 'Precursor_MZ': '981.54',\n",
       " 'ExactMass': '0.0',\n",
       " 'Charge': '0',\n",
       " 'CAS_Number': 'N/A',\n",
       " 'Pubmed_ID': 'N/A',\n",
       " 'Smiles': 'CC(C)CC1NC(=O)C(C)NC(=O)C(=C)N(C)C(=O)CCC(NC(=O)C(C)C(NC(=O)C(CCCNC(N)=N)NC(=O)C(C)C(NC1=O)C(O)=O)\\\\C=C\\\\C(\\\\C)=C\\\\C(C)C(O)Cc1ccccc1)C(O)=O',\n",
       " 'INCHI': 'N/A',\n",
       " 'INCHI_AUX': 'N/A',\n",
       " 'Library_Class': '1',\n",
       " 'SpectrumID': 'CCMSLIB00000001547',\n",
       " 'Ion_Mode': 'Positive',\n",
       " 'create_time': '2019-10-30 21:18:25.0',\n",
       " 'task_id': 'aa87bf9cd0784df9956753f435c32434',\n",
       " 'user_id': 'null'}"
      ]
     },
     "execution_count": 204,
     "metadata": {},
     "output_type": "execute_result"
    }
   ],
   "source": [
    "gnps[0]"
   ]
  },
  {
   "cell_type": "code",
   "execution_count": 205,
   "metadata": {},
   "outputs": [],
   "source": [
    "gnps_struct = []\n",
    "\n",
    "for d in gnps:\n",
    "    if d['INCHI'] != 'N/A' or d['INCHI_AUX'] != 'N/A' or d['Smiles'] != 'N/A':\n",
    "        gnps_struct.append(d)"
   ]
  },
  {
   "cell_type": "code",
   "execution_count": 206,
   "metadata": {},
   "outputs": [
    {
     "data": {
      "text/plain": [
       "430710"
      ]
     },
     "execution_count": 206,
     "metadata": {},
     "output_type": "execute_result"
    }
   ],
   "source": [
    "len(gnps_struct)"
   ]
  },
  {
   "cell_type": "code",
   "execution_count": 208,
   "metadata": {},
   "outputs": [],
   "source": [
    "gnps_struct = pd.DataFrame(gnps_struct)"
   ]
  },
  {
   "cell_type": "code",
   "execution_count": 209,
   "metadata": {},
   "outputs": [
    {
     "data": {
      "text/html": [
       "<div>\n",
       "<style scoped>\n",
       "    .dataframe tbody tr th:only-of-type {\n",
       "        vertical-align: middle;\n",
       "    }\n",
       "\n",
       "    .dataframe tbody tr th {\n",
       "        vertical-align: top;\n",
       "    }\n",
       "\n",
       "    .dataframe thead th {\n",
       "        text-align: right;\n",
       "    }\n",
       "</style>\n",
       "<table border=\"1\" class=\"dataframe\">\n",
       "  <thead>\n",
       "    <tr style=\"text-align: right;\">\n",
       "      <th></th>\n",
       "      <th>spectrum_id</th>\n",
       "      <th>source_file</th>\n",
       "      <th>task</th>\n",
       "      <th>scan</th>\n",
       "      <th>ms_level</th>\n",
       "      <th>library_membership</th>\n",
       "      <th>spectrum_status</th>\n",
       "      <th>peaks_json</th>\n",
       "      <th>splash</th>\n",
       "      <th>submit_user</th>\n",
       "      <th>...</th>\n",
       "      <th>Pubmed_ID</th>\n",
       "      <th>Smiles</th>\n",
       "      <th>INCHI</th>\n",
       "      <th>INCHI_AUX</th>\n",
       "      <th>Library_Class</th>\n",
       "      <th>SpectrumID</th>\n",
       "      <th>Ion_Mode</th>\n",
       "      <th>create_time</th>\n",
       "      <th>task_id</th>\n",
       "      <th>user_id</th>\n",
       "    </tr>\n",
       "  </thead>\n",
       "  <tbody>\n",
       "    <tr>\n",
       "      <th>0</th>\n",
       "      <td>CCMSLIB00000001547</td>\n",
       "      <td>130618_Ger_Jenia_WT-3-Des-MCLR_MH981.4-qb.1.1....</td>\n",
       "      <td>47daa4396adb426eaa5fa54b6ce7dd5f</td>\n",
       "      <td>1</td>\n",
       "      <td>2</td>\n",
       "      <td>GNPS-LIBRARY</td>\n",
       "      <td>1</td>\n",
       "      <td>null</td>\n",
       "      <td>splash10-0w2a-0001282259-0001282259</td>\n",
       "      <td>mwang87</td>\n",
       "      <td>...</td>\n",
       "      <td>N/A</td>\n",
       "      <td>CC(C)CC1NC(=O)C(C)NC(=O)C(=C)N(C)C(=O)CCC(NC(=...</td>\n",
       "      <td>N/A</td>\n",
       "      <td>N/A</td>\n",
       "      <td>1</td>\n",
       "      <td>CCMSLIB00000001547</td>\n",
       "      <td>Positive</td>\n",
       "      <td>2019-10-30 21:18:25.0</td>\n",
       "      <td>aa87bf9cd0784df9956753f435c32434</td>\n",
       "      <td>null</td>\n",
       "    </tr>\n",
       "    <tr>\n",
       "      <th>1</th>\n",
       "      <td>CCMSLIB00000001548</td>\n",
       "      <td>20111105_Anada_Ger_HoiamideB_MH940_qb.1.1..mgf</td>\n",
       "      <td>47daa4396adb426eaa5fa54b6ce7dd5f</td>\n",
       "      <td>1</td>\n",
       "      <td>2</td>\n",
       "      <td>GNPS-LIBRARY</td>\n",
       "      <td>1</td>\n",
       "      <td>null</td>\n",
       "      <td>splash10-00dl-0000011189-0000011189</td>\n",
       "      <td>mwang87</td>\n",
       "      <td>...</td>\n",
       "      <td>N/A</td>\n",
       "      <td>CCC[C@@H](C)[C@@H]([C@H](C)[C@@H]1[C@H]([C@H](...</td>\n",
       "      <td>InChI=1S/C45H73N5O10S3/c1-14-17-24(6)34(52)26(...</td>\n",
       "      <td>N/A</td>\n",
       "      <td>1</td>\n",
       "      <td>CCMSLIB00000001548</td>\n",
       "      <td>Positive</td>\n",
       "      <td>2019-06-04 02:55:49.0</td>\n",
       "      <td>cd4ed49954b94767a54918c340d18fa1</td>\n",
       "      <td>null</td>\n",
       "    </tr>\n",
       "    <tr>\n",
       "      <th>2</th>\n",
       "      <td>CCMSLIB00000001549</td>\n",
       "      <td>20111105_Jenia_Ger_MalyngamideC_MH_456_qb.1.1....</td>\n",
       "      <td>47daa4396adb426eaa5fa54b6ce7dd5f</td>\n",
       "      <td>1</td>\n",
       "      <td>2</td>\n",
       "      <td>GNPS-LIBRARY</td>\n",
       "      <td>1</td>\n",
       "      <td>null</td>\n",
       "      <td>splash10-00di-0000900000-0000900000</td>\n",
       "      <td>mwang87</td>\n",
       "      <td>...</td>\n",
       "      <td>N/A</td>\n",
       "      <td>CCCCCCC[C@@H](C/C=C/CCC(=O)NC/C(=C/Cl)/[C@@]12...</td>\n",
       "      <td>InChI=1S/C24H38ClNO5/c1-3-4-5-6-8-11-19(30-2)1...</td>\n",
       "      <td>N/A</td>\n",
       "      <td>1</td>\n",
       "      <td>CCMSLIB00000001549</td>\n",
       "      <td>Positive</td>\n",
       "      <td>2021-03-18 16:28:20.0</td>\n",
       "      <td>48c1656fa4464fea93b71bfd79e0faa5</td>\n",
       "      <td>null</td>\n",
       "    </tr>\n",
       "    <tr>\n",
       "      <th>3</th>\n",
       "      <td>CCMSLIB00000001550</td>\n",
       "      <td>20111105_Jenia_Ger_Scytonemin_MH_545_qb.1.1..mgf</td>\n",
       "      <td>47daa4396adb426eaa5fa54b6ce7dd5f</td>\n",
       "      <td>1</td>\n",
       "      <td>2</td>\n",
       "      <td>GNPS-LIBRARY</td>\n",
       "      <td>1</td>\n",
       "      <td>null</td>\n",
       "      <td>splash10-0002-0000190000-0000190000</td>\n",
       "      <td>mwang87</td>\n",
       "      <td>...</td>\n",
       "      <td>N/A</td>\n",
       "      <td>OC1=CC=C(\\C=C2\\C(=O)C(C3=C4C5=C(C=CC=C5)N=C4\\C...</td>\n",
       "      <td>InChI=1S/C36H20N2O4/c39-21-13-9-19(10-14-21)17...</td>\n",
       "      <td>CGZKSPLDUIRCIO-RPCRKUJJSA-N</td>\n",
       "      <td>1</td>\n",
       "      <td>CCMSLIB00000001550</td>\n",
       "      <td>Positive</td>\n",
       "      <td>2019-07-23 10:38:26.0</td>\n",
       "      <td>ca48cf7bc6644f5e89f98d62f114dfea</td>\n",
       "      <td>null</td>\n",
       "    </tr>\n",
       "    <tr>\n",
       "      <th>4</th>\n",
       "      <td>CCMSLIB00000001552</td>\n",
       "      <td>20120412_PAVL_FT_Hectochlorin_MCl37H_667_qb.1....</td>\n",
       "      <td>47daa4396adb426eaa5fa54b6ce7dd5f</td>\n",
       "      <td>1</td>\n",
       "      <td>2</td>\n",
       "      <td>GNPS-LIBRARY</td>\n",
       "      <td>1</td>\n",
       "      <td>null</td>\n",
       "      <td>splash10-0a4i-0000119000-0000119000</td>\n",
       "      <td>mwang87</td>\n",
       "      <td>...</td>\n",
       "      <td>N/A</td>\n",
       "      <td>C[C@H]1[C@@H](OC(C2=CSC([C@H](C(C)(OC(C3=CSC([...</td>\n",
       "      <td></td>\n",
       "      <td>N/A</td>\n",
       "      <td>1</td>\n",
       "      <td>CCMSLIB00000001552</td>\n",
       "      <td>Positive</td>\n",
       "      <td>2019-11-04 11:35:10.0</td>\n",
       "      <td>a3612cf24ba246e5979778166475dc98</td>\n",
       "      <td>null</td>\n",
       "    </tr>\n",
       "  </tbody>\n",
       "</table>\n",
       "<p>5 rows × 32 columns</p>\n",
       "</div>"
      ],
      "text/plain": [
       "          spectrum_id                                        source_file  \\\n",
       "0  CCMSLIB00000001547  130618_Ger_Jenia_WT-3-Des-MCLR_MH981.4-qb.1.1....   \n",
       "1  CCMSLIB00000001548     20111105_Anada_Ger_HoiamideB_MH940_qb.1.1..mgf   \n",
       "2  CCMSLIB00000001549  20111105_Jenia_Ger_MalyngamideC_MH_456_qb.1.1....   \n",
       "3  CCMSLIB00000001550   20111105_Jenia_Ger_Scytonemin_MH_545_qb.1.1..mgf   \n",
       "4  CCMSLIB00000001552  20120412_PAVL_FT_Hectochlorin_MCl37H_667_qb.1....   \n",
       "\n",
       "                               task scan ms_level library_membership  \\\n",
       "0  47daa4396adb426eaa5fa54b6ce7dd5f    1        2       GNPS-LIBRARY   \n",
       "1  47daa4396adb426eaa5fa54b6ce7dd5f    1        2       GNPS-LIBRARY   \n",
       "2  47daa4396adb426eaa5fa54b6ce7dd5f    1        2       GNPS-LIBRARY   \n",
       "3  47daa4396adb426eaa5fa54b6ce7dd5f    1        2       GNPS-LIBRARY   \n",
       "4  47daa4396adb426eaa5fa54b6ce7dd5f    1        2       GNPS-LIBRARY   \n",
       "\n",
       "  spectrum_status peaks_json                               splash submit_user  \\\n",
       "0               1       null  splash10-0w2a-0001282259-0001282259     mwang87   \n",
       "1               1       null  splash10-00dl-0000011189-0000011189     mwang87   \n",
       "2               1       null  splash10-00di-0000900000-0000900000     mwang87   \n",
       "3               1       null  splash10-0002-0000190000-0000190000     mwang87   \n",
       "4               1       null  splash10-0a4i-0000119000-0000119000     mwang87   \n",
       "\n",
       "   ... Pubmed_ID                                             Smiles  \\\n",
       "0  ...       N/A  CC(C)CC1NC(=O)C(C)NC(=O)C(=C)N(C)C(=O)CCC(NC(=...   \n",
       "1  ...       N/A  CCC[C@@H](C)[C@@H]([C@H](C)[C@@H]1[C@H]([C@H](...   \n",
       "2  ...       N/A  CCCCCCC[C@@H](C/C=C/CCC(=O)NC/C(=C/Cl)/[C@@]12...   \n",
       "3  ...       N/A  OC1=CC=C(\\C=C2\\C(=O)C(C3=C4C5=C(C=CC=C5)N=C4\\C...   \n",
       "4  ...       N/A  C[C@H]1[C@@H](OC(C2=CSC([C@H](C(C)(OC(C3=CSC([...   \n",
       "\n",
       "                                               INCHI  \\\n",
       "0                                                N/A   \n",
       "1  InChI=1S/C45H73N5O10S3/c1-14-17-24(6)34(52)26(...   \n",
       "2  InChI=1S/C24H38ClNO5/c1-3-4-5-6-8-11-19(30-2)1...   \n",
       "3  InChI=1S/C36H20N2O4/c39-21-13-9-19(10-14-21)17...   \n",
       "4                                                      \n",
       "\n",
       "                     INCHI_AUX Library_Class          SpectrumID  Ion_Mode  \\\n",
       "0                          N/A             1  CCMSLIB00000001547  Positive   \n",
       "1                          N/A             1  CCMSLIB00000001548  Positive   \n",
       "2                          N/A             1  CCMSLIB00000001549  Positive   \n",
       "3  CGZKSPLDUIRCIO-RPCRKUJJSA-N             1  CCMSLIB00000001550  Positive   \n",
       "4                          N/A             1  CCMSLIB00000001552  Positive   \n",
       "\n",
       "             create_time                           task_id user_id  \n",
       "0  2019-10-30 21:18:25.0  aa87bf9cd0784df9956753f435c32434    null  \n",
       "1  2019-06-04 02:55:49.0  cd4ed49954b94767a54918c340d18fa1    null  \n",
       "2  2021-03-18 16:28:20.0  48c1656fa4464fea93b71bfd79e0faa5    null  \n",
       "3  2019-07-23 10:38:26.0  ca48cf7bc6644f5e89f98d62f114dfea    null  \n",
       "4  2019-11-04 11:35:10.0  a3612cf24ba246e5979778166475dc98    null  \n",
       "\n",
       "[5 rows x 32 columns]"
      ]
     },
     "execution_count": 209,
     "metadata": {},
     "output_type": "execute_result"
    }
   ],
   "source": [
    "gnps_struct.head()"
   ]
  },
  {
   "cell_type": "code",
   "execution_count": 210,
   "metadata": {},
   "outputs": [
    {
     "data": {
      "text/plain": [
       "538"
      ]
     },
     "execution_count": 210,
     "metadata": {},
     "output_type": "execute_result"
    }
   ],
   "source": [
    "len(gnps_struct['INCHI_AUX'].unique())"
   ]
  },
  {
   "cell_type": "code",
   "execution_count": 211,
   "metadata": {},
   "outputs": [
    {
     "data": {
      "text/plain": [
       "<module 'rdkit.Chem' from '/opt/conda/lib/python3.6/site-packages/rdkit/Chem/__init__.py'>"
      ]
     },
     "execution_count": 211,
     "metadata": {},
     "output_type": "execute_result"
    }
   ],
   "source": [
    "Chem"
   ]
  },
  {
   "cell_type": "code",
   "execution_count": 212,
   "metadata": {},
   "outputs": [],
   "source": [
    "for i in gnps_struct.index:\n",
    "    if gnps_struct.loc[i, 'Smiles'] != 'N/A':\n",
    "        try:\n",
    "            mol = Chem.MolFromSmiles(gnps_struct.loc[i, 'Smiles'])\n",
    "            gnps_struct.loc[i, 'INCHI_AUX'] = Chem.InchiToInchiKey(Chem.MolToInchi(mol))\n",
    "        except:\n",
    "            continue\n",
    "    elif gnps_struct.loc[i, 'INCHI'] != 'N/A':\n",
    "        try:\n",
    "            gnps_struct.loc[i, 'INCHI_AUX'] = Chem.InchiToInchiKey(gnps_struct.loc[i, 'INCHI'])\n",
    "        except:\n",
    "            continue\n",
    "            "
   ]
  },
  {
   "cell_type": "code",
   "execution_count": 213,
   "metadata": {},
   "outputs": [
    {
     "data": {
      "text/plain": [
       "26286"
      ]
     },
     "execution_count": 213,
     "metadata": {},
     "output_type": "execute_result"
    }
   ],
   "source": [
    "len(gnps_struct['INCHI_AUX'].unique())"
   ]
  },
  {
   "cell_type": "code",
   "execution_count": 290,
   "metadata": {},
   "outputs": [
    {
     "data": {
      "text/plain": [
       "26285"
      ]
     },
     "execution_count": 290,
     "metadata": {},
     "output_type": "execute_result"
    }
   ],
   "source": [
    "len(gnps_struct.loc[gnps_struct['INCHI_AUX']!='N/A', 'INCHI_AUX'].unique())"
   ]
  },
  {
   "cell_type": "code",
   "execution_count": 214,
   "metadata": {},
   "outputs": [
    {
     "data": {
      "text/plain": [
       "ESI                                 328165\n",
       "LC-ESI                               61836\n",
       "N/A                                  35811\n",
       "Positive                              1907\n",
       "LC-ESI-ITFT                           1246\n",
       "DI-ESI                                 940\n",
       "                                       411\n",
       "Negative                               328\n",
       "LC-ESI-QTOF                             24\n",
       "LC-APCI                                 15\n",
       "APCI                                    13\n",
       "LC-ESI-QQ                                7\n",
       "LC-ESI-IT                                3\n",
       "LC-ESI-ITTOF                             3\n",
       "DIRECT INFUSION NANOESI-ION TRAP         1\n",
       "Name: Ion_Source, dtype: int64"
      ]
     },
     "execution_count": 214,
     "metadata": {},
     "output_type": "execute_result"
    }
   ],
   "source": [
    "gnps_struct['Ion_Source'].value_counts()"
   ]
  },
  {
   "cell_type": "code",
   "execution_count": 215,
   "metadata": {},
   "outputs": [
    {
     "name": "stdout",
     "output_type": "stream",
     "text": [
      "--2021-08-20 12:04:11--  https://mona.fiehnlab.ucdavis.edu/rest/downloads/retrieve/a9d36510-d72c-441f-886c-509913a4efeb\n",
      "Resolving mona.fiehnlab.ucdavis.edu (mona.fiehnlab.ucdavis.edu)... 128.120.143.183\n",
      "Connecting to mona.fiehnlab.ucdavis.edu (mona.fiehnlab.ucdavis.edu)|128.120.143.183|:443... connected.\n",
      "HTTP request sent, awaiting response... 200 OK\n",
      "Length: unspecified [application/octet-stream]\n",
      "Saving to: ‘a9d36510-d72c-441f-886c-509913a4efeb’\n",
      "\n",
      "a9d36510-d72c-441f-     [            <=>     ] 401.11M  1.11MB/s    in 3m 40s  \n",
      "\n",
      "2021-08-20 12:07:54 (1.82 MB/s) - ‘a9d36510-d72c-441f-886c-509913a4efeb’ saved [420596852]\n",
      "\n"
     ]
    }
   ],
   "source": [
    "!wget https://mona.fiehnlab.ucdavis.edu/rest/downloads/retrieve/a9d36510-d72c-441f-886c-509913a4efeb"
   ]
  },
  {
   "cell_type": "code",
   "execution_count": 217,
   "metadata": {},
   "outputs": [
    {
     "name": "stdout",
     "output_type": "stream",
     "text": [
      "Archive:  a9d36510-d72c-441f-886c-509913a4efeb\n",
      "  inflating: MoNA-export-Experimental_Spectra.json  \n"
     ]
    }
   ],
   "source": [
    "!unzip a9d36510-d72c-441f-886c-509913a4efeb"
   ]
  },
  {
   "cell_type": "code",
   "execution_count": 218,
   "metadata": {},
   "outputs": [],
   "source": [
    "with open('MoNA-export-Experimental_Spectra.json') as f:\n",
    "    mona = json.load(f)"
   ]
  },
  {
   "cell_type": "code",
   "execution_count": 219,
   "metadata": {},
   "outputs": [
    {
     "data": {
      "text/plain": [
       "195631"
      ]
     },
     "execution_count": 219,
     "metadata": {},
     "output_type": "execute_result"
    }
   ],
   "source": [
    "len(mona)"
   ]
  },
  {
   "cell_type": "code",
   "execution_count": 248,
   "metadata": {},
   "outputs": [
    {
     "data": {
      "text/plain": [
       "dict_keys(['compound', 'id', 'dateCreated', 'lastUpdated', 'lastCurated', 'metaData', 'score', 'spectrum', 'splash', 'submitter', 'tags'])"
      ]
     },
     "execution_count": 248,
     "metadata": {},
     "output_type": "execute_result"
    }
   ],
   "source": [
    "mona[0].keys()"
   ]
  },
  {
   "cell_type": "code",
   "execution_count": 224,
   "metadata": {},
   "outputs": [
    {
     "data": {
      "text/plain": [
       "'NCDNCNXCDXHOMX-XGKFQTDJSA-N'"
      ]
     },
     "execution_count": 224,
     "metadata": {},
     "output_type": "execute_result"
    }
   ],
   "source": [
    "mona[0]['compound'][0]['inchiKey']"
   ]
  },
  {
   "cell_type": "code",
   "execution_count": 231,
   "metadata": {},
   "outputs": [],
   "source": [
    "mona_inchikey = []\n",
    "\n",
    "for x in mona:\n",
    "    if 'inchiKey' in x['compound'][0].keys():\n",
    "        mona_inchikey.append(x['compound'][0]['inchiKey'])\n",
    "    elif 'inchi' in x['compound'][0].keys():\n",
    "        mona_inchikey.append(Chem.InchiToInchiKey(x['compound'][0]['inchi']))"
   ]
  },
  {
   "cell_type": "code",
   "execution_count": 232,
   "metadata": {},
   "outputs": [
    {
     "data": {
      "text/plain": [
       "188425"
      ]
     },
     "execution_count": 232,
     "metadata": {},
     "output_type": "execute_result"
    }
   ],
   "source": [
    "len(mona_inchikey)"
   ]
  },
  {
   "cell_type": "code",
   "execution_count": 233,
   "metadata": {},
   "outputs": [
    {
     "data": {
      "text/plain": [
       "['NCDNCNXCDXHOMX-XGKFQTDJSA-N',\n",
       " 'MXNRLFUSFKVQSK-QMMMGPOBSA-N',\n",
       " 'JFLIEFSWGNOPJJ-JTQLQIEISA-N',\n",
       " 'MXNRLFUSFKVQSK-QMMMGPOBSA-N',\n",
       " 'JFLIEFSWGNOPJJ-JTQLQIEISA-N',\n",
       " 'JFLIEFSWGNOPJJ-JTQLQIEISA-N',\n",
       " '',\n",
       " 'BJGNCJDXODQBOB-SSDOTTSWSA-N',\n",
       " 'RSPURTUNRHNVGF-IOSLPCCCSA-N',\n",
       " 'SMILJTIKSGRGNQ-UHFFFAOYSA-N',\n",
       " 'VGGSWIKXJIQHSQ-UHFFFAOYSA-N',\n",
       " 'QDLYPONYDBAMAO-UHFFFAOYSA-N',\n",
       " 'DMZDOOGMHURVGA-UHFFFAOYSA-N',\n",
       " 'WWVNRPISBOPYKM-UHFFFAOYSA-N',\n",
       " 'QWDVYTIIMGPYNW-UHFFFAOYSA-N',\n",
       " 'LPFIKOAXWLXFLD-UHFFFAOYSA-N',\n",
       " 'GTTMYIFZPHMCPW-UHFFFAOYSA-N',\n",
       " 'DAZUUTMGODWUIB-UHFFFAOYSA-N',\n",
       " 'NVWCXYQZGNJXIF-UHFFFAOYSA-N',\n",
       " 'ALTAXJAXFGIBKH-UHFFFAOYSA-N']"
      ]
     },
     "execution_count": 233,
     "metadata": {},
     "output_type": "execute_result"
    }
   ],
   "source": [
    "mona_inchikey[:20]"
   ]
  },
  {
   "cell_type": "code",
   "execution_count": 234,
   "metadata": {},
   "outputs": [
    {
     "data": {
      "text/plain": [
       "33070"
      ]
     },
     "execution_count": 234,
     "metadata": {},
     "output_type": "execute_result"
    }
   ],
   "source": [
    "len(set(mona_inchikey))"
   ]
  },
  {
   "cell_type": "code",
   "execution_count": 249,
   "metadata": {},
   "outputs": [
    {
     "data": {
      "text/plain": [
       "['MoNA000010', 'MoNA000012', 'MoNA000013', 'MoNA000014', 'MoNA000015']"
      ]
     },
     "execution_count": 249,
     "metadata": {},
     "output_type": "execute_result"
    }
   ],
   "source": [
    "mona_id = [x['id'] for x in mona]\n",
    "\n",
    "mona_id[:5]"
   ]
  },
  {
   "cell_type": "code",
   "execution_count": 230,
   "metadata": {},
   "outputs": [
    {
     "name": "stdout",
     "output_type": "stream",
     "text": [
      "--2021-08-20 12:20:36--  https://mona.fiehnlab.ucdavis.edu/rest/downloads/static/MoNA-export-All_Spectra-identifier-table-ids.zip\n",
      "Resolving mona.fiehnlab.ucdavis.edu (mona.fiehnlab.ucdavis.edu)... 128.120.143.183\n",
      "Connecting to mona.fiehnlab.ucdavis.edu (mona.fiehnlab.ucdavis.edu)|128.120.143.183|:443... connected.\n",
      "HTTP request sent, awaiting response... 200 OK\n",
      "Length: unspecified [application/octet-stream]\n",
      "Saving to: ‘MoNA-export-All_Spectra-identifier-table-ids.zip’\n",
      "\n",
      "MoNA-export-All_Spe     [                <=> ]  25.05M  2.59MB/s    in 23s     \n",
      "\n",
      "2021-08-20 12:21:00 (1.11 MB/s) - ‘MoNA-export-All_Spectra-identifier-table-ids.zip’ saved [26266649]\n",
      "\n"
     ]
    }
   ],
   "source": [
    "!wget https://mona.fiehnlab.ucdavis.edu/rest/downloads/static/MoNA-export-All_Spectra-identifier-table-ids.zip"
   ]
  },
  {
   "cell_type": "code",
   "execution_count": 236,
   "metadata": {},
   "outputs": [
    {
     "name": "stdout",
     "output_type": "stream",
     "text": [
      "Archive:  MoNA-export-All_Spectra-identifier-table-ids.zip\n",
      "  inflating: MoNA-export-All_Spectra-identifier-table.csv  \n"
     ]
    }
   ],
   "source": [
    "!unzip MoNA-export-All_Spectra-identifier-table-ids.zip"
   ]
  },
  {
   "cell_type": "code",
   "execution_count": 243,
   "metadata": {},
   "outputs": [
    {
     "data": {
      "text/html": [
       "<div>\n",
       "<style scoped>\n",
       "    .dataframe tbody tr th:only-of-type {\n",
       "        vertical-align: middle;\n",
       "    }\n",
       "\n",
       "    .dataframe tbody tr th {\n",
       "        vertical-align: top;\n",
       "    }\n",
       "\n",
       "    .dataframe thead th {\n",
       "        text-align: right;\n",
       "    }\n",
       "</style>\n",
       "<table border=\"1\" class=\"dataframe\">\n",
       "  <thead>\n",
       "    <tr style=\"text-align: right;\">\n",
       "      <th></th>\n",
       "      <th>0</th>\n",
       "    </tr>\n",
       "  </thead>\n",
       "  <tbody>\n",
       "    <tr>\n",
       "      <th>0</th>\n",
       "      <td>AU100601,splash10-0a4i-1900000000-d2bc1c887f6f...</td>\n",
       "    </tr>\n",
       "    <tr>\n",
       "      <th>1</th>\n",
       "      <td>AU100701,splash10-0a4i-1900000000-d2bc1c887f6f...</td>\n",
       "    </tr>\n",
       "    <tr>\n",
       "      <th>2</th>\n",
       "      <td>AU100801,splash10-0pk9-2970000000-abb9e31dc053...</td>\n",
       "    </tr>\n",
       "    <tr>\n",
       "      <th>3</th>\n",
       "      <td>AU100802,splash10-0zi0-0590000000-2e8e1e943731...</td>\n",
       "    </tr>\n",
       "    <tr>\n",
       "      <th>4</th>\n",
       "      <td>AU100803,splash10-0kmi-0950000000-9e91e580b580...</td>\n",
       "    </tr>\n",
       "  </tbody>\n",
       "</table>\n",
       "</div>"
      ],
      "text/plain": [
       "                                                   0\n",
       "0  AU100601,splash10-0a4i-1900000000-d2bc1c887f6f...\n",
       "1  AU100701,splash10-0a4i-1900000000-d2bc1c887f6f...\n",
       "2  AU100801,splash10-0pk9-2970000000-abb9e31dc053...\n",
       "3  AU100802,splash10-0zi0-0590000000-2e8e1e943731...\n",
       "4  AU100803,splash10-0kmi-0950000000-9e91e580b580..."
      ]
     },
     "execution_count": 243,
     "metadata": {},
     "output_type": "execute_result"
    }
   ],
   "source": [
    "mona_tab = pd.read_csv('MoNA-export-All_Spectra-identifier-table.csv', sep='\\t', header=None)\n",
    "\n",
    "mona_tab.head()"
   ]
  },
  {
   "cell_type": "code",
   "execution_count": 245,
   "metadata": {},
   "outputs": [
    {
     "data": {
      "text/plain": [
       "'AU100601,splash10-0a4i-1900000000-d2bc1c887f6f99ed0f74,QKLPUVXBJHRFQZ-UHFFFAOYSA-N,c1cc(ccc1N)S(=O)(=O)Nc2cncc(n2)Cl'"
      ]
     },
     "execution_count": 245,
     "metadata": {},
     "output_type": "execute_result"
    }
   ],
   "source": [
    "mona_tab.loc[0,0]"
   ]
  },
  {
   "cell_type": "code",
   "execution_count": null,
   "metadata": {},
   "outputs": [],
   "source": [
    "x['compound'][0]['inchi']"
   ]
  },
  {
   "cell_type": "code",
   "execution_count": 283,
   "metadata": {},
   "outputs": [
    {
     "data": {
      "text/plain": [
       "[['AU100601', 'QKLPUVXBJHRFQZ-UHFFFAOYSA-N'],\n",
       " ['AU100701', 'XOXHILFPRYWFOD-UHFFFAOYSA-N'],\n",
       " ['AU100801', 'ASWVTGNCAZCNNR-UHFFFAOYSA-N'],\n",
       " ['AU100802', 'ASWVTGNCAZCNNR-UHFFFAOYSA-N'],\n",
       " ['AU100803', 'ASWVTGNCAZCNNR-UHFFFAOYSA-N']]"
      ]
     },
     "execution_count": 283,
     "metadata": {},
     "output_type": "execute_result"
    }
   ],
   "source": [
    "mona_tab.head().apply(lambda a: a.str.split(',')).apply(lambda a: [a[0][0],a[0][2]], axis=1).tolist()"
   ]
  },
  {
   "cell_type": "code",
   "execution_count": 284,
   "metadata": {},
   "outputs": [],
   "source": [
    "mona_df = pd.DataFrame(mona_tab.apply(lambda a: a.str.split(',')).apply(lambda a: [a[0][0],a[0][2]], axis=1).tolist())"
   ]
  },
  {
   "cell_type": "code",
   "execution_count": 285,
   "metadata": {},
   "outputs": [
    {
     "data": {
      "text/plain": [
       "(692370, 2)"
      ]
     },
     "execution_count": 285,
     "metadata": {},
     "output_type": "execute_result"
    }
   ],
   "source": [
    "mona_df.shape"
   ]
  },
  {
   "cell_type": "code",
   "execution_count": 287,
   "metadata": {},
   "outputs": [
    {
     "data": {
      "text/plain": [
       "(195631, 2)"
      ]
     },
     "execution_count": 287,
     "metadata": {},
     "output_type": "execute_result"
    }
   ],
   "source": [
    "mona_df_inchikey = mona_df[mona_df[0].isin(mona_id)]\n",
    "mona_df_inchikey.shape"
   ]
  },
  {
   "cell_type": "code",
   "execution_count": 288,
   "metadata": {},
   "outputs": [
    {
     "data": {
      "text/html": [
       "<div>\n",
       "<style scoped>\n",
       "    .dataframe tbody tr th:only-of-type {\n",
       "        vertical-align: middle;\n",
       "    }\n",
       "\n",
       "    .dataframe tbody tr th {\n",
       "        vertical-align: top;\n",
       "    }\n",
       "\n",
       "    .dataframe thead th {\n",
       "        text-align: right;\n",
       "    }\n",
       "</style>\n",
       "<table border=\"1\" class=\"dataframe\">\n",
       "  <thead>\n",
       "    <tr style=\"text-align: right;\">\n",
       "      <th></th>\n",
       "      <th>0</th>\n",
       "      <th>1</th>\n",
       "    </tr>\n",
       "  </thead>\n",
       "  <tbody>\n",
       "    <tr>\n",
       "      <th>0</th>\n",
       "      <td>AU100601</td>\n",
       "      <td>QKLPUVXBJHRFQZ-UHFFFAOYSA-N</td>\n",
       "    </tr>\n",
       "    <tr>\n",
       "      <th>1</th>\n",
       "      <td>AU100701</td>\n",
       "      <td>XOXHILFPRYWFOD-UHFFFAOYSA-N</td>\n",
       "    </tr>\n",
       "    <tr>\n",
       "      <th>2</th>\n",
       "      <td>AU100801</td>\n",
       "      <td>ASWVTGNCAZCNNR-UHFFFAOYSA-N</td>\n",
       "    </tr>\n",
       "    <tr>\n",
       "      <th>3</th>\n",
       "      <td>AU100802</td>\n",
       "      <td>ASWVTGNCAZCNNR-UHFFFAOYSA-N</td>\n",
       "    </tr>\n",
       "    <tr>\n",
       "      <th>4</th>\n",
       "      <td>AU100803</td>\n",
       "      <td>ASWVTGNCAZCNNR-UHFFFAOYSA-N</td>\n",
       "    </tr>\n",
       "  </tbody>\n",
       "</table>\n",
       "</div>"
      ],
      "text/plain": [
       "          0                            1\n",
       "0  AU100601  QKLPUVXBJHRFQZ-UHFFFAOYSA-N\n",
       "1  AU100701  XOXHILFPRYWFOD-UHFFFAOYSA-N\n",
       "2  AU100801  ASWVTGNCAZCNNR-UHFFFAOYSA-N\n",
       "3  AU100802  ASWVTGNCAZCNNR-UHFFFAOYSA-N\n",
       "4  AU100803  ASWVTGNCAZCNNR-UHFFFAOYSA-N"
      ]
     },
     "execution_count": 288,
     "metadata": {},
     "output_type": "execute_result"
    }
   ],
   "source": [
    "mona_df_inchikey.head()"
   ]
  },
  {
   "cell_type": "code",
   "execution_count": 289,
   "metadata": {},
   "outputs": [
    {
     "data": {
      "text/plain": [
       "37167"
      ]
     },
     "execution_count": 289,
     "metadata": {},
     "output_type": "execute_result"
    }
   ],
   "source": [
    "len(mona_df_inchikey[1].unique())"
   ]
  },
  {
   "cell_type": "markdown",
   "metadata": {},
   "source": [
    "## Comparing spectral databases"
   ]
  },
  {
   "cell_type": "code",
   "execution_count": 291,
   "metadata": {},
   "outputs": [
    {
     "data": {
      "image/png": "[encoded data removed]",
      "text/plain": [
       "<Figure size 864x864 with 1 Axes>"
      ]
     },
     "metadata": {
      "needs_background": "light"
     },
     "output_type": "display_data"
    }
   ],
   "source": [
    "labels = venn.get_labels([gnps_struct.loc[gnps_struct['INCHI_AUX']!='N/A', 'INCHI_AUX'], \n",
    "                          mona_df_inchikey[1], cmnpd+marinlit['InChIKey'].tolist()], \n",
    "                         fill=['number'])\n",
    "fig, ax = venn.venn3(labels, names=['GNPS', 'MoNA', 'MarinLit+CMNPD'])"
   ]
  },
  {
   "cell_type": "code",
   "execution_count": 292,
   "metadata": {},
   "outputs": [],
   "source": [
    "from matplotlib.backends.backend_pdf import PdfPages\n",
    "\n",
    "with PdfPages('marine_natural_product_on_spectraldb_comparison_nologic.pdf') as pdf:\n",
    "    labels = venn.get_labels([gnps_struct.loc[gnps_struct['INCHI_AUX']!='N/A', 'INCHI_AUX'], \n",
    "                              mona_df_inchikey[1], cmnpd+marinlit['InChIKey'].tolist()], \n",
    "                             fill=['number'])\n",
    "    fig, ax = venn.venn3(labels, names=['GNPS', 'MoNA', 'MarinLit+CMNPD'])\n",
    "    pdf.savefig()  # saves the current figure into a pdf page\n",
    "    plt.close()"
   ]
  },
  {
   "cell_type": "code",
   "execution_count": 294,
   "metadata": {},
   "outputs": [
    {
     "data": {
      "text/plain": [
       "37167"
      ]
     },
     "execution_count": 294,
     "metadata": {},
     "output_type": "execute_result"
    }
   ],
   "source": [
    "14827+21889+361+90"
   ]
  },
  {
   "cell_type": "code",
   "execution_count": 295,
   "metadata": {},
   "outputs": [
    {
     "data": {
      "text/plain": [
       "26285"
      ]
     },
     "execution_count": 295,
     "metadata": {},
     "output_type": "execute_result"
    }
   ],
   "source": [
    "14827+10948+361+149"
   ]
  },
  {
   "cell_type": "code",
   "execution_count": 296,
   "metadata": {},
   "outputs": [
    {
     "data": {
      "text/plain": [
       "40405"
      ]
     },
     "execution_count": 296,
     "metadata": {},
     "output_type": "execute_result"
    }
   ],
   "source": [
    "39805+149+361+90"
   ]
  },
  {
   "cell_type": "code",
   "execution_count": 297,
   "metadata": {},
   "outputs": [
    {
     "data": {
      "text/plain": [
       "600"
      ]
     },
     "execution_count": 297,
     "metadata": {},
     "output_type": "execute_result"
    }
   ],
   "source": [
    "149+361+90"
   ]
  },
  {
   "cell_type": "code",
   "execution_count": 298,
   "metadata": {},
   "outputs": [
    {
     "data": {
      "text/plain": [
       "0.01484964732087613"
      ]
     },
     "execution_count": 298,
     "metadata": {},
     "output_type": "execute_result"
    }
   ],
   "source": [
    "600/40405"
   ]
  },
  {
   "cell_type": "code",
   "execution_count": null,
   "metadata": {},
   "outputs": [],
   "source": []
  }
 ],
 "metadata": {
  "kernelspec": {
   "display_name": "Python 3",
   "language": "python",
   "name": "python3"
  },
  "language_info": {
   "codemirror_mode": {
    "name": "ipython",
    "version": 3
   },
   "file_extension": ".py",
   "mimetype": "text/x-python",
   "name": "python",
   "nbconvert_exporter": "python",
   "pygments_lexer": "ipython3",
   "version": "3.6.3"
  }
 },
 "nbformat": 4,
 "nbformat_minor": 4
}
