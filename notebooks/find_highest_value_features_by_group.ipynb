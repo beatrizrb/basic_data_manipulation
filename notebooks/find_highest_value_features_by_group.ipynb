{
 "cells": [
  {
   "cell_type": "code",
   "execution_count": 1,
   "metadata": {},
   "outputs": [
    {
     "name": "stdout",
     "output_type": "stream",
     "text": [
      "Requirement already satisfied: pandas in /home/rsilva/miniconda3/lib/python3.7/site-packages (0.24.2)\r\n",
      "Requirement already satisfied: scipy in /home/rsilva/miniconda3/lib/python3.7/site-packages (1.2.1)\r\n",
      "Requirement already satisfied: numpy>=1.12.0 in /home/rsilva/miniconda3/lib/python3.7/site-packages (from pandas) (1.16.2)\r\n",
      "Requirement already satisfied: python-dateutil>=2.5.0 in /home/rsilva/miniconda3/lib/python3.7/site-packages (from pandas) (2.8.0)\r\n",
      "Requirement already satisfied: pytz>=2011k in /home/rsilva/miniconda3/lib/python3.7/site-packages (from pandas) (2017.2)\r\n",
      "Requirement already satisfied: six>=1.5 in /home/rsilva/miniconda3/lib/python3.7/site-packages (from python-dateutil>=2.5.0->pandas) (1.10.0)\r\n"
     ]
    }
   ],
   "source": [
    "# install libraries\n",
    "!pip install pandas scipy"
   ]
  },
  {
   "cell_type": "code",
   "execution_count": 2,
   "metadata": {},
   "outputs": [],
   "source": [
    "# Load libraries and include \n",
    "# the line below to see the plots inside\n",
    "# this notebook\n",
    "%matplotlib inline\n",
    "\n",
    "import pandas as pd\n",
    "from scipy import stats\n",
    "import numpy as np"
   ]
  },
  {
   "cell_type": "code",
   "execution_count": 3,
   "metadata": {},
   "outputs": [
    {
     "data": {
      "text/html": [
       "<div>\n",
       "<style scoped>\n",
       "    .dataframe tbody tr th:only-of-type {\n",
       "        vertical-align: middle;\n",
       "    }\n",
       "\n",
       "    .dataframe tbody tr th {\n",
       "        vertical-align: top;\n",
       "    }\n",
       "\n",
       "    .dataframe thead th {\n",
       "        text-align: right;\n",
       "    }\n",
       "</style>\n",
       "<table border=\"1\" class=\"dataframe\">\n",
       "  <thead>\n",
       "    <tr style=\"text-align: right;\">\n",
       "      <th></th>\n",
       "      <th>row ID</th>\n",
       "      <th>1</th>\n",
       "      <th>2</th>\n",
       "      <th>3</th>\n",
       "      <th>4</th>\n",
       "      <th>5</th>\n",
       "      <th>6</th>\n",
       "      <th>7</th>\n",
       "      <th>8</th>\n",
       "      <th>9</th>\n",
       "      <th>...</th>\n",
       "      <th>1375</th>\n",
       "      <th>1376</th>\n",
       "      <th>1377</th>\n",
       "      <th>1378</th>\n",
       "      <th>1379</th>\n",
       "      <th>1380</th>\n",
       "      <th>1381</th>\n",
       "      <th>1382</th>\n",
       "      <th>1383</th>\n",
       "      <th>1384</th>\n",
       "    </tr>\n",
       "  </thead>\n",
       "  <tbody>\n",
       "    <tr>\n",
       "      <th>0</th>\n",
       "      <td>row m/z</td>\n",
       "      <td>3.383416e+02</td>\n",
       "      <td>3.762595e+02</td>\n",
       "      <td>3.312843e+02</td>\n",
       "      <td>3.132738e+02</td>\n",
       "      <td>3.413051e+02</td>\n",
       "      <td>3.132737e+02</td>\n",
       "      <td>3.593156e+02</td>\n",
       "      <td>6.373054e+02</td>\n",
       "      <td>3.413051e+02</td>\n",
       "      <td>...</td>\n",
       "      <td>452.519139</td>\n",
       "      <td>458.472201</td>\n",
       "      <td>200.237387</td>\n",
       "      <td>532.358195</td>\n",
       "      <td>347.226553</td>\n",
       "      <td>676.334595</td>\n",
       "      <td>211.086462</td>\n",
       "      <td>415.206237</td>\n",
       "      <td>562.435864</td>\n",
       "      <td>391.202269</td>\n",
       "    </tr>\n",
       "    <tr>\n",
       "      <th>1</th>\n",
       "      <td>row retention time</td>\n",
       "      <td>1.781539e+01</td>\n",
       "      <td>9.519348e+00</td>\n",
       "      <td>1.469996e+01</td>\n",
       "      <td>1.470086e+01</td>\n",
       "      <td>1.627943e+01</td>\n",
       "      <td>1.442873e+01</td>\n",
       "      <td>1.627943e+01</td>\n",
       "      <td>1.570894e+01</td>\n",
       "      <td>1.600201e+01</td>\n",
       "      <td>...</td>\n",
       "      <td>19.304242</td>\n",
       "      <td>18.488792</td>\n",
       "      <td>8.220203</td>\n",
       "      <td>17.200402</td>\n",
       "      <td>14.343168</td>\n",
       "      <td>7.114758</td>\n",
       "      <td>12.897156</td>\n",
       "      <td>12.233278</td>\n",
       "      <td>19.868606</td>\n",
       "      <td>3.523073</td>\n",
       "    </tr>\n",
       "    <tr>\n",
       "      <th>2</th>\n",
       "      <td>SolBlk_1</td>\n",
       "      <td>1.640000e+08</td>\n",
       "      <td>2.490000e+08</td>\n",
       "      <td>1.770000e+08</td>\n",
       "      <td>1.410000e+08</td>\n",
       "      <td>6.860000e+07</td>\n",
       "      <td>1.230000e+07</td>\n",
       "      <td>7.470000e+07</td>\n",
       "      <td>5.010000e+07</td>\n",
       "      <td>1.470000e+07</td>\n",
       "      <td>...</td>\n",
       "      <td>0.000000</td>\n",
       "      <td>0.000000</td>\n",
       "      <td>15568.115000</td>\n",
       "      <td>51390.071000</td>\n",
       "      <td>86820.407500</td>\n",
       "      <td>0.000000</td>\n",
       "      <td>0.000000</td>\n",
       "      <td>0.000000</td>\n",
       "      <td>0.000000</td>\n",
       "      <td>0.000000</td>\n",
       "    </tr>\n",
       "    <tr>\n",
       "      <th>3</th>\n",
       "      <td>SolBlk_2</td>\n",
       "      <td>1.190000e+08</td>\n",
       "      <td>3.050000e+08</td>\n",
       "      <td>1.760000e+08</td>\n",
       "      <td>1.400000e+08</td>\n",
       "      <td>6.840000e+07</td>\n",
       "      <td>1.200000e+07</td>\n",
       "      <td>7.420000e+07</td>\n",
       "      <td>5.240000e+07</td>\n",
       "      <td>1.480000e+07</td>\n",
       "      <td>...</td>\n",
       "      <td>0.000000</td>\n",
       "      <td>0.000000</td>\n",
       "      <td>0.000000</td>\n",
       "      <td>170647.004000</td>\n",
       "      <td>91314.886500</td>\n",
       "      <td>0.000000</td>\n",
       "      <td>0.000000</td>\n",
       "      <td>0.000000</td>\n",
       "      <td>0.000000</td>\n",
       "      <td>0.000000</td>\n",
       "    </tr>\n",
       "    <tr>\n",
       "      <th>4</th>\n",
       "      <td>Blank_1</td>\n",
       "      <td>1.330000e+08</td>\n",
       "      <td>4.060000e+08</td>\n",
       "      <td>1.600000e+08</td>\n",
       "      <td>1.240000e+08</td>\n",
       "      <td>5.930000e+07</td>\n",
       "      <td>1.410000e+07</td>\n",
       "      <td>6.690000e+07</td>\n",
       "      <td>4.140000e+07</td>\n",
       "      <td>1.560000e+07</td>\n",
       "      <td>...</td>\n",
       "      <td>0.000000</td>\n",
       "      <td>0.000000</td>\n",
       "      <td>0.000000</td>\n",
       "      <td>8781.105000</td>\n",
       "      <td>61148.732500</td>\n",
       "      <td>0.000000</td>\n",
       "      <td>0.000000</td>\n",
       "      <td>0.000000</td>\n",
       "      <td>0.000000</td>\n",
       "      <td>0.000000</td>\n",
       "    </tr>\n",
       "  </tbody>\n",
       "</table>\n",
       "<p>5 rows × 1385 columns</p>\n",
       "</div>"
      ],
      "text/plain": [
       "               row ID             1             2             3             4  \\\n",
       "0             row m/z  3.383416e+02  3.762595e+02  3.312843e+02  3.132738e+02   \n",
       "1  row retention time  1.781539e+01  9.519348e+00  1.469996e+01  1.470086e+01   \n",
       "2            SolBlk_1  1.640000e+08  2.490000e+08  1.770000e+08  1.410000e+08   \n",
       "3            SolBlk_2  1.190000e+08  3.050000e+08  1.760000e+08  1.400000e+08   \n",
       "4             Blank_1  1.330000e+08  4.060000e+08  1.600000e+08  1.240000e+08   \n",
       "\n",
       "              5             6             7             8             9  ...  \\\n",
       "0  3.413051e+02  3.132737e+02  3.593156e+02  6.373054e+02  3.413051e+02  ...   \n",
       "1  1.627943e+01  1.442873e+01  1.627943e+01  1.570894e+01  1.600201e+01  ...   \n",
       "2  6.860000e+07  1.230000e+07  7.470000e+07  5.010000e+07  1.470000e+07  ...   \n",
       "3  6.840000e+07  1.200000e+07  7.420000e+07  5.240000e+07  1.480000e+07  ...   \n",
       "4  5.930000e+07  1.410000e+07  6.690000e+07  4.140000e+07  1.560000e+07  ...   \n",
       "\n",
       "         1375        1376          1377           1378          1379  \\\n",
       "0  452.519139  458.472201    200.237387     532.358195    347.226553   \n",
       "1   19.304242   18.488792      8.220203      17.200402     14.343168   \n",
       "2    0.000000    0.000000  15568.115000   51390.071000  86820.407500   \n",
       "3    0.000000    0.000000      0.000000  170647.004000  91314.886500   \n",
       "4    0.000000    0.000000      0.000000    8781.105000  61148.732500   \n",
       "\n",
       "         1380        1381        1382        1383        1384  \n",
       "0  676.334595  211.086462  415.206237  562.435864  391.202269  \n",
       "1    7.114758   12.897156   12.233278   19.868606    3.523073  \n",
       "2    0.000000    0.000000    0.000000    0.000000    0.000000  \n",
       "3    0.000000    0.000000    0.000000    0.000000    0.000000  \n",
       "4    0.000000    0.000000    0.000000    0.000000    0.000000  \n",
       "\n",
       "[5 rows x 1385 columns]"
      ]
     },
     "execution_count": 3,
     "metadata": {},
     "output_type": "execute_result"
    }
   ],
   "source": [
    "# reads a .csv file\n",
    "df = pd.read_csv('Data matrix from MZmine.csv')\n",
    "\n",
    "# shows the head (first lines of the file) to observe the format\n",
    "df.head()"
   ]
  },
  {
   "cell_type": "code",
   "execution_count": 4,
   "metadata": {},
   "outputs": [
    {
     "data": {
      "text/html": [
       "<div>\n",
       "<style scoped>\n",
       "    .dataframe tbody tr th:only-of-type {\n",
       "        vertical-align: middle;\n",
       "    }\n",
       "\n",
       "    .dataframe tbody tr th {\n",
       "        vertical-align: top;\n",
       "    }\n",
       "\n",
       "    .dataframe thead th {\n",
       "        text-align: right;\n",
       "    }\n",
       "</style>\n",
       "<table border=\"1\" class=\"dataframe\">\n",
       "  <thead>\n",
       "    <tr style=\"text-align: right;\">\n",
       "      <th></th>\n",
       "      <th>filename</th>\n",
       "      <th>ATTRIBUTE_SampleCode</th>\n",
       "      <th>ATTRIBUTE_Treatment</th>\n",
       "    </tr>\n",
       "  </thead>\n",
       "  <tbody>\n",
       "    <tr>\n",
       "      <th>0</th>\n",
       "      <td>Sol_blank_1_P2-A-3_01_4617.mzXML</td>\n",
       "      <td>SolBlk_1</td>\n",
       "      <td>-</td>\n",
       "    </tr>\n",
       "    <tr>\n",
       "      <th>1</th>\n",
       "      <td>Sol_blank_2_P2-A-4_01_4618.mzXML</td>\n",
       "      <td>SolBlk_2</td>\n",
       "      <td>-</td>\n",
       "    </tr>\n",
       "    <tr>\n",
       "      <th>2</th>\n",
       "      <td>Blank-1_1_P2-A-5_01_4619.mzXML</td>\n",
       "      <td>Blank_1</td>\n",
       "      <td>-</td>\n",
       "    </tr>\n",
       "    <tr>\n",
       "      <th>3</th>\n",
       "      <td>Blank-1_2_P2-A-6_01_4620.mzXML</td>\n",
       "      <td>Blank_2</td>\n",
       "      <td>-</td>\n",
       "    </tr>\n",
       "    <tr>\n",
       "      <th>4</th>\n",
       "      <td>D_blank_1_P2-A-7_01_4621.mzXML</td>\n",
       "      <td>Dblank_1</td>\n",
       "      <td>-</td>\n",
       "    </tr>\n",
       "  </tbody>\n",
       "</table>\n",
       "</div>"
      ],
      "text/plain": [
       "                            filename ATTRIBUTE_SampleCode ATTRIBUTE_Treatment\n",
       "0   Sol_blank_1_P2-A-3_01_4617.mzXML             SolBlk_1                   -\n",
       "1  Sol_blank_2_P2-A-4_01_4618.mzXML              SolBlk_2                   -\n",
       "2    Blank-1_1_P2-A-5_01_4619.mzXML               Blank_1                   -\n",
       "3    Blank-1_2_P2-A-6_01_4620.mzXML               Blank_2                   -\n",
       "4    D_blank_1_P2-A-7_01_4621.mzXML              Dblank_1                   -"
      ]
     },
     "execution_count": 4,
     "metadata": {},
     "output_type": "execute_result"
    }
   ],
   "source": [
    "# Reads a .tsv file, the metadata saved from your excel file\n",
    "meta = pd.read_csv('Metadata1.tsv', sep='\\t')\n",
    "\n",
    "meta.head()"
   ]
  },
  {
   "cell_type": "code",
   "execution_count": 5,
   "metadata": {},
   "outputs": [
    {
     "data": {
      "text/plain": [
       "Blank_1       1\n",
       "Blank_2       1\n",
       "Neblank_1     1\n",
       "NE_1          1\n",
       "His_2         1\n",
       "DHNblank_1    1\n",
       "Dblank_1      1\n",
       "DHNblank_2    1\n",
       "SolBlk_1      1\n",
       "NE_2          1\n",
       "Bac_2         1\n",
       "Hblank_2      1\n",
       "His_1         1\n",
       "Dblank_2      1\n",
       "DNA_2         1\n",
       "SolBlk_2      1\n",
       "DHN_2         1\n",
       "DNA_1         1\n",
       "Dhblank_2     1\n",
       "DHN_1         1\n",
       "Dhblank_1     1\n",
       "Bac_1         1\n",
       "DH_1          1\n",
       "Neblank_2     1\n",
       "Hblank_1      1\n",
       "DH_2          1\n",
       "Name: ATTRIBUTE_SampleCode, dtype: int64"
      ]
     },
     "execution_count": 5,
     "metadata": {},
     "output_type": "execute_result"
    }
   ],
   "source": [
    "# Count the values in each group\n",
    "meta['ATTRIBUTE_SampleCode'].value_counts()"
   ]
  },
  {
   "cell_type": "code",
   "execution_count": 6,
   "metadata": {},
   "outputs": [
    {
     "data": {
      "text/plain": [
       "DH          2\n",
       "DNA         2\n",
       "Dhblank     2\n",
       "His         2\n",
       "Dblank      2\n",
       "DHN         2\n",
       "SolBlk      2\n",
       "Neblank     2\n",
       "Hblank      2\n",
       "DHNblank    2\n",
       "Blank       2\n",
       "Bac         2\n",
       "NE          2\n",
       "Name: Groups, dtype: int64"
      ]
     },
     "execution_count": 6,
     "metadata": {},
     "output_type": "execute_result"
    }
   ],
   "source": [
    "# Replace the _1 in each group in order to create a class variable\n",
    "meta['Groups'] = meta['ATTRIBUTE_SampleCode'].str.replace('_.', '')\n",
    "meta['Groups'].value_counts()"
   ]
  },
  {
   "cell_type": "code",
   "execution_count": 7,
   "metadata": {},
   "outputs": [
    {
     "data": {
      "text/plain": [
       "-                                                              14\n",
       "Bacteria plus medium plus DNA plus Histone plus Neutrophils     2\n",
       "Bacteria plus medium plus DNA plus Histone                      2\n",
       "Bacteria plus medium plus Neutrophils plus Elastase             2\n",
       "Bacteria plus medium plus His                                   2\n",
       "Bacteria plus medium plus DNA                                   2\n",
       "Bacteria plus medium                                            2\n",
       "Name: ATTRIBUTE_Treatment, dtype: int64"
      ]
     },
     "execution_count": 7,
     "metadata": {},
     "output_type": "execute_result"
    }
   ],
   "source": [
    "meta['ATTRIBUTE_Treatment'].value_counts()"
   ]
  },
  {
   "cell_type": "code",
   "execution_count": 8,
   "metadata": {},
   "outputs": [
    {
     "data": {
      "text/plain": [
       "0     Sol_blank_1\n",
       "1     Sol_blank_2\n",
       "2       Blank-1_1\n",
       "3       Blank-1_2\n",
       "4       D_blank_1\n",
       "5       D_blank_2\n",
       "6       H_blank_1\n",
       "7       H_blank_1\n",
       "8      DH_blank_1\n",
       "9      DH_blank_2\n",
       "10    DHN_blank_1\n",
       "11    DHN_blank_2\n",
       "12     NE_blank_1\n",
       "13     NE_blank_2\n",
       "14           Bac1\n",
       "15           Bac2\n",
       "16           DNA1\n",
       "17           DNA2\n",
       "18           His1\n",
       "19           His2\n",
       "20            DH1\n",
       "21            DH2\n",
       "22           DHN1\n",
       "23           DHN2\n",
       "24            NE1\n",
       "25            NE2\n",
       "Name: filename, dtype: object"
      ]
     },
     "execution_count": 8,
     "metadata": {},
     "output_type": "execute_result"
    }
   ],
   "source": [
    "# in regular expression I'm saying, replace evertyhing after _P at the end\n",
    "meta['filename'].str.replace('_P.+$', '')"
   ]
  },
  {
   "cell_type": "code",
   "execution_count": 9,
   "metadata": {},
   "outputs": [],
   "source": [
    "# Replace the values from orignal table\n",
    "meta['filename'] = meta['filename'].str.replace('_P.+$', '')"
   ]
  },
  {
   "cell_type": "code",
   "execution_count": 10,
   "metadata": {},
   "outputs": [
    {
     "data": {
      "text/plain": [
       "0                row m/z\n",
       "1     row retention time\n",
       "2               SolBlk_1\n",
       "3               SolBlk_2\n",
       "4                Blank_1\n",
       "5                Blank_2\n",
       "6               Dblank_1\n",
       "7               Dblank_2\n",
       "8               Hblank_1\n",
       "9               Hblank_2\n",
       "10             Dhblank_1\n",
       "11             Dhblank_2\n",
       "12            DHNblank_1\n",
       "13            DHNblank_2\n",
       "14             Neblank_1\n",
       "15             Neblank_2\n",
       "16                 Bac_1\n",
       "17                 Bac_2\n",
       "18                 DNA_1\n",
       "19                 DNA_2\n",
       "20                 His_1\n",
       "21                 His_2\n",
       "22                  DH_1\n",
       "23                  DH_2\n",
       "24                 DHN_1\n",
       "25                 DHN_2\n",
       "26                  NE_1\n",
       "27                  NE_2\n",
       "Name: row ID, dtype: object"
      ]
     },
     "execution_count": 10,
     "metadata": {},
     "output_type": "execute_result"
    }
   ],
   "source": [
    "df['row ID']"
   ]
  },
  {
   "cell_type": "code",
   "execution_count": 11,
   "metadata": {},
   "outputs": [],
   "source": [
    "df['row ID'] = df['row ID'].str.replace('_.', '')"
   ]
  },
  {
   "cell_type": "code",
   "execution_count": 12,
   "metadata": {},
   "outputs": [
    {
     "data": {
      "text/plain": [
       "(28, 1385)"
      ]
     },
     "execution_count": 12,
     "metadata": {},
     "output_type": "execute_result"
    }
   ],
   "source": [
    "df.shape"
   ]
  },
  {
   "cell_type": "code",
   "execution_count": 13,
   "metadata": {},
   "outputs": [
    {
     "data": {
      "text/html": [
       "<div>\n",
       "<style scoped>\n",
       "    .dataframe tbody tr th:only-of-type {\n",
       "        vertical-align: middle;\n",
       "    }\n",
       "\n",
       "    .dataframe tbody tr th {\n",
       "        vertical-align: top;\n",
       "    }\n",
       "\n",
       "    .dataframe thead th {\n",
       "        text-align: right;\n",
       "    }\n",
       "</style>\n",
       "<table border=\"1\" class=\"dataframe\">\n",
       "  <thead>\n",
       "    <tr style=\"text-align: right;\">\n",
       "      <th></th>\n",
       "      <th>row ID</th>\n",
       "      <th>1</th>\n",
       "      <th>2</th>\n",
       "      <th>3</th>\n",
       "      <th>4</th>\n",
       "      <th>5</th>\n",
       "      <th>6</th>\n",
       "      <th>7</th>\n",
       "      <th>8</th>\n",
       "      <th>9</th>\n",
       "      <th>...</th>\n",
       "      <th>1375</th>\n",
       "      <th>1376</th>\n",
       "      <th>1377</th>\n",
       "      <th>1378</th>\n",
       "      <th>1379</th>\n",
       "      <th>1380</th>\n",
       "      <th>1381</th>\n",
       "      <th>1382</th>\n",
       "      <th>1383</th>\n",
       "      <th>1384</th>\n",
       "    </tr>\n",
       "  </thead>\n",
       "  <tbody>\n",
       "    <tr>\n",
       "      <th>2</th>\n",
       "      <td>SolBlk</td>\n",
       "      <td>164000000.0</td>\n",
       "      <td>249000000.0</td>\n",
       "      <td>177000000.0</td>\n",
       "      <td>141000000.0</td>\n",
       "      <td>68600000.0</td>\n",
       "      <td>12300000.0</td>\n",
       "      <td>74700000.0</td>\n",
       "      <td>50100000.0</td>\n",
       "      <td>14700000.0</td>\n",
       "      <td>...</td>\n",
       "      <td>0.0</td>\n",
       "      <td>0.0</td>\n",
       "      <td>15568.115</td>\n",
       "      <td>51390.0710</td>\n",
       "      <td>86820.4075</td>\n",
       "      <td>0.0</td>\n",
       "      <td>0.0</td>\n",
       "      <td>0.0</td>\n",
       "      <td>0.0</td>\n",
       "      <td>0.0</td>\n",
       "    </tr>\n",
       "    <tr>\n",
       "      <th>3</th>\n",
       "      <td>SolBlk</td>\n",
       "      <td>119000000.0</td>\n",
       "      <td>305000000.0</td>\n",
       "      <td>176000000.0</td>\n",
       "      <td>140000000.0</td>\n",
       "      <td>68400000.0</td>\n",
       "      <td>12000000.0</td>\n",
       "      <td>74200000.0</td>\n",
       "      <td>52400000.0</td>\n",
       "      <td>14800000.0</td>\n",
       "      <td>...</td>\n",
       "      <td>0.0</td>\n",
       "      <td>0.0</td>\n",
       "      <td>0.000</td>\n",
       "      <td>170647.0040</td>\n",
       "      <td>91314.8865</td>\n",
       "      <td>0.0</td>\n",
       "      <td>0.0</td>\n",
       "      <td>0.0</td>\n",
       "      <td>0.0</td>\n",
       "      <td>0.0</td>\n",
       "    </tr>\n",
       "    <tr>\n",
       "      <th>4</th>\n",
       "      <td>Blank</td>\n",
       "      <td>133000000.0</td>\n",
       "      <td>406000000.0</td>\n",
       "      <td>160000000.0</td>\n",
       "      <td>124000000.0</td>\n",
       "      <td>59300000.0</td>\n",
       "      <td>14100000.0</td>\n",
       "      <td>66900000.0</td>\n",
       "      <td>41400000.0</td>\n",
       "      <td>15600000.0</td>\n",
       "      <td>...</td>\n",
       "      <td>0.0</td>\n",
       "      <td>0.0</td>\n",
       "      <td>0.000</td>\n",
       "      <td>8781.1050</td>\n",
       "      <td>61148.7325</td>\n",
       "      <td>0.0</td>\n",
       "      <td>0.0</td>\n",
       "      <td>0.0</td>\n",
       "      <td>0.0</td>\n",
       "      <td>0.0</td>\n",
       "    </tr>\n",
       "    <tr>\n",
       "      <th>5</th>\n",
       "      <td>Blank</td>\n",
       "      <td>144000000.0</td>\n",
       "      <td>352000000.0</td>\n",
       "      <td>165000000.0</td>\n",
       "      <td>129000000.0</td>\n",
       "      <td>62000000.0</td>\n",
       "      <td>14800000.0</td>\n",
       "      <td>68900000.0</td>\n",
       "      <td>37100000.0</td>\n",
       "      <td>15500000.0</td>\n",
       "      <td>...</td>\n",
       "      <td>0.0</td>\n",
       "      <td>0.0</td>\n",
       "      <td>0.000</td>\n",
       "      <td>9566.5625</td>\n",
       "      <td>65386.5175</td>\n",
       "      <td>0.0</td>\n",
       "      <td>0.0</td>\n",
       "      <td>0.0</td>\n",
       "      <td>0.0</td>\n",
       "      <td>0.0</td>\n",
       "    </tr>\n",
       "    <tr>\n",
       "      <th>6</th>\n",
       "      <td>Dblank</td>\n",
       "      <td>171000000.0</td>\n",
       "      <td>451000000.0</td>\n",
       "      <td>162000000.0</td>\n",
       "      <td>127000000.0</td>\n",
       "      <td>60700000.0</td>\n",
       "      <td>17100000.0</td>\n",
       "      <td>67800000.0</td>\n",
       "      <td>39400000.0</td>\n",
       "      <td>16800000.0</td>\n",
       "      <td>...</td>\n",
       "      <td>0.0</td>\n",
       "      <td>0.0</td>\n",
       "      <td>0.000</td>\n",
       "      <td>24783.7360</td>\n",
       "      <td>55672.6835</td>\n",
       "      <td>0.0</td>\n",
       "      <td>0.0</td>\n",
       "      <td>0.0</td>\n",
       "      <td>0.0</td>\n",
       "      <td>0.0</td>\n",
       "    </tr>\n",
       "  </tbody>\n",
       "</table>\n",
       "<p>5 rows × 1385 columns</p>\n",
       "</div>"
      ],
      "text/plain": [
       "   row ID            1            2            3            4           5  \\\n",
       "2  SolBlk  164000000.0  249000000.0  177000000.0  141000000.0  68600000.0   \n",
       "3  SolBlk  119000000.0  305000000.0  176000000.0  140000000.0  68400000.0   \n",
       "4   Blank  133000000.0  406000000.0  160000000.0  124000000.0  59300000.0   \n",
       "5   Blank  144000000.0  352000000.0  165000000.0  129000000.0  62000000.0   \n",
       "6  Dblank  171000000.0  451000000.0  162000000.0  127000000.0  60700000.0   \n",
       "\n",
       "            6           7           8           9  ...  1375  1376       1377  \\\n",
       "2  12300000.0  74700000.0  50100000.0  14700000.0  ...   0.0   0.0  15568.115   \n",
       "3  12000000.0  74200000.0  52400000.0  14800000.0  ...   0.0   0.0      0.000   \n",
       "4  14100000.0  66900000.0  41400000.0  15600000.0  ...   0.0   0.0      0.000   \n",
       "5  14800000.0  68900000.0  37100000.0  15500000.0  ...   0.0   0.0      0.000   \n",
       "6  17100000.0  67800000.0  39400000.0  16800000.0  ...   0.0   0.0      0.000   \n",
       "\n",
       "          1378        1379  1380  1381  1382  1383  1384  \n",
       "2   51390.0710  86820.4075   0.0   0.0   0.0   0.0   0.0  \n",
       "3  170647.0040  91314.8865   0.0   0.0   0.0   0.0   0.0  \n",
       "4    8781.1050  61148.7325   0.0   0.0   0.0   0.0   0.0  \n",
       "5    9566.5625  65386.5175   0.0   0.0   0.0   0.0   0.0  \n",
       "6   24783.7360  55672.6835   0.0   0.0   0.0   0.0   0.0  \n",
       "\n",
       "[5 rows x 1385 columns]"
      ]
     },
     "execution_count": 13,
     "metadata": {},
     "output_type": "execute_result"
    }
   ],
   "source": [
    "# drop off the mass and retention time\n",
    "df.drop([0, 1], inplace=True)\n",
    "df.head()"
   ]
  },
  {
   "cell_type": "code",
   "execution_count": 14,
   "metadata": {},
   "outputs": [],
   "source": [
    "# Take the mean of the duplicates for all features\n",
    "df_mean = df.groupby('row ID').mean()"
   ]
  },
  {
   "cell_type": "code",
   "execution_count": 15,
   "metadata": {},
   "outputs": [
    {
     "data": {
      "text/html": [
       "<div>\n",
       "<style scoped>\n",
       "    .dataframe tbody tr th:only-of-type {\n",
       "        vertical-align: middle;\n",
       "    }\n",
       "\n",
       "    .dataframe tbody tr th {\n",
       "        vertical-align: top;\n",
       "    }\n",
       "\n",
       "    .dataframe thead th {\n",
       "        text-align: right;\n",
       "    }\n",
       "</style>\n",
       "<table border=\"1\" class=\"dataframe\">\n",
       "  <thead>\n",
       "    <tr style=\"text-align: right;\">\n",
       "      <th></th>\n",
       "      <th>1</th>\n",
       "      <th>2</th>\n",
       "      <th>3</th>\n",
       "      <th>4</th>\n",
       "      <th>5</th>\n",
       "      <th>6</th>\n",
       "      <th>7</th>\n",
       "      <th>8</th>\n",
       "      <th>9</th>\n",
       "      <th>10</th>\n",
       "      <th>...</th>\n",
       "      <th>1375</th>\n",
       "      <th>1376</th>\n",
       "      <th>1377</th>\n",
       "      <th>1378</th>\n",
       "      <th>1379</th>\n",
       "      <th>1380</th>\n",
       "      <th>1381</th>\n",
       "      <th>1382</th>\n",
       "      <th>1383</th>\n",
       "      <th>1384</th>\n",
       "    </tr>\n",
       "    <tr>\n",
       "      <th>row ID</th>\n",
       "      <th></th>\n",
       "      <th></th>\n",
       "      <th></th>\n",
       "      <th></th>\n",
       "      <th></th>\n",
       "      <th></th>\n",
       "      <th></th>\n",
       "      <th></th>\n",
       "      <th></th>\n",
       "      <th></th>\n",
       "      <th></th>\n",
       "      <th></th>\n",
       "      <th></th>\n",
       "      <th></th>\n",
       "      <th></th>\n",
       "      <th></th>\n",
       "      <th></th>\n",
       "      <th></th>\n",
       "      <th></th>\n",
       "      <th></th>\n",
       "      <th></th>\n",
       "    </tr>\n",
       "  </thead>\n",
       "  <tbody>\n",
       "    <tr>\n",
       "      <th>Bac</th>\n",
       "      <td>159850000.0</td>\n",
       "      <td>189500000.0</td>\n",
       "      <td>154500000.0</td>\n",
       "      <td>120000000.0</td>\n",
       "      <td>57000000.0</td>\n",
       "      <td>15550000.0</td>\n",
       "      <td>64600000.0</td>\n",
       "      <td>30500000.0</td>\n",
       "      <td>17050000.0</td>\n",
       "      <td>3.503954e+07</td>\n",
       "      <td>...</td>\n",
       "      <td>0.00000</td>\n",
       "      <td>81872.15025</td>\n",
       "      <td>50081.29925</td>\n",
       "      <td>63705.68650</td>\n",
       "      <td>47758.47400</td>\n",
       "      <td>0.000</td>\n",
       "      <td>1.076333e+06</td>\n",
       "      <td>343986.69125</td>\n",
       "      <td>146585.0260</td>\n",
       "      <td>0.00000</td>\n",
       "    </tr>\n",
       "    <tr>\n",
       "      <th>Blank</th>\n",
       "      <td>138500000.0</td>\n",
       "      <td>379000000.0</td>\n",
       "      <td>162500000.0</td>\n",
       "      <td>126500000.0</td>\n",
       "      <td>60650000.0</td>\n",
       "      <td>14450000.0</td>\n",
       "      <td>67900000.0</td>\n",
       "      <td>39250000.0</td>\n",
       "      <td>15550000.0</td>\n",
       "      <td>2.130000e+07</td>\n",
       "      <td>...</td>\n",
       "      <td>0.00000</td>\n",
       "      <td>0.00000</td>\n",
       "      <td>0.00000</td>\n",
       "      <td>9173.83375</td>\n",
       "      <td>63267.62500</td>\n",
       "      <td>0.000</td>\n",
       "      <td>0.000000e+00</td>\n",
       "      <td>0.00000</td>\n",
       "      <td>0.0000</td>\n",
       "      <td>0.00000</td>\n",
       "    </tr>\n",
       "    <tr>\n",
       "      <th>DH</th>\n",
       "      <td>150500000.0</td>\n",
       "      <td>247000000.0</td>\n",
       "      <td>152500000.0</td>\n",
       "      <td>119500000.0</td>\n",
       "      <td>56500000.0</td>\n",
       "      <td>26800000.0</td>\n",
       "      <td>62500000.0</td>\n",
       "      <td>23200000.0</td>\n",
       "      <td>25600000.0</td>\n",
       "      <td>2.425000e+07</td>\n",
       "      <td>...</td>\n",
       "      <td>29877.79575</td>\n",
       "      <td>136784.89850</td>\n",
       "      <td>8694.85550</td>\n",
       "      <td>54126.91450</td>\n",
       "      <td>38558.51325</td>\n",
       "      <td>0.000</td>\n",
       "      <td>2.648769e+05</td>\n",
       "      <td>146763.14575</td>\n",
       "      <td>33364.6630</td>\n",
       "      <td>525003.18075</td>\n",
       "    </tr>\n",
       "    <tr>\n",
       "      <th>DHN</th>\n",
       "      <td>148000000.0</td>\n",
       "      <td>157000000.0</td>\n",
       "      <td>143000000.0</td>\n",
       "      <td>111000000.0</td>\n",
       "      <td>51950000.0</td>\n",
       "      <td>30050000.0</td>\n",
       "      <td>56100000.0</td>\n",
       "      <td>23600000.0</td>\n",
       "      <td>28650000.0</td>\n",
       "      <td>2.920000e+07</td>\n",
       "      <td>...</td>\n",
       "      <td>18560.02275</td>\n",
       "      <td>23267.60175</td>\n",
       "      <td>0.00000</td>\n",
       "      <td>30137.92425</td>\n",
       "      <td>34281.14475</td>\n",
       "      <td>0.000</td>\n",
       "      <td>3.232418e+05</td>\n",
       "      <td>217791.31675</td>\n",
       "      <td>45272.8025</td>\n",
       "      <td>66937.65325</td>\n",
       "    </tr>\n",
       "    <tr>\n",
       "      <th>DHNblank</th>\n",
       "      <td>141500000.0</td>\n",
       "      <td>382500000.0</td>\n",
       "      <td>141000000.0</td>\n",
       "      <td>108500000.0</td>\n",
       "      <td>49900000.0</td>\n",
       "      <td>25050000.0</td>\n",
       "      <td>57100000.0</td>\n",
       "      <td>32650000.0</td>\n",
       "      <td>21350000.0</td>\n",
       "      <td>1.920000e+07</td>\n",
       "      <td>...</td>\n",
       "      <td>0.00000</td>\n",
       "      <td>5850.94125</td>\n",
       "      <td>0.00000</td>\n",
       "      <td>24668.86350</td>\n",
       "      <td>45756.87300</td>\n",
       "      <td>27711.724</td>\n",
       "      <td>0.000000e+00</td>\n",
       "      <td>0.00000</td>\n",
       "      <td>0.0000</td>\n",
       "      <td>0.00000</td>\n",
       "    </tr>\n",
       "  </tbody>\n",
       "</table>\n",
       "<p>5 rows × 1384 columns</p>\n",
       "</div>"
      ],
      "text/plain": [
       "                    1            2            3            4           5  \\\n",
       "row ID                                                                     \n",
       "Bac       159850000.0  189500000.0  154500000.0  120000000.0  57000000.0   \n",
       "Blank     138500000.0  379000000.0  162500000.0  126500000.0  60650000.0   \n",
       "DH        150500000.0  247000000.0  152500000.0  119500000.0  56500000.0   \n",
       "DHN       148000000.0  157000000.0  143000000.0  111000000.0  51950000.0   \n",
       "DHNblank  141500000.0  382500000.0  141000000.0  108500000.0  49900000.0   \n",
       "\n",
       "                   6           7           8           9            10  ...  \\\n",
       "row ID                                                                  ...   \n",
       "Bac       15550000.0  64600000.0  30500000.0  17050000.0  3.503954e+07  ...   \n",
       "Blank     14450000.0  67900000.0  39250000.0  15550000.0  2.130000e+07  ...   \n",
       "DH        26800000.0  62500000.0  23200000.0  25600000.0  2.425000e+07  ...   \n",
       "DHN       30050000.0  56100000.0  23600000.0  28650000.0  2.920000e+07  ...   \n",
       "DHNblank  25050000.0  57100000.0  32650000.0  21350000.0  1.920000e+07  ...   \n",
       "\n",
       "                 1375          1376         1377         1378         1379  \\\n",
       "row ID                                                                       \n",
       "Bac           0.00000   81872.15025  50081.29925  63705.68650  47758.47400   \n",
       "Blank         0.00000       0.00000      0.00000   9173.83375  63267.62500   \n",
       "DH        29877.79575  136784.89850   8694.85550  54126.91450  38558.51325   \n",
       "DHN       18560.02275   23267.60175      0.00000  30137.92425  34281.14475   \n",
       "DHNblank      0.00000    5850.94125      0.00000  24668.86350  45756.87300   \n",
       "\n",
       "               1380          1381          1382         1383          1384  \n",
       "row ID                                                                      \n",
       "Bac           0.000  1.076333e+06  343986.69125  146585.0260       0.00000  \n",
       "Blank         0.000  0.000000e+00       0.00000       0.0000       0.00000  \n",
       "DH            0.000  2.648769e+05  146763.14575   33364.6630  525003.18075  \n",
       "DHN           0.000  3.232418e+05  217791.31675   45272.8025   66937.65325  \n",
       "DHNblank  27711.724  0.000000e+00       0.00000       0.0000       0.00000  \n",
       "\n",
       "[5 rows x 1384 columns]"
      ]
     },
     "execution_count": 15,
     "metadata": {},
     "output_type": "execute_result"
    }
   ],
   "source": [
    "df_mean.head()"
   ]
  },
  {
   "cell_type": "code",
   "execution_count": 16,
   "metadata": {},
   "outputs": [
    {
     "data": {
      "text/plain": [
       "(13, 1384)"
      ]
     },
     "execution_count": 16,
     "metadata": {},
     "output_type": "execute_result"
    }
   ],
   "source": [
    "# inspect the dimensions of the table\n",
    "df_mean.shape"
   ]
  },
  {
   "cell_type": "code",
   "execution_count": 17,
   "metadata": {},
   "outputs": [],
   "source": [
    "# find the features that varie the most between the samples\n",
    "idx_var = df_mean.apply(lambda a: np.std(a))"
   ]
  },
  {
   "cell_type": "code",
   "execution_count": 18,
   "metadata": {},
   "outputs": [],
   "source": [
    "# selec the five mos variable, you can change to 10, or whatever \n",
    "# changin the number five below\n",
    "five_most_variable = idx_var.sort_values()[:5].index.tolist()"
   ]
  },
  {
   "cell_type": "code",
   "execution_count": 19,
   "metadata": {},
   "outputs": [
    {
     "data": {
      "text/plain": [
       "['1173', '648', '1374', '1379', '584']"
      ]
     },
     "execution_count": 19,
     "metadata": {},
     "output_type": "execute_result"
    }
   ],
   "source": [
    "# index of the variables in your excel spreadsheet\n",
    "five_most_variable"
   ]
  },
  {
   "cell_type": "code",
   "execution_count": 20,
   "metadata": {},
   "outputs": [
    {
     "data": {
      "text/plain": [
       "<matplotlib.axes._subplots.AxesSubplot at 0x7f8219f5c828>"
      ]
     },
     "execution_count": 20,
     "metadata": {},
     "output_type": "execute_result"
    },
    {
     "data": {
      "image/png": "[encoded data removed]",
      "text/plain": [
       "<matplotlib.figure.Figure at 0x7f8219e6c710>"
      ]
     },
     "metadata": {
      "needs_background": "light"
     },
     "output_type": "display_data"
    }
   ],
   "source": [
    "# Make a bar plot of the most variable feature in all samples\n",
    "df_mean.loc[:, five_most_variable].plot.bar(rot=0, figsize=(16,8))"
   ]
  },
  {
   "cell_type": "code",
   "execution_count": 21,
   "metadata": {},
   "outputs": [],
   "source": [
    "# Say you want to know what features have highest intensities in \n",
    "# a specific sample compared to all others. You can select\n",
    "# the sample name changing all 'DHNs' in this cell\n",
    "# and all change the number 5 to obtain more\n",
    "idx_dhn = df_mean.apply(lambda a: sum(a['DHN'] > a[a.index!='DHN'])==12)\n",
    "idx_dhn_max = df_mean.loc['DHN', idx_dhn].sort_values()[:5].index.tolist()"
   ]
  },
  {
   "cell_type": "code",
   "execution_count": 22,
   "metadata": {},
   "outputs": [
    {
     "data": {
      "text/plain": [
       "['1192', '1253', '1306', '653', '609']"
      ]
     },
     "execution_count": 22,
     "metadata": {},
     "output_type": "execute_result"
    }
   ],
   "source": [
    "# inspect the ids\n",
    "idx_dhn_max"
   ]
  },
  {
   "cell_type": "code",
   "execution_count": 23,
   "metadata": {},
   "outputs": [
    {
     "data": {
      "text/plain": [
       "<matplotlib.axes._subplots.AxesSubplot at 0x7f8219f16dd8>"
      ]
     },
     "execution_count": 23,
     "metadata": {},
     "output_type": "execute_result"
    },
    {
     "data": {
      "image/png": "[encoded data removed]",
      "text/plain": [
       "<matplotlib.figure.Figure at 0x7f8217d73be0>"
      ]
     },
     "metadata": {
      "needs_background": "light"
     },
     "output_type": "display_data"
    }
   ],
   "source": [
    "# bar plot as above, notive that all features have highest intensity in sample DHN\n",
    "df_mean.loc[:, idx_dhn_max].plot.bar(rot=0, figsize=(16,8))"
   ]
  },
  {
   "cell_type": "code",
   "execution_count": 24,
   "metadata": {},
   "outputs": [
    {
     "data": {
      "text/plain": [
       "<matplotlib.axes._subplots.AxesSubplot at 0x7f8217b159e8>"
      ]
     },
     "execution_count": 24,
     "metadata": {},
     "output_type": "execute_result"
    },
    {
     "data": {
      "image/png": "[encoded data removed]",
      "text/plain": [
       "<matplotlib.figure.Figure at 0x7f8217aaa0b8>"
      ]
     },
     "metadata": {
      "needs_background": "light"
     },
     "output_type": "display_data"
    }
   ],
   "source": [
    "# invert the plot, easier to see that all features are higher in DHN\n",
    "df_mean.loc[:, idx_dhn_max].T.plot.bar(rot=0, figsize=(16,8))"
   ]
  },
  {
   "cell_type": "code",
   "execution_count": null,
   "metadata": {},
   "outputs": [],
   "source": []
  }
 ],
 "metadata": {
  "kernelspec": {
   "display_name": "Python 3",
   "language": "python",
   "name": "python3"
  },
  "language_info": {
   "codemirror_mode": {
    "name": "ipython",
    "version": 3
   },
   "file_extension": ".py",
   "mimetype": "text/x-python",
   "name": "python",
   "nbconvert_exporter": "python",
   "pygments_lexer": "ipython3",
   "version": "3.7.3"
  }
 },
 "nbformat": 4,
 "nbformat_minor": 2
}
