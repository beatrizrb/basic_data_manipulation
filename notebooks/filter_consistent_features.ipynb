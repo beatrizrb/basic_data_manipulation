{
 "cells": [
  {
   "cell_type": "markdown",
   "metadata": {
    "id": "CzmeD2RehpGL"
   },
   "source": [
    "### Task description\n",
    "\n",
    "So here is what we could do: A code needs to be written that takes in the quants and our metadata (so basically is it understand our groups). If the quant from mzmine is non-zero in two of three triplicates then leave it but if it is non-zero in only one and zero in two replicates, then set them to zero in the output quant. \n",
    "\n"
   ]
  },
  {
   "cell_type": "markdown",
   "metadata": {
    "id": "3osZMLebhvJP"
   },
   "source": [
    "### Base code"
   ]
  },
  {
   "cell_type": "code",
   "execution_count": 4,
   "metadata": {
    "id": "EmuoBNN_hoQ-"
   },
   "outputs": [],
   "source": [
    "# Fazer o download direto das tabelas de dados e metadados\n",
    "# modifique o valor de taskid para outro job\n",
    "import io\n",
    "import requests\n",
    "import pandas as pd\n",
    "\n",
    "taskid = '898c8b490165455bbeb798e89400586d'\n",
    "\n",
    "base_url = 'http://gnps.ucsd.edu/ProteoSAFe/DownloadResultFile?task='\n",
    "\n",
    "url_to_metadata = f'{base_url}{taskid}&block=main&file=metadata_table/'\n",
    "url_to_features = f'{base_url}{taskid}&block=main&file=quantification_table/'\n",
    "\n",
    "meta = pd.read_csv(io.StringIO(requests.get(url_to_metadata).text), sep='\\t')\n",
    "feat = pd.read_csv(io.StringIO(requests.get(url_to_features).text))"
   ]
  },
  {
   "cell_type": "code",
   "execution_count": 5,
   "metadata": {
    "colab": {
     "base_uri": "https://localhost:8080/",
     "height": 206
    },
    "id": "QSUTDdKlj_cF",
    "outputId": "78016824-6419-4e38-aaed-79a31101af0c"
   },
   "outputs": [
    {
     "data": {
      "text/html": [
       "<div>\n",
       "<style scoped>\n",
       "    .dataframe tbody tr th:only-of-type {\n",
       "        vertical-align: middle;\n",
       "    }\n",
       "\n",
       "    .dataframe tbody tr th {\n",
       "        vertical-align: top;\n",
       "    }\n",
       "\n",
       "    .dataframe thead th {\n",
       "        text-align: right;\n",
       "    }\n",
       "</style>\n",
       "<table border=\"1\" class=\"dataframe\">\n",
       "  <thead>\n",
       "    <tr style=\"text-align: right;\">\n",
       "      <th></th>\n",
       "      <th>filename</th>\n",
       "      <th>ATTRIBUTE_strain</th>\n",
       "      <th>ATTRIBUTE_mutant</th>\n",
       "      <th>ATTRIBUTE_media</th>\n",
       "      <th>ATTRIBUTE_Trimethoprim</th>\n",
       "      <th>ATTRIBUTE_extraction</th>\n",
       "      <th>ATTRIBUTE_triplicate</th>\n",
       "    </tr>\n",
       "  </thead>\n",
       "  <tbody>\n",
       "    <tr>\n",
       "      <th>0</th>\n",
       "      <td>BcH111_cepI_noTMP_EA_1_P1-B-4_01_12960.mzXML</td>\n",
       "      <td>H111</td>\n",
       "      <td>H111_cepI</td>\n",
       "      <td>SCFM2</td>\n",
       "      <td>noTMP</td>\n",
       "      <td>EA</td>\n",
       "      <td>A</td>\n",
       "    </tr>\n",
       "    <tr>\n",
       "      <th>1</th>\n",
       "      <td>BcH111_cepI_noTMP_EA_2_P1-B-5_01_12961.mzXML</td>\n",
       "      <td>H111</td>\n",
       "      <td>H111_cepI</td>\n",
       "      <td>SCFM2</td>\n",
       "      <td>noTMP</td>\n",
       "      <td>EA</td>\n",
       "      <td>A</td>\n",
       "    </tr>\n",
       "    <tr>\n",
       "      <th>2</th>\n",
       "      <td>BcH111_cepI_noTMP_EA_3_P1-B-6_01_12962.mzXML</td>\n",
       "      <td>H111</td>\n",
       "      <td>H111_cepI</td>\n",
       "      <td>SCFM2</td>\n",
       "      <td>noTMP</td>\n",
       "      <td>EA</td>\n",
       "      <td>A</td>\n",
       "    </tr>\n",
       "    <tr>\n",
       "      <th>3</th>\n",
       "      <td>BcJ2315_cciI_noTMP_SPE_1_P1-C-1_01_12559.mzXML</td>\n",
       "      <td>J2315</td>\n",
       "      <td>J2315_cciI</td>\n",
       "      <td>LB</td>\n",
       "      <td>noTMP</td>\n",
       "      <td>SPE</td>\n",
       "      <td>AB</td>\n",
       "    </tr>\n",
       "    <tr>\n",
       "      <th>4</th>\n",
       "      <td>BcJ2315_cciI_noTMP_SPE_2_P1-C-2_01_12560.mzXML</td>\n",
       "      <td>J2315</td>\n",
       "      <td>J2315_cciI</td>\n",
       "      <td>LB</td>\n",
       "      <td>noTMP</td>\n",
       "      <td>SPE</td>\n",
       "      <td>AB</td>\n",
       "    </tr>\n",
       "  </tbody>\n",
       "</table>\n",
       "</div>"
      ],
      "text/plain": [
       "                                         filename  ... ATTRIBUTE_triplicate\n",
       "0    BcH111_cepI_noTMP_EA_1_P1-B-4_01_12960.mzXML  ...                    A\n",
       "1    BcH111_cepI_noTMP_EA_2_P1-B-5_01_12961.mzXML  ...                    A\n",
       "2    BcH111_cepI_noTMP_EA_3_P1-B-6_01_12962.mzXML  ...                    A\n",
       "3  BcJ2315_cciI_noTMP_SPE_1_P1-C-1_01_12559.mzXML  ...                   AB\n",
       "4  BcJ2315_cciI_noTMP_SPE_2_P1-C-2_01_12560.mzXML  ...                   AB\n",
       "\n",
       "[5 rows x 7 columns]"
      ]
     },
     "execution_count": 5,
     "metadata": {
      "tags": []
     },
     "output_type": "execute_result"
    }
   ],
   "source": [
    "# Cada arquivo na coluna filename representa uma amostra\n",
    "# as outras colunas são as informações das amostras\n",
    "meta.head()"
   ]
  },
  {
   "cell_type": "code",
   "execution_count": 6,
   "metadata": {
    "colab": {
     "base_uri": "https://localhost:8080/",
     "height": 290
    },
    "id": "D8PyG6uIkBad",
    "outputId": "271505d7-3d7f-4eb3-e1bb-517d4790ef57"
   },
   "outputs": [
    {
     "data": {
      "text/html": [
       "<div>\n",
       "<style scoped>\n",
       "    .dataframe tbody tr th:only-of-type {\n",
       "        vertical-align: middle;\n",
       "    }\n",
       "\n",
       "    .dataframe tbody tr th {\n",
       "        vertical-align: top;\n",
       "    }\n",
       "\n",
       "    .dataframe thead th {\n",
       "        text-align: right;\n",
       "    }\n",
       "</style>\n",
       "<table border=\"1\" class=\"dataframe\">\n",
       "  <thead>\n",
       "    <tr style=\"text-align: right;\">\n",
       "      <th></th>\n",
       "      <th>row ID</th>\n",
       "      <th>row m/z</th>\n",
       "      <th>row retention time</th>\n",
       "      <th>BcH111_cepI_noTMP_EA_1_P1-B-4_01_12960.mzXML Peak area</th>\n",
       "      <th>BcH111_cepI_noTMP_SPE_2_P1-C-2_01_12970.mzXML Peak area</th>\n",
       "      <th>BcH111_cepI_noTMP_EA_3_P1-B-6_01_12962.mzXML Peak area</th>\n",
       "      <th>BcH111_cepI_noTMP_SPE_1_P1-C-1_01_12969.mzXML Peak area</th>\n",
       "      <th>BcH111_rpfA_noTMP_EA_1_P1-C-7_01_12978.mzXML Peak area</th>\n",
       "      <th>BcH111_rpfA_noTMP_EA_2_P1-C-8_01_12979.mzXML Peak area</th>\n",
       "      <th>BcH111_cepI_noTMP_SPE_3_P1-C-3_01_12971.mzXML Peak area</th>\n",
       "      <th>BcH111_cepI_noTMP_EA_2_P1-B-5_01_12961.mzXML Peak area</th>\n",
       "      <th>BcJ2315_cepI_noTMP_EA_3_P1-C-9_01_12857.mzXML Peak area</th>\n",
       "      <th>BcJ2315_cciI_noTMP_EA_1_SCFM2_P1-B-2_01_12779.mzXML Peak area</th>\n",
       "      <th>BcJ2315_cciI_noTMP_EA_2_SCFM2_P1-B-3_01_12780.mzXML Peak area</th>\n",
       "      <th>BcJ2315_cciI_noTMP_SPE_1_SCFM2_P1-B-8_01_12788.mzXML Peak area</th>\n",
       "      <th>BcJ2315_cepI_noTMP_EA_1_P1-C-7_01_12855.mzXML Peak area</th>\n",
       "      <th>BcJ2315_cciI_noTMP_SPE_2_SCFM2_P1-B-9_01_12789.mzXML Peak area</th>\n",
       "      <th>BcJ2315_cciI_noTMP_EA_3_SCFM2_P1-B-4_01_12781.mzXML Peak area</th>\n",
       "      <th>BcJ2315_cepI_noTMP_SPE_2_P1-D-5_01_12865.mzXML Peak area</th>\n",
       "      <th>BcJ2315_cepI_noTMP_EA_2_P1-C-8_01_12856.mzXML Peak area</th>\n",
       "      <th>BcH111_rpfA_noTMP_EA_3_P1-C-9_01_12980.mzXML Peak area</th>\n",
       "      <th>BcJ2315_double_mut_noTMP_EA_1_P1-A-1_01_12817.mzXML Peak area</th>\n",
       "      <th>BcJ2315_cepI_noTMP_SPE_1_P1-D-4_01_12864.mzXML Peak area</th>\n",
       "      <th>BcJ2315_cepI_noTMP_SPE_3_P1-D-6_01_12866.mzXML Peak area</th>\n",
       "      <th>BcJ2315_double_mut_noTMP_EA_2_P1-A-2_01_12818.mzXML Peak area</th>\n",
       "      <th>BcJ2315_double_mut_noTMP_EA_3_P1-A-3_01_12819.mzXML Peak area</th>\n",
       "      <th>BcJ2315_cciI_noTMP_SPE_3_SCFM2_P1-C-1_01_12790.mzXML Peak area</th>\n",
       "      <th>BcH111_rpfA_noTMP_SPE_1_P1-D-4_01_12987.mzXML Peak area</th>\n",
       "      <th>BcJ2315_rpfA_noTMP_EA_3_SCFM2_P1-E-1_01_12800.mzXML Peak area</th>\n",
       "      <th>BcJ2315_rpfA_noTMP_SPE_1_SCFM2_P1-E-5_01_12808.mzXML Peak area</th>\n",
       "      <th>BcJ2315_rpfA_noTMP_EA_2_SCFM2_P1-D-9_01_12799.mzXML Peak area</th>\n",
       "      <th>BcJ2315_rpfA_noTMP_EA_1_SCFM2_P1-D-8_01_12798.mzXML Peak area</th>\n",
       "      <th>BcJ2315_double_mut_noTMP_SPE_1_P1-A-7_01_12826.mzXML Peak area</th>\n",
       "      <th>BcJ2315_double_mut_noTMP_SPE_2_P1-A-8_01_12829.mzXML Peak area</th>\n",
       "      <th>BcJ2315_triple_mut_noTMP_EA_2_P1-B-5_01_12838.mzXML Peak area</th>\n",
       "      <th>BcK562_cciI_noTMP_EA_2_P1-B-5_01_12907.mzXML Peak area</th>\n",
       "      <th>BcJ2315_triple_mut_noTMP_EA_1_P1-B-4_01_12837.mzXML Peak area</th>\n",
       "      <th>BcJ2315_rpfA_noTMP_SPE_3_SCFM2_P1-E-7_01_12810.mzXML Peak area</th>\n",
       "      <th>BcJ2315_triple_mut_noTMP_EA_3_P1-B-6_01_12839.mzXML Peak area</th>\n",
       "      <th>BcH111_rpfA_noTMP_SPE_2_P1-D-5_01_12988.mzXML Peak area</th>\n",
       "      <th>...</th>\n",
       "      <th>BcK562_WT_TMP+_EA_2_P1-D-2_01_12654.mzXML Peak area</th>\n",
       "      <th>BcK562_cciI_noTMP_EA_2_P1-A-1_01_12668.mzXML Peak area</th>\n",
       "      <th>BcJ2315_cciI_TMP+_SPE_3_P1-C-6_01_12564.mzXML Peak area</th>\n",
       "      <th>BcK562_WT_noTMP_SPE_2_P1-D-5_01_12660.mzXML Peak area</th>\n",
       "      <th>BcJ2315_cciI_TMP+_SPE_2_P1-C-5_01_12563.mzXML Peak area</th>\n",
       "      <th>BcJ2315_rpfF_TMP+_SPE_1_P1-F-5_01_12602.mzXML Peak area</th>\n",
       "      <th>BcK562_WT_TMP+_EA_1_P1-D-1_01_12653.mzXML Peak area</th>\n",
       "      <th>BcJ2315_cepI_TMP+_SPE_1_P1-D-7_01_12584.mzXML Peak area</th>\n",
       "      <th>BcK562_cepI_noTMP_EA_3_P1-B-5_01_12688.mzXML Peak area</th>\n",
       "      <th>BcK562_cciI_TMP+_EA_2_P1-A-4_01_12671.mzXML Peak area</th>\n",
       "      <th>BcK562_cciI_TMP+_EA_3_P1-A-5_01_12672.mzXML Peak area</th>\n",
       "      <th>BcK562_WT_noTMP_SPE_1_P1-D-4_01_12659.mzXML Peak area</th>\n",
       "      <th>BcK562_WT_noTMP_SPE_3_P1-D-6_01_12661.mzXML Peak area</th>\n",
       "      <th>BcK562_cciI_noTMP_SPE_2_P1-A-7_01_12677.mzXML Peak area</th>\n",
       "      <th>BcK562_cciI_TMP+_EA_1_P1-A-3_01_12670.mzXML Peak area</th>\n",
       "      <th>BcK562_cciI_noTMP_SPE_3_P1-A-8_01_12678.mzXML Peak area</th>\n",
       "      <th>BcK562_cepI_TMP+_EA_2_P1-B-7_01_12690.mzXML Peak area</th>\n",
       "      <th>BcJ2315_rpfF_TMP+_SPE_2_P1-F-6_01_12603.mzXML Peak area</th>\n",
       "      <th>BcK562_cciI_noTMP_SPE_1_P1-A-6_01_12676.mzXML Peak area</th>\n",
       "      <th>BcK562_cepI_TMP+_EA_1_P1-B-6_01_12689.mzXML Peak area</th>\n",
       "      <th>BcK562_WT_TMP+_SPE_2_P1-D-8_01_12663.mzXML Peak area</th>\n",
       "      <th>BcK562_WT_TMP+_SPE_3_P1-D-9_01_12664.mzXML Peak area</th>\n",
       "      <th>BcK562_cepI_noTMP_SPE_1_P1-B-9_01_12695.mzXML Peak area</th>\n",
       "      <th>BcK562_cepI_TMP+_EA_3_P1-B-8_01_12691.mzXML Peak area</th>\n",
       "      <th>LB_EA_3_P1-A-3_01_12997.mzXML Peak area</th>\n",
       "      <th>BcK562_cepI_noTMP_SPE_3_P1-C-2_01_12697.mzXML Peak area</th>\n",
       "      <th>BcK562_cciI_TMP+_SPE_2_P1-B-1_01_12680.mzXML Peak area</th>\n",
       "      <th>BcK562_cepI_noTMP_SPE_2_P1-C-1_01_12696.mzXML Peak area</th>\n",
       "      <th>LB_EA_2_P1-A-2_01_12996.mzXML Peak area</th>\n",
       "      <th>BcK562_WT_TMP+_SPE_1_P1-D-7_01_12662.mzXML Peak area</th>\n",
       "      <th>BcK562_cciI_TMP+_SPE_3_P1-B-2_01_12681.mzXML Peak area</th>\n",
       "      <th>LB_EA_1_P1-A-1_01_12995.mzXML Peak area</th>\n",
       "      <th>BcK562_cepI_TMP+_SPE_3_P1-C-5_01_12700.mzXML Peak area</th>\n",
       "      <th>BcK562_cciI_TMP+_SPE_1_P1-A-9_01_12679.mzXML Peak area</th>\n",
       "      <th>BcK562_cepI_TMP+_SPE_2_P1-C-4_01_12699.mzXML Peak area</th>\n",
       "      <th>LB_SPE_3_P1-A-6_01_13000.mzXML Peak area</th>\n",
       "      <th>LB_SPE_2_P1-A-5_01_12999.mzXML Peak area</th>\n",
       "      <th>BcK562_cepI_TMP+_SPE_1_P1-C-3_01_12698.mzXML Peak area</th>\n",
       "      <th>LB_SPE_1_P1-A-4_01_12998.mzXML Peak area</th>\n",
       "      <th>Unnamed: 299</th>\n",
       "    </tr>\n",
       "  </thead>\n",
       "  <tbody>\n",
       "    <tr>\n",
       "      <th>0</th>\n",
       "      <td>1</td>\n",
       "      <td>325.068033</td>\n",
       "      <td>7.423154</td>\n",
       "      <td>4.223396e+08</td>\n",
       "      <td>6.192285e+08</td>\n",
       "      <td>3.396926e+08</td>\n",
       "      <td>3.520674e+08</td>\n",
       "      <td>3.822297e+08</td>\n",
       "      <td>4.440624e+08</td>\n",
       "      <td>6.566155e+08</td>\n",
       "      <td>4.300826e+08</td>\n",
       "      <td>0.000000e+00</td>\n",
       "      <td>0.000000e+00</td>\n",
       "      <td>0.000000e+00</td>\n",
       "      <td>0.000000e+00</td>\n",
       "      <td>0.000000e+00</td>\n",
       "      <td>0.000000e+00</td>\n",
       "      <td>0.000000e+00</td>\n",
       "      <td>0.000000e+00</td>\n",
       "      <td>0.000000e+00</td>\n",
       "      <td>3.436322e+08</td>\n",
       "      <td>0.000000e+00</td>\n",
       "      <td>0.000000e+00</td>\n",
       "      <td>0.000000e+00</td>\n",
       "      <td>0.000000e+00</td>\n",
       "      <td>0.000000e+00</td>\n",
       "      <td>0.000000e+00</td>\n",
       "      <td>5.060845e+08</td>\n",
       "      <td>0.000000e+00</td>\n",
       "      <td>0.000000e+00</td>\n",
       "      <td>0.000000e+00</td>\n",
       "      <td>0.000000e+00</td>\n",
       "      <td>0.000000e+00</td>\n",
       "      <td>0.000000e+00</td>\n",
       "      <td>0.000000e+00</td>\n",
       "      <td>0.000000e+00</td>\n",
       "      <td>0.000000e+00</td>\n",
       "      <td>0.000000e+00</td>\n",
       "      <td>0.000000e+00</td>\n",
       "      <td>4.523746e+08</td>\n",
       "      <td>...</td>\n",
       "      <td>8.221093e+03</td>\n",
       "      <td>0.000000e+00</td>\n",
       "      <td>0.000000e+00</td>\n",
       "      <td>0.000000e+00</td>\n",
       "      <td>0.000000e+00</td>\n",
       "      <td>0.000000e+00</td>\n",
       "      <td>0.000000e+00</td>\n",
       "      <td>0.000000e+00</td>\n",
       "      <td>0.000000e+00</td>\n",
       "      <td>0.000000e+00</td>\n",
       "      <td>0.000000e+00</td>\n",
       "      <td>0.000000e+00</td>\n",
       "      <td>0.000000e+00</td>\n",
       "      <td>0.000000e+00</td>\n",
       "      <td>0.000000e+00</td>\n",
       "      <td>0.000000e+00</td>\n",
       "      <td>0.000000e+00</td>\n",
       "      <td>0.000000e+00</td>\n",
       "      <td>0.000000e+00</td>\n",
       "      <td>0.000000e+00</td>\n",
       "      <td>0.000000e+00</td>\n",
       "      <td>0.000000e+00</td>\n",
       "      <td>0.000000e+00</td>\n",
       "      <td>0.000000e+00</td>\n",
       "      <td>0.000000e+00</td>\n",
       "      <td>0.000000e+00</td>\n",
       "      <td>0.000000e+00</td>\n",
       "      <td>0.000000e+00</td>\n",
       "      <td>0.000000e+00</td>\n",
       "      <td>0.000000e+00</td>\n",
       "      <td>0.000000e+00</td>\n",
       "      <td>0.000000e+00</td>\n",
       "      <td>0.000000e+00</td>\n",
       "      <td>0.000000e+00</td>\n",
       "      <td>0.000000e+00</td>\n",
       "      <td>0.000000e+00</td>\n",
       "      <td>0.000000e+00</td>\n",
       "      <td>0.000000e+00</td>\n",
       "      <td>0.000000e+00</td>\n",
       "      <td>NaN</td>\n",
       "    </tr>\n",
       "    <tr>\n",
       "      <th>1</th>\n",
       "      <td>3</td>\n",
       "      <td>226.052972</td>\n",
       "      <td>4.955679</td>\n",
       "      <td>3.588251e+08</td>\n",
       "      <td>2.059120e+07</td>\n",
       "      <td>4.416860e+08</td>\n",
       "      <td>1.453885e+07</td>\n",
       "      <td>6.366128e+08</td>\n",
       "      <td>7.269927e+08</td>\n",
       "      <td>2.036604e+07</td>\n",
       "      <td>5.442658e+08</td>\n",
       "      <td>0.000000e+00</td>\n",
       "      <td>0.000000e+00</td>\n",
       "      <td>0.000000e+00</td>\n",
       "      <td>0.000000e+00</td>\n",
       "      <td>0.000000e+00</td>\n",
       "      <td>0.000000e+00</td>\n",
       "      <td>0.000000e+00</td>\n",
       "      <td>0.000000e+00</td>\n",
       "      <td>0.000000e+00</td>\n",
       "      <td>4.075509e+08</td>\n",
       "      <td>0.000000e+00</td>\n",
       "      <td>0.000000e+00</td>\n",
       "      <td>0.000000e+00</td>\n",
       "      <td>0.000000e+00</td>\n",
       "      <td>0.000000e+00</td>\n",
       "      <td>0.000000e+00</td>\n",
       "      <td>1.900407e+07</td>\n",
       "      <td>0.000000e+00</td>\n",
       "      <td>0.000000e+00</td>\n",
       "      <td>0.000000e+00</td>\n",
       "      <td>0.000000e+00</td>\n",
       "      <td>0.000000e+00</td>\n",
       "      <td>0.000000e+00</td>\n",
       "      <td>0.000000e+00</td>\n",
       "      <td>0.000000e+00</td>\n",
       "      <td>0.000000e+00</td>\n",
       "      <td>0.000000e+00</td>\n",
       "      <td>0.000000e+00</td>\n",
       "      <td>2.053522e+07</td>\n",
       "      <td>...</td>\n",
       "      <td>0.000000e+00</td>\n",
       "      <td>0.000000e+00</td>\n",
       "      <td>0.000000e+00</td>\n",
       "      <td>0.000000e+00</td>\n",
       "      <td>0.000000e+00</td>\n",
       "      <td>0.000000e+00</td>\n",
       "      <td>0.000000e+00</td>\n",
       "      <td>0.000000e+00</td>\n",
       "      <td>0.000000e+00</td>\n",
       "      <td>0.000000e+00</td>\n",
       "      <td>0.000000e+00</td>\n",
       "      <td>0.000000e+00</td>\n",
       "      <td>0.000000e+00</td>\n",
       "      <td>0.000000e+00</td>\n",
       "      <td>0.000000e+00</td>\n",
       "      <td>0.000000e+00</td>\n",
       "      <td>0.000000e+00</td>\n",
       "      <td>0.000000e+00</td>\n",
       "      <td>0.000000e+00</td>\n",
       "      <td>0.000000e+00</td>\n",
       "      <td>0.000000e+00</td>\n",
       "      <td>0.000000e+00</td>\n",
       "      <td>0.000000e+00</td>\n",
       "      <td>0.000000e+00</td>\n",
       "      <td>0.000000e+00</td>\n",
       "      <td>0.000000e+00</td>\n",
       "      <td>0.000000e+00</td>\n",
       "      <td>0.000000e+00</td>\n",
       "      <td>0.000000e+00</td>\n",
       "      <td>0.000000e+00</td>\n",
       "      <td>0.000000e+00</td>\n",
       "      <td>0.000000e+00</td>\n",
       "      <td>0.000000e+00</td>\n",
       "      <td>0.000000e+00</td>\n",
       "      <td>0.000000e+00</td>\n",
       "      <td>0.000000e+00</td>\n",
       "      <td>0.000000e+00</td>\n",
       "      <td>0.000000e+00</td>\n",
       "      <td>0.000000e+00</td>\n",
       "      <td>NaN</td>\n",
       "    </tr>\n",
       "    <tr>\n",
       "      <th>2</th>\n",
       "      <td>5</td>\n",
       "      <td>367.077812</td>\n",
       "      <td>6.219775</td>\n",
       "      <td>9.287189e+07</td>\n",
       "      <td>0.000000e+00</td>\n",
       "      <td>1.376501e+08</td>\n",
       "      <td>0.000000e+00</td>\n",
       "      <td>2.890461e+07</td>\n",
       "      <td>1.571026e+07</td>\n",
       "      <td>0.000000e+00</td>\n",
       "      <td>7.887541e+07</td>\n",
       "      <td>2.373285e+04</td>\n",
       "      <td>4.723352e+06</td>\n",
       "      <td>1.323535e+05</td>\n",
       "      <td>1.216010e+06</td>\n",
       "      <td>3.114224e+04</td>\n",
       "      <td>2.336723e+04</td>\n",
       "      <td>2.247813e+06</td>\n",
       "      <td>4.673806e+04</td>\n",
       "      <td>1.731111e+06</td>\n",
       "      <td>2.429427e+08</td>\n",
       "      <td>1.276590e+06</td>\n",
       "      <td>0.000000e+00</td>\n",
       "      <td>4.547861e+04</td>\n",
       "      <td>4.443912e+05</td>\n",
       "      <td>0.000000e+00</td>\n",
       "      <td>1.023181e+05</td>\n",
       "      <td>0.000000e+00</td>\n",
       "      <td>1.102820e+05</td>\n",
       "      <td>0.000000e+00</td>\n",
       "      <td>1.169090e+05</td>\n",
       "      <td>2.374390e+05</td>\n",
       "      <td>0.000000e+00</td>\n",
       "      <td>2.979861e+04</td>\n",
       "      <td>7.008148e+04</td>\n",
       "      <td>0.000000e+00</td>\n",
       "      <td>1.100099e+04</td>\n",
       "      <td>0.000000e+00</td>\n",
       "      <td>2.588896e+04</td>\n",
       "      <td>0.000000e+00</td>\n",
       "      <td>...</td>\n",
       "      <td>0.000000e+00</td>\n",
       "      <td>0.000000e+00</td>\n",
       "      <td>2.646568e+04</td>\n",
       "      <td>0.000000e+00</td>\n",
       "      <td>3.989947e+04</td>\n",
       "      <td>1.544288e+05</td>\n",
       "      <td>0.000000e+00</td>\n",
       "      <td>0.000000e+00</td>\n",
       "      <td>0.000000e+00</td>\n",
       "      <td>0.000000e+00</td>\n",
       "      <td>0.000000e+00</td>\n",
       "      <td>0.000000e+00</td>\n",
       "      <td>0.000000e+00</td>\n",
       "      <td>0.000000e+00</td>\n",
       "      <td>0.000000e+00</td>\n",
       "      <td>0.000000e+00</td>\n",
       "      <td>0.000000e+00</td>\n",
       "      <td>3.801784e+04</td>\n",
       "      <td>0.000000e+00</td>\n",
       "      <td>0.000000e+00</td>\n",
       "      <td>0.000000e+00</td>\n",
       "      <td>0.000000e+00</td>\n",
       "      <td>0.000000e+00</td>\n",
       "      <td>0.000000e+00</td>\n",
       "      <td>0.000000e+00</td>\n",
       "      <td>0.000000e+00</td>\n",
       "      <td>0.000000e+00</td>\n",
       "      <td>0.000000e+00</td>\n",
       "      <td>0.000000e+00</td>\n",
       "      <td>0.000000e+00</td>\n",
       "      <td>0.000000e+00</td>\n",
       "      <td>0.000000e+00</td>\n",
       "      <td>0.000000e+00</td>\n",
       "      <td>0.000000e+00</td>\n",
       "      <td>0.000000e+00</td>\n",
       "      <td>0.000000e+00</td>\n",
       "      <td>0.000000e+00</td>\n",
       "      <td>0.000000e+00</td>\n",
       "      <td>0.000000e+00</td>\n",
       "      <td>NaN</td>\n",
       "    </tr>\n",
       "    <tr>\n",
       "      <th>3</th>\n",
       "      <td>6</td>\n",
       "      <td>338.341565</td>\n",
       "      <td>17.846904</td>\n",
       "      <td>3.791783e+07</td>\n",
       "      <td>1.050347e+08</td>\n",
       "      <td>6.534912e+07</td>\n",
       "      <td>9.441858e+07</td>\n",
       "      <td>4.375534e+07</td>\n",
       "      <td>4.250205e+07</td>\n",
       "      <td>1.316377e+08</td>\n",
       "      <td>7.443308e+07</td>\n",
       "      <td>7.327832e+07</td>\n",
       "      <td>1.052570e+08</td>\n",
       "      <td>7.771506e+07</td>\n",
       "      <td>1.309190e+08</td>\n",
       "      <td>1.238234e+08</td>\n",
       "      <td>1.862252e+08</td>\n",
       "      <td>1.029191e+08</td>\n",
       "      <td>2.010095e+08</td>\n",
       "      <td>9.470902e+07</td>\n",
       "      <td>2.469555e+07</td>\n",
       "      <td>9.927967e+07</td>\n",
       "      <td>1.237429e+08</td>\n",
       "      <td>1.902939e+08</td>\n",
       "      <td>8.664423e+07</td>\n",
       "      <td>5.467603e+07</td>\n",
       "      <td>1.389454e+08</td>\n",
       "      <td>7.481982e+07</td>\n",
       "      <td>7.775414e+07</td>\n",
       "      <td>1.396753e+08</td>\n",
       "      <td>6.051848e+07</td>\n",
       "      <td>7.535127e+07</td>\n",
       "      <td>1.880101e+08</td>\n",
       "      <td>1.990799e+08</td>\n",
       "      <td>4.201097e+07</td>\n",
       "      <td>6.124645e+07</td>\n",
       "      <td>1.047092e+08</td>\n",
       "      <td>1.512589e+08</td>\n",
       "      <td>6.817033e+07</td>\n",
       "      <td>6.114006e+07</td>\n",
       "      <td>...</td>\n",
       "      <td>5.350322e+07</td>\n",
       "      <td>7.481855e+07</td>\n",
       "      <td>1.268473e+08</td>\n",
       "      <td>2.243630e+08</td>\n",
       "      <td>1.153911e+08</td>\n",
       "      <td>1.239545e+08</td>\n",
       "      <td>5.631582e+07</td>\n",
       "      <td>1.208256e+08</td>\n",
       "      <td>9.752023e+07</td>\n",
       "      <td>6.369857e+07</td>\n",
       "      <td>9.092858e+07</td>\n",
       "      <td>1.872687e+08</td>\n",
       "      <td>2.031835e+08</td>\n",
       "      <td>1.464539e+08</td>\n",
       "      <td>9.377701e+07</td>\n",
       "      <td>2.617260e+08</td>\n",
       "      <td>8.666632e+07</td>\n",
       "      <td>1.333694e+08</td>\n",
       "      <td>1.688384e+08</td>\n",
       "      <td>9.925989e+07</td>\n",
       "      <td>1.821072e+08</td>\n",
       "      <td>1.534424e+08</td>\n",
       "      <td>2.106759e+08</td>\n",
       "      <td>1.345693e+08</td>\n",
       "      <td>6.847904e+07</td>\n",
       "      <td>1.353943e+08</td>\n",
       "      <td>1.301492e+08</td>\n",
       "      <td>1.421903e+08</td>\n",
       "      <td>7.205848e+07</td>\n",
       "      <td>1.313845e+08</td>\n",
       "      <td>1.893267e+08</td>\n",
       "      <td>5.204194e+07</td>\n",
       "      <td>1.663490e+08</td>\n",
       "      <td>1.894572e+08</td>\n",
       "      <td>1.512766e+08</td>\n",
       "      <td>6.893480e+07</td>\n",
       "      <td>4.589069e+07</td>\n",
       "      <td>1.503419e+08</td>\n",
       "      <td>1.018671e+08</td>\n",
       "      <td>NaN</td>\n",
       "    </tr>\n",
       "    <tr>\n",
       "      <th>4</th>\n",
       "      <td>7</td>\n",
       "      <td>376.258966</td>\n",
       "      <td>9.448852</td>\n",
       "      <td>6.200470e+07</td>\n",
       "      <td>5.710309e+07</td>\n",
       "      <td>5.523902e+07</td>\n",
       "      <td>5.611338e+07</td>\n",
       "      <td>7.144302e+07</td>\n",
       "      <td>4.298711e+07</td>\n",
       "      <td>5.104105e+07</td>\n",
       "      <td>5.834584e+07</td>\n",
       "      <td>7.489738e+07</td>\n",
       "      <td>5.816830e+07</td>\n",
       "      <td>5.409260e+07</td>\n",
       "      <td>6.795114e+07</td>\n",
       "      <td>6.744799e+07</td>\n",
       "      <td>5.603024e+07</td>\n",
       "      <td>5.716323e+07</td>\n",
       "      <td>4.907517e+07</td>\n",
       "      <td>7.713073e+07</td>\n",
       "      <td>5.287517e+07</td>\n",
       "      <td>6.964120e+07</td>\n",
       "      <td>5.034732e+07</td>\n",
       "      <td>4.497549e+07</td>\n",
       "      <td>5.998135e+07</td>\n",
       "      <td>6.072134e+07</td>\n",
       "      <td>5.508484e+07</td>\n",
       "      <td>6.259109e+07</td>\n",
       "      <td>5.977720e+07</td>\n",
       "      <td>4.503053e+07</td>\n",
       "      <td>5.790915e+07</td>\n",
       "      <td>6.117277e+07</td>\n",
       "      <td>3.604280e+07</td>\n",
       "      <td>6.071189e+07</td>\n",
       "      <td>5.881467e+07</td>\n",
       "      <td>3.574392e+07</td>\n",
       "      <td>5.551201e+07</td>\n",
       "      <td>4.245257e+07</td>\n",
       "      <td>4.907784e+07</td>\n",
       "      <td>5.494586e+07</td>\n",
       "      <td>...</td>\n",
       "      <td>6.798884e+07</td>\n",
       "      <td>7.808757e+07</td>\n",
       "      <td>3.616361e+07</td>\n",
       "      <td>5.388363e+07</td>\n",
       "      <td>3.822299e+07</td>\n",
       "      <td>3.363520e+07</td>\n",
       "      <td>5.521306e+07</td>\n",
       "      <td>6.227502e+07</td>\n",
       "      <td>1.002414e+08</td>\n",
       "      <td>8.085129e+07</td>\n",
       "      <td>8.966830e+07</td>\n",
       "      <td>5.417846e+07</td>\n",
       "      <td>5.808867e+07</td>\n",
       "      <td>6.576691e+07</td>\n",
       "      <td>8.557879e+07</td>\n",
       "      <td>6.624709e+07</td>\n",
       "      <td>9.085500e+07</td>\n",
       "      <td>4.202646e+07</td>\n",
       "      <td>5.297482e+07</td>\n",
       "      <td>9.389959e+07</td>\n",
       "      <td>4.799607e+07</td>\n",
       "      <td>4.347118e+07</td>\n",
       "      <td>6.795740e+07</td>\n",
       "      <td>9.622818e+07</td>\n",
       "      <td>7.065748e+07</td>\n",
       "      <td>6.478957e+07</td>\n",
       "      <td>6.723168e+07</td>\n",
       "      <td>6.174646e+07</td>\n",
       "      <td>6.608618e+07</td>\n",
       "      <td>5.318446e+07</td>\n",
       "      <td>6.298126e+07</td>\n",
       "      <td>6.154606e+07</td>\n",
       "      <td>6.379020e+07</td>\n",
       "      <td>6.425391e+07</td>\n",
       "      <td>6.613118e+07</td>\n",
       "      <td>4.090647e+07</td>\n",
       "      <td>3.964630e+07</td>\n",
       "      <td>6.806336e+07</td>\n",
       "      <td>4.767988e+07</td>\n",
       "      <td>NaN</td>\n",
       "    </tr>\n",
       "  </tbody>\n",
       "</table>\n",
       "<p>5 rows × 300 columns</p>\n",
       "</div>"
      ],
      "text/plain": [
       "   row ID     row m/z  ...  LB_SPE_1_P1-A-4_01_12998.mzXML Peak area  Unnamed: 299\n",
       "0       1  325.068033  ...                              0.000000e+00           NaN\n",
       "1       3  226.052972  ...                              0.000000e+00           NaN\n",
       "2       5  367.077812  ...                              0.000000e+00           NaN\n",
       "3       6  338.341565  ...                              1.018671e+08           NaN\n",
       "4       7  376.258966  ...                              4.767988e+07           NaN\n",
       "\n",
       "[5 rows x 300 columns]"
      ]
     },
     "execution_count": 6,
     "metadata": {
      "tags": []
     },
     "output_type": "execute_result"
    }
   ],
   "source": [
    "# Cada amostra tem uma coluna, com a quantidade detectada\n",
    "# de cada metabóólito (m/z e retention time)\n",
    "feat.head()"
   ]
  },
  {
   "cell_type": "code",
   "execution_count": 10,
   "metadata": {
    "colab": {
     "base_uri": "https://localhost:8080/"
    },
    "id": "RmCsDioWk4T3",
    "outputId": "434f8035-d26f-4d09-a4d8-c994c9a96adc"
   },
   "outputs": [
    {
     "data": {
      "text/plain": [
       "BS    4\n",
       "CW    4\n",
       "CX    4\n",
       "CP    3\n",
       "Y     3\n",
       "     ..\n",
       "BX    2\n",
       "BR    2\n",
       "BV    2\n",
       "J     2\n",
       "BO    2\n",
       "Name: ATTRIBUTE_triplicate, Length: 100, dtype: int64"
      ]
     },
     "execution_count": 10,
     "metadata": {
      "tags": []
     },
     "output_type": "execute_result"
    }
   ],
   "source": [
    "# Coluna informando que amostras representam repetições\n",
    "meta['ATTRIBUTE_triplicate'].value_counts()"
   ]
  },
  {
   "cell_type": "code",
   "execution_count": 11,
   "metadata": {
    "colab": {
     "base_uri": "https://localhost:8080/",
     "height": 143
    },
    "id": "j_Uo4AeEleDY",
    "outputId": "818e42af-decb-4b4c-da36-c0bd4c257ca1"
   },
   "outputs": [
    {
     "data": {
      "text/html": [
       "<div>\n",
       "<style scoped>\n",
       "    .dataframe tbody tr th:only-of-type {\n",
       "        vertical-align: middle;\n",
       "    }\n",
       "\n",
       "    .dataframe tbody tr th {\n",
       "        vertical-align: top;\n",
       "    }\n",
       "\n",
       "    .dataframe thead th {\n",
       "        text-align: right;\n",
       "    }\n",
       "</style>\n",
       "<table border=\"1\" class=\"dataframe\">\n",
       "  <thead>\n",
       "    <tr style=\"text-align: right;\">\n",
       "      <th></th>\n",
       "      <th>filename</th>\n",
       "      <th>ATTRIBUTE_strain</th>\n",
       "      <th>ATTRIBUTE_mutant</th>\n",
       "      <th>ATTRIBUTE_media</th>\n",
       "      <th>ATTRIBUTE_Trimethoprim</th>\n",
       "      <th>ATTRIBUTE_extraction</th>\n",
       "      <th>ATTRIBUTE_triplicate</th>\n",
       "    </tr>\n",
       "  </thead>\n",
       "  <tbody>\n",
       "    <tr>\n",
       "      <th>0</th>\n",
       "      <td>BcH111_cepI_noTMP_EA_1_P1-B-4_01_12960.mzXML</td>\n",
       "      <td>H111</td>\n",
       "      <td>H111_cepI</td>\n",
       "      <td>SCFM2</td>\n",
       "      <td>noTMP</td>\n",
       "      <td>EA</td>\n",
       "      <td>A</td>\n",
       "    </tr>\n",
       "    <tr>\n",
       "      <th>1</th>\n",
       "      <td>BcH111_cepI_noTMP_EA_2_P1-B-5_01_12961.mzXML</td>\n",
       "      <td>H111</td>\n",
       "      <td>H111_cepI</td>\n",
       "      <td>SCFM2</td>\n",
       "      <td>noTMP</td>\n",
       "      <td>EA</td>\n",
       "      <td>A</td>\n",
       "    </tr>\n",
       "    <tr>\n",
       "      <th>2</th>\n",
       "      <td>BcH111_cepI_noTMP_EA_3_P1-B-6_01_12962.mzXML</td>\n",
       "      <td>H111</td>\n",
       "      <td>H111_cepI</td>\n",
       "      <td>SCFM2</td>\n",
       "      <td>noTMP</td>\n",
       "      <td>EA</td>\n",
       "      <td>A</td>\n",
       "    </tr>\n",
       "  </tbody>\n",
       "</table>\n",
       "</div>"
      ],
      "text/plain": [
       "                                       filename  ... ATTRIBUTE_triplicate\n",
       "0  BcH111_cepI_noTMP_EA_1_P1-B-4_01_12960.mzXML  ...                    A\n",
       "1  BcH111_cepI_noTMP_EA_2_P1-B-5_01_12961.mzXML  ...                    A\n",
       "2  BcH111_cepI_noTMP_EA_3_P1-B-6_01_12962.mzXML  ...                    A\n",
       "\n",
       "[3 rows x 7 columns]"
      ]
     },
     "execution_count": 11,
     "metadata": {
      "tags": []
     },
     "output_type": "execute_result"
    }
   ],
   "source": [
    "# Quais amostras representam a replicata 'A'\n",
    "meta[meta['ATTRIBUTE_triplicate']=='A']"
   ]
  },
  {
   "cell_type": "code",
   "execution_count": 12,
   "metadata": {
    "colab": {
     "base_uri": "https://localhost:8080/"
    },
    "id": "SBpA9D5FmC7h",
    "outputId": "3de29343-f802-4f1a-b3ce-b4151e0d4a10"
   },
   "outputs": [
    {
     "data": {
      "text/plain": [
       "0    BcH111_cepI_noTMP_EA_1_P1-B-4_01_12960.mzXML\n",
       "1    BcH111_cepI_noTMP_EA_2_P1-B-5_01_12961.mzXML\n",
       "2    BcH111_cepI_noTMP_EA_3_P1-B-6_01_12962.mzXML\n",
       "Name: filename, dtype: object"
      ]
     },
     "execution_count": 12,
     "metadata": {
      "tags": []
     },
     "output_type": "execute_result"
    }
   ],
   "source": [
    "# selecionando o nome das amostras\n",
    "meta.loc[meta['ATTRIBUTE_triplicate']=='A', 'filename']"
   ]
  },
  {
   "cell_type": "code",
   "execution_count": 16,
   "metadata": {
    "colab": {
     "base_uri": "https://localhost:8080/"
    },
    "id": "NpiO88D5m53b",
    "outputId": "99b05252-a3a0-4d97-e4ba-177d41344e0f"
   },
   "outputs": [
    {
     "data": {
      "text/plain": [
       "Index(['row ID', 'row m/z', 'row retention time',\n",
       "       'BcH111_cepI_noTMP_EA_1_P1-B-4_01_12960.mzXML Peak area',\n",
       "       'BcH111_cepI_noTMP_SPE_2_P1-C-2_01_12970.mzXML Peak area',\n",
       "       'BcH111_cepI_noTMP_EA_3_P1-B-6_01_12962.mzXML Peak area',\n",
       "       'BcH111_cepI_noTMP_SPE_1_P1-C-1_01_12969.mzXML Peak area',\n",
       "       'BcH111_rpfA_noTMP_EA_1_P1-C-7_01_12978.mzXML Peak area',\n",
       "       'BcH111_rpfA_noTMP_EA_2_P1-C-8_01_12979.mzXML Peak area',\n",
       "       'BcH111_cepI_noTMP_SPE_3_P1-C-3_01_12971.mzXML Peak area',\n",
       "       ...\n",
       "       'BcK562_cciI_TMP+_SPE_3_P1-B-2_01_12681.mzXML Peak area',\n",
       "       'LB_EA_1_P1-A-1_01_12995.mzXML Peak area',\n",
       "       'BcK562_cepI_TMP+_SPE_3_P1-C-5_01_12700.mzXML Peak area',\n",
       "       'BcK562_cciI_TMP+_SPE_1_P1-A-9_01_12679.mzXML Peak area',\n",
       "       'BcK562_cepI_TMP+_SPE_2_P1-C-4_01_12699.mzXML Peak area',\n",
       "       'LB_SPE_3_P1-A-6_01_13000.mzXML Peak area',\n",
       "       'LB_SPE_2_P1-A-5_01_12999.mzXML Peak area',\n",
       "       'BcK562_cepI_TMP+_SPE_1_P1-C-3_01_12698.mzXML Peak area',\n",
       "       'LB_SPE_1_P1-A-4_01_12998.mzXML Peak area', 'Unnamed: 299'],\n",
       "      dtype='object', length=300)"
      ]
     },
     "execution_count": 16,
     "metadata": {
      "tags": []
     },
     "output_type": "execute_result"
    }
   ],
   "source": [
    "# Acessar nomes das colunas\n",
    "feat.columns"
   ]
  },
  {
   "cell_type": "code",
   "execution_count": 15,
   "metadata": {
    "colab": {
     "base_uri": "https://localhost:8080/"
    },
    "id": "YH_R5ijGmOWX",
    "outputId": "d4ba4ee4-a01b-4b86-b99e-9bc146c9d0c8"
   },
   "outputs": [
    {
     "data": {
      "text/plain": [
       "array([False, False, False, False, False, False, False, False, False,\n",
       "       False, False, False, False, False, False, False, False, False,\n",
       "       False, False, False, False, False, False, False, False, False,\n",
       "       False, False, False, False, False, False, False, False, False,\n",
       "       False, False, False, False, False, False, False, False, False,\n",
       "       False, False, False, False, False, False, False, False, False,\n",
       "       False, False, False, False, False, False, False, False, False,\n",
       "       False, False, False, False, False, False, False, False, False,\n",
       "       False, False, False, False, False, False, False, False, False,\n",
       "       False, False, False, False, False, False, False, False, False,\n",
       "       False, False, False, False, False, False, False, False, False,\n",
       "       False, False, False, False, False, False, False, False, False,\n",
       "       False, False, False, False, False, False, False, False, False,\n",
       "       False, False, False, False, False, False, False, False, False,\n",
       "       False, False, False, False, False, False, False, False, False,\n",
       "       False, False, False, False, False, False, False, False, False,\n",
       "       False, False, False, False, False, False, False, False, False,\n",
       "       False, False, False, False, False, False, False, False, False,\n",
       "       False, False, False, False, False, False, False, False, False,\n",
       "       False, False, False, False, False, False, False, False, False,\n",
       "       False, False, False, False, False, False, False, False, False,\n",
       "       False, False, False, False, False, False, False, False, False,\n",
       "       False, False, False, False, False, False, False, False, False,\n",
       "       False, False, False, False, False, False, False, False, False,\n",
       "       False, False, False, False, False, False, False, False, False,\n",
       "       False, False, False, False, False, False, False, False, False,\n",
       "       False, False, False, False, False, False, False, False, False,\n",
       "       False, False, False, False, False, False, False, False, False,\n",
       "       False, False, False, False, False, False, False, False, False,\n",
       "       False, False, False, False, False, False, False, False, False,\n",
       "       False, False, False, False, False, False, False, False, False,\n",
       "       False, False, False, False, False, False, False, False, False,\n",
       "       False, False, False, False, False, False, False, False, False,\n",
       "       False, False, False])"
      ]
     },
     "execution_count": 15,
     "metadata": {
      "tags": []
     },
     "output_type": "execute_result"
    }
   ],
   "source": [
    "# verificar se o nome das amostras de interesse está nas colunas\n",
    "selected_files = meta.loc[meta['ATTRIBUTE_triplicate']=='A', 'filename']\n",
    "feat.columns.isin(selected_files) "
   ]
  },
  {
   "cell_type": "code",
   "execution_count": 17,
   "metadata": {
    "colab": {
     "base_uri": "https://localhost:8080/"
    },
    "id": "Lfrs7R0xmjaK",
    "outputId": "e1e5b4c3-0c8b-48f1-815e-7d359ae8c919"
   },
   "outputs": [
    {
     "data": {
      "text/plain": [
       "Index(['row ID', 'row m/z', 'row retention time',\n",
       "       'BcH111_cepI_noTMP_EA_1_P1-B-4_01_12960.mzXML',\n",
       "       'BcH111_cepI_noTMP_SPE_2_P1-C-2_01_12970.mzXML',\n",
       "       'BcH111_cepI_noTMP_EA_3_P1-B-6_01_12962.mzXML',\n",
       "       'BcH111_cepI_noTMP_SPE_1_P1-C-1_01_12969.mzXML',\n",
       "       'BcH111_rpfA_noTMP_EA_1_P1-C-7_01_12978.mzXML',\n",
       "       'BcH111_rpfA_noTMP_EA_2_P1-C-8_01_12979.mzXML',\n",
       "       'BcH111_cepI_noTMP_SPE_3_P1-C-3_01_12971.mzXML',\n",
       "       ...\n",
       "       'BcK562_cciI_TMP+_SPE_3_P1-B-2_01_12681.mzXML',\n",
       "       'LB_EA_1_P1-A-1_01_12995.mzXML',\n",
       "       'BcK562_cepI_TMP+_SPE_3_P1-C-5_01_12700.mzXML',\n",
       "       'BcK562_cciI_TMP+_SPE_1_P1-A-9_01_12679.mzXML',\n",
       "       'BcK562_cepI_TMP+_SPE_2_P1-C-4_01_12699.mzXML',\n",
       "       'LB_SPE_3_P1-A-6_01_13000.mzXML', 'LB_SPE_2_P1-A-5_01_12999.mzXML',\n",
       "       'BcK562_cepI_TMP+_SPE_1_P1-C-3_01_12698.mzXML',\n",
       "       'LB_SPE_1_P1-A-4_01_12998.mzXML', 'Unnamed: 299'],\n",
       "      dtype='object', length=300)"
      ]
     },
     "execution_count": 17,
     "metadata": {
      "tags": []
     },
     "output_type": "execute_result"
    }
   ],
   "source": [
    "# modificar o nome das colunas para parear o nome dos arqivos desejados\n",
    "feat.columns.str.replace(' Peak area', '')"
   ]
  },
  {
   "cell_type": "code",
   "execution_count": 18,
   "metadata": {
    "colab": {
     "base_uri": "https://localhost:8080/"
    },
    "id": "J7PfRU2LnFGd",
    "outputId": "82272acd-51b3-4613-febe-4d6984b1d721"
   },
   "outputs": [
    {
     "data": {
      "text/plain": [
       "array([False, False, False,  True, False,  True, False, False, False,\n",
       "       False,  True, False, False, False, False, False, False, False,\n",
       "       False, False, False, False, False, False, False, False, False,\n",
       "       False, False, False, False, False, False, False, False, False,\n",
       "       False, False, False, False, False, False, False, False, False,\n",
       "       False, False, False, False, False, False, False, False, False,\n",
       "       False, False, False, False, False, False, False, False, False,\n",
       "       False, False, False, False, False, False, False, False, False,\n",
       "       False, False, False, False, False, False, False, False, False,\n",
       "       False, False, False, False, False, False, False, False, False,\n",
       "       False, False, False, False, False, False, False, False, False,\n",
       "       False, False, False, False, False, False, False, False, False,\n",
       "       False, False, False, False, False, False, False, False, False,\n",
       "       False, False, False, False, False, False, False, False, False,\n",
       "       False, False, False, False, False, False, False, False, False,\n",
       "       False, False, False, False, False, False, False, False, False,\n",
       "       False, False, False, False, False, False, False, False, False,\n",
       "       False, False, False, False, False, False, False, False, False,\n",
       "       False, False, False, False, False, False, False, False, False,\n",
       "       False, False, False, False, False, False, False, False, False,\n",
       "       False, False, False, False, False, False, False, False, False,\n",
       "       False, False, False, False, False, False, False, False, False,\n",
       "       False, False, False, False, False, False, False, False, False,\n",
       "       False, False, False, False, False, False, False, False, False,\n",
       "       False, False, False, False, False, False, False, False, False,\n",
       "       False, False, False, False, False, False, False, False, False,\n",
       "       False, False, False, False, False, False, False, False, False,\n",
       "       False, False, False, False, False, False, False, False, False,\n",
       "       False, False, False, False, False, False, False, False, False,\n",
       "       False, False, False, False, False, False, False, False, False,\n",
       "       False, False, False, False, False, False, False, False, False,\n",
       "       False, False, False, False, False, False, False, False, False,\n",
       "       False, False, False, False, False, False, False, False, False,\n",
       "       False, False, False])"
      ]
     },
     "execution_count": 18,
     "metadata": {
      "tags": []
     },
     "output_type": "execute_result"
    }
   ],
   "source": [
    "# Substituir o nome das colunas e testar novamente\n",
    "feat.columns = feat.columns.str.replace(' Peak area', '')\n",
    "feat.columns.isin(selected_files) # veja como obteremos o valor True para os arquivos desejados"
   ]
  },
  {
   "cell_type": "code",
   "execution_count": 19,
   "metadata": {
    "colab": {
     "base_uri": "https://localhost:8080/"
    },
    "id": "Xmnqa5SinsP-",
    "outputId": "0dd3984e-9fe4-46f1-fa3e-93fd507d8eaf"
   },
   "outputs": [
    {
     "data": {
      "text/plain": [
       "3"
      ]
     },
     "execution_count": 19,
     "metadata": {
      "tags": []
     },
     "output_type": "execute_result"
    }
   ],
   "source": [
    "# Podemos contar os valores verdadeiros\n",
    "feat.columns.isin(selected_files).sum()"
   ]
  },
  {
   "cell_type": "code",
   "execution_count": 20,
   "metadata": {
    "colab": {
     "base_uri": "https://localhost:8080/",
     "height": 206
    },
    "id": "kLhzTXh7nU24",
    "outputId": "c28ae6da-0eab-4c06-ac89-19d57b22ec0b"
   },
   "outputs": [
    {
     "data": {
      "text/html": [
       "<div>\n",
       "<style scoped>\n",
       "    .dataframe tbody tr th:only-of-type {\n",
       "        vertical-align: middle;\n",
       "    }\n",
       "\n",
       "    .dataframe tbody tr th {\n",
       "        vertical-align: top;\n",
       "    }\n",
       "\n",
       "    .dataframe thead th {\n",
       "        text-align: right;\n",
       "    }\n",
       "</style>\n",
       "<table border=\"1\" class=\"dataframe\">\n",
       "  <thead>\n",
       "    <tr style=\"text-align: right;\">\n",
       "      <th></th>\n",
       "      <th>BcH111_cepI_noTMP_EA_1_P1-B-4_01_12960.mzXML</th>\n",
       "      <th>BcH111_cepI_noTMP_EA_2_P1-B-5_01_12961.mzXML</th>\n",
       "      <th>BcH111_cepI_noTMP_EA_3_P1-B-6_01_12962.mzXML</th>\n",
       "    </tr>\n",
       "  </thead>\n",
       "  <tbody>\n",
       "    <tr>\n",
       "      <th>0</th>\n",
       "      <td>4.223396e+08</td>\n",
       "      <td>4.300826e+08</td>\n",
       "      <td>3.396926e+08</td>\n",
       "    </tr>\n",
       "    <tr>\n",
       "      <th>1</th>\n",
       "      <td>3.588251e+08</td>\n",
       "      <td>5.442658e+08</td>\n",
       "      <td>4.416860e+08</td>\n",
       "    </tr>\n",
       "    <tr>\n",
       "      <th>2</th>\n",
       "      <td>9.287189e+07</td>\n",
       "      <td>7.887541e+07</td>\n",
       "      <td>1.376501e+08</td>\n",
       "    </tr>\n",
       "    <tr>\n",
       "      <th>3</th>\n",
       "      <td>3.791783e+07</td>\n",
       "      <td>7.443308e+07</td>\n",
       "      <td>6.534912e+07</td>\n",
       "    </tr>\n",
       "    <tr>\n",
       "      <th>4</th>\n",
       "      <td>6.200470e+07</td>\n",
       "      <td>5.834584e+07</td>\n",
       "      <td>5.523902e+07</td>\n",
       "    </tr>\n",
       "  </tbody>\n",
       "</table>\n",
       "</div>"
      ],
      "text/plain": [
       "   BcH111_cepI_noTMP_EA_1_P1-B-4_01_12960.mzXML  ...  BcH111_cepI_noTMP_EA_3_P1-B-6_01_12962.mzXML\n",
       "0                                  4.223396e+08  ...                                  3.396926e+08\n",
       "1                                  3.588251e+08  ...                                  4.416860e+08\n",
       "2                                  9.287189e+07  ...                                  1.376501e+08\n",
       "3                                  3.791783e+07  ...                                  6.534912e+07\n",
       "4                                  6.200470e+07  ...                                  5.523902e+07\n",
       "\n",
       "[5 rows x 3 columns]"
      ]
     },
     "execution_count": 20,
     "metadata": {
      "tags": []
     },
     "output_type": "execute_result"
    }
   ],
   "source": [
    "# selecionar a quantidade dos metabóólitos nas colunas desejadas\n",
    "feat[selected_files].head() # exibir apenas o cabeçalho, utilize .shape para saber o formato da tabela"
   ]
  },
  {
   "cell_type": "code",
   "execution_count": 21,
   "metadata": {
    "colab": {
     "base_uri": "https://localhost:8080/"
    },
    "id": "p_F1a2cHoRDH",
    "outputId": "996dc1f5-b501-4020-f36b-94de80a66e5b"
   },
   "outputs": [
    {
     "data": {
      "text/plain": [
       "BcH111_cepI_noTMP_EA_1_P1-B-4_01_12960.mzXML    4.223396e+08\n",
       "BcH111_cepI_noTMP_EA_2_P1-B-5_01_12961.mzXML    4.300826e+08\n",
       "BcH111_cepI_noTMP_EA_3_P1-B-6_01_12962.mzXML    3.396926e+08\n",
       "Name: 0, dtype: float64"
      ]
     },
     "execution_count": 21,
     "metadata": {
      "tags": []
     },
     "output_type": "execute_result"
    }
   ],
   "source": [
    "# exemplo de como saber se UM metabóólito está presente em pelo menos 2 amostras\n",
    "feat.loc[0, selected_files]"
   ]
  },
  {
   "cell_type": "code",
   "execution_count": 22,
   "metadata": {
    "colab": {
     "base_uri": "https://localhost:8080/"
    },
    "id": "T2XSpI8tofUo",
    "outputId": "a56e0e47-164f-4505-9385-567271d063dd"
   },
   "outputs": [
    {
     "data": {
      "text/plain": [
       "BcH111_cepI_noTMP_EA_1_P1-B-4_01_12960.mzXML    True\n",
       "BcH111_cepI_noTMP_EA_2_P1-B-5_01_12961.mzXML    True\n",
       "BcH111_cepI_noTMP_EA_3_P1-B-6_01_12962.mzXML    True\n",
       "Name: 0, dtype: bool"
      ]
     },
     "execution_count": 22,
     "metadata": {
      "tags": []
     },
     "output_type": "execute_result"
    }
   ],
   "source": [
    "# exemplo de como saber se UM metabóólito está presente em pelo menos 2 amostras\n",
    "feat.loc[0, selected_files] > 0"
   ]
  },
  {
   "cell_type": "code",
   "execution_count": 23,
   "metadata": {
    "colab": {
     "base_uri": "https://localhost:8080/"
    },
    "id": "547n80NQoiUP",
    "outputId": "e642e3c7-4af4-441f-819b-8e2ffa813bfc"
   },
   "outputs": [
    {
     "data": {
      "text/plain": [
       "3"
      ]
     },
     "execution_count": 23,
     "metadata": {
      "tags": []
     },
     "output_type": "execute_result"
    }
   ],
   "source": [
    "(feat.loc[0, selected_files] > 0).sum()"
   ]
  },
  {
   "cell_type": "code",
   "execution_count": 25,
   "metadata": {
    "colab": {
     "base_uri": "https://localhost:8080/"
    },
    "id": "ZAS4F03ron8R",
    "outputId": "f105c7ea-33a1-4264-89e6-1f33d2ae0d10"
   },
   "outputs": [
    {
     "data": {
      "text/plain": [
       "True"
      ]
     },
     "execution_count": 25,
     "metadata": {
      "tags": []
     },
     "output_type": "execute_result"
    }
   ],
   "source": [
    "(feat.loc[0, selected_files] > 0).sum() > 1"
   ]
  },
  {
   "cell_type": "code",
   "execution_count": 27,
   "metadata": {
    "colab": {
     "base_uri": "https://localhost:8080/"
    },
    "id": "TIaiai_kn1RH",
    "outputId": "2a64c372-6779-4462-b525-c3df7cf68781"
   },
   "outputs": [
    {
     "name": "stdout",
     "output_type": "stream",
     "text": [
      "Indices encontrados: [0, 1, 2, 3, 4]\n"
     ]
    }
   ],
   "source": [
    "# exemplo de como saber se TODOS metabóólitos estão presente em pelo menos 2 amostras\n",
    "# exemplo 1\n",
    "indices = []\n",
    "for i in feat[selected_files].head().index:\n",
    "  if (feat.loc[i, selected_files] > 0).sum() > 1:\n",
    "  # veja como estamo usando i como indice em cada iteracao do loop\n",
    "    indices.append(i)\n",
    "\n",
    "print('Indices encontrados:', indices)"
   ]
  },
  {
   "cell_type": "code",
   "execution_count": 31,
   "metadata": {
    "colab": {
     "base_uri": "https://localhost:8080/"
    },
    "id": "gV_mMGMLpQF7",
    "outputId": "a5edfd23-9b33-4463-84c9-f4697d47502d"
   },
   "outputs": [
    {
     "data": {
      "text/plain": [
       "0    3\n",
       "1    3\n",
       "2    3\n",
       "3    3\n",
       "4    3\n",
       "dtype: int64"
      ]
     },
     "execution_count": 31,
     "metadata": {
      "tags": []
     },
     "output_type": "execute_result"
    }
   ],
   "source": [
    "# exemplo de como saber se TODOS metabóólitos estão presente em pelo menos 2 amostras\n",
    "# exemplo 2\n",
    "feat[selected_files].head().apply(lambda a: len(a), axis=1)  # navegar em cada linha, cada linha éé guardada na variável a \n"
   ]
  },
  {
   "cell_type": "code",
   "execution_count": 33,
   "metadata": {
    "colab": {
     "base_uri": "https://localhost:8080/"
    },
    "id": "H54_tIYnpbRA",
    "outputId": "07c90b96-8080-4492-e841-35c1e971e14a"
   },
   "outputs": [
    {
     "data": {
      "text/plain": [
       "0    True\n",
       "1    True\n",
       "2    True\n",
       "3    True\n",
       "4    True\n",
       "dtype: bool"
      ]
     },
     "execution_count": 33,
     "metadata": {
      "tags": []
     },
     "output_type": "execute_result"
    }
   ],
   "source": [
    "# exemplo de como saber se TODOS metabóólitos estão presente em pelo menos 2 amostras\n",
    "# exemplo 2\n",
    "feat[selected_files].head().apply(lambda a: (a>0).sum()>1, axis=1)"
   ]
  },
  {
   "cell_type": "code",
   "execution_count": 34,
   "metadata": {
    "colab": {
     "base_uri": "https://localhost:8080/"
    },
    "id": "zWnhaIaIqJIl",
    "outputId": "f01d831c-faad-4c61-b830-93dd69164b12"
   },
   "outputs": [
    {
     "data": {
      "text/plain": [
       "0         True\n",
       "1         True\n",
       "2         True\n",
       "3         True\n",
       "4         True\n",
       "         ...  \n",
       "26881    False\n",
       "26882    False\n",
       "26883    False\n",
       "26884    False\n",
       "26885    False\n",
       "Length: 26886, dtype: bool"
      ]
     },
     "execution_count": 34,
     "metadata": {
      "tags": []
     },
     "output_type": "execute_result"
    }
   ],
   "source": [
    "# executar para todas\n",
    "feat[selected_files].apply(lambda a: (a>0).sum()>1, axis=1)"
   ]
  },
  {
   "cell_type": "code",
   "execution_count": 35,
   "metadata": {
    "colab": {
     "base_uri": "https://localhost:8080/"
    },
    "id": "BBMHMw0uqTHE",
    "outputId": "ac187bbe-091e-4ea9-ad72-de9c367fba09"
   },
   "outputs": [
    {
     "data": {
      "text/plain": [
       "4467"
      ]
     },
     "execution_count": 35,
     "metadata": {
      "tags": []
     },
     "output_type": "execute_result"
    }
   ],
   "source": [
    "# saber quantas atendem ao critério\n",
    "feat[selected_files].apply(lambda a: (a>0).sum()>1, axis=1).sum()"
   ]
  },
  {
   "cell_type": "markdown",
   "metadata": {
    "id": "LV4AljBOqjg-"
   },
   "source": [
    "## Descrição da tarefa:\n",
    "\n",
    "Escrever uma função, que pega do usuário a string _taskid_ recupera a tabela de dados e metadados e retorna a resposta no seguinte formato:\n",
    "\n",
    "nomes das rééplicas nas colunas e identificação dos metabóólitos nas linhas:\n",
    "\n",
    "row ID | A | AB | ...\n",
    "--|--|-- | --\n",
    "1 | True | True |\n",
    "2 | False | True |\n",
    "3 | False | False |\n",
    "...\n"
   ]
  },
  {
   "cell_type": "code",
   "execution_count": null,
   "metadata": {
    "id": "gkf-NSDCqd8i"
   },
   "outputs": [],
   "source": [
    "import io\n",
    "import requests\n",
    "import pandas as pd\n",
    "\n",
    "\n",
    "def taskid_table(taskid, mode):\n",
    "    \"\"\"\n",
    "    Takes strings parameters (taskid and mode) and generate a table that features the triplicates groups and metabolites.\n",
    "    If the quant from mzmine is non-zero in two of three triplicates then its value is set to True but if it is\n",
    "    non-zero in just one and zero in two replicates its value will be False.\n",
    "    This table can be filtered to only contain the metabolites that are non-zero from at least two replicates in all\n",
    "    triplicates groups. It means that all metabolites that have any False value will be dropped. Or you can\n",
    "    generate the table without the filter to have all values.\n",
    "\n",
    "    Parameters:\n",
    "    taskid (str): taskid provided by user\n",
    "\n",
    "    mode (str): With this parameter you select which table will be generated. Options are:\n",
    "        'all_with_filter' : you produce a table with all triplicate groups and only metabolites that the quant from\n",
    "        mzmine is non-zero in two of three triplicates for all replicates groups.\n",
    "        any triplicate group name : If you only want a specific group of triplicates in the table, you can use the name\n",
    "        of this group as this parameter like for example 'A' and the generated table will contain this group and the\n",
    "        metabolites which are non-zero in two of the three triplicates in this group.\n",
    "        'all_no_filter' : a table with all metabolites and triplicates will be generated without filter,\n",
    "        having all values.\n",
    "    \"\"\"\n",
    "\n",
    "    base_url = 'http://gnps.ucsd.edu/ProteoSAFe/DownloadResultFile?task='\n",
    "    url_to_metadata = f'{base_url}{taskid}&block=main&file=metadata_table/'\n",
    "    url_to_features = f'{base_url}{taskid}&block=main&file=quantification_table/'\n",
    "    meta = pd.read_csv(io.StringIO(requests.get(url_to_metadata).text), sep='\\t')\n",
    "    feat = pd.read_csv(io.StringIO(requests.get(url_to_features).text))\n",
    "    feat.columns = feat.columns.str.replace(' Peak area', '')\n",
    "    list_triplicates = list(meta['ATTRIBUTE_triplicate'].unique())\n",
    "    newdfdict = {}\n",
    "\n",
    "    for key in list_triplicates:\n",
    "        selected_files = meta.loc[meta['ATTRIBUTE_triplicate'] == key, 'filename']\n",
    "        newdfdict[key] = feat[selected_files].head().apply(lambda a: (a > 0).sum() > 1, axis=1)\n",
    "\n",
    "    df = pd.DataFrame.from_dict(newdfdict)\n",
    "    df['row ID'] = feat[['row ID']]\n",
    "    cols = df.columns.tolist()\n",
    "    cols = cols[-1:] + cols[:-1]\n",
    "    df1 = df[cols]\n",
    "\n",
    "    if mode == 'all_with_filter':\n",
    "        df2 = df1[(df1 > 0).all(axis=1)]\n",
    "        df2.to_csv('allgroups.tsv', sep='\\t', index=False)\n",
    "    elif mode in list_triplicates:\n",
    "        df2 = df1[['row ID', mode]][df1[mode] > 0]\n",
    "        df2.to_csv(f'only_{mode}.tsv', sep='\\t', index=False, header=True)\n",
    "    elif mode == 'all_no_filter':\n",
    "        df1.to_csv('all_features_no_filter.tsv', sep='\\t', index=False)\n",
    "\n",
    "\n",
    "\n",
    "taskid_table('898c8b490165455bbeb798e89400586d', 'all_no_filter')"
   ]
  }
 ],
 "metadata": {
  "colab": {
   "name": "filter_consistent_features.ipynb",
   "provenance": []
  },
  "kernelspec": {
   "display_name": "Python 3 (ipykernel)",
   "language": "python",
   "name": "python3"
  },
  "language_info": {
   "codemirror_mode": {
    "name": "ipython",
    "version": 3
   },
   "file_extension": ".py",
   "mimetype": "text/x-python",
   "name": "python",
   "nbconvert_exporter": "python",
   "pygments_lexer": "ipython3",
   "version": "3.7.6"
  }
 },
 "nbformat": 4,
 "nbformat_minor": 1
}
